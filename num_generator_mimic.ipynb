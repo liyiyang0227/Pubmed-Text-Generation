{
  "nbformat": 4,
  "nbformat_minor": 0,
  "metadata": {
    "kernelspec": {
      "display_name": "Python 3",
      "language": "python",
      "name": "python3"
    },
    "language_info": {
      "codemirror_mode": {
        "name": "ipython",
        "version": 3
      },
      "file_extension": ".py",
      "mimetype": "text/x-python",
      "name": "python",
      "nbconvert_exporter": "python",
      "pygments_lexer": "ipython3",
      "version": "3.6.5"
    },
    "colab": {
      "name": "num_generator_1.ipynb",
      "provenance": [],
      "collapsed_sections": [],
      "toc_visible": true,
      "machine_shape": "hm"
    },
    "accelerator": "GPU"
  },
  "cells": [
    {
      "cell_type": "markdown",
      "metadata": {
        "id": "GhUfPHV8nU9w",
        "colab_type": "text"
      },
      "source": [
        "# Individual Project\n",
        "\n"
      ]
    },
    {
      "cell_type": "markdown",
      "metadata": {
        "id": "tZr4-s0bnU9x",
        "colab_type": "text"
      },
      "source": [
        "## Preparing the Data\n"
      ]
    },
    {
      "cell_type": "code",
      "metadata": {
        "id": "r6yNQArRnU9y",
        "colab_type": "code",
        "colab": {}
      },
      "source": [
        "import torch\n",
        "import torch.nn as nn\n",
        "import torch.optim as optim\n",
        "\n",
        "import torchtext\n",
        "from torchtext.datasets import TranslationDataset, Multi30k\n",
        "from torchtext.data import Field, BucketIterator\n",
        "\n",
        "import matplotlib.pyplot as plt\n",
        "import matplotlib.ticker as ticker\n",
        "\n",
        "import spacy\n",
        "import numpy as np\n",
        "\n",
        "import random\n",
        "import math\n",
        "import time"
      ],
      "execution_count": 1,
      "outputs": []
    },
    {
      "cell_type": "code",
      "metadata": {
        "id": "MHv4pDGqnU94",
        "colab_type": "code",
        "colab": {}
      },
      "source": [
        "SEED = 1234\n",
        "\n",
        "random.seed(SEED)\n",
        "np.random.seed(SEED)\n",
        "torch.manual_seed(SEED)\n",
        "torch.cuda.manual_seed(SEED)\n",
        "torch.backends.cudnn.deterministic = True"
      ],
      "execution_count": 2,
      "outputs": []
    },
    {
      "cell_type": "markdown",
      "metadata": {
        "id": "--8eyB51nU97",
        "colab_type": "text"
      },
      "source": [
        "We'll then create our tokenizers as before."
      ]
    },
    {
      "cell_type": "code",
      "metadata": {
        "id": "Jcb30GT8nU98",
        "colab_type": "code",
        "colab": {
          "base_uri": "https://localhost:8080/",
          "height": 523
        },
        "outputId": "f25022e7-cbb5-4880-8346-1e84bdff1a00"
      },
      "source": [
        "!spacy download en_core_web_sm\n",
        "!spacy link en_core_web_sm en\n",
        "\n",
        "spacy_en = spacy.load('en')"
      ],
      "execution_count": 3,
      "outputs": [
        {
          "output_type": "stream",
          "text": [
            "Requirement already satisfied: en_core_web_sm==2.2.5 from https://github.com/explosion/spacy-models/releases/download/en_core_web_sm-2.2.5/en_core_web_sm-2.2.5.tar.gz#egg=en_core_web_sm==2.2.5 in /usr/local/lib/python3.6/dist-packages (2.2.5)\n",
            "Requirement already satisfied: spacy>=2.2.2 in /usr/local/lib/python3.6/dist-packages (from en_core_web_sm==2.2.5) (2.2.4)\n",
            "Requirement already satisfied: cymem<2.1.0,>=2.0.2 in /usr/local/lib/python3.6/dist-packages (from spacy>=2.2.2->en_core_web_sm==2.2.5) (2.0.3)\n",
            "Requirement already satisfied: wasabi<1.1.0,>=0.4.0 in /usr/local/lib/python3.6/dist-packages (from spacy>=2.2.2->en_core_web_sm==2.2.5) (0.7.1)\n",
            "Requirement already satisfied: requests<3.0.0,>=2.13.0 in /usr/local/lib/python3.6/dist-packages (from spacy>=2.2.2->en_core_web_sm==2.2.5) (2.23.0)\n",
            "Requirement already satisfied: thinc==7.4.0 in /usr/local/lib/python3.6/dist-packages (from spacy>=2.2.2->en_core_web_sm==2.2.5) (7.4.0)\n",
            "Requirement already satisfied: srsly<1.1.0,>=1.0.2 in /usr/local/lib/python3.6/dist-packages (from spacy>=2.2.2->en_core_web_sm==2.2.5) (1.0.2)\n",
            "Requirement already satisfied: murmurhash<1.1.0,>=0.28.0 in /usr/local/lib/python3.6/dist-packages (from spacy>=2.2.2->en_core_web_sm==2.2.5) (1.0.2)\n",
            "Requirement already satisfied: catalogue<1.1.0,>=0.0.7 in /usr/local/lib/python3.6/dist-packages (from spacy>=2.2.2->en_core_web_sm==2.2.5) (1.0.0)\n",
            "Requirement already satisfied: setuptools in /usr/local/lib/python3.6/dist-packages (from spacy>=2.2.2->en_core_web_sm==2.2.5) (49.6.0)\n",
            "Requirement already satisfied: tqdm<5.0.0,>=4.38.0 in /usr/local/lib/python3.6/dist-packages (from spacy>=2.2.2->en_core_web_sm==2.2.5) (4.41.1)\n",
            "Requirement already satisfied: plac<1.2.0,>=0.9.6 in /usr/local/lib/python3.6/dist-packages (from spacy>=2.2.2->en_core_web_sm==2.2.5) (1.1.3)\n",
            "Requirement already satisfied: numpy>=1.15.0 in /usr/local/lib/python3.6/dist-packages (from spacy>=2.2.2->en_core_web_sm==2.2.5) (1.18.5)\n",
            "Requirement already satisfied: preshed<3.1.0,>=3.0.2 in /usr/local/lib/python3.6/dist-packages (from spacy>=2.2.2->en_core_web_sm==2.2.5) (3.0.2)\n",
            "Requirement already satisfied: blis<0.5.0,>=0.4.0 in /usr/local/lib/python3.6/dist-packages (from spacy>=2.2.2->en_core_web_sm==2.2.5) (0.4.1)\n",
            "Requirement already satisfied: urllib3!=1.25.0,!=1.25.1,<1.26,>=1.21.1 in /usr/local/lib/python3.6/dist-packages (from requests<3.0.0,>=2.13.0->spacy>=2.2.2->en_core_web_sm==2.2.5) (1.24.3)\n",
            "Requirement already satisfied: certifi>=2017.4.17 in /usr/local/lib/python3.6/dist-packages (from requests<3.0.0,>=2.13.0->spacy>=2.2.2->en_core_web_sm==2.2.5) (2020.6.20)\n",
            "Requirement already satisfied: idna<3,>=2.5 in /usr/local/lib/python3.6/dist-packages (from requests<3.0.0,>=2.13.0->spacy>=2.2.2->en_core_web_sm==2.2.5) (2.10)\n",
            "Requirement already satisfied: chardet<4,>=3.0.2 in /usr/local/lib/python3.6/dist-packages (from requests<3.0.0,>=2.13.0->spacy>=2.2.2->en_core_web_sm==2.2.5) (3.0.4)\n",
            "Requirement already satisfied: importlib-metadata>=0.20; python_version < \"3.8\" in /usr/local/lib/python3.6/dist-packages (from catalogue<1.1.0,>=0.0.7->spacy>=2.2.2->en_core_web_sm==2.2.5) (1.7.0)\n",
            "Requirement already satisfied: zipp>=0.5 in /usr/local/lib/python3.6/dist-packages (from importlib-metadata>=0.20; python_version < \"3.8\"->catalogue<1.1.0,>=0.0.7->spacy>=2.2.2->en_core_web_sm==2.2.5) (3.1.0)\n",
            "\u001b[38;5;2m✔ Download and installation successful\u001b[0m\n",
            "You can now load the model via spacy.load('en_core_web_sm')\n",
            "\n",
            "\u001b[38;5;1m✘ Link 'en' already exists\u001b[0m\n",
            "To overwrite an existing link, use the --force flag\n",
            "\n"
          ],
          "name": "stdout"
        }
      ]
    },
    {
      "cell_type": "code",
      "metadata": {
        "id": "zEBm55fynU9_",
        "colab_type": "code",
        "colab": {}
      },
      "source": [
        "import re\n",
        "num_reg_1 = r'\\d+\\.?\\d+|\\d|\\d+\\,\\d+'\n",
        "def tokenize_en(text):\n",
        "    \"\"\"\n",
        "    Tokenizes English text from a string into a list of strings\n",
        "    \"\"\"\n",
        "    res = []\n",
        "    for tok in spacy_en.tokenizer(text):\n",
        "        res.append(tok.text)\n",
        "        if len(res)>800:\n",
        "            break\n",
        "    return res\n",
        "num_token = '<num>'\n",
        "def tokenize_num(text):\n",
        "    res = []\n",
        "    for tok in spacy_en.tokenizer(text):\n",
        "        token = tok.text\n",
        "        num_res = re.search(num_reg_1,token)\n",
        "        if num_res is not None and num_res.span()[-1]-num_res.span()[0]==len(tok):\n",
        "                res.append(num_token)\n",
        "        else:\n",
        "            res.append(tok.text)\n",
        "        if len(res)>800:\n",
        "            break\n",
        "    return res"
      ],
      "execution_count": 4,
      "outputs": []
    },
    {
      "cell_type": "code",
      "metadata": {
        "id": "-LbOJ-0PnU-K",
        "colab_type": "code",
        "colab": {}
      },
      "source": [
        "TEXT = Field(tokenize = tokenize_en, \n",
        "            init_token = '<sos>', \n",
        "            eos_token = '<eos>', \n",
        "            lower = True, \n",
        "            batch_first = True)\n",
        "\n",
        "LABEL = Field(tokenize = tokenize_en, \n",
        "            init_token = '<sos>', \n",
        "            eos_token = '<eos>', \n",
        "            lower = True, \n",
        "            batch_first = True)\n",
        "LABEL_NUM = Field(tokenize = tokenize_num, \n",
        "            init_token = '<sos>', \n",
        "            eos_token = '<eos>', \n",
        "            lower = True, \n",
        "            batch_first = True)"
      ],
      "execution_count": 5,
      "outputs": []
    },
    {
      "cell_type": "code",
      "metadata": {
        "id": "9lm3sBKTVeTb",
        "colab_type": "code",
        "colab": {
          "base_uri": "https://localhost:8080/",
          "height": 127
        },
        "outputId": "9657faa0-85e0-4e57-aa2d-6a1b67082c80"
      },
      "source": [
        "from google.colab import drive\n",
        "drive.mount('/content/drive')"
      ],
      "execution_count": 6,
      "outputs": [
        {
          "output_type": "stream",
          "text": [
            "Go to this URL in a browser: https://accounts.google.com/o/oauth2/auth?client_id=947318989803-6bn6qk8qdgf4n4g3pfee6491hc0brc4i.apps.googleusercontent.com&redirect_uri=urn%3aietf%3awg%3aoauth%3a2.0%3aoob&scope=email%20https%3a%2f%2fwww.googleapis.com%2fauth%2fdocs.test%20https%3a%2f%2fwww.googleapis.com%2fauth%2fdrive%20https%3a%2f%2fwww.googleapis.com%2fauth%2fdrive.photos.readonly%20https%3a%2f%2fwww.googleapis.com%2fauth%2fpeopleapi.readonly&response_type=code\n",
            "\n",
            "Enter your authorization code:\n",
            "··········\n",
            "Mounted at /content/drive\n"
          ],
          "name": "stdout"
        }
      ]
    },
    {
      "cell_type": "code",
      "metadata": {
        "id": "iGteQ-ZzUfI7",
        "colab_type": "code",
        "colab": {
          "base_uri": "https://localhost:8080/",
          "height": 589
        },
        "outputId": "bb8d6343-71f3-46a9-c0d4-ec8ee05f30d4"
      },
      "source": [
        "import pandas as pd\n",
        "path = '/content/drive/My Drive/mimic/val_data.csv'\n",
        "f = open(path)\n",
        "df=pd.read_csv(f)\n",
        "df"
      ],
      "execution_count": 7,
      "outputs": [
        {
          "output_type": "execute_result",
          "data": {
            "text/html": [
              "<div>\n",
              "<style scoped>\n",
              "    .dataframe tbody tr th:only-of-type {\n",
              "        vertical-align: middle;\n",
              "    }\n",
              "\n",
              "    .dataframe tbody tr th {\n",
              "        vertical-align: top;\n",
              "    }\n",
              "\n",
              "    .dataframe thead th {\n",
              "        text-align: right;\n",
              "    }\n",
              "</style>\n",
              "<table border=\"1\" class=\"dataframe\">\n",
              "  <thead>\n",
              "    <tr style=\"text-align: right;\">\n",
              "      <th></th>\n",
              "      <th>TEXT</th>\n",
              "      <th>LABEL</th>\n",
              "      <th>INPUT_TEXT</th>\n",
              "      <th>LABEL_NUM</th>\n",
              "    </tr>\n",
              "  </thead>\n",
              "  <tbody>\n",
              "    <tr>\n",
              "      <th>0</th>\n",
              "      <td>Admission Date:  [**2183-8-6**]              D...</td>\n",
              "      <td>Aspirin 81 mg Tablet, Delayed Release E.C. Si...</td>\n",
              "      <td>The patient improved once intubated and treat...</td>\n",
              "      <td>Aspirin 81 mg Tablet, Delayed Release E.C. Si...</td>\n",
              "    </tr>\n",
              "    <tr>\n",
              "      <th>1</th>\n",
              "      <td>Admission Date:  [**2164-6-12**]              ...</td>\n",
              "      <td>expired</td>\n",
              "      <td>The patient's ICU course is briefly summarize...</td>\n",
              "      <td>expired</td>\n",
              "    </tr>\n",
              "    <tr>\n",
              "      <th>2</th>\n",
              "      <td>Admission Date:  [**2101-4-27**]              ...</td>\n",
              "      <td>Patient signed out AMA</td>\n",
              "      <td>Mr. name is a 53 year old gentleman with a PM...</td>\n",
              "      <td>Patient signed out AMA</td>\n",
              "    </tr>\n",
              "    <tr>\n",
              "      <th>3</th>\n",
              "      <td>Admission Date:  [**2110-12-7**]              ...</td>\n",
              "      <td>senna 8.6 mg Tablet Sig: One 1 Tablet PO BID ...</td>\n",
              "      <td>This is a 48 year old female with past medica...</td>\n",
              "      <td>senna 8.6 mg Tablet Sig: One 1 Tablet PO BID ...</td>\n",
              "    </tr>\n",
              "    <tr>\n",
              "      <th>4</th>\n",
              "      <td>Admission Date:  [**2143-10-2**]              ...</td>\n",
              "      <td>Doxepin 25 mg Capsule Sig: One 1 Capsule PO B...</td>\n",
              "      <td>2143 10 2 Taken to the OR for Angioplasty of ...</td>\n",
              "      <td>Doxepin 25 mg Capsule Sig: One 1 Capsule PO B...</td>\n",
              "    </tr>\n",
              "    <tr>\n",
              "      <th>...</th>\n",
              "      <td>...</td>\n",
              "      <td>...</td>\n",
              "      <td>...</td>\n",
              "      <td>...</td>\n",
              "    </tr>\n",
              "    <tr>\n",
              "      <th>4026</th>\n",
              "      <td>Admission Date:  [**2183-6-12**]              ...</td>\n",
              "      <td>docusate sodium 100 mg Capsule Sig: One 1 Cap...</td>\n",
              "      <td>Ms. name was admitted num and underwent routi...</td>\n",
              "      <td>docusate sodium 100 mg Capsule Sig: One 1 Cap...</td>\n",
              "    </tr>\n",
              "    <tr>\n",
              "      <th>4027</th>\n",
              "      <td>Admission Date:  [**2179-2-20**]              ...</td>\n",
              "      <td>Haloperidol Lactate 5 mg mL Solution Sig: Fiv...</td>\n",
              "      <td>72 year old man with HTN, HL, DM, CKD, non ve...</td>\n",
              "      <td>Haloperidol Lactate 5 mg mL Solution Sig: Fiv...</td>\n",
              "    </tr>\n",
              "    <tr>\n",
              "      <th>4028</th>\n",
              "      <td>Admission Date:  [**2107-1-4**]              D...</td>\n",
              "      <td>Clopidogrel 75 mg Tablet Sig: One 1 Tablet PO...</td>\n",
              "      <td>Admitted to ER directly from hospital clinic ...</td>\n",
              "      <td>Clopidogrel 75 mg Tablet Sig: One 1 Tablet PO...</td>\n",
              "    </tr>\n",
              "    <tr>\n",
              "      <th>4029</th>\n",
              "      <td>Admission Date:  [**2109-8-5**]              D...</td>\n",
              "      <td>Nystatin 100,000 unit mL Suspension hospital:...</td>\n",
              "      <td>Mr. name had a complicated, prolonged hospita...</td>\n",
              "      <td>Nystatin 100,000 unit mL Suspension hospital:...</td>\n",
              "    </tr>\n",
              "    <tr>\n",
              "      <th>4030</th>\n",
              "      <td>Admission Date:  [**2197-2-7**]              D...</td>\n",
              "      <td>None</td>\n",
              "      <td>40 yo with metastatic hepatocellular carcinom...</td>\n",
              "      <td>None</td>\n",
              "    </tr>\n",
              "  </tbody>\n",
              "</table>\n",
              "<p>4031 rows × 4 columns</p>\n",
              "</div>"
            ],
            "text/plain": [
              "                                                   TEXT  ...                                          LABEL_NUM\n",
              "0     Admission Date:  [**2183-8-6**]              D...  ...   Aspirin 81 mg Tablet, Delayed Release E.C. Si...\n",
              "1     Admission Date:  [**2164-6-12**]              ...  ...                                           expired \n",
              "2     Admission Date:  [**2101-4-27**]              ...  ...                            Patient signed out AMA \n",
              "3     Admission Date:  [**2110-12-7**]              ...  ...   senna 8.6 mg Tablet Sig: One 1 Tablet PO BID ...\n",
              "4     Admission Date:  [**2143-10-2**]              ...  ...   Doxepin 25 mg Capsule Sig: One 1 Capsule PO B...\n",
              "...                                                 ...  ...                                                ...\n",
              "4026  Admission Date:  [**2183-6-12**]              ...  ...   docusate sodium 100 mg Capsule Sig: One 1 Cap...\n",
              "4027  Admission Date:  [**2179-2-20**]              ...  ...   Haloperidol Lactate 5 mg mL Solution Sig: Fiv...\n",
              "4028  Admission Date:  [**2107-1-4**]              D...  ...   Clopidogrel 75 mg Tablet Sig: One 1 Tablet PO...\n",
              "4029  Admission Date:  [**2109-8-5**]              D...  ...   Nystatin 100,000 unit mL Suspension hospital:...\n",
              "4030  Admission Date:  [**2197-2-7**]              D...  ...                                              None \n",
              "\n",
              "[4031 rows x 4 columns]"
            ]
          },
          "metadata": {
            "tags": []
          },
          "execution_count": 7
        }
      ]
    },
    {
      "cell_type": "code",
      "metadata": {
        "id": "zwXb1gtiBy6Y",
        "colab_type": "code",
        "colab": {}
      },
      "source": [
        ""
      ],
      "execution_count": 7,
      "outputs": []
    },
    {
      "cell_type": "markdown",
      "metadata": {
        "id": "vE1elqFfnU-Q",
        "colab_type": "text"
      },
      "source": [
        "We then load the dataset and build the vocabulary."
      ]
    },
    {
      "cell_type": "code",
      "metadata": {
        "id": "4ondA-SanU-R",
        "colab_type": "code",
        "colab": {}
      },
      "source": [
        "from torchtext.data import Field, Example, TabularDataset, BucketIterator\n",
        "fields = [('TEXT',None),('LABEL', LABEL), ('INPUT_TEXT', TEXT),('LABEL_NUM',LABEL_NUM)]\n",
        "train_data, valid_data,test_data = TabularDataset.splits(\n",
        "    path='/content/drive/My Drive/mimic/', format='csv',\n",
        "    train='train_data.csv',validation='val_data.csv', test='test_data.csv',\n",
        "    skip_header=True, fields=fields)"
      ],
      "execution_count": 8,
      "outputs": []
    },
    {
      "cell_type": "code",
      "metadata": {
        "id": "8uYY0OaanU-W",
        "colab_type": "code",
        "colab": {}
      },
      "source": [
        "TEXT.build_vocab(train_data, min_freq = 2)\n",
        "LABEL.build_vocab(train_data, min_freq = 2)\n",
        "LABEL_NUM.build_vocab(train_data, min_freq = 2)"
      ],
      "execution_count": 9,
      "outputs": []
    },
    {
      "cell_type": "code",
      "metadata": {
        "id": "90U2ZWJD1A43",
        "colab_type": "code",
        "colab": {
          "base_uri": "https://localhost:8080/",
          "height": 71
        },
        "outputId": "7aae737f-9d41-4596-e711-c2d61cda2da4"
      },
      "source": [
        "num_reg_0 = r'\\d+\\,\\d+'\n",
        "print(LABEL.vocab.stoi['*'])\n",
        "print(len(LABEL.vocab))\n",
        "print(len(TEXT.vocab))"
      ],
      "execution_count": 10,
      "outputs": [
        {
          "output_type": "stream",
          "text": [
            "0\n",
            "12822\n",
            "34495\n"
          ],
          "name": "stdout"
        }
      ]
    },
    {
      "cell_type": "code",
      "metadata": {
        "id": "7TXMAZGuFi1L",
        "colab_type": "code",
        "colab": {
          "base_uri": "https://localhost:8080/",
          "height": 73
        },
        "outputId": "5d4f8dd5-690e-40f5-b715-1bde8aa0de60"
      },
      "source": [
        "dic = LABEL.vocab.stoi\n",
        "print(dic.keys())\n",
        "num_key = []\n",
        "for k in dic.keys():\n",
        "    num_res = re.search(num_reg_1,k)\n",
        "    if num_res is not None and num_res.span()[-1]-num_res.span()[0]==len(k):\n",
        "        num_key.append(k)\n",
        "def sortFloat(elem):\n",
        "    return float(elem)\n",
        "num_key.sort(key = sortFloat)\n",
        "print(num_key)\n",
        "\n"
      ],
      "execution_count": 11,
      "outputs": [
        {
          "output_type": "stream",
          "text": [
            "dict_keys(['<unk>', '<pad>', '<sos>', '<eos>', ':', 'tablet', '.', 'sig', 'mg', '1', 'po', 'one', 'daily', '2', 'day', ',', 'a', 'refills', 'capsule', 's', 'for', 'release', 'as', 'needed', 'every', 'hours', 'ml', 'delayed', 'e.c.', 'times', '0', 'disp', 'bid', '5', '30', '.disp', 'once', '100', 'two', '10', '3', ' ', '4', '20', '6', '24', '60', '40', 'solution', '50', 'sodium', 'aday', 'pain', '325', 'days', '%', 'unit', 'mcg', '2times', '500', 'tid', 'tablets', 'sustained', 'at', 'hr', 'q6h', 'acetaminophen', '25', 'hospital', 'docusate', 'name', 'aspirin', 'to', 'twice', '0.5', 'metoprolol', 'bedtime', '12', 'prn', 'inhalation', 'with', 'hs', 'units', '200', 'num', 'hcl', 'tartrate', 'chewable', 'three', 'insulin', '90', 'and', '81', 'constipation', 'q4h', 'oxycodone', '8', 'sulfate', '400', 'patch', 'q24h', 'heparin', 'albuterol', 'aerosol', 'q12h', 'actuation', 'sust', 'senna', 'dose', '7', 'in', 'pantoprazole', '8.6', '2.5', 'on', 'injection', 'furosemide', 'four', '15', 'timesa', 'please', 'atorvastatin', 'of', 'extended', 'lisinopril', 'tab', 'q8h', 'suspension', 'take', 'chloride', '80', '150', '75', 'acid', 'qid', '300', 'calcium', 'asneeded', ']', '[', '250', 'atbedtime', 'vitamin', 'iv', 'warfarin', 'gram', 'or', 'bromide', 'bisacodyl', 'by', 'ipratropium', 'flush', 'device', 'weeks', 'per', 'the', 'porcine', 'simvastatin', 'inr', 'appl', 'rel', 'then', '6hours', 'potassium', 'rapid', 'recon', 'dissolve', '3times', 'syringe', 'directed', 'topical', 'folic', '14', 'sliding', 'levothyroxine', 'prednisone', 'meq', 'outpatient', 'g', 'particle', 'six', '24hr', '6h', 'disk', 'scale', 'multivitamin', '5,000', 'qs', 'subcutaneous', 'date', 'fluticasone', 'podaily', 'omeprazole', 'soln', '120', 'meals', 'wheezing', '0.083', 'chewablepo', 'phone', 'human', 'suppository', 'thirty', 'cap', 'lab', 'fever', 'clopidogrel', 'intravenous', 'month', 'five', 'liquid', 'powder', '1.5', '18', 'crystal', 'drops', 'hold', 'ophthalmic', 'qd', 'q4', 'carbonate', 'week', 'amiodarone', 'ferrous', '4hours', 'every6', 'ranitidine', 'line', 'succinate', 'dl', '<', 'regular', 'dr', 'hydromorphone', '0.02', 'sublingual', 'gabapentin', 'lorazepam', 'syrup', '17', 'packet', 'puff', 'mouth', 'inhaler', 'shortness', 'your', 'q', 'every4', 'amlodipine', '125', 'until', 'spray', '600', 'qhs', 'magnesium', 'qam', 'not', '0.4', 'vancomycin', 'hrsig', 'nausea', 'medicated', 'breath', 'adhesive', '12.5', 'lasix', 'check', 'fornebulization', 'year', 'anxiety', '65', 'asdir', 'iron', 'd3', 'hfa', '72', 'drop', '160', 'w', 'puffs', 'oral', 'levofloxacin', 'glargine', 'famotidine', 'poq4h', 'metformin', 'inhalationq6h', 'if', 'salmeterol', 'hydroxide', 'miconazole', 'morning', 'insomnia', 'citalopram', 'coumadin', 'cholecalciferol', 'doses', 'nitrate', '800', 'give', 'd', 'dayfor', 'morphine', 'ointment', 'thiamine', '9', 'be', 'this', 'levetiracetam', '180', 'do', 'x', '1,000', 'trazodone', 'workplease', 'tramadol', 'unitssubcutaneous', 'results', 'b', 'dr.', 'forconstipation', 'lansoprazole', 'piggyback', '28', '650', 'ciprofloxacin', 'after', '5000', 'lactulose', 'goal', 'normal', 'months', '0.3', 'sbp', 'continue', 'atenolol', 'eight', '70', 'is', 'ten', 'neb', 'metronidazole', 'puffinhalation', ';', 'you', '0.25', 'enoxaparin', 'nasal', 'lispro', 'other', '110', 'c', 'hydrochlorothiazide', 'cream', 'last', 'every24', '8hours', '0.9', 'saline', 'lidocaine', 'while', '0.1', 'tamsulosin', 'oncea', 'phenytoin', '11', 'trimethoprim', 'lumen', 'humalog', 'start', 'patient', 'nystatin', 'sob', 'tube', 'diltiazem', 'none', 'medication', 'nph', 'chest', 'allopurinol', 'fax', 'sulfamethoxazole', 'dexamethasone', '100,000', 'have', 'digoxin', '1000', 'complex', 'ascorbic', '45', 'before', 'carvedilol', 'colace', '0.6', 'qpm', 'monday', 'over', 'quetiapine', 'pt', 'doctor', 'q3h', '103', 'tabletpo', 'isosorbide', 'nitroglycerin', 'ibuprofen', 'guaifenesin', 'glycol', '750', 'dextrose', 'polyethylene', '12hours', 'home', 'xl', 'taking', 'hrtransdermal', '700', '4times', 'spironolactone', '21', 'clonazepam', 'ondansetron', 'maleate', 'every12', 'only', 'mls', 'sc', 'zolpidem', 'weekly', 'sertraline', 'every8', 'alcohol', 'friday', 'ext', 'evening', 'hydralazine', 'nicotine', 'cough', 'blood', 'each', '3350', 'cartridge', 'hundred', 'see', 'daterange', 'use', 'glipizide', 'pf', 'twenty', 'stop', 'nebinhalation', 'olanzapine', 'cbc', 'tiotropium', 'clonidine', 'pobid', 'follow', 'gluconate', 'agitation', 'bottle', 'poevery', 'age', 'acetate', 'metoclopramide', 'above', '16', 'mononitrate', 'wednesday', 'dependent', 'menthol', 'tabletsustained', 'cyanocobalamin', 'up', 'cappo', 'protocol', 'n', 'fentanyl', 'tabs', 'total', 'pravastatin', 'tidw', '1.4', 'toprol', 'lotion', 'poq4', 'call', 'expired', 'rectaldaily', 'er', 'membrane', 'fluoxetine', 'hoursas', 'wheeze', '240', 'recomb', 'pm', 'glyburide', 'mirtazapine', 'q2h', 'nf', 'twicea', 'sevelamer', 'duration', 'polyvinyl', '4pm', '3hours', 'valsartan', '10ml', 'slidingscale', 'breakfast', 'picc', 'decrease', 'am', 'ih', 'lantus', 'oil', 'twelve', 'threetimes', 'chem', 'fifteen', 'will', 'through', '&', 'dinner', 'titrate', '0.005', '7days', 'camphor', 'taper', 'draw', 'followed', 'flushpicc', '12h', 'crystals', 'particles', 'course', 'prior', 'care', 'latanoprost', 'paroxetine', 'tacrolimus', 'gm', 'dailyrx', 'headache', 'fluconazole', 'zinc', 'tylenol', 'apply', 'q72h', 'bupropion', 'dosing', '4.5', 'pen', 'rosuvastatin', 'crystalsig', 'eyes', 'labetalol', 'than', 'montelukast', 'hexavitamin', 'site', 'capsulepo', 'dropperette', 'rash', 'when', 'mycophenolate', 'loose', 'timolol', 'dry', \"'s\", '2.0', 'nebulization', 'via', 'sucralfate', 'we', 'grams', 'mofetil', 'prochlorperazine', 'pcp', 'should', 'losartan', 'd5w', 'itching', 'diarrhea', 'from', 'poq6h', '667', 'poonce', 'may', 'cephalexin', 'orwheezing', 'sprays', 'mlinjection', 'attached', 'no', 'numhours', 'inspect', 'more', 'level', 'shift', 'finasteride', 'followedby', 'amoxicillin', 'ezetimibe', 'methadone', 'neededfor', 'syringes', 'ofbreath', 'povidone', '0.65', 'haloperidol', 'alfa', '8h', 'protonix', 'y', 'venlafaxine', '0.8', 'numdrops', 'concentrate', 'potwice', 'sedation', 'hrs', 'simethicone', 'numpuffs', '12hr', 'dilaudid', 'kit', 'percocet', '220', 'checked', 'hour', 'hd', 'ns', 'md', 'supply', '=', 'minutes', 'clinic', 'prilosec', '13', 'iso', 'office', '0.12', 'diazepam', 'epoetin', 'digits', 'adjust', 'can', 'mlintravenous', 'loperamide', '1,250', 'mo', 'nifedipine', 'solnintravenous', 'codeine', 'bun', '+', 'ativan', 'chlorhexidine', 'mouthwash', 'donepezil', '10,000', 'glucose', 'hydrocodone', 'nadolol', 'risperidone', 'exceed', '35', 'oxide', 'sbp<100', '48', 'tazobactam', 'resume', 'piperacillin', '22', 'forty', 'puffsinhalation', '24hrsig', 'breathor', 'ceftriaxone', 'oxygen', 'dropophthalmic', 'dayas', 'alendronate', 'calcitriol', 'push', 'torsemide', 'osmotic', '7.5', 'amitriptyline', 'dr.name', 'fr', 'lunch', 'alprazolam', 'sig:1', 'was', 'cefpodoxime', 'mucous', 'inhalationq4h', 'need', 'ptt', '350', 'captopril', 'acyclovir', 'hypoglycemia', 'stools', 'off', 'therapeutic', 'given', 'lock', 'rifaximin', '450', 'continuous', 'os', 'rectal', 'mgpo', 'topicalqid', 'un', 'back', 'diphenhydramine', 'baclofen', 'colchicine', 'miscellaneous', 'mlspo', 'diskus', 'nebulizer', 'drive', 'otherday', 'rectalhs', 'hydrocortisone', 'escitalopram', 'q48h', '42', 'asdirected', '1230', 'duloxetine', 'verapamil', 'omega', 'trough', 'lovenox', 'multivitamins', '10days', 'potid', 'mineral', 'fexofenadine', 'ursodiol', 'bisulfate', 'carbidopa', 'complete', '0.15', 'levodopa', 'andprn', 'eye', 'milk', 'scalesubcutaneous', 'th', '37.5', 'qidachs', '0.05', 'azithromycin', 'pills', '24h', '50,000', 'cc', '4to', 'appltopical', 'tu', 'drawn', 'magnesia', 'left', 'flushperipheral', 'lozenge', 'end', 'dorzolamide', 'location', '0.2', 'butalbital', 'lamotrigine', 'non', '3.125', 'brimonidine', 'identifier', 'numeric', 'rate', 'tabletrefills', 'test', 'zofran', '.hospital', 'both', '360', 'caff', 'dialysis', 'pot', 'pressure', 'mlmucous', 'discontinue', 'minerals', 'benzonatate', 'forshortness', 'infusion', '24hours', 'painrx', 'sa', 'thursday', '88', 'cefepime', 'meropenem', '4h', 'using', '6.25', 'valganciclovir', 'based', 'dyspnea', 'doxazosin', 'first', 'are', 'physical', 'capsules', 'for1', '3x', 'clavulanate', '19', '280', 'shortnessof', 'terazosin', 'k', 'divalproex', 'cr', 'lancets', '56', 'breakthrough', 'petrolatum', 'inhalationevery', 'enalapril', 'propionate', 'box', 'change', 'creatinine', '26', 'combivent', 'q3', 'artificial', 'half', 'that', 'unitsheparin', 'erythromycin', 'right', '..', '27', 'inh', 'u', 'susp', 'syringesubcutaneous', 'according', 'medications', 'starting', 'chewablesig', 'night', '72hr', 'na', 'oxybutynin', '30tablet', 'immediate', 'linezolid', 'min', 'qachs', '270', 'tp', 'acids', 'bidrx', 'fatty', '23', 'lipitor', 'transdermal', '0.83', '112', 'fumarate', 'has', '5days', 'bacitracin', 'dailyhold', 'regimen', 'touch', 'faxed', 'mgsubcutaneous', 'vial', 'water', '3.5', 'sleep', 'dinitrate', 'ec', 'fourtimes', 'further', '0.125', 'advair', 'all', 'flagyl', 'stool', 'time', 'white', 'nasalqid', 'clindamycin', 'instructed', 'notify', 'salinedaily', 'weeklytransdermal', 'alt', 'd2', 'for2', '.name', '29', 'mdi', 'midodrine', 'unitsinjection', 'for7', 'monitor', 'sig:15', 'pothree', 'qmowefr', 'therapy', 'citrate', 'glucagon', 'seven', 'increase', 'primary', 'thrush', 'ast', 'tuesday', 'base', 'gel', 'next', 'pill', 'provide', 'everyeight', 'keflex', 'mgintravenous', 'tabletextended', 'administer', '116', '2weeks', 'gemfibrozil', 'treatment', 'fenofibrate', 'misc', 'pr', '20.3', 'ergocalciferol', 'q15min', 'tizanidine', 'units201', 'phos', 'acetylcysteine', 'crush', 'numtablets', 'started', 'sunday', 'bactrim', '320', '875', 'clotrimazole', 'pregabalin', 'strip', '3.0', '55', 'qday', 'dextromethorphan', 'saturday', 'strips', '0.63', 'mag', 'parenteral', '1500', 'nexium', '225', 'below', 'medical', 'order', 'cipro', 'hydroxyzine', 'sat', 'sl', 'subcutaneousq12h', 'tx', 'workinr', 'cinacalcet', 'number', 'bidhold', 'lamivudine', 'seventy', '140', 'multiphasic', '8.8', 'lipase', 'suppositoryrectal', 'lfts', 'ongoing', 'temp', '1x', 'tenofovir', 'amylase', 'cyclobenzaprine', 'topiramate', '@', 'ds', 'mesalamine', 'plavix', 'fish', 'sugar', 'cardiologist', 'skin', 'tear', 'amp', 'j', 'pack', 'symptoms', '24hrtransdermal', 'psyllium', 'qod', '2x', 'micronized', 'aluminum', 'e', 'keppra', 'deceased', 'dilantin', 'rr', 'ultram', 'an', 'labs', 'ng', 'prn10', 'protease', 'injectionsubcutaneous', 'loratadine', 'niacin', 'ritonavir', 'bowel', 'everyother', 'throat', '175', 'recombinant', '32', 'access', 'secretions', '2.25', 'spasm', '42.5', '56.8', 'fifty', '3days', '4000', 'infectious', 'nortriptyline', 'oz', 'port', '135', 'disease', 'carbamazepine', 'it', 'troche', 'less', 'pramipexole', 'propranolol', 'rehab', 'application', 'fludrocortisone', 'hypoglycemiaprotocol', 'memantine', 'scopolamine', 'topicaltid', 'ultra', 'affected', 'peg', 'restart', 'were', '1250', 'atrial', 'tabletsublingual', '1,500', 'oxcarbazepine', '145', 'handihaler', 'spiriva', 'strength', 'target', 'physician', 'prnperipheral', 'food', 'his', 'nafcillin', 'o2', 'bed', 'feeding', 'mon', 'wafer', 'diff', '550', 'levels', 'noon', 'triamcinolone', 'ampicillin', 'buspirone', 'cyclosporine', 'for3', 'area', 'methylphenidate', '36', '850', 'daydisp', 'dose0', 'fri', 'metolazone', 'miralax', 'sotalol', '2days', 'augmentin', 'weight', '72hrtransdermal', 'forwheezing', 'liver', 'm.d.', 'poq12h', 'sixty', 't', 'antibiotics', 'central', 'fingerstick', 'heartburn', 'workpt', '4,000', 'groin', 'hemodialysis', 'nebulizerinhalation', 'pioglitazone', 'pyridoxine', 'adjusted', 'afib', 'devicesig', 'following', 'gas', 'wound', 'aripiprazole', 'nacl', 'tabletspo', '201', 'levalbuterol', 'severe', 'her', 'lactate', 'osm', 'panel', 'atrovent', 'compazine', 'daily16', 'for5', 'prednisolone', 'suspensionsig', 'acetonide', 'admission', 'alum', 'completed', 'l', 'lopressor', 'needle', 'seventeen', 'simeth', 'tolterodine', '4pm.disp', 'drink', 'low', 'miscell', 'aspart', 'dispense', 'patches', 'repeat', 'indigestion', 'mginjection', 'needs', 'rx', '2hours', 'everytwelve', 'hum', 'lovastatin', 'phosphate', 'units301', 'cannula', 'flushtemporary', 'keep', 'least', 'work', '31', 'enema', 'fs', 'hoursdisp', 'hydroxychloroquine', 'mucousmembrane', 'between', 'congestion', 'patchtransdermal', 'sore', 'glucophage', '0.025', 'bicarbonate', 'increased', 'p', 'she', 'doxycycline', 'dressing', 'elixir', 'instructions', 'maintain', 'mwf', 'nephrocaps', 'qhd', 'alk', 'been', 'everysix', 'budesonide', 'daysrx', 'hr<60', 'narcotics', 'pump', 'td', 'allergy', 'clarithromycin', 'intravenousevery', 'lozengemucous', 'muscle', 'q1h', 'topicalhospital', '1weeks', 'clobetasol', 'he', 'novolog', 'thismedication', '8426', 'bm', 'oxycontin', 'place', 'under', '25,000', 'cetylpyridinium', 'daptomycin', 'glucometer', 'injectionqmowefr', 'post', 'sun', 'due', 'hyclate', 'leg', 'dulcolax', 'emtricitabine', 'fibrillation', 'fosamax', 'kg', 'pulse', 'ropinirole', 'ambien', 'full', 'megestrol', 'any', 'besylate', 'lithium', 'units251', '.tablet', '301', 'bg', 'ceftazidime', 'intravenousonce', 'meds', 'mix', 'proceed', 'worklabs', '1.25', 'dryness', 'heart', 'insulinplease', 'juice', 'liters', 'movements', 'silver', 'temperature', 'workcbc', 'zantac', '84', 'max', 'prescribed', 'qmon', 'sr', 'atovaquone', 'electrolytes', 'machinery', 'previous', 'at4', 'atropine', 'aweek', 'dextrs', 'for10', 'vials', 'appointment', 'meclizine', 'nimodipine', 'pre', 'send', 'stable', 'systolic', '38.0', 'intramuscular', 'prophylaxis', 'thru', '137', 'azathioprine', 'f', 'fixed', 'quinapril', 'units151', 'eighty', 'phonefax', 'q6', 'themorning', 'transplant', 'x1', '20,000', 'also', 'begin', 'bottles', 'dolasetron', 'during', 'prevent', 'pruritis', 'vanco', 'zonisamide', '1doses', 'areas', 'multi', 'portability', 'reconsoln', 'sq', 'accordingly', 'bumetanide', 'evaluate', 'hyoscyamine', 'm', 'mupirocin', 'packets', 'sirolimus', 'today', '60tablet', 'dx', 'icu', 'parenteralsolution', \"'\", 'qac', '911', 'discomfort', 'hct', 'injectioninjection', 'nebs', 'oncedaily', 'stopped', 'units241', '4x', 'cl', 'phosphates', 'triamterene', 'zocor', '251', 'ac', 'directedsubcutaneous', 'gramintravenous', 'mechanical', 'prevacid', 'tincture', 'vicodin', 'air', 'dipyridamole', 'esr', 'note', 'provider', 'reglan', 'vitamins', '1ml', 'dvt', 'flovent', 'holdfor', 'id', 'mlmiscellaneous', 'norvasc', 'operate', 'ophth', 'phenobarbital', 'qsun', 'rosiglitazone', 'sent', 'subcutaneousdaily', 'units161', '2l', 'cholestyramine', 'infection', 'pulmonary', 'thurs', 'cefazolin', 'finish', 'irritation', 'lanolin', 'q2', 'schedule', 'wheezes', 'xr', 'changes', 'med', 'namename', 'ophthalmicdaily', 'respiratory', 'sheet', 'units351', '0.625', 'glimepiride', 'humulin', 'indication', 'polymyxin', 'renal', 'extra', 'function', 'lower', 'painhold', 'there', 'thereafter', 'tobramycin', '0.03', '151', 'bp', 'crp', 'greater', 'sugars', 'workcheck', 'hydrochlorothiazid', 'promethazine', 'disoproxil', 'methimazole', 'seizure', 'tidhold', 'cepacol', 'continued', 'ertapenem', 'everyfour', 'plus', 'topicaldaily', 'units121', 'vomiting', 'beclomethasone', 'differential', 'drip', 'e.g.', 'hydrobromide', 'multiple', 'poqid', 'solninjection', 'within', '\"', 'donot', 'h', 'ha', 'odt', 'patchweekly', 'solutionsig', 'surgery', '199', '24hrs', '351', 'bs', 'catheter', 'delayedrelease', 'gentamicin', 'gtt', 'injector', 'lanthanum', 'meal', 'nasaltid', 'persliding', 'qwed', 'system', 'valproic', 'voriconazole', 'workweekly', 'cause', 'cvl', 'd2.4w', 'd50', 'duoneb', 'nu', 'rectalhospital', 'sucrose', 'benztropine', 'flushes', 'glucosamine', 'inhalationq4', 'modified', 'new', 'previously', 'qfri', 'symbicort', '2,000', 'attn', 'doxepin', 'finger', 'fungal', 'indomethacin', 'inject', 'obtain', 'tears', 'applicable', 'atazanavir', 'degradable', 'flonase', 'injectiononce', 'medicine', 'mesylate', 'prn10ml', 'r', 'soluble', 'then200', 'tues', 'free', 'lft', 'onnum', 'seroquel', 'subcutaneousfour', 'therapyplease', 'benadryl', 'counter', 'down', 'imdur', 'maximum', 'numtablet', 'ou', 'piggybacksig', 'protochol', 'q12hrx', 'ss', 'taken', 'vaginal', '.daterange', '5x', 'dosage', 'go', 'methocarbamol', 'occupational', '900', 'atphone', 'completion', 'crestor', 'doseinjection', 'driving', 'eighteen', 'every48', 'insulinsliding', 'long', 'maalox', 'neurontin', 'polysaccharide', 'sildenafil', 'sprinkle', 'abdominal', 'directedinjection', \"ml'spo\", 'naproxen', 'portacath', 'qsat', 'same', 'spry', 'units281', '1.7', 'drug', 'epogen', 'freestyle', 'hematocrit', 'speech', 'subcutaneoustwice', 'volume', '260', '3to', 'alternate', 'buffered', 'comfort', 'dir', 'done', 'esomeprazole', 'inhalers', 'irbesartan', 'ketoconazole', 'make', 'ptch', 'treat', '1200', '324', 'albumin', 'called', 'diovan', 'inthe', 'levaquin', 'oversedation', 'propoxyphene', 'seen', 'subcutaneousonce', 'does', 'fondaparinux', 'high', 'januvia', 'q12', 'testosterone', 'celexa', 'hydroxyurea', 'inhinhalation', 'nitrofurantoin', 'out', 'pellets', 'these', 'unitsubcutaneous', '1days', 'clinical', 'dipropionate', 'discuss', 'diskwith', 'get', 'including', 'methylprednisolone', 'mlpo', 'nasalhospital', 'sixteen', '0.004', 'applophthalmic', 'bedtimeinsulin', 'company', 'copd', 'dc', 'distress', 'machine', 'must', 'sbp<110', 'accessing', 'ambulatory', 'chewables', 'fluid', 'im', 'now', 'pramoxine', 'qtues', 'scaleinsulin', 'scaleplease', '2136', '239', 'adult', 'anti', 'but', 'flomax', 'k+', 'mexiletine', 'ramipril', 'rectalonce', 'remove', 'thin', 'unless', 'abacavir', 'antibiotic', 'avoid', 'c.', 'dailydisp', 'effect', 'fourteen', 'gout', 'protocol71', 'reg', 'steroids', 'sulfameth', 'urea', '.date', 'additional', 'applicationtopical', 'cal', 'penicillin', 'pyridostigmine', 'q8', 'qthur', 'sulfadiazine', 'tomorrow', '2.5.disp', '2113', '2181', 'acidophilus', 'day.name', 'disposable', 'inhalationinhalation', 'itch', 'monitoring', 'neck', 'otc', 'pleasetake', 'provided', 'reason', 'sarna', 'sig:2', 'subcutaneousat', 'vna', 'yeast', '2200', 'checks', 'chemistry', 'edema', 'having', 'op', 'oxazepam', 'qam.disp', 're', 'tabsublingual', 'tapered', 'which', 'x2', '130', '1800', 'center', 'cnt', 'cod', 'diuresis', 'htn', 'narcotic', 'otherwise', 'rifampin', 'valacyclovir', '101', '2122', '44', 'caltrate', 'day.hospital', 'diphenoxylate', 'ensure', 'flowsheet', 'held', 'vytorin', '2180', '33', 'bloating', 'day:400', 'finished', 'heavy', 'reconstitution', 'result', 'so', 'spasms', 'tolerated', 'units200', 'uti', 'zosyn', '2117', '2129', '34', 'arm', 'collagenase', 'combo', 'contact', 'dabigatran', 'laboratory', 'motrin', 'necessary', 'nostril', 'questions', 'shoulder', 'spraynasal', 'substitute', 'vit', '2173', '2188', 'afternoon', 'bag', 'ciwa', 'dronabinol', 'every3', 'forsob', 'injinjection', 'lancet', 'modafinil', 'pads', 'papain', 'qd.disp', 'resultsto', 'status', 'still', 'suction', 'swish', 'temazepam', 'theevening', 'tidrx', 'todr', 'tpn', 'usual', '315', 'available', 'centrum', 'con', 'decadron', 'etexilate', 'feeds', 'gintravenous', 'klor', 'levemir', 'mucinex', 'needles', 'ninety', 'nose', 'perday', 'proair', 'received', 'residual', 'units181', 'valve', 'well', '.5', '0.4ml', '159', 'address', 'alternating', 'aortic', 'aranesp', 'calcitonin', 'clozapine', 'cm', 'oxygenplease', 'pneumonia', 'poq8h', 'preop', 'restarted', 'salmon', 'solnsintravenous', 'theophylline', 'treatmentinhalation', 'valproate', '1.5tablet', '10units', '110mcg', '2132', '2187', 'apart', 'discontinued', 'disintegrating', 'inhalationfour', 'injectionq8h', 'injections', 'opium', 'prnas', 'q1', 'q6hrs', 'quinine', 'record', 'requires', 'rr<10', 'sbp<90', '2116', '2138', '2142', '2156', '6units', 'ambulating', 'bolus', 'ca', 'dapsone', 'dextroamphetamine', 'diagnosis', 'dofetilide', 'followsliding', 'inhalersig', 'oxalate', 'q8hrs', 'qachsinsulin', 'refuse', 'room', 'transdermalevery', 'tricor', 'units141', 'used', 'workchem', 'zidovudine', '1,200', '2105', '2130', '2150', '2161', 'basic', 'claritin', 'confusion', 'constipationrx', 'd50w', 'dailyat', 'desired', 'for4', 'forwheeze', 'insulininsulin', 'knee', 'methotrexate', 'nummls', 'primidone', 'rr<12', 'scaleunits', 'swallowing', 'tongue', '1tablet', '2133', '2177', '_', 'bimatoprost', 'byheparin', 'control', 'gramsintravenous', 'had', 'into', 'metabolic', 'normalsaline', 'phenol', 'pm.disp', 'rapiddissolve', 'refer', 'regarding', 'spit', 'sulfasalazine', 'swallow', 'units240', 'vac', 'xopenex', '2119', '2137', '2144', '2153', '2160', '2192', '2700', '4days', 'actos', 'bags', 'bilirubin', 'caps', 'dailyplease', 'dicloxacillin', 'epipen', 'faxresults', 'fiber', 'inhalationq2h', 'nine', 'ordering', 'pens', 'prescription', 'q5min', 'reduce', 'travoprost', 'wed', '2172', 'amphetamine', 'anastrozole', 'cilostazol', 'de', 'dosed', 'felodipine', 'lopinavir', 'prn.disp', 'reaction', 'sod', 'topicaltwice', 'wean', '14days', '2131', '2141', '2164', '2184', 'acute', 'cetirizine', 'commode', 'd5061', 'face', 'facility', 'gi', 'gmintravenous', 'gum', 'hospice', 'pcp.name', 'procrit', 'rec', 'tonight', 'units221', '2124', 'away', 'dailyfor', 'determined', 'devices', 'floor', 'hr<55', 'lactobacillus', 'multiphase', 'rinse', 'singulair', 'urine', 'xinafoate', '119', '2149', '2162', '2167', '2175', '2h', '4units', '62.5', '71', '8units', 'cardiac', 'chlorpromazine', 'estrogens', 'final', 'fingersticks', 'minute', 'octreotide', 'ophthalmichospital', 'own', 'rn', 'stomach', 'synthroid', 'transdermalonce', 'zyrtec', '2.5first', '2112', '2139', '2190', '2199', '60,000', '625', 'addition', 'aggitation', 'ama', 'carepicc', 'emergency', 'except', 'goalinr', 'hco3', 'intravenoustwice', 'lite', 'npo', 'raloxifene', 'raltegravir', 'supp', 'sustainedrelease', 'tests', 'ulcer', 'wellbutrin', 'without', '100.4', '2103', '2171', '38', '480', 'brain', 'changed', 'chronic', 'conjugated', 'drname', 'fioricet', 'hospitalization', 'inrgoal', 'intravenousq', 'legs', 'period', 'plan', 'range', 'refill', 'unitinjection', 'zetia', 'ziprasidone', '1600', '2110', '2148', '2154', '2159', '4l', 'applyto', 'cans', 'elevated', 'estradiol', 'everysunday', 'fleet', 'form', 'la', 'migraine', 'million', 'mlinhalation', 'ms', 'output', 'provider.name', 'sig:0.5', 't.bili', 'units160', 'x7', 'zoloft', '12,000', '20meq', '2101', '2146', '3.0.disp', '4,500', 'attention', 'aztreonam', 'bili', 'container', 'cortisone', 'evaluation', 'extremity', 'failure', 'o', 'ostomy', 'perform', 'polysorbate', 'prnper', 'quinidine', 'supplies', 'switch', '0rx', '2102', '2104', '2121', '2125', '2158', '2195', '279', '38,000', '54', '6x', 'another', 'appropriate', 'chem7', 'cycle', 'decreased', 'detrol', 'formulary', 'mgdaily', 'moexipril', 'nc', 'neomycin', 'orders', 'pentoxifylline', 'pepcid', 'pharmacy', 'prograf', 'require', 'roxicet', 'salt', 'standing', 'steroid', 'sticks', 'tums', 'wheelchair', 'whiletaking', '2108', '2109', '2111', '2163', '2169', '64', 'actonel', 'amantadine', 'bms', 'chestpain', 'cover', 'creat', 'days.hospital', 'efavirenz', 'flecainide', 'isoniazid', 'mask', 'passed', 'pilocarpine', 'prasugrel', 'proxetil', 'q24', 'q24hrx', 'standard', 'stavudine', 'swelling', 'tabletsig', 'units261', 'with10', 'zyprexa', '2106', '2127', '2145', '2170', '2179', '52', '830,000', '92', 'acetazolamide', 'aldactone', 'cell', 'depakote', 'dicyclomine', 'fib', 'foley', 'follows', 'hospitalized', 'injectionhospital', 'injectionq24h', 'lidoderm', 'mild', 'minoxidil', 'monohyd', 'numinhalation', 'perphenazine', 'powdr', 'preadmission', 'q10', 'qdaily', 'resolves', 'sash', 'sennosides', 'sitagliptin', 'stent', 'titrated', 'tr', 'upon', 'vaccine', 'wk', '2114', '2115', '2120', '2143', '2166', '2174', '2176', '2191', '2196', '33,200', '37,500', '3doses', 'about', 'avr', 'bipap', 'bismuth', 'brand', 'chlorthalidone', 'contin', 'epinephrine', 'filgrastim', 'flow', 'forpain', 'injectionq12h', 'macrocrystal', 'namephone', 'nebulizertreatment', 'serum', 'supplemental', 'units120', 'vanc', '161', '2128', '2182', '2185', '2units', 'allergic', 'being', 'chondroitin', 'coenzyme', 'count', 'dwell', 'eachhemodialysis', 'eating', 'every2', 'finishing', 'hip', 'humalogglucose', 'inhaled', 'open', 'otic', 'possible', 'procedure', 'receive', 'resolved', 'sublinguals', 'sulbactam', 'syringeinjection', 'thendecrease', 'to6', 'units321', '0.75', '1tab', '2183', '2197', '5ml', '95', 'advance', 'ammonium', 'aricept', 'avodart', 'b12', 'bymouth', 'ck', 'cpap', 'darunavir', 'drowsiness', 'dyspepsia', 'eplerenone', 'foot', 'forward', 'hypertension', 'indicated', 'injectionq6h', 'num.5', 'nurse', 'printed', 'replete', 'resp', 'seizures', 'stick', 'succ', 'takeas', 'unable', 'x3', '0.6ml', '2157', '2198', '2tablets', 'acceptable', 'administration', 'around', 'bmp', 'ct', 'days.name', 'dur', 'everytwenty', 'fluphenazine', 'flushindwelling', 'formoterol', 'indefinitely', 'meter', 'moxifloxacin', 'olmesartan', 'oxygenhome', 'physician.name', 'q4hr', 'qac&hs', 'sats', 'subcutaneoushospital', 'sublingually', 'thanks', 'tsh', '262', '2doses', '3,000', '30,000', '3l', '500+d', '6.5', 'abd', 'action', 'assess', 'daycourse', 'dissolves', 'dizziness', 'doctor.name', 'drain', 'ending', 'entacapone', 'forreconstitution', 'history', 'ii', 'incision', 'injectionasdir', 'injectiondaily', 'levsin', 'male', 'manage', 'oxygenoxygen', 'ranolazine', 'seeattached', 'specify', 'suppositorys', 'thank', 'trach', 'ultrasoft', 'wish', '1.2', '191', '2186', '241', '37', '3h', '4gm', '6hrs', 'activity', 'afibgoal', 'aspir', 'bicarb', 'breast', 'cancer', 'cozaar', 'currently', 'fibrillationgoal', 'gerd', 'initial', 'kwikpen', 'melatonin', 'mouthdaily', 'movement', 'nebulizationsig', 'neht', 'oxygen2', 'packetsig', 'paindo', 'prazosin', 'propafenone', 'r.ns', 'recheck', 'saturation', 'small', 'solublepo', 'subcutaneously', 'takingthis', 'tbili', 'uinjection', 'units101', 'variable', 'vialinhalation', '118', '2118', '2135', '2152', '2155', '3000', '911.disp', 'amount', 'arthritis', 'asa', 'bedtimehumalog', 'citracal', 'consider', 'diseaser.ns', 'everymonday', 'help', 'ho', 'hsrx', 'hydrochloride', 'likely', 'limit', 'membranetid', 'milliliter', 'nevirapine', 'novolin', 'oxymetazoline', 'protam', 'q8hrx', 'reflux', 'regularglucose', 'rehabilitation', 'relief', 'solns', 'split', 'subsalicylate', 'till', 'tubes', 'twicedaily', 'unitsfs', 'untilnum', 'usubcutaneous', 'vary', '1.8', '10u', '121', '210', '2107', '2151', '2189', '961', 'achs', 'baseline', 'bedtimeas', 'closely', 'concentrated', 'coreg', 'coverage', 'dayslast', 'desmopressin', 'feet', 'female', 'flushing', 'forindigestion', 'going', 'haldol', 'intravenousq12h', 'product', 'q4hrs', 'tidac', 'tobe', 'upset', 'valium', 'very', 'visit', 'xanax', '0.01', '1week', '2134', '2147', '2178', '281', '30capsule', '319', '3rd', 'avandia', 'avapro', 'bilateral', 'breathing', 'celecoxib', 'diclofenac', 'directedunits', 'ear', 'frequency', 'lacosamide', 'lung', 'namenda', 'ngt', 'page', 'pager', 'patients', 'paxil', 'phenazopyridine', 'pkt', 'poqam', 'poqd', 'pruritus', 'saliva', 'sedated', 'softener', 'stay', 'sure', 'tabsust', 'teaspoons', 'terbinafine', 'unknown', 'workdaily', '0.042', '1.0', '168', '2168', '3668', '63', '85', 'administered', 'betaxolol', 'cardiology', 'crushed', 'diabetes', 'edisylate', 'electric', 'ethambutol', 'fevers', 'folds', 'for14', 'for6', 'hospitalrx', 'icd', 'injectable', 'instill', 'longer', 'q12hhold', 'recent', 'recommended', 'sob.disp', 'subcutaneousthree', 'thyroid', 'tsp', 'wbc', 'whende', '12hrs', '2193', '8u', 'applesauce', 'completing', 'darbepoetin', 'daysthen', 'decreaseto', 'dilt', 'forheartburn', 'imipramine', 'inpacket', 'iss', 'kcl', 'klonopin', 'lyrica', 'management', 'mins', 'mlsmiscellaneous', 'pleasecontinue', 'pls', 'qnoon', 'qpm.disp', 'ra', 'reassess', 'regularly', 'roxanol', 'soft', 'sternal', 'subcutaneousevery', 'testing', 'v', 'who', 'yourprimary', '0units', '12units', '2123', '2165', '6u', 'adderall', 'ambulation', 'apap', 'bedside', 'benazepril', 'cardizem', 'careplease', 'ccinjection', 'cd', 'cramps', 'dental', 'detemir', 'did', 'diprop', 'draws', 'injectionq4h', 'kidney', 'ldh', 'membraneprn', 'midline', 'moderate', 'monthly', 'nares', 'nitrostat', 'np', 'persists', 'polysorbat', 'q6hr', 'removed', 'repaglinide', 'restless', 'side', 'teaspoon', 'therapypatient', 'withdraw', 'x10', '.phone', '1st', '2126', '2ml', '321', 'attachedsliding', 'bidplease', 'brinzolamide', 'cap,24', 'filled', 'flare', 'fluocinonide', 'flushmid', 'foragitation', 'forchest', 'him', 'hoursfor', 'how', 'ihinhalation', 'immediately', 'influen', 'injectionintramuscular', 'injectiontwice', 'itchy', 'large', 'lastdose', 'leave', 'levoxyl', 'list', 'lutein', 'micafungin', 'mitral', 'mlflush', 'mouthevery', 'mouthtwice', 'negative', 'niaspan', 'onetablet', 'ordered', 'pneumococcal', 'portindwelling', 'qidwmhs', 'qmwf', 'qweek', 'required', 'rivastigmine', 'routine', 'script', 'street', 'stroke', 'substitution', 'team', 'zestril', '2.5tablets', '2194', '4.5rx', '4.disp', '6days', '6weeks', 'aliskiren', 'betamethasone', 'bleeding', 'bycardiologist', 'careheparin', 'chair', 'current', 'delivery', 'depression', 'dinnerinsulin', 'flushwith', 'gtube', 'h2o', 'hemorrhoids', 'infuse', 'mcginjection', 'metamucil', 'num.5.disp', 'ok', 'overload', 'pensig', 'poqhs', 'q12hrs', 'qtuthsa', 'relieved', 'resolve', 'return', 'risk', 'salinefollowed', 'solostar', 'tamoxifen', 'thentake', 'upper', 'workpatient', 'zero', '2201', '2u', 'breakfastinsulin', 'byyour', 'completes', 'coordinator', 'cranberry', 'dailyongoing', 'ferrousul', 'fsbs', 'hc', 'hourshold', 'hyperglycemia', 'imodium', 'inrcoumadin', 'intake', 'intensol', 'lbs', 'lexapro', 'linepicc', 'mech', 'midazolam', 'miscellaneousonce', 'mlmiscell', 'mlsubcutaneous', 'morethan', 'orally', 'phenolate', 'pofour', 'put', 'recommendations', 'sbp<120', 'solutions', 'spraymucous', 'state', 'supplement', 'syndrome', 'systems', 'tells', 'tessalon', 'theresults', 'units280', 'unitsbs', 'withmeals', 'withresults', '100.disp', '105', '12.disp', '1350', '162', '17.disp', '1month', '2.0.disp', '20.disp', '2249', '299', '2gm', '30ml', '3600', '39', '5.0', '61', 'abdomen', 'allergies', 'bandage', 'bidprn', 'boxrefill', 'cartridgesig', 'celebrex', 'chf', 'citric', 'creon', 'cromolyn', 'determine', 'died', 'dm', 'dosesubcutaneous', 'erythema', 'everyfriday', 'everysaturday', 'flexeril', 'gain', 'giving', 'guidelines', 'head', 'hickman', 'hospitalclinic', 'hrptt', 'inch', 'kitmiscellaneous', 'made', 'maintenance', 'mondays', 'monitored', 'nameat', 'ocuvite', 'oxacillin', 'painplease', 'peripheral', 'peroxide', 'poqidachs', 'qhs.disp', 'scheduled', 'specified', 'subcutaneousqachs', 'sumatriptan', 'take2', 'transdermalq72h', 'valps', 'vent', 'vesicare', '.doctor', '1.disp', '101.5', '1400', '2.disp', '24.disp', '4.0', '40,000', '51', 'able', 'added', 'advised', 'basal', 'break', 'bronchospasm', 'bumex', 'canula', 'chem10', 'clostridium', 'continueuntil', 'crackers', 'culture', 'cymbalta', 'dailyand', 'day.date', 'diabetic', 'discussed', 'ditropan', 'doseto', 'dropperetteophthalmic', 'ed', 'ethacrynic', 'everythursday', 'followup', 'fracture', 'frequently', 'gauge', 'gauze', 'hist', 'imipenem', 'improves', 'insulinper', 'intravenousq24h', 'leflunomide', 'lumigan', 'megace', 'nausearx', 'nebulizers', 'numresults', 'nursing', 'oncologist', 'pain.hospital', 'polacrilex', 'pravachol', 'products', 'psoriasis', 'pulmicort', 'q6hours', 'report', 'set', 'signs', 'slow', 'spacer', 'tomaintain', 'topamax', 'tue', 'wait', 'workyou', '!', '1,625', '1.1', '1.6', '1300', '2140', '26.disp', '3.5.disp', '330', '401', '4u', '8pm', '99', 'adjustment', 'alkaline', 'amonth', 'anemia', 'aspiration', 'because', 'breakfastglargine', 'buccal', 'bulk', 'buttocks', 'cilastatin', 'clavulanic', 'continues', 'cp', 'dailyuntil', 'diet', 'diphenhyd', 'downrx', 'effusion', 'eval', 'glucotrol', 'glycerin', 'heavymachinery', 'inj', 'inr.disp', 'insulincontinue', 'levobunolol', 'liter', 'md.name', 'medicateds', 'milrinone', 'miss', 'nabumetone', 'namepattern1', 'notexceed', 'oxygen2l', 'peak', 'placed', 'pseudoephedrine', 'puree', 'q5', 'qidrx', 'releases', 'risedronate', 'risperdal', 'stat', 'subcutaneousq24h', 'takes', 'unitsinsulin', 'unitsunits', 'ventolin', 'viagra', 'walker', 'workserial', 'would', 'x7days', '1100', '17,000', '19.disp', '27,000', '28.disp', '46', '4th', '5.disp', '60capsule', '93', 'asthma', 'atnoon', 'atrialfibrillation', 'balance', 'body', 'cad', 'carafate', 'caution', 'cont', 'cultures', 'develop', 'different', 'doxercalciferol', 'drainage', 'drains', 'eat', 'exam', 'eyeophthalmic', 'fine', 'fourhundred', 'galantamine', 'hand', 'hiccups', 'improved', 'inpatient', 'insulinregular', 'lamictal', 'lastday', 'miscellaneousfour', 'mlmouthwash', 'mobile', 'notdrive', 'numrx', 'nutren', 'pending', 'phytonadione', 'piccpicc', 'portable', 'ppx', 'prilocaine', 'primarycare', 'proscar', 'q6hregularglucose', 'releasesig', 'rest', 'safety', 'sbp<95', 'scalebreakfast', 'service', 'setting', 'smoking', 'tocomplete', 'transfer', 'ultrafine', 'weeksrx', 'wounds', 'x3days', '0.375', '0.7', '18.disp', '20units', '21.disp', '2202', '359', '361', '420', '4hrs', 'abx', 'aciphex', 'allow', 'anaphylaxis', 'angina', 'anticoagulation', 'azelastine', 'bd', 'benicar', 'bladder', 'bp<100', 'byetta', 'carephysician', 'chemotherapy', 'compression', 'd1', 'doseinhalation', 'dronedarone', 'f.', 'feed', 'forinsomnia', 'glaucoma', 'glycopyrrolate', 'house', 'hr<60rx', 'hrname', 'hypotension', 'infectiousdisease', 'ir', 'itchiness', 'mealsrx', 'medroxyprogesterone', 'mirapex', \"n't\", 'nasaltwice', 'needed.hospital', 'neutra', 'no.2', 'outpt', 'perles', 'poq3', 'pounds', 'reconstitutionsig', 'settings', 'short', 'sig:1.5', 'strength;starting', 'syringemiscellaneous', 'they', 'thirteen', 'timesdaily', 'toname', 'transition', 'treatments', 'twentyfive', 'uroxatral', 'withhypoglycemia', 'xt', '0.5tablet', '126', '12u', '13.disp', '144', '16.disp', '1months', '2.6', '2100', '249', '2tabs', '48hours', '4grams', '4weeks', '7tablet', '8,000', '9.disp', 'add', 'arrange', 'bedtimeregular', 'beginning', 'breathactivated', 'capsulerefills', 'confirmed', 'country', 'daily16rx', 'dailyapply', 'delirium', 'disopyramide', 'duricef', 'endocet', 'equal', 'everyday', 'everytuesday', 'faxphone', 'fill', 'for30', 'fosamprenavir', 'fully', 'headaches', 'hn', 'holding', 'hundredfifty', 'hunger', 'i', 'inhalationq8h', 'insulinhumalog', 'lancetmiscellaneous', 'layer', 'medicationsplease', 'membraneqid', 'minintravenous', 'mlsintravenous', 'nasonex', 'nurses', 'pad', 'pe', 'ph', 'phosphatase', 'pleasegive', 'poqpm', 'probenecid', 'proceedwith', 'provigil', 'q8hr', 'receiving', 'red', 'remain', 'sacral', 'sbp<100rx', 'scalp', 'sensitive', 'shouldbe', 'sleepy', 'solutionfor', 'tachycardia', 'thenstop', 'therapyoutpatient', 'titration', 'tophone', 'try', 'unittablet', 'ventricular', 'vertigo', 'weights', 'x5', 'zaroxolyn', '...', '0.04', '1.3', '10cc', '14.disp', '15.disp', '16units', '20,000,000', '200mgdaily', '2nd', '2pm', '334', '349', '375', '38.5', '6000', 'again', 'aloe', 'am.disp', 'awake', 'bowelmovements', 'boxes', 'bridge', 'carbamide', 'caspofungin', 'chewablespo', 'continous', 'continuously', 'cuff', 'dailystart', 'desipramine', 'desonide', 'doctors', 'dosewill', 'dr.nameoffice', 'equipment', 'etravirine', 'extendedrelease', 'family', 'feedings', 'fluvoxamine', 'furtherdosing', 'included', 'inhalationtwice', 'injectionevery', 'injectiontid', 'inrnum', 'juiceand', 'just', 'laxative', 'leucovorin', 'map', 'medicationplease', 'nicardipine', 'ofacetaminophen', 'ophthalmictwice', 'oxygenpatient', 'painmedication', 'phoneicd', 'phoslo', 'pohs', 'posaconazole', 'priorto', 'q2hrs', 'q6hrx', 'qdinner', 'redness', 'renagel', 'ritalin', 'scbs', 'second', 'seconds', 'support', 'suppositories', 'supratherapeutic', 't4', 'tetracycline', 'thick', 'travatan', 'truvada', 'tubing', 'tuesdays', 'urethral', 'wall', '141', '170', '23.disp', '25.disp', '27.disp', '29.disp', '340', '66', '8am', 'ace', 'achieve', 'actuationinhalation', 'alkphos', 'amaryl', 'andthen', 'appt', 'atnight', 'benzocaine', \"c'd\", 'car', 'chantix', 'clear', 'conc', 'constipationhold', 'cre', 'danazol', 'difficulty', 'directedby', 'effexor', 'etc', 'even', 'excessive', 'flexpen', 'for12', 'forfurther', 'forone', 'fridays', 'gms', 'hctz', 'hospitalhospital', 'hrresidual', 'hydrophil', 'hydrox', 'ifyou', 'increases', 'inhalationq3', 'inr2.0', 'instead', 'intravenousq8h', 'kcal', 'ketorolac', 'lax', 'managed', 'measure', 'minocycline', 'mlsyringe', 'mri', 'name.name', 'nottake', 'oint', 'ophthalmictid', 'pain.disp', 'paste', 'pentamidine', 'perweek', 'petrolat', 'phlebitis', 'pleasecheck', 'positive', 'protein', 'prozac', 'q6hhold', 'reached', 'remeron', 'requiring', 'restlessness', 'rests', 'resultsfaxed', 'robitussin', 'scaleinjection', 'self', 'semiweekly', 'sig:4', 'smoke', 'solutab', 'subcutaneousasdir', 'takewith', 'them', 'therapydx', 'thicksecretions', 'third', 'together', 'tolerate', 'tothe', 'twentytwo', 'weakness', 'workdilantin', 'written', '100rx', '14tablet', '15units', '1649', '22.disp', '3.75', '30units', '3tablets', '3tabs', '48,000', '5minutes', '5units', '68', '94', '96', 'activities', 'advanced', 'af', 'along', 'amiloride', 'applicationophthalmic', 'argatroban', 'arms', 'arrival', 'asinstructed', 'ask', 'asp', 'bloodpressure', 'breakfastnph', 'burn', 'callresults', 'carb', 'cath', 'ccs', 'checking', 'cmv', 'coagulation', 'combine', 'coughing', 'dailydaterange', 'daynum', 'days.date', 'electrolyte', 'excess', 'fat', 'forsecretions', 'hgb', 'indinavir', 'influenza', 'insulinpen', 'juice61', 'kayexalate', 'lift', 'lytes', 'm.d', 'macrocryst25', 'mist', 'offer', 'onedose', 'operatemachinery', 'oroperate', 'oseltamivir', 'pain.name', 'peri', 'phenergan', 'pleasespecify', 'poq3h', 'prep', 'prevention', 'propofol', 'purchased', 'rectalevery', 'rectalq6h', 'renvela', 'review', 'salicylate', 'salsalate', 'scalefingerstick', 'scoop', 'services', 'shampoo', 'sig:4.5', 'size', 'slowly', 'somnolence', 'ssi', 'stage', 'stripmiscellaneous', 'supper', 'swabs', 'temporary', 'thigh', 'timesper', 'topicalonce', 'topicalprn', 'totake', 'triglycerides', 'type', 'unitsbg', 'untill', 'upwith', 'values', 'zafirlukast', '....', '0.0625', '181', '3.0first', '3.disp', '3ml', '8.disp', '98', 'accessingport', 'acebutolol', 'activatedsig', 'active', 'afterdialysis', 'anxietyrx', 'appropriately', 'avrgoal', 'bicalutamide', 'bloodsugar', 'breasts', 'canister', 'capsaicin', 'carisoprodol', 'chemistries', 'chlorpheniramine', 'cleared', 'closed', 'code', 'covering', 'd5051', 'dailyif', 'diseases', 'effervescent', 'evaluated', 'factor', 'faxedto', 'fe', 'fibersource', 'finally', 'flushtunneled', 'forcough', 'forsedation', 'furtherinstructed', 'future', 'generic', 'gramsinjection', 'health', 'hemorrhoidal', 'heparinflush', 'hr<50', 'increasing', 'infatabs', 'inrdx', 'instructons', 'interval', 'le', 'lescol', 'liothyronine', 'lpm', 'lunesta', 'm20', 'methyl', 'momname', 'much', 'nebtreatment', 'oraldaily', 'ordrive', 'ot', 'pcpname', 'pleasefax', 'poly', 'prandin', 'preservision', 'prnfor', 'prnhold', 'prt', 'pyrazinamide', 'q2hr', 'q48', 'regularinsulin', 'removal', 'rolling', 'saturdays', 'secondary', 'seeinstructions', 'seek', 'session', 'shower', 'space', 'tabletdaily', 'takethis', 'thendiscontinue', 'therapyto', 'threehundred', 'ticlopidine', 'tolerating', 'toprevent', 'trandolapril', 'twentyfour', 'unitcapsule', 'units211', 'units320', 'withdrawal', 'workvancomycin', 'youshould', '100cc', '100units', '17.5', '1700', '1l', '2.2', '2000', '230', '2400', '30.disp', '5000injection', '5000units', '59', '5pm', '5tablet', '60rx', '76', '87', 'ac&hs', 'afterwards', 'amikacin', 'andfax', 'andnum', 'androgel', 'asdirsubcutaneous', 'asprescribed', 'atbreakfast', 'athospital', 'beforebreakfast', 'beforemeals', 'breakfasthumalog', 'chlordiazepoxide', 'college', 'contains', 'contrast', \"dc'd\", 'deliver', 'diagnostic', 'directions', 'doing', 'doseaccordingly', 'drowsy', 'dvtprophylaxis', 'emulsion', 'enablex', 'encephalopathy', 'entecavir', 'equipmentplease', 'exelon', 'facial', 'fast', 'fasting', 'finishes', 'florastor', 'flushheparin', 'forsbp', 'frequent', 'fromdaterange', 'gj', 'however', 'hx', 'important', 'inhalations', 'insulinrx', 'isno', 'jtube', 'juice51', 'later', 'lisp', 'load', 'lomotil', 'lutein;brmv', 'mattress', 'mdto', 'meloxicam', 'mental', 'methenamine', 'microspheres', 'mid', 'milliliters', 'miscellaneoustwice', 'misoprostol', 'mobility', 'nebneb', 'nostrils', 'noted', 'numand', 'numthen', 'ofnum', 'operating', 'polystyrene', 'povidon', 'preventconstipation', 'puritis', 'q1hr', 'qweekly', 'recs', 'request', 'resuming', 'rhythm', 'riss', 'rr<12rx', 'saturations', 'scan', 'sensipar', 'separate', 'sessions', 'sig:6', 'sinemet', 'sit', 'sorbitol', 'spine', 'stripsplease', 'sulfonate', 't.', 'takeone', 'tapering', 'tel', 'thepatient', 'thirtyfive', 'titrateto', 'toaffected', 'tosliding', 'tracheostomy', 'tubefeeding', 'tumor', 'ulcers', 'units361', 'university', 'upto', 'urinary', 'v.', 'ventilation', 'wear', 'wheezingrx', 'workblood', 'workdraw', 'workon', 'yourself', 'zydis', '0800', '10.disp', '109', '14units', '1750', '1=', '1gm', '1pill', '2,000,000', '399', '3weeks', '57', '7.disp', '7units', 'acting', 'admit', 'aerosolinhaler', 'against', 'aid', 'anxietyhold', 'appetite', 'applied', 'artery', 'astelin', 'atripla', 'becomes', 'bedirected', 'bid400', 'billion', 'bisoprolol', 'boxrefills', 'bydr', 'calcipotriene', 'careper', 'cellulitis', 'chart', 'cold', 'colesevelam', 'come', 'compressor', 'consult', 'continuing', 'controlled', 'coumadinclinic', 'cut', 'd.', 'day.daterange', 'degrees', 'directedper', 'diuretic', 'doseintravenous', 'dots', 'eachnostril', 'ecotrin', 'embolism', 'empty', 'enteric', 'everymorning', 'evista', 'extubated', 'feel', 'felbamate', 'flaxseed', 'forgoal', 'fornausea', 'fosinopril', 'french', 'fro', 'glucerna', 'glucoses', 'hbr', 'headacherx', 'hr<12', 'hr<6', 'humalogsliding', 'injury', 'life', 'lumendaily', 'metaxalone', 'mucomyst', 'nameoffice', 'naphazoline', 'napo4', 'nasalonce', 'nebsinhalation', 'nightly', 'nitroquick', 'norepinephrine', 'numsprays', 'ofantibiotics', 'onthis', 'ophthalmicqid', 'orderdate', 'oxygen1', 'oxygencontinuous', 'past', 'patientis', 'peritoneal', 'phonephone', 'phosphorus', 'pna', 'poq2h', 'pressures', 'q6hinsulin', 'qachs.disp', 'qsunday', 'qtc', 'rectaltwice', 'sedating', 'serevent', 'since', 'statin', 'sub', 'sundays', 'surgical', 'sw', 'thefollowing', 'thehospital', 'tid.disp', 'tissue', 'to200', 'toadmission', 'tocontinue', 'toe', 'told', 'topically', 'topicalthree', 'trihexyphenidyl', 'tromethamine', 'tunneled', 'vesta', 'viral', 'whether', 'with10ml', 'workevery', 'wrist', 'xalatan', 'yourcardiologist', 'yourcoumadin', '1302', '13units', '1843', '2.4', '221', '2500', '2rx', '500,000', '50cc', '6.disp', '60ml', '766', '8000', '86', '9.5', '90tablet', 'adjustments', 'administering', 'already', 'amino', 'anal', 'arginine', 'asmanex', 'assist', 'balsalazide', 'bedplease', 'bedsemi', 'begiven', 'bethanechol', 'breakthroughpain', 'calcarb', 'caredoctor', 'chain', 'checkinr', 'cholesterol', 'co2', 'colitis', 'completely', 'concentration', 'condition', 'cq', 'critical', 'cryst', 'd5071', 'dayday', 'dayshold', 'daystapered', 'depending', 'drivewhile', 'elements', 'endocrinologist', 'equivalent', 'everywednesday', 'extremities', 'famciclovir', 'fibgoal', 'for11', 'foranxiety', 'fordiarrhea', 'found', 'ganciclovir', 'glucometerplease', 'good', 'graft', 'hemorrhoid', 'homedose', 'hr<14', 'hrcycle', 'hrhospital', 'humidification', 'hypoxia', 'ifneeded', 'initials', 'injectionintravenous', 'injectionprn', 'instruction', 'insulintake', 'isosource', 'issues', 'kcl.disp', 'kpo4', 'letrozole', 'lip', 'listed', 'lotrel', 'metastatic', 'methazolamide', 'milligrams', 'mmhg', 'mono', 'most', 'mu', 'naloxone', 'nanocrystallized', 'nasaldaily', 'neupogen', 'notice', 'numfor', 'numinjection', 'nutrition', 'od', 'oftylenol', 'oneweek', 'onset', 'original', 'oxecta', 'packetpo', 'pca', 'perprotocol', 'phoneall', 'placement', 'pleasehold', 'pletal', 'poat', 'pole', 'poor', 'prnpain', 'pulmonologist', 'q24hday', 'q24hplease', 'q4pm', 'rapiddissolves', 'reach', 'recently', 'reconsolns', 'reduced', 'replace', 'rib', 'scaleregular', 'single', 'sleeping', 'social', 'solifenacin', 'soon', 'sores', 'starton', 'subcutaneousqam', 'substitutions', 'tachypnea', 'throughnum', 'tohospital', 'toyour', 'training', 'traumatic', 'twisthaler', 'unitrefills', 'upappointment', 'valtrex', 'valvegoal', 'whileon', 'workhave', 'workoutpatient', 'yourinr', 'yourpcp', 'z', '10.15', '10973', '11.disp', '12rx', '14u', '190', '1capsule', '1u', '1wk', '20ml', '2203', '2452', '2grams', '2tablet', '4gms', '4uglucoses', '504', '5cc', '5times', '62', '6pm', '6times', '8hrs', '950', '<3', 'a.m.', 'acarbose', 'alone', 'aminocaproic', 'ampule', 'anagrelide', 'andadjust', 'anddinner', 'antifungal', 'appointments', 'asper', 'attack', 'beta', 'bitartrate', 'biweekly', 'boniva', 'breakfast70', 'bring', 'cabergoline', 'calcium+d', 'clean', 'cleanser', 'clozaril', 'coated', 'cognitive', 'communicate', 'conserving', 'consitpation', 'copy', 'could', 'counting', 'day:2', 'daysafter', 'delerium', 'diltia', 'direct', 'double', 'drinkalcohol', 'dysfunction', 'early', 'ekg', 'elbow', 'eleven', 'enough', 'es', 'everyseventy', 'evidence', 'expiratory', 'eyesophthalmic', 'fa', \"fax'd\", 'fellow', 'fivetimes', 'flushinjection', 'forordering', 'gait', 'general', 'glatiramer', 'gt', 'hippurate', 'hypochlorite', 'ifpatient', 'improve', 'inhibitor', 'inspiratory', 'isnum', 'kac', 'labwork', 'lactose', 'lesions', 'loosestools', 'mercaptopurine', 'midnight', 'mm', 'motor', 'mr1', 'mucositis', 'mylanta', 'naac', 'naltrexone', 'name:15', 'narcoticpain', 'nasalcannula', 'natural', 'nebmiscellaneous', 'nebuleinhalation', 'needed.name', 'needlemiscellaneous', 'numtake', 'ocean', 'old', 'onehundred', 'onmonday', 'operative', 'ophthalmiconce', 'overnight', 'paricalcitol', 'part', 'patchestransdermal', 'persistent', 'phenylephrine', 'platelet', 'platelets', 'pleasecall', 'pleural', 'premarin', 'present', 'print', 'prnconstipation', 'probalance', 'purchase', 'pylori', 'pyridium', 'qbreakfast', 'qhsrx', 'qmonday', 'quantity', 'r.n.s', 'rectalqd', 'region', 'residuals', 'reviewed', 'run', 'scaleas', 'scalehumalog', 'scinjection', 'semi', 'sexual', 'sinus', 'skip', 'some', 'staff', 'stenosis', 'sterile', 'subcutaneousbefore', 'super', 'tadalafil', 'therapyhome', 'tidplease', 'tigecycline', 'tip', 'tostart', 'trace', 'u.', 'unitsat', 'untis', 'value', 'vehicle', 'venous', 'vite', 'worklab', 'x2days', 'yet', 'youare', 'yourdoctor', '0600', '0u', '100ml', '100unit', '101.4', '132', '1334', '149', '15ml', '16.2', '1hour', '20u', '216', '226', '30days', '41', '468', '5.5', '58', '7500', '7doses', '8days', 'ache', 'advice', 'aggrenox', 'andat', 'ankle', 'anzemet', 'apartment', 'apraclonidine', 'aq', 'aqua', 'asdirinjection', 'associated', 'atrium', 'aware', 'bacitracnzn', 'basis', 'bedtimefor', 'bidwm', 'biotin', 'bleed', 'boost', 'breakthru', 'breathlessness', 'bysliding', 'caffeine', 'candesartan', 'cardura', 'cartridges', 'chlorothiazide', 'clinically', 'clomipramine', 'coags', 'confirm', 'constip', 'constipated', 'consume', 'correction', 'coumadinplease', 'cramping', 'cutaneous', 'cypionate', 'dailydo', 'dailyweek', 'day.phone', 'decreases', 'deficiency', 'dementia', 'dermatitis', 'diflucan', 'dinnertime', 'dobhoff', 'ears', 'effective', 'either', 'elevating', 'eloped', 'ends', 'epzicom', 'erlotinib', 'few', 'film', 'fit', 'flexhaler', 'fluocinolone', 'fluvastatin', 'followprinted', 'formulation', 'forportability', 'forwheezes', 'getting', 'hdprotocol', 'hematologist', 'holdsbp', 'hospital:15', 'hp', 'hr<8', 'hyponatremia', 'illness', 'induced', 'inhalerinhalation', 'injsubcutaneous', 'inr2', 'inrchecked', 'insomina', 'insulinglucoses', 'insurance', 'intravenousqhd', 'itraconazole', 'juice71', 'length', 'lessthan', 'lozenges', 'mgmg', 'mgnum', 'mgtablet', 'mgtapered', 'microcapsule', 'milliliterspo', 'minimum', 'mlns', 'moredays', 'morningand', 'namefour', 'namepattern4', 'nephrologist', 'nicoderm', 'niferex', 'obstructive', 'officephone', 'ofthe', 'ofthis', 'ofyour', 'orif', 'outlined', 'p.m.', 'pannus', 'parkinson', 'pat', 'pheniramine', 'piccline', 'piroxicam', 'pleasefollow', 'prescriptions', 'preserv', 'productavailable', 'propylthiouracil', 'psv', 'q72', 'qtuesday', 'recommend', 'regurgitation', 'resolution', 'resp.rate', 'rhinocort', 'scalecheck', 'scalesee', 'screen', 'seesliding', 'separately', 'speak', 'stabilized', 'stopping', 'stripsone', 'such', 'suctioning', 'sufficient', 'supplements', 'table', 'tablespoon', 'tabletssublingual', 'take3', 'talk', 'tank', 'tape', 'tell', 'thursdays', 'tolerates', 'too', 'totalof', 'twiceweekly', 'twotablets', 'twoweeks', 'units110', 'units341', 'units;fs', 'untilfollow', 'urinalysis', 'valerate', 'valves', 'vancocin', 'ventilator', 'viscous', 'weekcourse', 'whilehospitalized', 'withbreakfast', 'wks', 'workbun', 'workhematocrit', 'x6', 'xeroform', 'zemplar', '.please', '1.745', '1.9', '100u', '10pm', '1150', '11578', '120tablet', '2204', '2d', '2uglucoses', '3.5first', '30minutes', '333', '3months', '50ml', '55rx', '5l', '6am', '6l', '8821', '9units', 'a.', 'actigall', 'aday.hospital', 'adequate', 'adjustdose', 'allows', 'andcall', 'andfollow', 'anything', 'apidra', 'approximately', 'aquaphor', 'aspreviously', 'asyou', 'atdialysis', 'atotal', 'b6', 'bedetermined', 'bloodglucose', 'brace', 'buprenorphine', 'buttock', 'cartia', 'case', 'cellcept', 'cessation', 'cialis', 'classic', 'collar', 'combigan', 'concerta', 'congestive', 'consecutive', 'consistently', 'continuethrough', 'cosopt', 'craving', 'cushion', 'cva', 'cvs', 'cycled', 'cyclophosphamide', 'dailyfolic', 'daysplease', 'decide', 'didanosine', 'directedfor', 'dosenum', 'doseof', 'drinking', 'dyazide', 'dysphagia', 'econazole', 'elite', 'ethyl', 'etoh', 'fibercon', 'fivehundred', 'foam', 'focal', 'foradil', 'forheadache', 'fromnum', 'glass', 'gointment', 'gone', 'haveresults', 'healing', 'hepatic', 'higher', 'hospitalapply', 'hospitalto', 'hoursprn', 'hr<10', 'hr<13', 'hr<9', 'hrtarget', 'hydrogen', 'hyzaar', 'imatinib', 'inam', 'incentive', 'inhalationonce', 'inhalationq2', 'inhalationqid', 'inhalername', 'injectionq3', 'injectiontitrate', 'insulinglargine', 'intact', 'intramuscularonce', 'intravenousinfusion', 'ivf', 'know', 'known', 'labsplease', 'lactaid', 'lancets1', 'lateral', 'lineflush', 'lingual', 'lockout', 'loz', 'lycopene', 'measured', 'medicines', 'meperidine', 'mghospital', 'mgonce', 'microfine', \"ml'sinjection\", 'mlsmiscell', 'monohydrate', 'motility', 'mouththree', 'mrsa', 'msm', 'namefax', 'nasacort', 'nebulizerhome', 'nebulizerplease', 'neoral', 'neurologist', 'neurosurgery', 'never', 'nitro', 'nobm', 'numplease', 'numunits', 'ofdr', 'oncology', 'oncoumadin', 'onlasix', 'onprednisone', 'ontuesday', 'ounces', 'oxygeno2', 'packetrefills', 'pain.daterange', 'painfor', 'pancrease', 'pericardial', 'peridex', 'phoneplease', 'pills2160', 'pills;num', 'planned', 'pleaseadjust', 'pleasediscontinue', 'pleasetitrate', 'plt', 'po1x', 'poq1', 'positioning', 'pradaxa', 'probiotic', 'protect', 'psychiatry', 'pts', 'pyrimethamine', 'q12hr', 'q3days', 'qahs', 'qodhs', 'rapamycin', 'ratio', 'refusing', 'regimenplease', 'rehabplease', 'remained', 'removable', 'repair', 'repletion', 'reported', 'requip', 'ribavirin', 'rr<10rx', 'rt', 'sbp<100.disp', 'sbp<90rx', 'scalecontinue', 'scaleper', 'scalesliding', 'sec', 'sequential', 'sig:2.5', 'solutioninhalation', 'spanish', 'st', 'stents', 'stress', 'study', 'surgeon', 'syringes1', 'syringeslow', 'tabdaily', 'take1', 'tegaserod', 'tf', 'thecounter', 'then125', 'then20', 'therapydiagnosis', 'thereis', 'thrombus', 'todr.name', 'topatient', 'topicalfour', 'tracheobronchomalacia', 'triazolam', 'twentyeight', 'unasyn', 'unitsglucose', 'untilinr', 'upright', 'uptitrate', 'vagifem', 'variableunits', 'viaj', 'wash', 'wednesdays', 'weds', 'weeks.name', 'wheel', 'wipes', 'workbasic', 'workfirst', 'workname', 'workstat', 'wt', 'youhave', 'yourblood', 'youwill', '0.45', '0.52', '0.8ml', '02', '05', '100.5', '104', '108', '10am', '10tablet', '115', '11am', '142', '16,000', '165', '17514', '179', '1cc', '1rx', '200units', '219', '24hour', '24units', '25units', '261', '275', '2pills', '3,000,000', '31.disp', '370', '389', '3cc', '40tablet', '40units', '47', '4million', '50units', '540', '5min', '600+d', '67', '6hr', '6months', '6uglucoses', '74', '7d', 'absorption', 'accessories', 'admitted', 'advil', 'aerolizer', 'airway', 'allowed', 'alphagan', 'ambisome', 'ambulatingregularly', 'amphotericin', 'andafter', 'ap', 'apnea', 'aquacel', 'attempt', 'b1', 'bactroban', 'banana', 'become', 'becontinued', 'bedhospital', 'bediscontinued', 'bedpatient', 'bedtimeglucose', 'bipapbipap', 'bkft', 'bloodsugars', 'breakfastand', 'building', 'burning', 'cardiacsurgery', 'catheters', 'cefadroxil', 'chemo', 'cmp', 'co', 'combination', 'concern', 'constipation.hospital', 'constipation.name', 'consulting', 'cortef', 'coumadinyou', 'cpk', 'cxr', 'dailyheparin', 'days20', 'dayweek', 'decanoate', 'diltzac', 'direction', 'dirinjection', 'dirsubcutaneous', 'dispersible', 'diuretics', 'dobutamine', 'duoderm', 'eachmeal', 'egd', 'emesis', 'episode', 'erectile', 'esophageal', 'especially', 'ethanol', 'eucerin', 'everyhour', 'exceed4000', 'exemestane', 'extract', 'febuxostat', 'feedstubefeeding', 'feeling', 'felt', 'fluidsplease', 'fold', 'forcad', 'forcongestion', 'forearm', 'formula', 'forthe', 'fortotal', 'fortwo', 'fsbg', 'gastric', 'gg', 'glutamine', 'gpo', 'ha.disp', 'handle', 'hep', 'hepatitis', 'homeregimen', 'hoursoff', 'hr<18', 'hr<4', 'hr<7', 'hrson', 'humaloginsulin', 'humidified', 'i.v.', 'ifchest', 'iloprost', 'immune', 'in24', 'include', 'infatab', 'initially', 'injectionq4', 'inrplease', 'inrtherapeutic', 'instruct', 'insulinlantus', 'insulinnph', 'intubated', 'isbetween', 'joint', 'kaletra', 'kerlix', 'ketones', 'kits', 'lac', 'lactase', 'ld', 'lesion', 'lethargy', 'levocarnitine', 'light', 'lineplease', 'machineplease', 'machinerywhile', 'magic', 'mass', 'mdphone', 'medication.disp', 'medrol', 'mgbase', 'mgs', 'midday', 'mintues', 'miscell.four', 'mornings', 'mouthonce', 'mvi', 'nameresults', 'naprosyn', 'nateglinide', 'nebulizernebulizer', 'nefazodone', 'neurology', 'nomore', 'notspecified', 'nsfollowed', 'numfirst', 'numwith', 'nurse.name', 'nutritional', 'of2.5', 'ofcoumadin', 'onthe', 'ordersbreakfast', 'orwheeze', 'packing', 'packs', 'painful', 'pak', 'patanol', 'patency', 'pelvic', 'perattached', 'performed', 'perlumen', 'phoneoffice', 'plaquenil', 'pleaseapply', 'pleasehave', 'posterior', 'prefilled', 'previouslyprescribed', 'prevpac', 'prnheparin', 'prnplease', 'proventil', 'puffsnasal', 'puffspuffs', 'pyloric', 'q12hlast', 'q12hours', 'q2hours', 'q4hours', 'q6hprn', 'q72hrx', 'q8hhold', 'qdand', 'qidhold', 'qm', 'qsrefills', 'qsuff', 'rails', 'random', 'rapamune', 'rechecked', 'reevaluate', 'refilled', 'remains', 'replacement', 'restarting', 'returns', 'revealed', 'rheumatic', 'ring', 'rizatriptan', 'rr<14', 'rr<8', 'running', 'sedationrx', 'selenium', 'showed', 'solutionintravenous', 'solutionpo', 'specifically', 'spo2', 'sq161', 'sqinjection', 'ssinjection', 'startingnum', 'ste', 'stiffness', 'stockings', 'straight', 'subcutaneousas', 'subcutaneousqpm', 'systane', 'tabletsonce', 'theraputic', 'therapyfor', 'therapypt', 'thickened', 'thiothixene', 'thirtytwo', 'thisdose', 'throughout', 'thrusday', 'toes', 'toright', 'tostop', 'tosurgery', 'trileptal', 'troughs', 'undefined', 'unitinhalation', 'untillower', 'untiltherapeutic', 'wafers', 'want', 'weeks.hospital', 'wet', 'workmonday', 'worsening', 'yes', '0.015', '0.5cc', '0403', '08', '101f.', '11pm', '11units', '12days', '12hplease', '12hrx', '134', '15minutes', '15u', '160hold', '16u', '18u', '1puff', '1refills', '2,400', '2.5results', '20mg', '20mgdaily', '21days', '24hplease', '26.3', '2a', '2~3', '31034', '34units', '380', '3lbs', '3tablet', '3units', '427.31', '428', '48hrs', '4doses', '4hr', '4tablet', '5000u', '500cc', '58.6', '7.75', '718', 'aa', 'abdominaldiscomfort', 'abdominalpain', 'abrasions', 'abscess', 'accu', 'acidoph', 'additives', 'adefovir', 'aggressive', 'alert', 'alertness', 'alleviate', 'altered', 'ambulate', 'anc', 'andfriday', 'andvancomycin', 'anusol', 'app', 'applmiscellaneous', 'approx', 'assessment', 'astrength', 'aswell', 'atacand', 'atdinner', 'axilla', 'b.i.d', 'backup', 'becaplermin', 'bedtimedisp', 'bedtimeregularglucose', 'betaken', 'better', 'bid.disp', 'bloodwork', 'botheyes', 'bottlerefills', 'boulardii', 'breakdown', 'by1ml', 'by2', 'c.diff', 'cabg', 'cane', 'capful', 'ccpo', 'cefuroxime', 'cervical', 'chek', 'chewabledate', 'chewablehospital', 'chondroit', 'ciclopirox', 'ciprodex', 'cleanse', 'clorazepate', 'cmo', 'colistimethate', 'commodeplease', 'continuousinfusion', 'convatec', 'correct', 'coumadinaccordingly', 'counts', 'cpapcpap', 'cravings', 'cx', 'cyclopentolate', 'd5066', 'dailydosing', 'day1', 'day:1', 'dayrx', 'days.then', 'days10', 'daysto', 'dayuntil', 'daywith', 'decreasing', 'decubitus', 'deep', 'demeclocycline', 'department', 'di', 'diamox', 'dibasic', 'dipotassium', 'directedas', 'directedbelow', 'directedotherwise', 'dispos', 'divide', 'dressingchanges', 'dressings', 'dryeyes', 'eczema', 'enddate', 'enemas', 'ep', 'ethylsuccinate', 'event', 'exertion', 'extreme', 'flank', 'fleets', 'fluids', 'fluoride', 'fluorometholone', 'folate', 'for8', 'for9', 'foratrial', 'forhyperglycemia', 'gent', 'gleevec', 'globulin', 'gluc', 'gradually', 'greaterthan', 'gums', 'h.', 'hands', 'havechest', 'haveyour', 'healthcare', 'heated', 'heme', 'hemoglobin', 'hi', 'homesliding', 'hospital:2', 'hospitalnum', 'hourson', 'hr<11', 'hrdate', 'hs.disp', 'hyperkalemia', 'ifyour', 'imitrex', 'impact', 'improvement', 'indapamide', 'indwelling', 'information', 'inhalerrefills', 'injectioninfusion', 'injectionq', 'injectionthree', 'inner', 'inpm', 'instructionstablet', 'insulinfingerstick', 'invasive', 'ivpca', 'jp', 'ketostix', 'let', 'lethargic', 'lineflushdialysis', 'lineheparin', 'lo', 'loading', 'local', 'lumens', 'lunchhumalog', 'lunchtime', 'lupron', 'maintained', 'many', 'maxstr', 'maze', 'mb', 'mcgsubcutaneous', 'md.', 'membranetwice', 'mgs04', 'mgtwice', 'mildly', 'mmole', 'moisture', 'moniter', 'monthrefills', 'monthsrx', 'mr', 'ms.', 'mvr', 'myasthenia', 'nak', 'nebulized', 'needed.date', 'nelfinavir', 'neuropathic', 'nighttime', 'norethindrone', 'normally', 'nothing', 'numcapsule', 'o2sat', 'odd', 'officer', 'ofloxacin', 'onsunday', 'onwednesday', 'operatively', 'ophthalmicevery', 'ophthalmicthree', 'osa', 'overall', 'overlap', 'oxyfast', 'pacemaker', 'package', 'pain.date', 'painmedications', 'pamidronate', 'paperwork', 'parkinsons', 'peginterferon', 'perhour', 'perineal', 'phonedr', 'pleasemonitor', 'pleaseuse', 'po3x', 'po5x', 'point', 'precautions', 'primaquine', 'pro', 'profile', 'prot', 'pulm', 'q12hday', 'q1hprn', 'q1hras', 'q2w', 'q2weeks', 'q3d', 'q3hrs', 'q6pm', 'q8am', 'q8hday', 'q8hplease', 'qdlisinopril', 'qfriday', 'qhsfor', 'qidachs.disp', 'reaches', 'receives', 'rectally', 'rectalq4', 'restasis', 'resultssent', 'rocephin', 'saccharomyces', 'safe', 'sash.disp', 'saw', 'scale71', 'scaleglucose', 'secure', 'several', 'shot', 'sided', 'sig:5', 'significant', 'significantly', 'sites', 'sitting', 'slide', 'snacks', 'son', 'sq201', 'startafter', 'stoptaking', 'strips1', 'subcutaneousqac', 'subcutaneouswith', 'subtherapeutic', 'takemore', 'taperschedule', 'telemetry', 'teriparatide', 'their', 'then1', 'then2', 'thend', 'theoffice', 'therapyevaluate', 'therapys', 'therefore', 'thighs', 'thismedicine', 'tobacco', 'topcp', 'tracheal', 'transferred', 'transfusion', 'transportation', 'trazadone', 'tretinoin', 'tri', 'trospium', 'turn', 'twentysix', 'ua', 'units131', 'units250', 'unitsfor', 'urology', 'usually', 'uti.disp', 'vialinjection', 'viread', 'vitamind3', 'vivelle', 'weekgoal', 'welchol', 'whole', 'wishto', 'withdrawl', 'withlasix', 'withpcp', 'workcoumadin', 'workhct', 'workneeds', 'worktwice', 'workvna', 'worn', 'yankauer', 'zaditor', 'zomig', '.25', '0.26', '0.3ml', '0151', '0210', '04:10pm', '07', '0900', '0units151', '1.5tablets', '1.75', '100mcg', '100refills', '102', '10rx', '11,000units', '1200cc', '12887', '12hday', '136', '139', '160:2units', '18units', '1:1,000', '1unit', '2.5for', '200mgtwice', '2274', '22units', '250units', '25u', '2600', '28units', '2units201', '30min', '30u', '3u', '4000mgs', '400give', '4319', '440', '49', '4tabs', '5000unit', '620', '6doses', '7pm', '83', '881', '90rx', '91', ':1', 'abilify', 'acetic', 'acetominophen', 'additionally', 'adjustable', 'adjusting', 'admin', 'advise', 'aftertaking', 'ago', 'alp', 'alter', 'ampules', 'amputation', 'amstart', 'andfurther', 'antacid', 'aphasia', 'apple', 'arimidex', 'asacol', 'asked', 'asnecessary', 'asprior', 'assistance', 'astolerated', 'atleast', 'atname', 'atomoxetine', 'attending', 'atthe', 'axetil', 'azilect', 'bacteremia', 'bechecked', 'bedbound', 'bedtime0', 'bedtime71', 'bedtimehumalogglucose', 'befaxed', 'beforeeating', 'began', 'belowsubcutaneous', 'benefiber', 'beneprotein', 'bengay', 'benzoyl', 'boluses', 'boxrefill:1', 'boxrefill:2', 'branched', 'bridging', 'brief', 'bromocriptine', 'buy', 'bythe', 'bytransplant', 'cadd', 'calcitrate', 'callyour', 'canbe', 'candidiasis', 'cannister', 'capsulespo', 'caremidline', 'causes', 'cavity', 'cbs', 'cdiff', 'changing', 'clears', 'clobazam', 'clock', 'clot', 'coccyx', 'colistin', 'concerns', 'confused', 'conjunctivitis', 'conservingdevice', 'contipation', 'coronary', 'cosntipation', 'coumadindosing', 'coursecomplete', 'crash', 'ctropnt', 'd5', 'daily.disp', 'daily400', 'dailyasa', 'dailymetoprolol', 'dailyvitamin', 'dailyx', 'dalteparin', 'damage', 'datenum', 'dayand', 'days40', 'days5', 'daysday', 'daysend', 'daystarting', 'dbp', 'deferoxamine', 'delivered', 'depot', 'described', 'desires', 'dialy', 'dihydrochloride', 'directeddisp', 'directly', 'disc', 'discontinuation', 'discretion', 'disorder', 'disulfiram', 'dizzy', 'dosecoumadin', 'doseinsulin', 'drs', 'dutasteride', 'dystonia', 'ed.disp', 'empiric', 'enbrel', 'enclosed', 'endurance', 'epigastric', 'episodes', 'epoprostenol', 'ercp', 'euvolemic', 'everyshift', 'ex', 'experience', 'external', 'faxto', 'feosol', 'ferrex', 'ferric', 'fistula', 'flatulence', 'flunisolide', 'flushdialysis', 'flutter', 'fora', 'forbronchospasm', 'forcontinued', 'fordyspnea', 'forinr', 'forloose', 'fororal', 'fortytwo', 'fosfomycin', 'fsg', 'fungus', 'gastroenterologist', 'gastroparesis', 'gatifloxacin', 'generalized', 'goalptt', 'gramspo', 'guar', 'hair', 'hdon', 'healed', 'here', 'hives', 'holduntil', 'hols', 'hospiceplease', 'hospitalplease', 'hospitaluse', 'hourperiod', 'hrflush', 'hsv', 'humalogblood', 'humalogplease', 'hydration', 'hydrochlorothiaz', 'hypromellose', 'ileostomy', 'inability', 'increasedsecretions', 'inderal', 'inform', 'inhalationthree', 'initiation', 'injectionq2h', 'injectorsig', 'inr.please', 'inr2.5', 'inris', 'insomniahold', 'institution', 'insulinbreakfast', 'internal', 'interstitial', 'intravenouscontinuous', 'intravenousdaily', 'intravenousthree', 'ir1250', 'irrigation', 'isoosm', 'isordil', 'isradipine', 'istherapeutic', 'itchingrx', 'its', 'ivig', 'j.', 'janumet', 'jar', 'jelly', 'kapseal', 'ketotifen', 'lacerations', 'lad', 'lancetsplease', 'lancing', 'leuprolide', 'lipid', 'liquids', 'loosestool', 'loxapine', 'lysine', 'm2', 'mandible', 'maxalt', 'mcv', 'meatus', 'medicationuntil', 'medium', 'medsplease', 'mestinon', 'mg<2.0', 'mgevery', 'mgfor', 'mgintramuscular', 'mgm', 'mgon', 'mgoral', 'micu', 'miscell.as', 'miscellaneousas', 'mn', 'moist', 'months.daterange', 'months.hospital', 'mood', 'motion', 'mrx1', 'mucus', 'namelocation', 'nasalprn', 'neg', 'nepro', 'neuro', 'ngt.disp', 'nifedical', 'nineteen', 'num1', 'numnasal', 'numprednisone', 'numto', 'nuvaring', 'ofvancomycin', 'okay', 'olopatadine', 'onepill', 'onfriday', 'onwards', 'operateheavy', 'oras', 'ordinary', 'osteoporosis', 'oxygencontinue', 'oxygensupplemental', 'pa', 'paincontrol', 'pains', 'paintake', 'palmitate', 'pancrelipase', 'patchsemiweekly', 'pectin', 'peptamen', 'perianal', 'pertinent', 'phoneemail', 'piggybackname', 'pindolol', 'pleaseadminister', 'pleasesend', 'pleasestop', 'pmnum', 'poas', 'pobreakfast', 'pod', 'poqmon', 'pork', 'ports', 'postop', 'preoperative', 'preopschedule', 'previouslydirected', 'prnagitation', 'prnpantoprazole', 'prnwheezing', 'promote', 'propylene', 'protocolplease', 'provera', 'pruitis', 'psych', 'psychiatric', 'ptt60', 'pull', 'pumptube', 'q1has', 'q1hour', 'q24hhold', 'q2has', 'q36h', 'q5minutes', 'q6hday', 'q6prn', 'q72hr', 'qafternoon', 'qamand', 'qamhold', 'rabeprazole', 'racepinephrine', 'rbc', 'recommendation', 'rectalat', 'redose', 'reduction', 'reevaluated', 'refractory', 'related', 'requirement', 'respiratorydistress', 'restrictions', 'resumed', 'revatio', 'rhamnosus', 'riluzole', 'rncoordinator', 'rns', 'rofecoxib', 'rr<9', 'rxinhalation', 'scrotal', 'seeing', 'sees', 'sendresults', 'sequels', 'shake', 'sign', 'sl.disp', 'sleeplessness', 'slurry', 'snack', 'sobrx', 'sodiumchloride', 'softeners', 'somnolent', 'sooner', 'soy', 'spironolacton', 'spraysnasal', 'sputum', 'sq241', 'startdate', 'stasis', 'steady', 'stridor', 'stripsdispense', 'studies', 'style', 'sulfacetamide', 'summary', 'supervision', 'swab', 'syringerefills', 'sys', 't3', 'tablespoons', 'tabletsdaily', 'tabletsfor', 'tabsdaily', 'take4', 'taketwo', 'tbsp', 'tegretol', 'temodar', 'than4000', 'than4gm', 'then400', 'thenext', 'thenone', 'thera', 'therapypulmonary', 'theseresults', 'thirtysix', 'threedays', 'thrunum', 'tightness', 'tiw', 'toensure', 'toilet', 'tomonitor', 'top', 'totalbilirubin', 'tpnplease', 'transdermaldaily', 'treated', 'troughprograf', 'turning', 'u500', 'units150', 'units180', 'units220', 'units271', 'units360', 'unitsintravenous', 'univasc', 'unlessotherwise', 'urologist', 'useas', 'usualdose', 'valcyte', 'vancomycintrough', 'vancomycinvancomycin', 'variablesubcutaneous', 'vartanphone', 'vigamox', 'viokase', 'vip', 'vistaril', 'voiding', 'waf', 'weekshold', 'weeksthen', 'where', 'willbe', 'withdr', 'withthis', 'worklfts', 'workserum', 'worksodium', 'workvanco', 'x2d', 'x5days', 'xifaxan', 'youmay', 'yourappointment', 'yourdoctor.name', 'yourfollow', 'zonegran', '.capsule', '0.06', '0.09', '0.5ml', '0.77', '000', '1000mcg', '10doses', '10l', '10u.', '111', '120.disp', '128', '133.3', '14day', '150units', '156', '16:00', '1871', '1:1000', '1:15', '1:40', '1bottle', '1mth', '1qam', '2.1', '2.5ml', '2.5tablet', '20subcutaneous', '2208', '2250', '2300', '24u', '250cc', '252', '259', '282', '2liters', '3.6', '33.3', '336', '38.4', '3first', '3x14', '4.6', '400mgdaily', '40mghospital', '460', '4pills', '4units251', '5,000unit', '50tablet', '50u', '53', '5400', '55ml', '5u', '60hold', '630', '684', '6tablets', '720', '75cc', '7am', '82', '8uglucoses', '90cc', '9pm', ':3', 'acceptablesubstitute', 'accolate', 'accordingto', 'accupril', 'acidreflux', 'acne', 'adaptic', 'addendum', 'adjustcoumadin', 'affectedarea', 'affectedareas', 'aftercompleting', 'aftercompletion', 'afterlast', 'ag', 'agents', 'albuminfax', 'alcoholor', 'alcoholwhile', 'allmedications', 'alpha', 'alternative', 'amd', 'amrx', 'anakinra', 'andpotassium', 'anterior', 'antimicrobial', 'anxiety.hospital', 'appears', 'arranged', 'asindicated', 'asoutpatient', 'athome', 'atrehab', 'attachedsheet', 'autoset', 'avoidconstipation', 'bagplease', 'barrier', 'beadjusted', 'becompleted', 'beddx', 'belowfor', 'belowunits', 'benefit', 'berestarted', 'best', 'beused', 'bi', 'bidpantoprazole', 'bidtake', 'biliary', 'binder', 'biopsy', 'black', 'block', 'blocker', 'bone', 'bottom', 'bowelmovement', 'bph', 'bradycardia', 'brkfast', 'bulgar', 'buspar', 'call911.disp', 'capsulesig', 'carbohydrate', 'carcinoma', 'careful', 'carefully', 'catheterization', 'chamber', 'checkblood', 'checktrough', 'chewablename', 'choice', 'cholecystostomy', 'cirrhosis', 'clearance', 'coating', 'collect', 'communicated', 'completecourse', 'complicated', 'consistent', 'const', 'consultation', 'contactname', 'cr<2.0', 'crackers61', 'crea', 'creatine', 'critic', 'cuffplease', 'cup', 'daily16please', 'dailyas', 'dailycalcium', 'dailydocusate', 'dailyexcept', 'dailyferrous', 'dailygoal', 'dailyomeprazole', 'dailyprn', 'dailysimvastatin', 'dailyto', 'dairy', 'dark', 'day:2.5', 'day:20', 'day:200', 'day:5', 'daybefore', 'days1', 'days;then', 'dayscontinue', 'daysfirst', 'daysstart', 'daysstop', 'daystake', 'daysuntil', 'decided', 'dehydration', 'demadex', 'denies', 'des', 'desats', 'details', 'dev', 'dex', 'dexameth', 'dialysisdays', 'diffchem', 'dilated', 'directedintravenous', 'discontinuing', 'discussedwith', 'discussion', 'disks', 'division', 'dl0', 'dl4', 'dnr', 'doseafter', 'dosemay', 'doseon', 'doseshold', 'dosesrx', 'dot', 'durationrx', 'dvts', 'dyspnearx', 'dysuria', 'ecg', 'echo', 'ef', 'effects', 'emergencyroom', 'endocarditis', 'endoscopy', 'enfuvirtide', 'enulose', 'enzymes', 'epi', 'epivir', 'equipmenthospital', 'ethinyl', 'ever', 'everyfive', 'exercise', 'extubation', 'eyelid', 'falls', 'faxnumber', 'feasible', 'ferritin', 'flair', 'flakes', 'flushintravenous', 'forafib', 'forbladder', 'forblood', 'forcoumadin', 'forday', 'forgi', 'formechanical', 'forsleep', 'forteo', 'forthree', 'fortyfive', 'forwarded', 'fractures', 'fullyambulatory', 'fx', 'gastritis', 'gen', 'glucovance', 'glulisine', 'glycolax', 'gmsintravenous', 'goalnum', 'gouty', 'gramrefills', 'gtts', 'guanfacine', 'guidance', 'h20', 'hallucinations', 'havethe', 'heel', 'hewas', 'hg', 'hiss', 'hit', 'holddose', 'holdif', 'homatropine', 'hospital:1', 'hospital:6', 'hospitalx', 'hourprior', 'hr<5', 'hrinjection', 'humira', 'humulog', 'hypernatremia', 'hypothyroidism', 'hytrin', 'ibandronate', 'ifno', 'implant', 'in24hrs', 'inahler', 'inbrain', 'incontinence', 'info', 'ingestion', 'inguinal', 'inhalationprn', 'inhalationq1', 'inhalerhospital', 'inhallation', 'inhospital', 'injectionfour', 'injectionq3h', 'innolet', 'inron', 'ins', 'insominia', 'insomniarx', 'instructedby', 'insulin0', 'insulinsee', 'interferon', 'intrathecal', 'intravenous3x', 'intravenousasdir', 'intravenousq6h', 'intravenouswith', 'iodine', 'ionized', 'isnormal', 'iu', 'ivinjection', 'k<4.0', 'k<4.4', 'laceration', 'lactinex', 'lead', 'leaflets', 'leaving', 'levelfax', 'levoquin', 'levothroid', 'librium', 'like', 'liposome', 'lips', 'log', 'loss', 'lotemax', 'lotrimin', 'lovaza', 'lyte', 'macrobid', 'magox', 'managementplease', 'mch', 'mchc', 'mdon', 'mechanicalaortic', 'medicaiton', 'medically', 'medicationinsulin', 'medicationsresume', 'membrane5x', 'mevacor', 'mg<2', 'mginhalation', 'mgtablets', 'middle', 'migraines', 'milliliterrefills', 'mini', 'minimal', 'minutesbefore', 'miscellaneousqachs', 'miscellaneousthree', 'ml.disp', 'mlintramuscular', 'mlsinhalation', 'mlsinjection', 'mv', 'mwhc', 'nails', 'nameaddress', 'nametwice', 'nan', 'nasalevery', 'nearest', 'nebu', 'nebulizationinhalation', 'nectar', 'nitrogen', 'norvir', 'novalog', 'novologbs', 'nr', 'num.date', 'numcaps', 'numstop', 'nut.tx.gluc.intol', 'o2home', 'observe', 'obtained', 'om', 'on2111', 'onand', 'onc', 'onceper', 'onetime', 'onnarcotics', 'onnon', 'oob', 'ophthalmicfour', 'orderplease', 'ordrink', 'orphenadrine', 'ortho', 'orthopedic', 'outbreak', 'overloaded', 'oxygen3', 'oxygen3l', 'oxygennum', 'oxygenpt', 'painafter', 'pap', 'peninjector', 'percocets', 'perineum', 'perinsulin', 'petites', 'phenelzine', 'phenobarb', 'phonediagnosis', 'phonegoal', 'placeon', 'pleasedo', 'pleaseresume', 'pleurex', 'plug', 'poasdir', 'points', 'pomonday', 'poprn', 'poq', 'portabilitydx', 'pos', 'pouch', 'preadmissionmedication', 'preopdosing', 'prnanxiety', 'prnbreakthrough', 'prnipratropium', 'prnprotonix', 'problems', 'procainamide', 'procedures', 'prograflevel', 'prophy', 'prosthesis', 'pruritic', 'pulled', 'pulsed', 'q24hrs', 'q3hr', 'q3pm', 'q48hrs', 'q6hplease', 'q72hrs', 'q8hours', 'q8pm', 'qamrx', 'qdatorvastatin', 'qhemodialysis', 'qhour', 'qidprn', 'qidtitrate', 'qmonth', 'qsmiscellaneous', 'qt', 'quarter', 'qwednesday', 'r.', 'radial', 'radiation', 'rashapply', 'ray', 'rdw', 'rebreather', 'rectum', 'reducer', 'refills:2', 'refresh', 'rehabprovider', 'relieve', 'remaining', 'response', 'resumepreop', 'retraining', 'rheumatologist', 'rhinorrhea', 'ribbonophthalmic', 'rifabutin', 'rivaroxaban', 'rr<6', 'salinenormal', 'sametime', 'sample', 'sanctura', 'scalefingersticks', 'scalenph', 'scaleprovided', 'scrotum', 'section', 'seebelow', 'seems', 'selegiline', 'senokot', 'sensors', 'sentto', 'sets', 'shouldcontinue', 'showering', 'sig:10', 'signed', 'skelaxin', 'sma', 'solubles', 'source', 'spb', 'specifiedrefills', 'spinal', 'splints', 'sponge', 'spontaneous', 'stability', 'stagger', 'startnum', 'starttaking', 'states', 'step', 'stillhave', 'stock', 'stop.disp', 'str', 'strengthgoal', 'stripssig', 'stump', 'subcutaneousqidachs', 'subsequent', 'supple', 'supplieskangaroo', 'suppliestest', 'suresoft', 'surface', 'surfit', 'sutent', 'switched', 'sx', 'syringesinsulin', 'syringessupply', 'tabsday', 'take40', 'takein', 'tarceva', 'targets', 'teeth', 'temozolomide', 'theinr', 'then30', 'then40', 'thenswitch', 'therafter', 'therapyevaluation', 'thirtyfour', 'thisis', 'thrombosis', 'tiagabine', 'tidcheck', 'tidprn', 'tinea', 'to400', 'tobegin', 'tohospitalization', 'toinfectious', 'tolcapone', 'took', 'toonce', 'topicalevery', 'totaldose', 'tract', 'trifluoperazine', 'troc', 'tte', 'tubefeeds', 'tubehold', 'tuberefills', 'tucks', 'twodays', 'units191', 'units260', 'units350', 'units381', 'units81', 'unitsbefore', 'unitsin', 'unitsper', 'unitsqam', 'unitssubcutaneously', 'untildiscontinued', 'untilyou', 'urean', 'varenicline', 'varies', 'vasopressin', 'vein', 'vg', 'viag', 'vimpat', 'vital', 'vitc', 'vre', 'vs', 'weaned', 'weekend', 'weeksafter', 'weekslast', 'weigh', 'wheelchairplease', 'whileusing', 'withgoal', 'withmin', 'withpain', 'workast', 'workesr', 'workfor', 'workhospital', 'workicd', 'worklft', 'workliver', 'worknum', 'workthe', 'x1wk', 'xray', 'yourhome', 'yourpcp.name', 'yourprevious', 'youstill', 'zenpep', '.adhesive', '.cap', '.patient', '0.25mcg', '0.42', '0024', '05:42am', '06:15am', '09:36pm', '1,000,000', '1000cc', '100hold', '101.0', '1080', '109,000', '10please', '10uglucoses', '11.please', '114', '11days', '12,500', '125mcg', '12mcg', '1440', '148', '14d', '15,000', '150cc', '150hold', '1550', '15min', '160mmhg', '1614', '1900', '192', '1:30', '1bm', '1drop', '1gram', '1injection', '2.3', '200.disp', '200:4units', '200cc', '200daily', '200mcg', '204', '20tablet', '236', '23rx', '24,000', '240:6units', '25rx', '263', '2hr', '2hrs', '2u201', '2week', '30cc', '30each', '30mins', '350units', '35units', '371', '3liters', '3pm', '4.2', '4.8', '4000mgin', '4050', '40mg', '43', '45units', '4ml', '4rx', '4tablets', '4x4', '5.4', '500ml', '500unit', '510', '55cc', '5d', '5tablets', '5th', '5uglucoses', '6,000', '60mg', '60recheck', '60units', '617', '640', '68,000', '6tablet', '6units301', '75mcg', '76,000', '78', '8.5', '840', '89', '8units351', '9.please', '90capsule', '90s', '9:30', '9am', 'a24', 'ablation', 'abnormalities', 'abuse', 'acamprosate', 'acar', 'acetaminophenper', 'act', 'aday.date', 'adhd', 'adminster', 'aerobid', 'aerosolsig', 'affects', 'afibdose', 'afrin', 'afterhemodialysis', 'afterthat', 'afterward', 'agitated', 'agitationhold', 'agitationplease', 'alb', 'aldactazide', 'align', 'alkalinephosphatase', 'allergicreaction', 'als', 'altace', 'alteplase', 'alternatively', 'alzheimer', 'ambulance', 'ambulatingfrequently', 'amhold', 'amio', 'ampintravenous', 'amps', 'ampuleinhalation', 'andbedtime', 'andchem', 'andcreatinine', 'anddose', 'andgive', 'andhave', 'androderm', 'andsunday', 'andthursday', 'aneurysm', 'angap', 'angioedema', 'anticipate', 'anythingthat', 'aorta', 'aorticvalve', 'applications', 'applicator', 'applicators', 'appointmentwith', 'approval', 'arava', 'asabove', 'ascending', 'ascites', 'asdir8', 'aspirin325', 'associates', 'asthere', 'at4pm', 'athemodialysis', 'atyour', 'auto', 'av', 'avr.disp', 'azmacort', 'azopt', 'baby', 'bariatric', 'basedon', 'bb', 'beadministered', 'bearing', 'beddiagnosis', 'bedirectedto', 'bedtime.hospital', 'bedtime.name', 'beforebedtime', 'belowtablet', 'bentyl', 'betweennum', 'beyond', 'bidatorvastatin', 'bilat', 'bipolar', 'biscolax', 'blisters', 'bolusinitial', 'bs201', 'bs:<70', 'byhospital', 'bypass', 'cagluc', 'calorie', 'campral', 'cancause', 'cannulaconserving', 'capecitabine', 'caplets', 'carbatrol', 'carbs', 'carepatient', 'carephysician.name', 'caresaline', 'caresodium', 'carotid', 'cartridgename', 'casodex', 'catapres', 'causedrowsiness', 'causing', 'cetuximab', 'checkyour', 'chew', 'chills', 'ciclesonide', 'cleansing', 'clogging', 'closure', 'colcrys', 'colestipol', 'collection', 'colon', 'comment', 'comments', 'commodedx', 'compact', 'compatable', 'compatible', 'completedon', 'completionof', 'complx', 'concerning', 'concurrently', 'consipation', 'consta', 'constiaption', 'constipatin', 'constipationplease', 'contraceptive', 'contraindicated', 'cool', 'copper', 'cord', 'couamdin', 'cough.hospital', 'coughrx', 'courselast', 'courseon', 'covered', 'crackers71', 'crackles', 'craniotomy', 'crushand', 'crystalname', 'ctr', 'cyproheptadine', 'd5076', 'daily.name', 'daily16dose', 'dailyalbuterol', 'dailyaspirin', 'dailyatorvastatin', 'dailydiltiazem', 'dailyhome', 'dailylasix', 'dailylevothyroxine', 'dailylipitor', 'dailylisinopril', 'dailynum', 'dailyon', 'dailyoxycodone', 'dailypantoprazole', 'dailyper', 'dailyprotonix', 'dailysenna', 'dailytapered', 'dailythereafter', 'dailythiamine', 'dailywith', 'dangerous', 'dantrolene', 'darifenacin', 'darvocet', 'date:1', 'daterange1', 'day:30', 'dayon', 'dayplease', 'days.phone', 'days30', 'daysand', 'daysdisp', 'deconditioning', 'delica', 'dentist', 'depends', 'depo', 'descending', 'despite', 'dextran', 'dha', 'dialysisnurse', 'diastolic', 'difficult', 'difficultybreathing', 'dig', 'dimenhydrinate', 'dinnerrx', 'directedrx', 'directedtopical', 'discontinuetapered', 'discussing', 'discusswith', 'diseaser.n.s', 'dissection', 'dist', 'diuresed', 'dl2', 'dlnotify', 'dni', 'doanything', 'doctoron', 'documented', 'donnatal', 'dosages', 'doseadjustments', 'doseas', 'dosechanges', 'dosedaily', 'doseplease', 'doseshould', 'dosesplease', 'dosestake', 'dosesto', 'drawing', 'drawnon', 'dressingplease', 'dropped', 'dropper', 'dulera', 'duodenal', 'dyspneahold', 'e.', 'eachday', 'eachmorning', 'eachrefills', 'earlier', 'effient', 'elixer', 'emboli', 'embolus', 'enalaprilat', 'endocrinology', 'epa', 'estrace', 'etabonate', 'evenings', 'every5', 'everymon', 'exceed4', 'exenatide', 'expected', 'exsufflator', 'exudate', 'eyeirritation', 'f.disp', 'father', 'feedreplete', 'femur', 'fewer', 'fibrosis', 'firstdose', 'flu', 'fluorouracil', 'flushnormal', 'flushsodium', 'flutamide', 'folgard', 'for15', 'forhypocalcemia', 'forms', 'foroversedation', 'forprn', 'forreflux', 'forsliding', 'forte', 'fortysix', 'foryour', 'fosphenytoin', 'fourdays', 'fpr', 'functiontests', 'gammagard', 'garlic', 'gets', 'giveafter', 'glarginetake', 'glu', 'glucocard', 'glucometerdisp', 'glucometermiscellaneous', 'glucometerone', 'gluteal', 'goal2.5', 'golytely', 'got', 'gr', 'granules', 'groins', 'gttophthalmic', 'gu', 'guaiac', 'h.pylori', 'h2oexpiratory', 'hamax', 'hectorol', 'hemorrhage', 'hepatology', 'hourly', 'hours.date', 'hours.hospital', 'hr<15', 'hr<16', 'hr<55rx', 'hrstransdermal', 'hs;201', 'hshold', 'humaloghumalog', 'humalogper', 'humidifier', 'hundredtwenty', 'husk', 'hyperlipidemia', 'hypoglycemia71', 'id.disp', 'ifblood', 'ifnot', 'ifpossible', 'ifstill', 'immobile', 'impair', 'impaired', 'inaddition', 'inbetween', 'inchophthalmic', 'incisional', 'includes', 'ineach', 'inhalationq', 'inhalationtid', 'inhale', 'initiated', 'injection2x', 'injectionhs', 'inmorning', 'inplace', 'inr<2.0', 'inrbetween', 'inrresults', 'inrs', 'inside', 'insulin20', 'insulinbg', 'insuling', 'insulinglucose', 'insulinregimen', 'interaction', 'intercourse', 'interventional', 'intra', 'intramuscularprn', 'intranasal', 'intravenoushospital', 'intravenousq48h', 'intravenoustitrate', 'ipratroprium', 'isambulatory', 'isnot', 'isphone', 'itis', 'ivintravenous', 'jantoven', 'jaw', 'jevity', 'juice70', 'kaopectate', 'katarzyna', 'klebsiella', 'label', 'lancetmiscell', 'lancetsdispense', 'lantuslantus', 'ldl', 'levelplease', 'levitra', 'liberally', 'lifting', 'linecare', 'lipoic', 'liq', 'lives', 'lobe', 'loosely', 'loteprednol', 'lubiprostone', 'lue', 'lungs', 'lutein;brmvwith', 'lvef', 'm.', 'mail', 'makes', 'manner', 'marinol', 'marked', 'mayrefuse', 'mdname', 'mealsand', 'mealtime', 'measurement', 'mechanicalventilation', 'mechcanical', 'medicate', 'medicationcontinue', 'medicationhumalog', 'medicationpatient', 'medicationsyou', 'medplease', 'mellitus', 'membranehospital', 'meropenum', 'metered', 'method', 'methyldopa', 'mgcapsule', 'mgmiscellaneous', 'mgsublingual', 'mi', 'micrograms', 'mininjection', 'minutesfor', 'minutesprior', 'miscell.twice', 'miscellan', 'miscellaneousfive', 'ml.', 'mlml', 'moving', 'mssa', 'mt', 'mucosa', 'muir', 'multivit', 'mwf.disp', 'my', 'na+', 'name:1', 'name:2', 'namemd', 'nameplease', 'namerx', 'nametells', 'nano', 'nasalthree', 'nasotracheal', 'natura', 'near', 'nebulizedtreatment', 'nebullizer', 'necon', 'needed.daterange', 'neededas', 'nephrology', 'neuropathy', 'nights', 'normalized', 'notstart', 'num;take', 'num@', 'numdisk', 'numlast', 'numophthalmic', 'numpuff', 'numspray', 'numtimes', 'nutritiontubefeeding', 'o2please', 'objects', 'ofbleeding', 'ofinsulin', 'ofnum.5.disp', 'ofsurgery', 'ofwarfarin', 'oj', 'on2115', 'on2132', 'on2154', 'on2161', 'onantibiotics', 'onehalf', 'onlytake', 'onwarfarin', 'ophthalmicqhs', 'opiates', 'ordersbedtimeglargine', 'orphone', 'orthopedics', 'orwheezing.name', 'othermedications', 'othernight', 'otictwice', 'outpatientantibiotics', 'outpatientparenteral', 'overthe', 'oximetry', 'oxygensaturations', 'pacer', 'pacing', 'packetspo', 'packettransdermal', 'painnot', 'palsy', 'pancreatitis', 'partof', 'patientbecomes', 'peep', 'penicillamine', 'penile', 'penis', 'peramide', 'perhome', 'perhospital', 'perminute', 'phase', 'phone.phone', 'phoneattn', 'phosphorous', 'piccplease', 'piece', 'pilldaily', 'pillsonce', 'pktpo', 'placing', 'pleae', 'pleasedecrease', 'pleasedispense', 'pleaseincrease', 'pleasestart', 'png', 'po2', 'polycarbophil', 'ponoon', 'portal', 'portex', 'position', 'ppi', 'prempro', 'prenatal', 'printedsliding', 'prnalbuterol', 'prndisp', 'prnheartburn', 'prnline', 'prnmetoprolol', 'probiotics', 'procardia', 'proph', 'prophylactic', 'protection', 'protective', 'proximal', 'pudding', 'puffer', 'pulsedose', 'puritus', 'q12h.', 'q12hd1', 'q24hinsulin', 'q24hr', 'q2days', 'q4hhold', 'q6hstanding', 'q8h.', 'q8hd1', 'q8num', 'qdcalcium', 'qdday', 'qdlevofloxacin', 'qdmetoprolol', 'qhshumalog', 'qlunch', 'qmonwedfri', 'qpmnum', 'qshift', 'quad', 'quick', 'radiologypa', 'ranexa', 'rashrx', 'razadyne', 'rca', 'reactions', 'rectalprn', 'rectalqam', 'rectalqod', 'regime', 'release24', 'remainder', 'remicade', 'renally', 'reposition', 'requirements', 'resulting', 'resultsshould', 'resumehome', 'retention', 'reyataz', 'rheumatology', 'rhinitis', 'rhonchi', 'rle', 'robaxin', 'rr<11', 'rr<16', 'rr<17', 'rr<19', 'rufinamide', 'ruled', 'runny', 'ruq', 's.', 'salineplease', 'sao2', 'sauce', 'sbp<105', 'sbp<16', 'scale61', 'scale:0', 'scaleattached', 'scalecoverage', 'scaledisp', 'scaleinstructions', 'scop', 'scripts', 'seat', 'seeyour', 'senior', 'sensitivity', 'shell', 'shotsubcutaneous', 'simple', 'sixhours', 'slding', 'slightly', 'soap', 'solids', 'sorethroat', 'sothat', 'spacerplease', 'sparingly', 'spirometer', 'spoke', 'sqfs', 'ssinsulin', 'stabilizes', 'stalevo', 'staph', 'staples', 'startednum', 'stated', 'stimulation', 'stops', 'strattera', 'stripsuse', 'subcut', 'sublingualas', 'sublingualevery', 'sublingualprn', 'subq', 'subsalicy', 'suggest', 'suggested', 'sulf', 'supplementation', 'suppliesglucometer', 'supplieslancets', 'suppliesname', 'suppliesplease', 'suppliespump', 'supplyrefills', 'suppression', 'suppressive', 'sureclick', 'surgeryrx', 'surveillance', 'symptomatic', 'syringesdisp', 'syringesfor', 'syringesplease', 'tabfor', 'tabletsdaterange', 'tablettwice', 'tabson', 'take5', 'take6', 'takeat', 'takefor', 'takeuntil', 'takingnarcotic', 'tap', 'telephone', 'terconazole', 'thedose', 'therapycontinuous', 'therapyoxygen', 'therapyper', 'therapyphysical', 'therapyspeech', 'thesame', 'theskin', 'thetongue', 'thing', 'thirtyeight', 'thismedication.disp', 'thoracic', 'though', 'thrushswish', 'tidachs', 'tidnum', 'to1', 'toback', 'todetermine', 'toexceed', 'tohave', 'tohelp', 'toimprove', 'tomanage', 'tonum', 'toother', 'topicalasdir', 'torestart', 'tothree', 'tpntpn', 'tpnvolume', 'tracheitis', 'transfuse', 'transfusions', 'translingual', 'transport', 'trending', 'trends', 'trouble', 'troughfax', 'troughlftscbc', 'trying', 'tub', 'twiceper', 'twohundred', 'tylenoldaily', 'tylenolin', 'uf', 'unclear', 'uncontrolled', 'undergo', 'underthe', 'undertongue', 'unitoral', 'units,201', 'units300', 'units;201', 'units;fsbg', 'unitsevery', 'unitsnph', 'unitsqpm', 'unresponsive', 'untilinstructed', 'upplease', 'uptitrated', 'uptitration', 'vardenafil', 'vasotec', 'veins', 'vialrefills', 'vialsubcutaneous', 'viapeg', 'visiting', 'visual', 'vomitingrx', 'vomitting', 'vt', 'vulvar', 'wake', 'walking', 'warfarinyou', 'warm', 'watch', 'wax', 'weekafter', 'weeks.phone', 'weightsplease', 'wereprior', 'what', 'wheelchairwheelchair', 'wheezing.phone', 'wheezingfor', 'whenthe', 'wife', 'withalcohol', 'withdialysis', 'withdinner', 'witheach', 'withfurosemide', 'withother', 'withpercocet', 'withyour', 'work2171', 'workdiagnosis', 'workdigoxin', 'workdx', 'workfollow', 'working', 'workpotassium', 'workthursday', 'workto', 'worktrough', 'workyour', 'worsens', 'wrap', 'wtih', 'x24', 'x4', 'xerophthalmia', 'yo', 'youcan', 'youdrowsy', 'youexperience', 'youmust', 'yourdose', 'yourhospital', 'yourhospitalization', 'yoursliding', 'yourwarfarin', 'yousleepy', 'youwere', 'zileuton', 'zoledronic', 'zoster', '.125', '.3', '.fax', '.results', '.subcutaneous', '0.0194', '0.0375', '0.08', '0.1037', '0.24', '0.35', '0.37', '0.5tablets', '0.67', '0700', '07:00', '0units120', '0units201', '1.10', '1.13', '1.please', '10,ast', '10.5', '100.rx', '1000ml', '100hr', '100mmhg', '100or', '100please', '101f', '1050', '10:50pm', '10d', '10fax', '10hold', '10meq', '10mg][2178', '10mgdaily', '10mgdaterange', '10subcutaneous', '110.disp', '110hr', '110rx', '118ml', '11and', '120,000', '120cc', '120ml', '12:01am', '12noon', '12pm', '12subcutaneous', '13.3', '131', '13days', '1450', '14rx', '15.6', '150ml', '155', '15tablet', '15th', '16917', '16days', '16mgin', '16please', '16th', '176', '17:00', '189', '19,000', '1:20', '1b', '1day', '1inhaler', '1mg', '1mgnum', '1pm', '2,500', '2,800', '2.5l', '2.5patient', '2.9', '200mg', '200mgqd', '205.5', '2072', '2098', '2099', '20days', '20end', '22.74', '22.date', '2205', '2238', '224', '2260', '2286', '22:00', '22u', '237', '24end', '24hrx', '255', '25mcg', '26for', '26th', '26u', '28subcutaneous', '28tablet', '2am', '2bm', '2cc', '2consecutive', '2lpm', '2ns', '2num', '2rf', '2stop', '2to', '3.0dx', '3.2', '3.4', '3.7', '30please', '30seconds', '30syringe', '30th', '310', '311', '32.5', '3200', '325mg', '3301', '341', '38.0.disp', '38subcutaneous', '3bms', '3hrs', '3pills', '3rx', '3uglucoses', '400:10', '400mg', '400notify', '400u', '405', '40capsule', '40meq', '40mgonce', '40u', '4201', '4500', '45ml', '45tablet', '45u', '47.5', '4:30pm', '4bm', '4u251', '4units301', '5.please', '5000uinjection', '50mcg', '525', '560', '56tablet', '5am', '5mg', '5u201', '5weeks', '6.74', '60cc', '60packet', '6485', '69', '6pills', '6refills', '6results', '6tabs', '6u301', '6wk', '7.7', '7000', '700units', '72hours', '75ml', '77', '7923', '7please', '7uglucoses', '8281', '84.5', '84708', '8hr', '8ml', '8u.', '8weeks', '9,000', '9000', '90mcg', '958', '95rx', '9days', '9tablet', '@1400', 'a.location', 'abduction', 'ability', 'acapella', 'accompanying', 'accuzyme', 'acheive', 'achieved', 'activated', 'activatedinhalation', 'actually', 'acular', 'ad', 'adalat', 'aday.name', 'adhere', 'administerhumalog', 'administeringinsulin', 'administerthrough', 'adrenal', 'after1', 'afterdose', 'aftereach', 'afterhospital', 'afterinr', 'afteruse', 'agitationrx', 'agitiation', 'alfuzosin', 'alkaloids', 'alleviated', 'although', 'always', 'am10', 'amdose', 'amechanical', 'aminophylline', 'amlactin', 'amountof', 'amplease', 'ancef', 'and1', 'and4', 'and5', 'and6', 'anda', 'andadminister', 'andcontinue', 'andcoumadin', 'andhumalog', 'andif', 'andname', 'andqhs', 'andsend', 'andspit', 'anhour', 'anixety', 'anticoagulationpatient', 'anticoagulationplease', 'antidiabetic', 'antigen', 'antihypertensives', 'anxiety.name', 'anxious', 'appendage', 'appliances', 'approved', 'apri', 'aretaking', 'arf', 'arterial', 'asbefore', 'asdirmiscellaneous', 'asliding', 'aslong', 'aspartame', 'assessed', 'at8pm', 'atc', 'atgoal', 'attempts', 'axid', 'b.', 'b.bif', 'bagintravenous', 'balsam', 'bandages', 'bandagetopical', 'bedecreased', 'bedosed', 'bedrawn', 'bee', 'beeper', 'beevaluated', 'beforeadministering', 'beforeadmission', 'beforeand', 'beforeapplying', 'beforedinner', 'beforeor', 'beincreased', 'belladonna', 'below.name', 'belowinjection', 'bestarted', 'betablocker', 'betadine', 'betimol', 'betweendoses', 'bg251', 'bidacetaminophen', 'bidfurosemide', 'bilaterally', 'bipapnasal', 'blade', 'bo', 'bones', 'bosentan', 'bottlepo', 'bottlesrefill', 'boxesrefills', 'boxmiscell', 'boxsig', 'braceplease', 'breakthough', 'breathrx', 'brought', 'brush', 'buccalevery', 'bullets', 'burns', 'bycardiology', 'byinfectious', 'byname', 'bypcp', 'byprimary', 'bystolic', 'c.difficile', 'c.disp', 'caduet', 'calldr', 'calledto', 'callphone', 'calories', 'came', 'candidal', 'candiscontinue', 'cannot', 'cansubstitute', 'carbohydrates', 'careflush', 'careline', 'carotene', 'cases', 'cathplease', 'cbcwith', 'cerebral', 'checkfingersticks', 'checkplease', 'checksplease', 'chemical', 'chestcongestion', 'chloraseptic', 'chloroquine', 'cholangitis', 'cisatracurium', 'citrucel', 'citrus', 'clamp', 'clarify', 'clinicaleffect', 'clinician', 'clinicresults', 'clogged', 'clotting', 'cluster', 'coag', 'coli', 'collected', 'colostomy', 'comes', 'comfortable', 'commercial', 'commode1', 'commode3', 'communication', 'compared', 'completeresolution', 'compound', 'considersliding', 'constipation.disp', 'constipationpt', 'constipatoin', 'constpation', 'consulted', 'consuming', 'containers', 'containing', 'continueduntil', 'continuetaking', 'continueto', 'continuewhile', 'continuewith', 'continuouspulse', 'contstipation', 'convert', 'copaxone', 'copd.disp', 'corneal', 'cortsol', 'costipation', 'cough.date', 'coumadin1', 'coumadindose', 'courseis', 'courserx', 'cpapplease', 'cplx', 'crcl', 'creatnine', 'crystalhospital', 'cta', 'culturelle', 'cyberknife', 'cycles', 'daily.date', 'daily16coumadin', 'daily16goal', 'daily16to', 'daily3', 'dailyacetaminophen', 'dailyafter', 'dailyativan', 'dailycitalopram', 'dailydaily', 'dailydose', 'dailyhctz', 'dailyinr', 'dailymultivitamins', 'dailyplavix', 'dailypls', 'dailyresume', 'dailystandard', 'dailytake', 'dailythis', 'dailywhen', 'dasy', 'data', 'date:15', 'daterange3', 'daterange;then', 'dates', 'day2', 'day:3', 'dayalternate', 'daydaterange', 'dayof', 'days200', 'days;1', 'daysdose', 'daysgive', 'daysof', 'daysthrough', 'daysthru', 'daystotal', 'daywhile', 'dbili', 'ddd', 'death', 'debridement', 'debrox', 'decreasedose', 'decub', 'defer', 'deliberatechanges', 'demerol', 'demonstrated', 'des.disp', 'desatted', 'desaturations', 'desenex', 'desensitization', 'desiredclinical', 'desvenlafaxine', 'developed', 'develops', 'devicename', 'deviceplease', 'dextroseto', 'diarhea', 'diazoxide', 'differently', 'difficile', 'dinner70', 'dinnerhumalog', 'dinnernph', 'dinr', 'directeddaterange', 'directedmiscell', 'directedmiscellaneous', 'directedsublingual', 'dirqs', 'discs', 'dispensed', 'dispo', 'dissolved', 'distal', 'distended', 'distention', 'diuresing', 'dl10', 'dl8', 'dlnum', 'doctors.name', 'doesnot', 'domeboro', 'domperidone', 'dopamine', 'doripenem', 'dorsum', 'dose.name', 'dose2141', 'doseadjusted', 'dosefor', 'dosepacks', 'doseper', 'dosepo', 'doseson', 'dosesteroids', 'dosingbased', 'dosinggoal', 'dosingof', 'dosingper', 'dovonex', 'dp', 'dressingchange', 'dripplease', 'drivingwhile', 'dropsophthalmic', 'drugs', 'dsg', 'dueto', 'duragesic', 'duration:1', 'dypsnea', 'eachlumen', 'echocardiogram', 'echocontrast', 'effusions', 'ekgplease', 'elevate', 'elsewhere', 'emend', 'emla', 'emollient', 'empyema', 'ems.disp', 'encourage', 'encouraged', 'endnum', 'endocrine', 'endon', 'eng', 'enteral', 'entocort', 'entry', 'enzyme', 'epidural', 'epigastrium', 'epistaxis', 'epo', 'equipment1', 'ermultiphase', 'erythematous', 'esophagitis', 'esrd', 'estimated', 'eszopiclone', 'ethosuximide', 'etiology', 'evaluateand', 'eveningof', 'every1', 'everyevening', 'everythird', 'everythree', 'exacerbation', 'excede', 'exceed4gms', 'exceedmore', 'exceptwednesday', 'exit', 'experiencing', 'expressive', 'externa', 'facilityphysician', 'failed', 'fails', 'failureplease', 'fall', 'feedingtube', 'feedspeptamen', 'feedsreplete', 'femara', 'fen', 'ferrlecit', 'feverdo', 'feveror', 'find', 'fingers', 'fio2', 'fiorinal', 'fissures', 'fk', 'florinef', 'fluidoverload', 'flushper', 'folliculitis', 'follows:400', 'folow', 'for13', 'for20', 'for99', 'foradjustment', 'forback', 'forbowel', 'forbreakthrough', 'forcad.disp', 'forconst', 'fordiscomfort', 'fordosing', 'forfluid', 'forincreased', 'fork+', 'forpatient', 'forpci', 'forsbp<100', 'forstent', 'fortyfour', 'fossa', 'fragmin', 'freedom', 'fs241', 'fullstrength', 'functional', 'functioning', 'gallbladder', 'gastrocrom', 'gastroenterology', 'genital', 'geodon', 'gib', 'gilek', 'give2', 'giveat', 'giveon', 'giveper', 'givevia', 'givewith', 'glucometerdispense', 'glucometerfree', 'glucometerglucometer', 'glucometerpatient', 'glucometersig', 'glucosource', 'glycemic', 'goal50', 'goalof', 'goals', 'goes', 'goto', 'gramsrecon', 'ground', 'group', 'growth', 'guage', 'guiatuss', 'halftablet', 'handout', 'hard', 'hasresolved', 'havea', 'havebeen', 'havethis', 'headach', 'headachedo', 'headed', 'hearts', 'heldrx', 'hemaglobin', 'hematology', 'hemoptysis', 'hemorroids', 'heparindependent', 'herpes', 'hibiclens', 'hinged', 'hmb', 'holdhr', 'horus', 'hospital1', 'hospitalativan', 'hospitaldose', 'hospitalfor', 'hospitalmetoprolol', 'hospitalphone', 'hospitalprotonix', 'hospitalweek', 'hot', 'houras', 'hours.daterange', 'hours.name', 'hoursapart', 'hoursof', 'hr<17', 'hr<19', 'hr<3', 'hr<50rx', 'hr<60,sbp<100', 'hrdaterange', 'hrhold', 'hrprn', 'hsschedule', 'htn.disp', 'humolog', 'hungerhold', 'hydrin', 'hydrocerin', 'hyoscy', 'hypertensive', 'hypertensives', 'hypokalemia', 'hypovolemia', 'hypoxemia', 'ica', 'idrecommendations', 'if151', 'ifconstipated', 'ifpt', 'igg', 'ileus', 'images', 'imiquimod', 'immodium', 'impairment', 'implantation', 'improving', 'in24hours', 'inafternoon', 'inattention', 'inches', 'indefinate', 'independently', 'inducedthrombocytopenia', 'ineffective', 'infarcts', 'infected', 'infollow', 'inhalationq1h', 'inhalationsinhalation', 'inhaledinhalation', 'inhibitorunable', 'injected', 'injection1x', 'injectionas', 'injectionq2', 'injectionq48h', 'injectionqhd', 'injectionqid', 'injectionsash', 'injuryplease', 'injurysig', 'injxninjection', 'innum', 'inr.goal', 'inrand', 'inrdaily', 'inrdrawn', 'inrtheraputic', 'insomia', 'instilled', 'instructedto', 'instructionsplease', 'instructionstablets', 'instructs', 'insufficiency', 'insufflator', 'insulin121', 'insulin151', 'insulin25', 'insulin70', 'insulin;151', 'insulinas', 'insulinaspart', 'insulincheck', 'insulindose', 'insulinlispro', 'insulinpt', 'insulinresume', 'insulinsc', 'insulinsyringes', 'interacts', 'intermittent', 'intertrigo', 'intolerance', 'intravenousafter', 'intravenousas', 'intravenousprn', 'intructed', 'invanz', 'inyour', 'irrigate', 'iscomplete', 'istalol', 'itmay', 'ivpinitial', 'ivprn', 'junel', 'juven', 'kangaroo', 'kerlex', 'ketone', 'kginitial', 'kitsplease', 'l.', 'l.acidoph', 'laa', 'labsdrawn', 'labsweekly', 'lack', 'lancetslancets', 'lancetsone', 'lancetsuse', 'lat', 'late', 'lay', 'lb', 'leaves', 'legswelling', 'level.fax', 'lialda', 'lieu', 'lifelong', 'liftplease', 'lightheaded', 'lineper', 'lipids', 'lipram', 'lit', 'liverfunction', 'lle', 'look', 'lopid', 'lose', 'lost', 'lowback', 'lozengebuccal', 'luq', 'lv', 'lying', 'lyme', 'mac', 'machinary', 'machinefor', 'machineuse', 'macrodantin', 'maintainpreadmission', 'makeyou', 'managing', 'mandelate', 'markedly', 'maybe', 'maychange', 'mayneed', 'mdfax', 'mdlocation', 'mdu', 'me', 'mealsplease', 'medciation', 'medial', 'medicalattention', 'medication.name', 'medicationmaalox', 'medicationscontinue', 'medicationsinsulin', 'medicationstake', 'medicationswhile', 'meet', 'melas', 'membraneasdir', 'membranedaily', 'membranefive', 'membranefour', 'membranes', 'membranethree', 'memory', 'mephobarbital', 'mepilex', 'mepron', 'metastasis', 'methylnaltrexone', 'mets', 'mgdays', 'mgdose', 'mgof', 'mgrecon', 'mgso4', 'miacalcin', 'micardis', 'minimize', 'miscell.every', 'miscell.once', 'miscellaneousevery', 'mixed', 'mixwith', 'ml0.25', 'mliv', 'mlnormal', 'mlsmucous', 'mobic', 'mode', 'moisturize', 'mondaythrough', 'monopril', 'monthrefill', 'mos+', 'mouthfour', 'mouthpain', 'mouthq4hr', 'movementsper', 'mr.', 'mr2', 'mscontin', 'msir', 'mth', 'multivitaminsnacl', 'myalgias', 'name:4', 'nameatenolol', 'nameonce', 'nameonly', 'nametablet', 'naratriptan', 'narcoticsto', 'nas', 'nasalcanula', 'nasalfour', 'nasalq2h', 'naturale', 'nausea.hospital', 'nausea.name', 'nauseahold', 'nebivolol', 'nebule', 'nebulizeruse', 'necrotic', 'neededfirst', 'needledispense', 'needto', 'nepafenac', 'nephrostomy', 'nerve', 'neuralgia', 'neurologically', 'neutral', 'neutropenia', 'nevanac', 'ng.disp', 'nitrolingual', 'nizoral', 'no.10', 'noacceptable', 'nocoumadin', 'nocturnal', 'norelief', 'norflex', 'noscript', 'notdrink', 'nothing151', 'notifymd', 'notrelieved', 'notresolve', 'notstop', 'ntg', 'num10', 'num2', 'num;then', 'numadjust', 'numamp', 'numbowel', 'numdays', 'numinhalations', 'numtapered', 'numweeks', 'nutritiontube', 'o22', 'oa', 'obese', 'occurs', 'ofchest', 'officeat', 'ofhospital', 'oflevofloxacin', 'ofprednisone', 'often', 'oftherapy', 'oftreatment', 'ofunknown', 'on,12', 'on2113', 'on2124', 'on2134', 'on2149', 'on2169', 'on2185', 'onamiodarone', 'ondialysis', 'one2.5', 'one200', 'oneand', 'onetab', 'oneyear', 'onfor', 'onformulary', 'onhold', 'onhospital', 'only.disp', 'only;all', 'onmechanical', 'onsliding', 'onsteroids', 'onto', 'onward', 'onyour', 'oozing', 'ophtho', 'opioid', 'opth', 'oragitation', 'oralhospital', 'orbreathlessness', 'orconfused', 'ordriving', 'ordyspnea', 'ormore', 'orrespiratory', 'orrr', 'orshortness', 'oruntil', 'orvomiting', 'osh', 'osteomyelitis', 'otherantibiotics', 'otherplease', 'otherwisedirected', 'oticthree', 'otitis', 'our', 'oversedated', 'oximeter', 'oxygen2liters', 'oxygendiagnosis', 'oxygenfor', 'oxygennasal', 'oxygenoxygen1', 'oxygentitrate', 'oxygenvia', 'oyster', 'oz.61', 'p.o', 'packages', 'packetpacket', 'paged', 'pain2152', 'painapply', 'paindecreases', 'pair', 'paliperidone', 'palliative', 'pancreatic', 'paper', 'parameters', 'passes', 'passy', 'pasv', 'patch.disp', 'pathology', 'patientambulating', 'pcpfor', 'pcpsubcutaneous', 'pd', 'pelvis', 'pentosan', 'percocetcolace', 'percutaneous', 'perfacility', 'performactivities', 'pergt', 'periodically', 'peritonitis', 'periwound', 'perle', 'peryour', 'petroleum', 'pfts', 'pg', 'pharmacist', 'phonedx', 'phoneicd9', 'phonenumber', 'phosp', 'phospha', 'physicaltherapy', 'physicians', 'picc.disp', 'piccheparin', 'piggybackintravenous', 'piggybacks', 'pillevery', 'pillsfor', 'pilltwice', 'pink', 'pkg', 'plain', 'plaque', 'plastic', 'pleasealternate', 'pleasecontact', 'pleasecrush', 'pleased', 'pleasediscuss', 'pleasenote', 'pleaseplace', 'pleaseprovide', 'pleasesee', 'pleasewear', 'plenty', 'pneumoboots', 'polysulfate', 'poq1hour', 'poq2', 'poq24h', 'poq6', 'poqdaily', 'poqod', 'portabilitydiagnosis', 'posee', 'postoperative', 'potential', 'precose', 'prednisoneprednisone', 'premedicate', 'premix', 'preparation', 'presumed', 'preventbronchospasm', 'pristiq', 'prnacetaminophen', 'prnaspirin', 'prndocusate', 'prndyspnea', 'prnif', 'prnnausea', 'prnprn', 'probable', 'probably', 'procanbid', 'process', 'processed', 'program', 'prolongation', 'prophalaxis', 'protopic', 'provider;target', 'psoriatic', 'psychiatrist', 'pud', 'pulses', 'pumpinsulin', 'pumpplease', 'pumpsubcutaneous', 'pvd.disp', 'q10pm', 'q12h.disp', 'q12hcontinue', 'q15minutes', 'q1600', 'q1700', 'q1pm', 'q24h.', 'q30min', 'q3hours', 'q3weeks', 'q4hprn', 'q4hrx', 'q4prn', 'q5am', 'q6am', 'q6hglucose', 'q6hhumalogglucose', 'q6hregular', 'q6hrprn', 'q8hd', 'q8hlast', 'q8htake', 'qac.disp', 'qam28', 'qd2148', 'qdasa', 'qdaspirin', 'qdfolic', 'qdfor', 'qdheparin', 'qdinsulin', 'qdisp', 'qdpantoprazole', 'qduntil', 'qevening', 'qhshold', 'qid.disp', 'qidachsrx', 'qidinsulin', 'qidpchs', 'qidplease', 'qpmdaterange', 'qsaturday', 'qsinjection', 'qssubcutaneous', 'qsx1', 'qtprolongation', 'qtuthur', 'r.ns.at', 'r1000', 'radiology', 'radiologyplease', 'rales', 'rass', 'rate:10', 'rates', 'ready', \"rec'ing\", 'records', 'recovery', 'rectaltid', 'recurrence', 'referral', 'refuserx', 'refuses', 'regimeninsulin', 'regions', 'regularsliding', 'rehabilitationplease', 'rehabprovider;target', 'rel.30', 'release24hr', 'reliever', 'removalplease', 'renalfunction', 'repeatonce', 'repleted', 'repositioning', 'requests', 'requirments', 'resection', 'reservoir', 'respiratorydepression', 'resultscalled', 'resultto', 'retention,24', 'ribfractures', 'rice', 'rls', 'road', 'rocaltrol', 'roho', 'rom', 'rosacea', 'rose', 'routinely', 'rozerem', 'rr<4', 'rrr', 'runs', 's.therm;brlactobacillus', 'sacrum', 'sali', 'saphenous', 'says', 'sbp<100mmhg', 'sbp<12', 'sbp<130', 'scalebefore', 'scalebelow', 'scalefinger', 'scalefor', 'scalefour', 'scalewhile', 'schedulebelow', 'sclae', 'scsliding', 'scsubcutaneous', 'seborrheic', 'secretionsrx', 'sedative', 'sedatives', 'separated', 'sepsis', 'serial', 'seventyfive', 'sever', 'shakes', 'sharps', 'shewas', 'shouldnot', 'shown', 'sig:3', 'sips', 'sister', 'siteinfection', 'sleepiness', 'smart', 'smear', 'soa', 'soda', 'softner', 'solninhalation', 'solnsinjection', 'solu', 'solutionname', 'soma', 'sometime', 'sonata', 'soreness', 'soy;brnut.tx.glucoseintolerance', 'sp', 'sparing', 'spasmhold', 'speaking', 'specialist', 'spectravite', 'spot', 'sq261', 'sqsubcutaneous', 'squirts', 'starch', 'starlix', 'stemi', 'sting', 'stips', 'stocking', 'stomachupset', 'stooling', 'stopthis', 'stopwhen', 'straining', 'strength;goal', 'strengthening', 'stripsdisp', 'subcutaneousinjection', 'subcutaneoussliding', 'subhepatic', 'suboxone', 'subsides', 'successful', 'suctions', 'sulfa', 'sulfide', 'sundaynum', 'sundowning', 'superficial', 'supplies1', 'suppliessupply', 'supplysubcutaneous', 'suppositorysrectal', 'suspected', 'suspensionhospital', 'svc', 'synringes', 'syringeintravenous', 'syringeplease', 'syringesdispense', 'sz', 'tabletevery', 'tabletfor', 'tabletsin', 'tabsdaterange', 'tabsin', 'tabspo', 'tacro', 'take10', 'take200', 'takeanother', 'takedaily', 'takeevery', 'takehalf', 'takenum', 'takeup', 'takewhile', 'takeyour', 'takingpercocet', 'talking', 'taperplease', 'tb', 'tbi', 'teaspoonspo', 'tele', 'telmisartan', 'terbutaline', 'term', 'tested', 'testim', 'tfts', 'thalidomide', 'than6', 'thankyou', 'theafternoon', 'thecoumadin', 'theday', 'theemergency', 'theinfectious', 'then10', 'then5', 'thenoff', 'thenon', 'therapeuticinr', 'therapeuticon', 'therapies', 'therapuetic', 'therapy2', 'therapycbc', 'therapycognitive', 'therapyeval', 'therapyhospital', 'therapyo2', 'therapyright', 'thereare', 'therepeutic', 'theresult', 'thesliding', 'thinning', 'thioridazine', 'thiosulfate', 'thoroughly', 'thought', 'throatpain', 'thrombocytopenia', 'through2152', 'thursdaycbc', 'thursdayfax', 'thus', 'tibc', 'tiddisp', 'tiddo', 'tiddocusate', 'tidlansoprazole', 'tidlorazepam', 'tidstart', 'tidto', 'tidvancomycin', 'timeof', 'timoptic', 'tinged', 'titradose', 'tmp', 'to60', 'tobaseline', 'tocheck', 'tocoumadin', 'toeach', 'tofax', 'tohemodialysis', 'tokeep', 'tolmetin', 'tolvaptan', 'tomeals', 'toon', 'toone', 'tooth', 'topicalapplication', 'toptt', 'toradol', 'torso', 'totaldaily', 'toward', 'toxicity', 'toxin', 'tpnsee', 'tracheoplasty', 'trade', 'transitioning', 'transportationplease', 'trauma', 'treating', 'tremor', 'tremors', 'trend', 'trended', 'trial', 'trialplease', 'trifluridine', 'triple', 'trizivir', 'tropicamide', 'troughplease', 'troughresults', 'trusopt', 'tsps', 'tts', 'ttss', 'tuesdayand', 'tumorclinic', 'tunnel', 'tyelenol', 'tylenolper', 'u251', 'u301', 'u351', 'uafax', 'ud', 'ulceration', 'ulcerative', 'uloric', 'ultimately', 'ultra1', 'ultrasound', 'underneath', 'underwent', 'units,161', 'units,250', 'units,300', 'units100', 'units111', 'units140', 'units231', 'units91', 'units;161', 'units;200', 'units;241', 'unitsfsbg', 'unitsif', 'unitsof', 'unitssc', 'unrelieved', 'unsure', 'untiladvised', 'untilcoumadin', 'untilstable', 'untilstopped', 'urgent', 'urojet', 'urosepsis', 'us', 'usage', 'useonly', 'uses', 'vaginaltwice', 'vancomycinlevel', 'varied', 'varying', 'vascular', 'vaseline', 'ventilated', 'video', 'view', 'vitron', 'wasnum', 'wasstarted', 'watery', 'way', 'wbat', 'weaning', 'wearing', 'wedfri', 'wednesdaynum', 'week200', 'weeklyfax', 'weeklyplease', 'weekon', 'weeks.date', 'weekstarting', 'weekthen', 'weekuntil', 'weightbased', 'weightincreases', 'wends', 'werepreviously', 'wheelchairdx', 'wheelchairstandard', 'wheelchairwith', 'wheezealbuterol', 'wheezerx', 'wheezing.date', 'wheezing.disp', 'wheezing.name', 'whentaking', 'whenyou', 'willcall', 'willlikely', 'willneed', 'willtolerate', 'wires', 'withambulation', 'withany', 'withcoumadin', 'withdifferential', 'withhemodialysis', 'withinfectious', 'withlast', 'withname', 'withnormal', 'withtylenol', 'workbmp', 'workfriday', 'workfull', 'worklaboratory', 'worknext', 'workpleae', 'workq', 'workqweekly', 'worksafety', 'worksheet', 'worksma7', 'workstanding', 'worktacrolimus', 'worktsh', 'woundcare', 'x1week', 'x3d', 'x8', 'xa', 'xenaderm', 'xibrom', 'xl.disp', 'xolair', 'years', 'youfeel', 'youneed', 'yourequire', 'yourneurologist', 'yourphysician', 'yousee', 'youtake', 'zegerid', 'zelnorm', 'zithromax', 'znox', 'zolmitriptan', 'zometa', 'zyflo', 'zyvox', \"'ve\", ',glucose', '.....', '.18', '.215', '.35', '.5cc', '.atorvastatin', '.bisacodyl', '.cholecalciferol', '.digoxin', '.dispense', '.donepezil', '.fluticasone', '.for', '.multivitamin', '.num', '.olanzapine', '.pantoprazole', '.rx', '.senna', '.the', '.then', '0.045', '0.075', '0.14', '0.1875', '0.25ml', '0.2mg', '0.2ml', '0.30', '0.38', '0.4mlsubcutaneous', '0.50', '0.5cap', '0.5tab', '0.7ml', '0.98', '0000', '0059', '0121', '0201', '03', '030', '05:12am', '07:35am', '09', '09:00', '0kpo4', '0units141', '0units161', '1,100,000', '1,600', '1.12', '1.12174', '1.12to', '1.26', '1.80', '10.0', '10.8', '10.daterange', '100,pulse', '1000units', '100crush', '100million', '100tablet', '1017', '101f.disp', '1023', '10321', '10368', '106', '10687', '108047', '109457', '10:00', '10a', '10and', '10cagluc', '10day', '10mg', '10results', '10transdermal', '10u.name', '10uglucose', '10unitsscbs', '11.25', '1120', '113', '11rx', '11then', '12.5mgdaterange', '12.6', '12.please', '12201', '12241', '12361', '124', '125cc', '12hour', '12hrsig', '12hrson', '12hsulfameth', '12l', '12last', '12please', '12uglucose', '12unitsscbs', '13.5', '130.disp', '1300.please', '13072', '133', '14,phone', '1411', '14261', '143', '144lbs', '146', '1468', '147', '14please', '14then', '14uglucoses', '14unitssc', '15.5', '15.date', '1500cc', '1502', '150=2u151', '150mcg', '150please', '1514', '154', '1543', '158.8', '15gm', '15mg][2178', '15mgdaterange', '15rx', '16,9', '16.8', '160:4units', '1650', '16501', '167', '1680', '16:40mg,2027', '16uglucoses', '17,num', '1700units', '17451', '177', '17gram', '17u', '17units', '185', '18595', '187', '188mcg', '18for', '18hrs', '18results', '18u301', '1900prochlorperazine', '19251', '193', '1:00pm', '1:1', '1:14', '1:30pm', '1=2101', '1=2124', '1a', '1if', '1kit', '1mgm', '1mgon', '1no', '1patch', '1subcutaneous', '1syringe', '2.5check', '2.5inr', '2.5please', '2.5pt', '2.5received', '2.5rx', '2.5take', '2.7', '2.8', '20.30', '200,and', '200:4unitsac', '200:6units', '200=2', '200=4u201', '200give', '200mgm', '200mgpo', '200mgqd.disp', '200mgtablets', '200ml', '200qd', '2051', '20840', '2097', '20diagnosis', '20fax', '20for', '20mgday', '20mgfrom', '20qd', '20results', '211', '212', '21and', '21stop', '22.5', '22.please', '2222174', '223', '225mcg', '2330', '23results', '240:8units', '24hlast', '24hours.disp', '24hrname', '24last', '24tablet', '24weeks', '25.please', '250.00', '250.00.disp', '250.disp', '250=', '250=6u251', '250mcg', '25410', '25412', '25gx1', '25mgtablet', '26.please', '260:6units', '264', '27,then', '272', '2788', '27last', '28.5', '28.please', '280:10units', '280:8unitsac', '285.9', '28and', '28day', '28results', '290', '291', '29197', '296', '29end', '2:00', '2:00pm', '2amp', '2b', '2bms', '2day', '2end', '2gram', '2hour', '2last', '2lbs', '2mgalternating', '2mgdaily', '2mgnum', '2min', '2ndary', '2nddose', '2puffs', '2soft', '2uglucose', '2units161', '2units251', '2unitsbs', '2weeks.hospital', '2xweek', '3,treat', '3.0check', '3.0hospital', '3.0please', '3.0tablets', '3.25', '3.3', '3.375', '3.5dx', '3.5for', '3.5results', '3.8', '3.9', '30,phone', '30.please', '300,8', '300:8units', '30doses', '30fax', '30mlrefills', '30not', '30qd', '30transdermal', '312', '31217', '31last', '31tablet', '31x', '32units', '3360', '350=', '350=10u.', '35u', '36units', '3750', '37mcg', '38.3c', '3862', '390', '3day', '3daysthen', '3gm', '3has', '3hr', '3lnc', '3mgnum', '3mgq6hrs', '3take', '3then', '3u151', '3units201', '4.3', '4.4', '4.fax', '4.rx', '40.7', '4000mgacetaminophen', '4000mgof', '400=', '400mgintravenous', '400mgonce', '40mgsubcutaneous', '40ml', '40qd', '4161', '4200', '425', '427.3', '42tablet', '4301', '4400', '44tablet', '44units', '453', '45cc', '470', '475', '4800', '480ml', '48hrtransdermal', '497', '4end', '4gmapap', '4gof', '4has', '4hprn', '4mgon', '4please', '4pmplease', '4puffs', '4s', '4u201', '5,000,000', '5,000units', '5.1', '5.25', '5.6', '5.62138', '500.disp', '5000unity', '5050', '50mg', '50rx', '535', '5500', '556', '5600', '584.9', '5:30am', '5doses', '5end', '5for', '5mg2185', '5mg][2178', '5mgdaily', '5mgdaterange', '5mls', '6,000,000', '6.125', '6.3', '6.6', '600cc', '60mg,11', '60subcutaneous', '60u', '6181', '6241', '6415', '648', '650mgm', '660', '6:00', '6:30am', '6insulin', '6minutes', '6phone', '6rx', '6to', '6u151', '6u241', '6u251', '6u281', '6uglucose', '6units351', '7,calcium', '7.5mgdaterange', '7.fax', '7.please', '70cc', '70u', '71.5', '7200', '72hrstransdermal', '73', '730', '750mg', '75u', '77411', '77412', '77413', '788', '79', '7:30pm', '7day', '7mgpatch', '7subcutaneous', '7then', '7u', '7u281', '8.4', '800units', '809', '80cc', '80ml', '80s', '83.1', '8400', '8728', '8805', '88633', '88634', '8:00', '8:00am', '8e', '8h.', '8hd1', '8hhold', '8hrx', '8please', '8subcutaneous', '8tablet', '8th', '8u201', '8u301', '8u321', '8u351', '8uglucose', '8wk', '8wks', '9.0', '90,contact', '90hold', '90refills', '911if', '92%.disp', '935', '97.2', '975', '9please', '9u361', '9uglucoses', '@phone', 'a&d', 'a1c', 'ab', 'abddiscomfort', 'abdominalcramping', 'abdpain', 'abhr', 'abiraterone', 'abnormality', 'abrasion', 'absolute', 'absolutely', 'absorb', 'accepting', 'accessory', 'accucheck', 'accurately', 'acei', 'acetamenophen', 'acknowledged', 'acknowledges', 'actiq', 'activation', 'acudial', 'additions', 'adherent', 'adhesivepatch', 'adisp', 'adjustaccording', 'adjustas', 'adjustedaccordingly', 'adjustedby', 'adjustement', 'adjustingheparin', 'adjusts', 'adjustvancomycin', 'adjustyour', 'administer500', 'administeraccording', 'administerinsulin', 'administersubcutaneously', 'adn', 'adose', 'adverse', 'aerosolinhalation', 'afebrile', 'affectsyou', 'afibdr', 'afibinr', 'afibrx', 'afibtarget', 'after2', 'afterantibiotics', 'afterdaily', 'afterdinner', 'afterhd', 'aftermeropenem', 'afteryour', 'agency', 'aggressively', 'agitaiton', 'agitationdispense', 'agoal', 'ahalf', 'aids', 'aim', 'airwaysecretions', 'albendazole', 'aleve', 'algorithm', 'alkalosis', 'alkp', 'allergist', 'allevyn', 'allquestions', 'alrex', 'alternatewith', 'alternatingwith', 'am200', 'amand', 'amaximum', 'ambu', 'ambulatingtid', 'ameal', 'amiodaroneresults', 'amiodorone', 'amox', 'ams', 'anadditional', 'analgesic', 'analysis', 'aname', 'anaphylactic', 'anaphylacticreaction', 'anappointment', 'and10', 'and2', 'and20', 'and30', 'and40', 'and9pm', 'andalso', 'andast', 'andbefore', 'anddiscontinue', 'andevening', 'andevery', 'andextremities', 'andfamily', 'andfrequency', 'andgiven', 'andglucose', 'andhs', 'andlasix', 'andmagnesium', 'andmonitor', 'andprecautions', 'andqpm', 'andrespiratory', 'andresults', 'andsaturday', 'andstop', 'andtest', 'andthursdays', 'andtrough', 'andtuesday', 'andwas', 'anesthesia', 'anginal', 'angiogram', 'ankles', 'anothertablet', 'anoutpatient', 'anoxic', 'antibioticsplease', 'antibioticspt', 'antibiotictreatment', 'antibody', 'anticipated', 'anticoagulated', 'anticoagulationmanagement', 'anticoagulationnurses', 'antiobiotics', 'antipruritics', 'anucort', 'anxietycan', 'anxietymethylprednisolone', 'anxietyplease', 'anychanges', 'anychest', 'anydental', 'anyquestions', 'aphysician', 'apneacontinue', 'apparent', 'appearing', 'appls', 'applyfor', 'applying', 'applyover', 'apressure', 'aralast', 'arecompleted', 'aredia', 'areds', 'arixtra', 'armpain', 'armpit', 'armpits', 'aromasin', 'arrangements', 'arrest', 'art', 'arthralgias', 'asamiodarone', 'asappropriate', 'asbelow', 'asd', 'asdescribed', 'asdetermined', 'asdirdisp', 'asdirected.disp', 'asdirper', 'asfollow', 'asit', 'aslevofloxacin', 'asneeded.hospital', 'aspatient', 'aspirate', 'aspirationpneumonia', 'aspre', 'assistplease', 'associatesaddress', 'assume', 'assuming', 'assure', 'astepro', 'asthe', 'aswritten', 'asymptomatic', 'at2', 'at5am', 'at8am', 'ata', 'atbaseline', 'atdoctor', 'atend', 'atmos', 'atpressure', 'atrialfibrillationfirst', 'atsame', 'attach', 'attachedinsulin', 'attachedscale', 'attachedunits', 'attacks', 'attain', 'attatched', 'atthis', 'automated', 'automatic', 'autopsy', 'avalide', 'avandamet', 'avastin', 'aveeno', 'avelox', 'avinza', 'await', 'axillary', 'azo', 'b.hospital', 'babeseosis', 'backpack', 'backpain', 'bacterial', 'bad', 'bagrefills', 'baking', 'balancetraining', 'banding', 'bare', 'baso', 'beads', 'beats', 'becomplete', 'beconase', 'bed1', 'bedfully', 'bedindication', 'bedkinair', 'bedrest', 'bedtime.phone', 'bedtime.record', 'bedtime61', 'bedtimeaccording', 'bedtimeaspart', 'bedtimerx', 'bedtimesliding', 'beforechemotherapy', 'beforelunch', 'beforetaking', 'befully', 'behavior', 'beingheld', 'beinstructed', 'bells', 'bench', 'benefits', 'benum', 'benzos', 'beon', 'beover', 'bepurchased', 'bere', 'bereevaluated', 'bestopped', 'betapered', 'betaseron', 'between15', 'betweentabs', 'beweaned', 'bg351', 'bibasilar', 'bidatenolol', 'bidbisacodyl', 'bidcontinue', 'biddiltiazem', 'biddo', 'bidfor', 'bidgive', 'bidinsulin', 'bidlasix', 'bidlast', 'bidon', 'bidondansetron', 'bidoxycodone', 'bidpatient', 'bidphenytoin', 'bidplavix', 'bidprednisone', 'bidsertraline', 'bidto', 'bidwarfarin', 'bidx', 'bidx2dys', 'bidyou', 'big', 'bile', 'bilifax', 'biloba', 'bipapplease', 'bismol', 'bites', 'bka', 'bkfst', 'bl', 'bld', 'bldg', 'blister', 'blistered', 'bloatingrx', 'blooddrawn', 'bloodpressures', 'blue', 'bmdaily', 'bms.disp', 'bor;brglucosam', 'bos', 'bothmedications', 'bottlesrefills', 'bound', 'bowels', 'boxmiscellaneous', 'boxrefills:2', 'boxtopical', 'bp<110', 'br', 'bracelet', 'brands', 'breakfast.disp', 'breakfastaspart', 'breakfastregular', 'breakfastrx', 'breakthroughpainhold', 'breathdispense', 'breathingtreatments', 'breathrough', 'breeze', 'brkfst', 'bronch', 'bronchiectasis', 'brushing', 'bs251', 'bs351', 'btw', 'bullet', 'bunand', 'button', 'byacetaminophen', 'byophthalmologist', 'bypsych', 'cabg.disp', 'caddress', 'cadexomer', 'cafter', 'caglu', 'cagluc90', 'calc', 'calcio', 'calciumtablets', 'call911', 'callyou', 'caloric', 'cammode', 'canconsider', 'canedisp', 'canincrease', 'canisters', 'cannisters', 'cannulas', 'cannulatitrate', 'canresume', 'cansrefills', 'canuli', 'capfulpo', 'caphosol', 'capsule2172', 'capsules2172', 'carbamoxide', 'carbratio', 'card', 'cardiomyopathy', 'cardioversion', 'cards', 'careas', 'carecenter', 'carecommercial', 'carefoley', 'carehickman', 'carenormal', 'careprotocol', 'careprovider', 'caresite', 'carethoracic', 'carmol', 'carnatine', 'caror', 'carry', 'carteolol', 'cartridgehospital', 'cartridgesubcutaneous', 'cartriges', 'castor', 'cat', 'caused', 'cautiously', 'cbc.please', 'ccintramuscular', 'ccintravenous', 'ccsash', 'ccu', 'ceftin', 'cells', 'centeraddress', 'cetaphil', 'cevimeline', 'chance', 'changesadditions', 'changesplease', 'changeto', 'checkcheck', 'checkdaily', 'checkedon', 'checkon', 'checkswith', 'checkvanco', 'chemistrypanel', 'cheratussin', 'chestdiscomfort', 'chestpressure', 'chief', 'chlor', 'chlorambucil', 'chloride0.9', 'chronically', 'chronicpain', 'ci', 'cigarette', 'cigarettes', 'cimetidine', 'cinnamon', 'clarinex', 'clavicle', 'cleaned', 'cleanseall', 'cleanserdressing', 'cleocin', 'climara', 'clinc', 'clinicfor', 'clinicon', 'clinicphone', 'clips', 'close', 'closest', 'clots', 'clusters', 'cmb', 'coagulapathy', 'coat', 'coffee', 'cognition', 'coiling', 'col', 'colestid', 'collapse', 'colonoscopy', 'combined', 'combivir', 'comfortpack', 'commodediagnosis', 'commodedisp', 'commodenum', 'commodeuse', 'community', 'comode', 'comp', 'competency', 'competentmd', 'complaining', 'complains', 'complaint', 'complete.disp', 'complete10', 'complete14', 'completed2140', 'completiondate', 'compromise', 'compromised', 'comtan', 'concurrent', 'conditioning', 'condom', 'confined', 'confirmedwith', 'conj', 'conjestion', 'conjuction', 'conjunction', 'connect', 'consciousness', 'consideration', 'considering', 'consistency', 'constant', 'consti', 'constipating', 'constipation.phone', 'constipation\\\\', 'constipationif', 'constipationwhile', 'contactyour', 'contains325', 'contents', 'continously', 'continuefor', 'continueheparin', 'continueindefinitely', 'continuos', 'contraceptives', 'contrastplease', 'controlling', 'coordinate', 'coordination', 'corgard', 'corn', 'correcting', 'cotton', 'cough.name', 'coughs', 'coumadin.name', 'coumadinafter', 'coumadinas', 'coumadingoal', 'coumadininstructions', 'coumadinnum', 'coumadintherapeutic', 'counseling', 'coursefinishes', 'courseif', 'coursethrough', 'coveragebg', 'coverwith', 'cpapdx', 'crackers66', 'crani', 'crashdx', 'creatinineand', 'creatinineplease', 'crf', 'crohn', 'crp.all', 'crpall', 'crpfrequency', 'crpplease', 'cruch', 'crushin', 'crystaldate', 'cubicin', 'currentdose', 'cushionroho', 'cutter', 'cyclen', 'cycleover', 'd5081', 'da', 'daily.hospital', 'daily1', 'daily12', 'daily16inr', 'daily16start', 'daily16take', 'daily18', 'daily4', 'daily85cc', 'daily[has', 'dailyacyclovir', 'dailyadministration', 'dailyallopurinol', 'dailyatenolol', 'dailycarvedilol', 'dailycholecalciferol', 'dailyciprofloxacin', 'dailyclopidogrel', 'dailycyanocobalamin', 'dailydecrease', 'dailydigoxin', 'dailyergocalciferol', 'dailyfeet', 'dailyflush', 'dailyfurosemide', 'dailygabapentin', 'dailygive', 'dailyhaloperidol', 'dailyi', 'dailyincrease', 'dailyindefinitely', 'dailylevoxyl', 'dailylorazepam', 'dailymay', 'dailymetformin', 'dailymirtazapine', 'dailymorphine', 'dailymycophenolate', 'dailynexium', 'dailyprednisone', 'dailypt', 'dailystarting', 'dailysubcutaneous', 'dailytaper', 'dailytarget', 'dailythen', 'dailythrough', 'dailytoprol', 'dailyweights', 'dailywhile', 'damp', 'danger', 'dasatinib', 'dat', 'date2103', 'date:2', 'date:2159', 'date:2198', 'daterange2', 'daterange20', 'daterangethen', 'daughter', 'daughters', 'day.2108', 'day14', 'day2120', 'day2132', 'day30', 'day5', 'day:.disp', 'day:10', 'day:15', 'day:4', 'day:40', 'day:60', 'day:[not', 'dayafter', 'dayaspirin', 'daycall', 'daydosing', 'dayexcept', 'dayongoing', 'days,2', 'days,20', 'days.20', 'days.daterange', 'days2', 'days2152', 'days50', 'daysa', 'daysfor', 'daysimvastatin', 'daysmetoprolol', 'daysnext', 'daysstarted', 'daysstarting', 'daysswish', 'daysthen200', 'daysupply', 'daytake', 'daytime', 'dccv', 'ddavp', 'ddextrose', 'deaccess', 'decisions', 'decline', 'deemed', 'deficit', 'degenerative', 'degree', 'dehydrated', 'demonstrates', 'depend', 'depressed', 'dermatologist', 'desat', 'desaturates', 'describes', 'desogestrel', 'detailed', 'determinedby', 'devicehospital', 'devicemiscell', 'devicemiscellaneous', 'devise', 'dexa', 'dexlansoprazole', 'dfat', 'dhea', 'diagnosed', 'diagnosis2153', 'dialysate', 'dialysis.disp', 'dialysisplease', 'dialyvite', 'diaphoresis', 'diarrheal', 'diarrhearesolved', 'diarrrhea', 'diastat', 'dibucaine', 'dic', 'dietplease', 'differentialgoing', 'diffplease', 'diffuse', 'diflunisal', 'difluprednate', 'digitek', 'digoxinlevel', 'diluted', 'dinner.disp', 'dinnerand', 'dinnernum', 'dinnerregularglucose', 'dip', 'dipro', 'directed.date', 'directed:2', 'directedaccording', 'directeddispense', 'directedtablets', 'director', 'dirunits', 'discard', 'discontine', 'discontinuedby', 'discontinueheparin', 'discontinuelovenox', 'discontinuerx', 'discontinuewhen', 'discontiued', 'discus', 'discussyour', 'diseaseclinic', 'disp:30', 'dispenser', 'distances', 'distension', 'dl11', 'dl14', 'dl5', 'dl6', 'dm.disp', \"doctor'srecommendation\", 'doctor51', 'doctorplease', 'document', 'docusil', 'dornase', 'dose1', 'dose2103', 'dose2105', 'dose25', 'doseaccording', 'doseage', 'dosebased', 'dosebreakfast', 'dosecomplete', 'dosecompleted', 'dosefingerstick', 'dosefinished', 'dosegiven', 'dosehold', 'doselasix', 'dosenph', 'doseophthalmic', 'doseorder', 'dosepack', 'doseportability', 'doserx', 'doses1', 'dosesafter', 'dosesdaily', 'dosesdose', 'dosesystem', 'dosetablet', 'dosetoday', 'dosevaries', 'dosewith', 'dosingadjustments', 'dosingplease', 'draining', 'drawnand', 'drawnby', 'drawnum', 'dress', 'dressingsplease', 'drg', 'drinkingalcohol', 'driveor', 'dropdaily', 'dropdrop', 'dropping', 'drydressing', 'dryeye', 'dryweight', 'duration:10', 'durationwill', 'durezol', 'duringdialysis', 'duringhemodialysis', 'duringthe', 'duty', 'dys', 'dysarthria', 'e.coli', 'ea', 'eachdialysis', 'eachnight', 'eachsyringe', 'earliest', 'ease', 'easily', 'echocardiographic', 'ecoli', 'ectopy', 'edecrin', 'efferdose', 'eg', 'eighthundred', 'ejection', 'elastic', 'electrolyteschecked', 'elevatedblood', 'embolic', 'embolismpatient', 'emptying', 'endstage', 'enemaplease', 'ent', 'ent.disp', 'enterobacter', 'entire', 'equals', 'equipmentcommode', 'equipmenthome', 'equipmentnebulizer', 'equipmentone', 'erosions', 'error', 'esbl', 'esophagoscopy', 'esp', 'est', 'estraderm', 'estring', 'estroven', 'et', 'eth', 'ethin', 'etodolac', 'etonogestrel', 'evacuation', 'evd', 'events', 'everolimus', 'everyblood', 'everym', 'everymeal', 'everynight', 'everysun', 'everyweek', 'exact', 'exactly', 'exceed2', 'exceedsix', 'exceedthree', 'excercises', 'exchanges', 'excluded', 'excoriation', 'excoriations', 'excuse', 'exercises', 'exhalation', 'existing', 'exploration', 'extending', 'extermity', 'extraction', 'extrapyramidal', 'factors', 'faint', 'famvir', 'fashion', 'fastreaction', 'fatigue', 'fbs100', 'feedingreplete', 'feedingsreplete', 'feedingstubefeeding', 'feedingtubefeeding', 'feedisosource', 'feedsand', 'feedsglucerna', 'feedsisosource', 'feedsnepro', 'feedstube', 'feellightheaded', 'feels', 'fem', 'femoral', 'fergon', 'feveralbuterol', 'fevermax', 'feverplease', 'feverrx', 'fibrillationrx', 'fibrinogen', 'fiftyfive', 'fiftytwo', 'filter', 'finally200', 'findings', 'finely', 'fingerstickblood', 'fingerstickglucose', 'fingersticks:0', 'fingerstickscheck', 'finishedwith', 'finishnum', 'finishyour', 'fiorocet', 'firstday', 'fivedays', 'fiveminutes', 'fixeddose', 'flanks', 'flares', 'flash', 'flat', 'flatus', 'flex', 'flexion', 'flintstones', 'flora', 'fluidscontinue', 'fluidsiv', 'fluoxymesterone', 'flurazepam', 'flurbiprofen', 'flush10', 'flusheach', 'flushesheparin', 'flushesnormal', 'flushesplease', 'flushessaline', 'flushplease', 'flushrx', 'focused', 'folbic', 'followingscale', 'follows:10', 'follows:8', 'followyour', 'foltx', 'food.disp', 'foodrx', 'for100', 'for17', 'for201', 'for21', 'foradditional', 'foran', 'forangina', 'foraspiration', 'forat', 'forbreathlessness', 'forconsipation', 'forconsitpation', 'forconstip', 'forconstipation.hospital', 'fordeconditioning', 'fordr', 'fordryness', 'forevaluation', 'forevery', 'forexcessive', 'forfever', 'forfs', 'forgas', 'forhome', 'forhyperkalemia', 'foritching', 'formed', 'formigraines', 'formore', 'foronce', 'forosteoporosis', 'forpotassium', 'forpulse', 'forrefills', 'forresidual', 'forrespiratory', 'forseizures', 'forsenol', 'forstomach', 'fortachycardia', 'fortreatment', 'fortrough', 'foruti', 'forwardresult', 'forweight', 'fosrenol', 'fourhours', 'fourth', 'foward', 'fraction', 'frequentfingersticks', 'fri2.5', 'fridaynum', 'fromname', 'frx', 'fs161', 'fs251', 'furtherinstructions', 'futher', 'futuresteroid', 'gained', 'gains', 'gargle', 'gaspain', 'gasrx', 'gassy', 'gave', 'gaviscon', 'gels', 'generalplease', 'genteal', 'gentleman', 'gently', 'genttrough', 'gerd.disp', 'geriatric', 'gfr', 'ggt', 'ginjection', 'ginkgo', 'give10', 'give4', 'give8', 'givedose', 'givenat', 'givenprescription', 'glargineplease', 'glc', 'glucan', 'glucocom', 'glucometerascensia', 'glucometercheck', 'glucose0', 'glucoselevel', 'glucosemonitoring', 'glucoses<120', 'glucostix', 'glyset', 'gmpo', 'gmsinjection', 'goal2.0', 'goal=', 'goal=2.5', 'goalis', 'goaway', 'gpc', 'graded', 'gradient', 'graduated', 'gramsdaily', 'gramsof', 'growing', 'gt.disp', 'guided', 'guideline', 'gurgling', 'gyn', 'h.o.', 'h.o.rx', 'h2o2', 'h2osupp', 'hallucination', 'hand.s', 'handlacerations', 'handled', 'handling', 'hap', 'happens', 'hascompleted', 'hastaken', 'haveblood', 'havecompleted', 'havenum', 'haveyou', 'hazardous', 'hb', 'hbig', 'hbv', 'hcp', 'hct%', 'hd.disp', 'hdisp', 'headace', 'headachehold', 'headahce', 'headof', 'heal', 'heals', 'hear', 'heartprotection', 'heels', 'helpwith', 'hematuria', 'hemoconcentration', 'heparindrip', 'heparinheparin', 'heparinplease', 'hepatologist', 'hepb', 'herbal', 'herceptin', 'herhematocrit', 'herpetic', 'hips', 'hisoffice', 'historydate', 'hld', 'holdcoumadin', 'holdingrx', 'holdmedication', 'holdthis', 'homediagnosis', 'homeinsulin', 'homemedications', 'hospicecare', 'hospital.phone', 'hospital2', 'hospital:0.5', 'hospital:4', 'hospital:5', 'hospitalactivated', 'hospitalactos', 'hospitalas', 'hospitalat', 'hospitalbed', 'hospitalcalcium', 'hospitalcenter', 'hospitalcitalopram', 'hospitalclonazepam', 'hospitaldaterange', 'hospitaldisp', 'hospitalhospice', 'hospitalinr', 'hospitalinsulin', 'hospitalpowder', 'hospitalsenna', 'hospitalsimvastatin', 'hospitaluntil', 'hospitalwith', 'host', 'hourafter', 'hourbefore', 'hourdisp', 'hourintravenous', 'hours.disp', 'hoursafter', 'hoursbegin', 'hoursflush', 'hoursprior', 'hoursrx', 'hoursthe', 'hoursto', 'hoursweek', 'hous', 'hr100', 'hr60', 'hr<2', 'hr<20', 'hr<60,sbp<90', 'hr<65', 'hras', 'hrphone', 'hrplease', 'hrrx', 'hrsprn', 'hs71', 'hs;161', 'hsinsulin', 'hspatient', 'hsplease', 'hstake', 'ht', 'htnhold', 'humalog81', 'humalogas', 'humalogue', 'humilin', 'hundredforty', 'hundredseventy', 'hundredthirty', 'husband', 'hydrateivf', 'hydrochlorothyazide', 'hydrofiber', 'hypercholesterolemia', 'hypglycemia', 'hypokinesis', 'hypothyroid', 'hypoventilation', 'i.e.', 'ica<1.12', 'icaps', 'icd9', 'ideal', 'identified', 'ie', 'if301', 'ifbg', 'ifcontinue', 'ifhaving', 'ifnecessary', 'ifpain', 'ifsedated', 'iftaking', 'ij', 'ill', 'impaction', 'imuran', 'in15', 'ina', 'inatrial', 'inc', 'incase', 'incisors', 'inclinic', 'includingcreatinine', 'increasedose', 'increaseto', 'increment', 'increse', 'indefinetelly', 'indefinite', 'independent', 'indeterminate', 'index', 'indocin', 'indwellingport', 'infarct', 'inflammation', 'informed', 'infusionintravenous', 'infusionplease', 'infusionrate', 'infusions', 'infusiontitrate', 'inhalationhospital', 'inhalationq6', 'inhalationq6hr', 'inhaledevery', 'inhalinhalation', 'inhibitorplease', 'inhinh', 'initiatingnmbas', 'injectionqdaily', 'injectionweekly', 'injectionwith', 'injectoin', 'injectorintramuscular', 'injectors', 'inone', 'inother', 'inpulmonary', 'inr.fax', 'inr.forward', 'inr1.5', 'inr2150', 'inr<2.5', 'inr=', 'inr=2', 'inrcheck', 'inrchecks', 'inrehab', 'inrfax', 'inrmonitoring', 'inrof', 'inrreaches', 'inrshould', 'inrto', 'insilun', 'insomnia.name', 'insomniaplease', 'inspectsite', 'inspiratorypressure', 'instillin', 'institute', 'instructedsubcutaneous', 'instructionplease', 'instructionsbelow', 'instructionsyou', 'insulin1', 'insulin10', 'insulin30', 'insulin;201', 'insulin;251', 'insulinadministration', 'insulindisp', 'insulindose0', 'insulinflowsheet', 'insulinfor', 'insulininjections', 'insulinmiscellaneous', 'insulinnovolog', 'insulinpls', 'insulinstanding', 'insulinsupply', 'insulinx', 'intakeincreases', 'intertriginous', 'intervals', 'intervention', 'intoabdomen', 'intoxication', 'intramuscularas', 'intramuscularq3months', 'intramuscularq4', 'intratracheal', 'intravaginally', 'intravenousat', 'intravenoushd', 'intravenousq24', 'intravenousq3h', 'intravenousq48', 'intron', 'inurine', 'inuse', 'involved', 'iodide', 'is2.0', 'isalso', 'isambulating', 'ischemia', 'ischemic', 'iscompleted', 'isincluded', 'ismore', 'ison', 'issedating', 'isto', 'istolerating', 'ivantibiotics', 'ivc', 'ivcefazolin', 'ivdaily', 'ivdisp', 'ivfplease', 'ivno', 'ivp', 'j.phone', 'jawwiring', 'jvd', 'k<4', 'kaolin', 'kdependent', 'keepsats', 'kepra', 'kept', 'keratoconjunctivitis', 'kgno', 'kgs', 'kiame', 'kidneyfunction', 'killers', 'kinase', 'kitchange', 'kneeamputation', 'knees', 'krill', 'l2', 'labeled', 'laboratoryblood', 'laboratoryplease', 'labored', 'labs2138', 'labsand', 'labschecked', 'lactrase', 'lancetssig', 'laparotomy', 'larger', 'largest', 'laryngoscopy', 'larynx', 'lasixplease', 'lastdate', 'lasting', 'lastinr', 'layertopical', 'leak', 'lecithin', 'leftlower', 'leftventricular', 'leiden', 'lessen', 'leukemia', 'leveland', 'levelon', 'levonorgestrel', 'lftsall', 'liberal', 'liding', 'lifetime', 'liftdisp', 'limb', 'line.name', 'liraglutide', 'listerine', 'litersmiscell', 'litersnasal', 'litersper', 'living', 'lobectomy', 'locations', 'lockoutinterval', 'longterm', 'lortab', 'loses', 'lovenoxinjections', 'lovenoxwhen', 'lowcalcium', 'lowerback', 'lozengesmucous', 'lrcontinuous', 'lsat', 'ltac', 'lubricant', 'lubrication', 'lumbar', 'lunchand', 'lunchaspart', 'lunchhold', 'lunchregular', 'lurasidone', 'lymphedema', 'lymphs', 'm10', 'ma', 'machine1', 'machinediagnosis', 'machinenebulizer', 'machinepatient', 'machinesuction', 'maintaining', 'maintenanceheparin', 'major', 'malignant', 'manages', 'manipulation', 'manometry', 'manual', 'mastocytosis', 'match', 'mavik', 'maximal', 'maximize', 'maxlimit', 'mcgintramuscular', 'mcgoral', 'mcgpatch', 'mcgs', 'mdaddress', 'mdat', 'mdbedtime', 'mdfs', 'mdfs61', 'mdiinhalation', 'mdin', 'meals.name', 'mealsas', 'mealsdisp', 'measurements', 'mechanicalvalves', 'medicaid', 'medicallynecessary.hospital', 'medicationadministration', 'medicationand', 'medicationglipizide', 'medicationmay', 'medicationon', 'medicationregular', 'medicationrestart', 'medicationscontaining', 'medicationsince', 'medicationsregular', 'medicationvitamin', 'medicationwhen', 'medicineaddress', 'medicineto', 'medictaion', 'medipore', 'medsdo', 'medsyou', 'member', 'membraneevery', 'membraneq4h', 'meningitis', 'meningoencephalitis', 'mentalstatus', 'meqs', 'metal', 'metastases', 'metermiscellaneous', 'methadonemethadone', 'methylsulfonylmethane', 'metipranolol', 'metoprololfor', 'metoprololtartrate', 'metrocream', 'metrogel', 'metroprolol', 'mg1', 'mg;day', 'mgacetaminophen', 'mgat', 'mgby', 'mgcalcium', 'mgday', 'mgin', 'mgper', 'mgqday', 'mgrectal', 'mgthree', 'mh', 'midlinedaily', 'might', 'migraineheadache', 'mililiters', 'milligram', 'milligramsmilligrams', 'millimole', 'millioncell', 'min3', 'minerals;brvit', 'minimally', 'minitran', 'minsafter', 'minutesafter', 'minutesas', 'minutesx', 'miscell.five', 'miscellaneousasdir', 'miscellaneousqidachs', 'missed', 'mitotane', 'mitralvalve', 'mixture', 'ml1', 'ml5', 'mlfrom', 'mlheparin', 'mlliquid', 'mlophthalmic', 'mlsolution', 'mlt', 'mobilized', 'moderately', 'moisten', 'moisturizing', 'molindone', 'monday.disp', 'monday2165', 'mondayresults', 'mondaywednesday', 'monitorblood', 'monitoringplease', 'monitorlevels', 'monitorplease', 'monobasic', 'monos', 'months.name', 'moretimes', 'morning25', 'morningdose', 'mother', 'mouthcare', 'mouthq4', 'mouthsores', 'mouthtid', 'mouthwashmaalox', \"mov't\", 'mra', 'mriplease', 'mrs', 'mucosal', 'mulitple', 'multaq', 'musthave', 'mycostatin', 'myfortic', 'myofascial', 'nail', 'name;target', 'nameand', 'namecan', 'namefor', 'namegoal', 'namepattern5', 'nameqachs', 'namewill', 'namewith', 'nanograms', 'napping', 'nare', 'nasalcongestion', 'nasuea', 'nauesa', 'nausea.disp', 'nauseamay', 'nauseaor', 'nauseated', 'ndl', 'nebmiscell', 'nebnebneb', 'nebulizationdate', 'nebulizationname', 'nebulizations', 'nebulizedsolution', 'nebulizor', 'nebullizerinhalation', 'necrosis', 'needa', 'needed.phone', 'neededbased', 'neededto', 'neededwhile', 'needfor', 'needlesmiscellaneous', 'needlessupply', 'needlesupply', 'neht.disp', 'neosporin', 'nephro', 'nephrocap', 'nestle', 'net', 'neurooncology', 'neuts', 'newly', 'next2', 'nextthree', 'niacinamide', 'nightand', 'nightdisp', 'nitropaste', 'nitroprusside', 'no.4', 'nobowel', 'noc', 'nodecadron', 'nonepatient', 'nonetylenol', 'noontime', 'nopericardial', 'nor', 'normalize', 'normalizes', 'normotensive', 'norpace', 'nosebleed', 'nosebleeds', 'nostil', 'nosubstitutions', 'notambulating', 'notcontinue', 'notdone', 'noteating', 'notes', 'notethat', 'notgive', 'notified', 'notoperate', 'notresolved', 'notresponding', 'novasource', 'nphplease', 'npname', 'nsaid', 'nsaids', 'nsr', 'num&num', 'num,2', 'num.1', 'num.then', 'num20', 'num4', 'num;10', 'num;2', 'num;on', 'num;please', 'num;stop', 'numappls', 'numbered', 'numberphone', 'numbness', 'numcapsules', 'numcomplete', 'numcontinue', 'numdose', 'numdoses', 'numfax', 'numfinal', 'numgoal', 'numinr', 'numml', 'numpt', 'numsubcutaneous', 'numtabs', 'numteaspoons', 'numthrough', 'numuntil', 'nunasal', 'nurseat', 'nurseonly', 'nutritionplease', 'o21', 'o23', 'o2auto', 'o2patient', 'o2requirement', 'o2saturation', 'o2saturations', 'obstruction', 'obtainrecommendations', 'occasional', 'occlusion', 'ocella', 'oddi', 'odisp', 'odor', 'of\"comfort', 'of1.5', 'of1.8', 'of14', 'of15', 'of150', 'of2', 'of2.0', 'of4', 'of5', 'ofallergic', 'ofantibiotic', 'ofapap', 'ofbreathing', 'ofdate', 'officefor', 'officeof', 'offluid', 'offtapered', 'ofheadache', 'ofhumalog', 'ofmagnesia', 'ofmedication', 'ofoxygen', 'ofr', 'ofsaturday', 'ofwater', 'omalizumab', 'omit', 'omron', 'on2102', 'on2106', 'on2116', 'on2117', 'on2118', 'on2120', 'on2128', 'on2129', 'on2146', 'on2152', 'on2153', 'on2158', 'on2159', 'on2163', 'on2165', 'on2170', 'on2171', 'on2173', 'on2175', 'on2176', 'on2181', 'on2188', 'on2191', 'on2192', 'on2193', 'on2196', 'on2202', 'oncall', 'once.hospital', 'onceinr', 'onceweekly', 'onday', 'ondays', 'onehour', 'oneinhalation', 'onemonth', 'onerefills', 'onetablets', 'onglyza', 'ongoingrx', 'onhd', 'oninsulin', 'onipratropium', 'onlovenox', 'onmondays', 'onsetof', 'onthursday', 'ontrough', 'ontues', 'opacity', 'opat', 'opening', 'operated', 'operation', 'operator', 'opht', 'ophthalmicat', 'ophthalmicprn', 'ophthalmicq2', 'ophthalmicq6h', 'ophthalmicqam', 'opschedule', 'opthalmic', 'option', 'optive', 'opweight', 'oralqd', 'oralqday', 'oralsecretions', 'orcall', 'orconsume', 'orderpatient', 'ordersbreakfastglargine', 'ordersplease', 'orderto', 'ordertubefeeding', 'ordifficulty', 'ordiscomfort', 'ordr', 'orequal', 'orfeel', 'orgreater', 'orhr', 'oriented', 'orindigestion', 'orinstruments', 'orname', 'oropharyngeal', 'oroversedated', 'orpain', 'orsedation', 'orthopedist', 'orthostatic', 'orthostatics', 'osophthalmic', 'osteo', 'osteoarthritis', 'otherhumalog', 'otheropiod', 'ouophthalmic', 'oupt', 'ouqhs', 'overgrowth', 'overlay', 'ox', 'oxandrolone', 'oximetryovernight', 'oxygen1l', 'oxygen4', 'oxygen4l', 'oxygenas', 'oxygenby', 'oxygensaturation', 'oxygensig', 'p&t', 'p.r.n', 'packed', 'packetname', 'packetphone', 'padtopical', 'paf', 'pain.phone', 'pain1', 'pain2151', 'pain2153', 'pain;fever', 'painas', 'paincontinues', 'paindx', 'painfentanyl', 'paingive', 'painif', 'painmeds', 'painmonitor', 'painolanzapine', 'painper', 'painpersists', 'painrelated', 'painswish', 'painthis', 'palpitations', 'panels', 'panic', 'parasite', 'paraspinal', 'paromomycin', 'participate', 'particularly', 'parts', 'passive', 'patchand', 'patchdaily', 'patchmorphine', 'patchpatch', 'patchper', 'patchrefills', 'patchshould', \"patient'sblood\", \"patient'sprimary\", 'patientambulatory', 'patientgains', 'patienthas', 'patientincreasingly', 'patientto', 'pci', 'pco2', \"pcp'soffice\", 'pcpand', 'pcpto', 'pearl', 'pedestrian', 'pedis', 'pellet', 'penintramuscular', 'pensubcutaneous', 'pentasa', 'peppermint', 'peppery', 'pepto', 'perdirections', 'perfingerstick', 'perforomist', 'perhd', 'perhospice', 'periarea', 'perinstructions', 'periogard', 'permanent', 'perneht', 'perng', 'perpcp', 'perrehab', 'perrl', 'persistently', 'pertransplant', 'phentermine', 'phlegm', 'phone.please', 'phone:1', 'phoneand', 'phoneattention', 'phonebuilding', 'phonecbc', 'phoned', 'phonefirst', 'phonefor', 'phonename', 'phonept', 'phophatase', 'physcian', 'physican', 'physicianabout', 'physicianname', 'physiciannum', 'physicianon', 'pick', 'pieces', 'piggybackdate', 'pill;num', 'pillon', 'pillsdaily', 'pillson', 'pin', 'pk', 'placefor', 'placeover', 'planning', 'planto', 'pleaes', 'pleaese', 'pleaseask', 'pleasecomplete', 'pleasedraw', 'pleaseflush', 'pleaseremove', 'pleaserestart', 'pleasereturn', 'pleaseverbally', 'plesae', 'pleuraleffusion', 'plshold', 'ply', 'pmd', 'pneumoniae', 'po2x', 'po7x', 'pobefore', 'poc', 'podiatry', 'poeach', 'pohourly', 'polefeeding', 'popliteal', 'poq6hours', 'poq6hrs', 'poq8', 'poqfri', 'poqidwmhs', 'poqm', 'poqsun', 'poqtues', 'possibility', 'possibly', 'postoperatively', 'potassiumrepletion', 'potentially', 'potidac', 'pound', 'pox', 'ppm', 'practiceaddress', 'prearranged', 'precautionspressure', 'precipitate', 'precision', 'pred', 'prednisone10', 'prednisonetaper', 'prefer', 'preferably', 'prefers', 'preload', 'premeals', 'prescribe', 'prescribes', 'presence', 'presentation', 'presented', 'presribed', 'pressureif', 'pressureredistribution', 'presumedpneumonia', 'presure', 'pretreatment', 'prevents', 'prevident', 'previousadmission', 'primrose', 'prinivil', 'printout', 'prn.inspect', 'prnanxietyrx', 'prnbisacodyl', 'prncolace', 'prndispense', 'prndo', 'prndressing', 'prngoal', 'prnhaloperidol', 'prnheadache', 'prnitching', 'prnlansoprazole', 'prnlevothyroxine', 'prnlimit', 'prnondansetron', 'prnoxycodone', 'prnparoxetine', 'prnphone', 'prnpicc', 'prnresults', 'prnrx', 'prnsenna', 'prnshortness', 'prnsob', 'prnswish', 'prnto', 'prntramadol', 'prntylenol', 'prnwheeze', 'prodigy', 'production', 'progesterone', 'progressive', 'promod', 'prongs', 'propecia', 'proper', 'prophylactically', 'prophylaxisfor', 'prophylaxisplease', 'prostate', 'prosthesishair', 'protocal', 'protocoldispense', 'protocolinjection', 'protocolrx', 'protocolto', 'providers', 'providertablet', 'prox', 'proxy', 'prune', 'psychosis', 'ptchest', 'pth', 'pthas', 'ptmay', 'ptt50', 'pufss', 'pullpicc', 'pulmonaryhypertension', 'pulse<17', 'pumprx', 'pureed', 'purees', 'pvi', 'q1200', 'q12hcheck', 'q12hgive', 'q12hinsulin', 'q12hor', 'q12hstart', 'q12hthru', 'q12huntil', 'q12pm', 'q16', 'q18h', 'q1hrprn', 'q1mo', 'q2000', 'q24hatorvastatin', 'q24hdocusate', 'q24hfolic', 'q24hgive', 'q24hheparin', 'q24hlevetiracetam', 'q24hmultivitamins', 'q24hnum', 'q24hours', 'q24hthru', 'q2pm', 'q30', 'q3as', 'q3months', 'q48for', 'q48hday', 'q4days', 'q4hday', 'q4hinsulin', 'q4hrsprn', 'q5mins', 'q6h.', 'q6hdo', 'q6hend', 'q6hlast', 'q6hmetoprolol', 'q6hnum', 'q6insulin', 'q7am', 'q8h.disp', 'q8hcontinue', 'q8hnum', 'q8hrs12', 'q8hthru', 'q8hto', 'q9am', 'qam12u', 'qam20', 'qam45', 'qam6', 'qam70', 'qam8', 'qamplease', 'qbedtime', 'qdatenolol', 'qddigoxin', 'qdhumalog', 'qdmetformin', 'qdomeprazole', 'qdongoing', 'qdoxycodone', 'qdphenytoin', 'qdpo', 'qdprotonix', 'qdthiamine', 'qhdfor', 'qhouras', 'qhs.please', 'qhsgive', 'qhsglucose', 'qhsprn', 'qhssodium', 'qidac', 'qidachsprn', 'qidgive', 'qidpantoprazole', 'qidsliding', 'qidswish', 'qidto', 'qidx2', 'qmo', 'qmwfsun', 'qpc2h', 'qpm;on', 'qpmat', 'qpmhold', 'qpmrx', 'qpmsubcutaneous', 'qsdiagnosis', 'qsqidno', 'qsu', 'qthurs', 'qthursday', 'qtthsasu', 'qtu', 'qtuthsasu', 'quality', 'quit', 'quite', 'r.address', 'radiologycardiac', 'radiologyct', 'raised', 'rasagiline', 'rate:35', 'rate:40', 'rate:50ml', 'rate:60', 'rategoal', 'rating', 'rayplease', 'rd', 'reaching', 'reactive', 'read', 'readdressed', 'readjust', 'readjustment', 'reasonfor', 'rebound', 'recieved', 'reconstituted', 'reconstitutionhospital', 'reconstruction', 'rectalpain', 'rectalq4h', 'rectalqhs', 'recurrent', 'recurs', 'redosed', 'referto', 'refills:0', 'refused', 'regains', 'regardingcontinued', 'regardingoutpatient', 'regimen.disp', 'regranex', 'regulardose', 'regurgitationis', 'rehabfor', 'rehabphysician', 'reinstituted', 'relation', 'relayed', 'releasepo', 'relpax', 'removal.disp', 'renaldisease', 'renalduring', 'renallydose', 'renax', 'repeated', 'replaced', 'repliva', 'reports', 'representative', 'requested', 'requireconcentration', 'requirenarcotic', 'resident', 'resin', 'resistance', 'resistant', 'resloves', 'resolving', 'respirations', 'respiratoryplease', 'respond', 'responding', 'responsive', 'restartingpatient', 'restartnum', 'restated', 'resting', 'restoril', 'restpatient', 'restraints', 'restrict', 'restrictionplease', 'restsdx', \"resultsfax'd\", 'resultsneed', 'resultsplease', 'resumeafter', 'resumetaking', 'resumewhen', 'returned', 'returning', 'reults', 'revlimid', 'rf', 'rham', 'rheumatoid', 'ribbion', 'ribbon', 'riboflavin', 'ribs', 'ride', 'rightear', 'rigidity', 'rima', 'riskactivities', 'risks', 'rissinjection', 'rite', 'rlq', 'roflumilast', 'rollator', 'roomdx', 'rosecea', 'route', 'row', 'rowasa', 'rr<13', 'rr<18', 'rr<3', 'rr<7', 'rvr', 'rxn', 's.c', 's.o.p.', 'sah', 'salinesaline', 'samples', 'sashand', 'sashdisp', 'satgreater', 'savella', 'sbo', 'sbp<10', 'sbp<100,hr<60', 'sbp<110.disp', 'sbp<13', 'sbp<14', 'sbp<140', 'sbp<15', 'sbp<17', 'sbp<22', 'sbp<24', 'sbp<3', 'sbp<7', 'sbp<8', 'sbp<85', 'sbp<95rx', 'sc161', 'sc201', 'scale.name', 'scale0', 'scale1', 'scale101', 'scale200', 'scale4', 'scale51', 'scale:150', 'scale:200', 'scale:<200', 'scaleand', 'scalefs<60', 'scaleheparin', 'scalehospital', 'scalehumalogglucose', 'scaleincluded', 'scaleprinted', 'scaleprior', 'scaleq6h', 'scaleqachs', 'scalesheet', 'scaletake', 'scalewhich', 'scanct', 'scapular', 'scheduletablet', 'scipratropium', 'score', 'scored', 'scrip', 'secretion', 'sections', 'sedatedrx', 'sedatingmedications', 'seed', 'seedr', 'seeinsulin', 'seekemergency', 'seekimmediate', 'seem', 'seenby', 'seizuremedicine', 'selected', 'selsun', 'senda', 'septum', 'serotonin', 'serve', 'servicesstandard', 'servingpo', 'settingof', 'sex', 'share', 'sheetattached', 'shingles', 'shock', 'shorten', 'shovel', 'showing', 'shrinkerdx', 'sicca', 'sig:0.25', 'sig:1.25', 'sig:1000', 'sig:4,000,000', 'sig:500', 'significantconcentration', 'silvadene', 'sinusitis', 'siteevery', 'sixdays', 'sizewound', 'skinbreakdown', 'skinfolds', 'skipyour', 'sleepapnea', 'slight', 'slindingscale', 'slip', 'slliding', 'slurred', 'sma7', 'smallamount', 'smokewhile', 'smooth', 'smoothies', 'sns00525', 'soak', 'sobipratropium', 'sobwheezing', 'socks', 'soffice', 'sofsorb', 'soften', 'soles', 'solnintramuscular', 'solublespo', 'solutiondate', 'solutionhospital', 'somatropin', 'sometimes', 'soriatane', 'sort', 'sounds', 'sox', 'spaceruse', 'spasmrx', 'spasmshold', 'spasticity', 'special', 'specific', 'sphincter', 'spirit', 'spirometerplease', 'spirometryplease', 'splenectomy', 'spo', 'sponges', 'spots', 'sprayeach', 'spraysinhalation', 'spraytranslingual', 'sprinkleon', 'sprycel', 'sq210', 'sqfor', 'squamous', 'ssplease', 'stab', 'stabilize', 'stablegoal', 'stably', 'stand', 'standpoint', 'stanozolol', 'startedon', 'starts', 'statindue', 'statins', 'stick.name', 'sticksplease', 'stockingsplease', 'stoma', 'stones', 'stools.hospital', 'stoolsoftener', 'stop.name', 'stopdate', 'stopheparin', 'stopif', 'stopon', 'stoppedby', 'strengthrate', 'strep', 'streptomycin', 'strict', 'stripscheck', 'stripsglucometer', 'stripspatient', 'stripsrefills', 'stripstest', 'strokeprophylaxis', 'struck', 'stuffiness', 'stuffy', 'subclavian', 'subcutaneousachs', 'subcutaneousper', 'subcutaneousq', 'subcutaneousq12', 'subcutaneousqam.disp', 'subcutaneousqd', 'subcutaneoussubcutaneous', 'subcutaneoustid', 'sublingualonce', 'submitted', 'submucosal', 'suboptimaltechnical', 'substition', 'substitution.disp', 'suctioned', 'suctionplease', 'suctionsuction', 'sudafed', 'sufficiently', 'sugar<22', 'sugar<60', 'sugarbefore', 'sugarsdisp', 'sulfur', 'sulindac', 'sunitinib', 'sunyour', 'suppertime', 'suppl', 'supplementationplease', 'supplied', 'suppliesketostix', 'suppliesone', 'suppliestube', 'supply5', 'suppositiories', 'suregy', 'surestep', 'surgeryoffice', 'suspensionpo', 'suspensions', 'suture', 'sutures', 'svg', 'swabtopical', 'swallowrx', 'sweating', 'sweats', 'swishand', 'swollen', 'synringe', 'syringemiscell', 'syringesig', 'syrng', 'systemic', 't.bilifax', 'tabhospital', 'tableplease', 'tablespoonspo', 'tablethospital', 'tabletif', 'tabletinjection', 'tabletnum', 'tabletper', 'tablets;num', 'tabletsby', 'tabletseach', 'tabletsevery', 'tabletsper', 'tablettablet', 'tabnum', 'tabon', 'tabsevery', 'tacrolimuslevel', 'tacrolimuslevels', 'tactile', 'take1.5', 'take125', 'take20', 'take30', 'take7.5', 'takeamiodarone', 'takeaspirin', 'takebefore', 'takecolace', 'takeoff', 'takeon', 'takeonly', 'takeper', 'takethereafter', 'taketitrate', 'taketogether', 'takingdilaudid', 'takingmedication', 'takingnarcotics', 'takingoxycodone', 'takingpain', 'takingtylenol', 'takingyour', 'talkingto', 'tamponade', 'taper10', 'taper:40', 'tapereddose', 'taperingdose', 'taperweek', 'targetinr', 'taste', 'tbd', 'tbilifax', 'teach', 'teaching', 'teds', 'tee', 'telemetryplease', 'tellsyou', 'temp\\\\.', 'temps', 'tenoretic', 'tenormin', 'tentative', 'testing1', 'testingplease', 'testshould', 'teststrip', 'teststrips', 'texture', 'tft', 'thalamic', 'than2000', 'than4', 'than4,000', 'thanthree', 'thatday', 'thatrequires', 'thatshe', 'thatyour', 'theam', 'theargatroban', 'theattached', 'thecompletion', 'thediscretion', 'thefirst', 'theheparin', 'theinsulin', 'thelast', 'thelevothyroxine', 'thelovenox', 'then,2', 'then20meq', 'thename', 'thencan', 'thenchange', 'thendaily', 'thendiscontinue.name', 'thenhalf', 'thennum', 'thenqd', 'thenremove', 'thenresume', 'thenstart', 'thentwo', 'thenyou', 'theoutpatient', 'thepatients', 'thepm', 'theprednisone', 'theprotocol', 'therapeuticlevel', 'therapeuticrange', 'therapist', 'therapists', 'therapy3', 'therapyas', 'therapycardiac', 'therapycentral', 'therapyrequires', 'therapytreat', 'thereafteruntil', 'thesurgical', 'thetaper', 'thetime', 'thickness', 'thisdone', 'thishospitalization', 'thismay', 'thismed', 'thisname', 'thispatch', 'thisprescription', 'thisregimen', 'thisrx', 'thistle', 'thiswas', 'thorax', 'thousand', 'threehours', 'threepills', 'threetablets', 'throatirritation', 'throatswelling', 'thrombocytosis', 'thrombophlebitis', 'through2117', 'through2119', 'through2121', 'through2130', 'through2133', 'through2135', 'through2168', 'through2169', 'through2190', 'through4', 'throughg', 'thrus', 'thrushrx', 'thryoid', 'thtake', 'thursdayplease', 'tid1', 'tid3', 'tidacetaminophen', 'tidapply', 'tidasa', 'tidaspirin', 'tidatenolol', 'tidcoumadin', 'tidfor', 'tidmay', 'tidmetoprolol', 'tidtake', 'tidtitrate', 'tidwith', 'tidx', 'tigan', 'tight', 'til', 'timesevery', 'timesweekly', 'tingle', 'tingling', 'titer', 'titrateaccordingly', 'titratedose', 'titrating', 'tke', 'tlc', 'to2', 'to2.0', 'to2.5', 'to20', 'to2183', 'to2192', 'to3', 'to3.0', 'to5', 'toadditional', 'toadjust', 'toadministration', 'toattached', 'toavoid', 'tobra', 'tobradex', 'tobreakfast', 'tocomfort', 'tocompletion', 'tocreate', 'todayrx', 'todental', 'todiscontinue', 'todose', 'todressing', 'toend', 'toequal', 'toexert', 'tofollow', 'togiving', 'togoal', 'tohis', 'tohome', 'toinr', 'tointercourse', 'tolerable', 'tollerated', 'tomeropenem', 'tooffice', 'toorder', 'toothpaste', 'topicalas', 'toport', 'topt', 'tosbp', 'toscheduled', 'tosee', 'tosevere', 'toshoulder', 'tosoften', 'total10', 'totalcourse', 'totaldivalproex', 'totalper', 'totarget', 'tothursday', 'tovac', 'tox', 'tpnnon', 'tpnper', 'trachealstenosis', 'trachmask', 'tranplant', 'transdermally', 'transdermalq24h', 'transferrin', 'transitioned', 'transmetatarsal', 'transplantoffice', 'transverse', 'tranylcypromine', 'trastuzumab', 'treatmentfor', 'treatmentsinhalation', 'trental', 'treprostinil', 'tricep', 'tried', 'trimethobenzamide', 'tritrate', 'troches', 'troughand', 'troughfrequency', 'troughnum', 'troughon', 'troughto', 'truetrack', 'trypsin', 'tsppo', 'ttitrate', 'ttp', 'tubefeed', 'tubefeedingpromote', 'tubefeedingtubefeeding', 'tubefeedsisosource', 'tubeplease', 'tuberculosis', 'tuesdaynum', 'turbuhaler', 'tussin', 'twi', 'twitching', 'twohours', 'twotabs', 'txinhalation', 'tyenol', 'tykerb', 'tylenolrx', 'typical', 'u151', 'u201', 'ultratest', 'unableto', 'unavailable', 'uncertain', 'unchanged', 'uncomfortable', 'uncomplicated', 'underarms', 'underbreasts', 'underlying', 'unifiber', 'unitdwell', 'unithroid', 'unitintravenous', 'unitl', 'units,121', 'units,151', 'units,251', 'units.200', 'units.201', 'units0', 'units171', 'units311', 'units71', 'units;251', 'units;301', 'units;over', 'unitsmiscellaneous', 'unitssq', 'unitsunder', 'unitswhen', 'unitswith', 'unlessinstructed', 'unremarkable', 'unsuccessful', 'until2136', 'until2176', 'untilambulating', 'untilambulatory', 'untilappointment', \"untildc'd\", 'untildirected', 'untilfollowup', 'untilfurther', 'untillevel', 'untilnotified', 'untilseen', 'untilthe', 'untiltold', 'untis201', 'untissubcutaneous', 'uop', 'updates', 'upsetstomach', 'uptake', 'upward', 'urecholine', 'urinanalysis', 'urination', 'usefor', 'usewith', 'usingthe', 'usualsliding', 'utifor', 'uwith', 'v.disp', 'vacc', 'vaccuum', 'vacuum', 'vagina', 'valveand', 'valvepatient', 'valvereplacement', 'valveresults', 'vancomycinplease', 'vantin', 'variceal', 'variedunits', 'variessubcutaneous', 'vasospasm', 'vaxcel', 've', 'velcade', 'ventricle', 'vestibular', 'viactiv', 'viahospital', 'vialno', 'vianasal', 'victoza', 'visine', 'vision', 'visits', 'visitsvisit', 'vitd3', 'vomiting2153', 'vte', 'w.', 'waking', 'walkerplease', 'walkerrolling', 'warfarinplease', 'warfarintherapeutic', 'wasting', 'waterplease', 'waterrestrict', 'wedand', 'wedensday', 'wednesdayand', 'weekas', 'weekbun', 'weekdays', 'weekends', 'weekfor', 'weeklyand', 'weeklyfor', 'weeklyon', 'weekoff', 'weekrefill', 'weeksdiagnosis', 'weeksstarted', 'weightplease', 'weightsof', 'werediscussed', 'wererestarted', 'whatever', 'wheelchair1', 'wheezesrx', 'wheezing.hospital', 'wheezingplease', 'wheezng', 'whenambulating', 'whenchecking', 'whencreatinine', 'whenon', 'whento', 'whichever', 'whiledriving', 'whilenon', 'whilenonambulatory', 'whilepatient', 'whileyou', 'whilst', 'whom', 'willcause', 'willcontinue', 'willdecrease', 'willdetermine', 'willmanage', 'wipe', 'with25', 'withacetaminophen', 'withcardiologist', 'withdevice', 'withdry', 'withevery', 'withfinger', 'withfood', 'withfurther', 'withhd', 'withlunch', 'withnarcotic', 'withone', 'withpatch', 'withsliding', 'withthe', 'wnl', 'work2', 'work2101', 'work2166', 'work2204', 'workat', 'workbiweekly', 'workcomplete', 'workcreatinine', 'workcrp', 'workelectrolytes', 'workfk', 'workgoal', 'workin', 'workinrplease', 'worklabwork', 'workmonitor', 'workna', 'workonce', 'workpleaes', 'workpls', 'workptt', 'workqmonday', 'workrecheck', 'workresults', 'worksma', 'worksunday', 'worksurveillance', 'worktobramycin', 'workua', 'workurine', 'workwe', 'workwednesday', 'workwhile', 'worth', 'write', 'wwp', 'wz.disp', 'x12', 'x120', 'x24hours', 'x30', 'x3days,30', 'x7daysthen', 'xeloda', 'xrt', 'xs', 'xtra', 'yankaur', 'yearly', 'yeastinfection', 'yesterday', 'yfive', \"you'vefinished\", 'youanticipate', 'youdevelop', 'youdid', 'youfinish', 'youfollow', 'yourantibiotics', 'yourcholecystectomy', 'youregarding', 'yourfingersticks', 'yourgastroenterologist', 'yourheart', 'yourinsulin', 'youriv', 'yourlevofloxacin', 'yourneurological', 'yourphysicians', 'yourpreadmission', 'yourpulmonologist', 'yoursurgery', 'yoursystolic', 'yourtongue', 'z.', 'zaleplon', 'zeasorb', 'zebeta', 'zestoretic', 'zn', 'zonalon', 'zyban', 'zytiga', '~', '*'])\n",
            "['0', '000', '0000', '0.004', '0.005', '0.01', '0.015', '0.0194', '0.02', '0.025', '0.03', '0.0375', '0.04', '0.042', '0.045', '0.05', '0.06', '0.0625', '0.075', '0.08', '0.083', '0.09', '0.1', '0.1037', '0.12', '0.125', '0.14', '0.15', '0.1875', '0.2', '0.24', '0.25', '0.26', '0.3', '0.30', '0.35', '0.37', '0.375', '0.38', '0.4', '0.42', '0.45', '0.5', '0.50', '0.52', '0.6', '0.625', '0.63', '0.65', '0.67', '0.7', '0.75', '0.77', '0.8', '0.83', '0.9', '0.98', '1', '1.0', '1.1', '1.10', '1.12', '1.12174', '1.13', '1.2', '1.25', '1.26', '1.3', '1.4', '1.5', '1.6', '1.7', '1.745', '1.75', '1.8', '1.80', '1.9', '2', '2.0', '02', '2.1', '2.2', '2.25', '2.3', '2.4', '2.5', '2.6', '2.7', '2.8', '2.9', '3', '3.0', '03', '3.125', '3.2', '3.25', '3.3', '3.375', '3.4', '3.5', '3.6', '3.7', '3.75', '3.8', '3.9', '4', '4.0', '4.2', '4.3', '4.4', '4.5', '4.6', '4.8', '5', '5.0', '05', '5.1', '5.25', '5.4', '5.5', '5.6', '5.62138', '6', '6.125', '6.25', '6.3', '6.5', '6.6', '6.74', '7', '07', '7.5', '7.7', '7.75', '8', '08', '8.4', '8.5', '8.6', '8.8', '9', '09', '9.0', '9.5', '10', '10.0', '10.15', '10.5', '10.8', '11', '11.25', '12', '12.5', '12.6', '13', '13.3', '13.5', '14', '15', '15.5', '15.6', '16', '16.2', '16.8', '17', '17.5', '18', '19', '20', '20.3', '20.30', '21', '22', '22.5', '22.74', '23', '24', '0024', '25', '26', '26.3', '27', '28', '28.5', '29', '30', '030', '31', '32', '32.5', '33', '33.3', '34', '35', '36', '37', '37.5', '38.0', '38', '38.4', '38.5', '39', '40', '40.7', '41', '42', '42.5', '43', '44', '45', '46', '47', '47.5', '48', '49', '50', '51', '52', '53', '54', '55', '56', '56.8', '57', '58', '58.6', '59', '0059', '60', '61', '62', '62.5', '63', '64', '65', '66', '67', '68', '69', '70', '71', '71.5', '72', '73', '74', '75', '76', '77', '78', '79', '80', '81', '82', '83', '83.1', '84', '84.5', '85', '86', '87', '88', '89', '90', '91', '92', '93', '94', '95', '96', '97.2', '98', '99', '100', '100.4', '100.5', '101', '101.0', '101.4', '101.5', '102', '103', '104', '105', '106', '108', '109', '110', '111', '112', '113', '114', '115', '116', '118', '119', '120', '121', '0121', '124', '125', '126', '128', '130', '131', '132', '133', '133.3', '134', '135', '136', '137', '139', '140', '141', '142', '143', '144', '145', '146', '147', '148', '149', '150', '151', '0151', '154', '155', '156', '158.8', '159', '160', '161', '162', '165', '167', '168', '170', '175', '176', '177', '179', '180', '181', '185', '187', '189', '190', '191', '192', '193', '199', '200', '201', '0201', '204', '205.5', '210', '0210', '211', '212', '216', '219', '220', '221', '223', '224', '225', '226', '230', '236', '237', '239', '240', '241', '249', '250', '250.00', '251', '252', '255', '259', '260', '261', '262', '263', '264', '270', '272', '275', '279', '280', '281', '282', '285.9', '290', '291', '296', '299', '300', '301', '310', '311', '312', '315', '319', '320', '321', '324', '325', '330', '333', '334', '336', '340', '341', '349', '350', '351', '359', '360', '361', '370', '371', '375', '380', '389', '390', '399', '400', '401', '0403', '405', '420', '425', '427.3', '427.31', '428', '440', '450', '453', '460', '468', '470', '475', '480', '497', '500', '504', '510', '525', '535', '540', '550', '556', '560', '584.9', '600', '0600', '617', '620', '625', '630', '640', '648', '650', '660', '667', '684', '700', '0700', '718', '720', '730', '750', '766', '788', '800', '0800', '809', '840', '850', '875', '881', '900', '0900', '911', '935', '950', '958', '961', '975', '1000', '1017', '1023', '1050', '1080', '1100', '1120', '1150', '1200', '1230', '1250', '1300', '1302', '1334', '1350', '1400', '1411', '1440', '1450', '1468', '1500', '1502', '1514', '1543', '1550', '1600', '1614', '1649', '1650', '1680', '1700', '1750', '1800', '1843', '1871', '1900', '2000', '2051', '2072', '2097', '2098', '2099', '2100', '2101', '2102', '2103', '2104', '2105', '2106', '2107', '2108', '2109', '2110', '2111', '2112', '2113', '2114', '2115', '2116', '2117', '2118', '2119', '2120', '2121', '2122', '2123', '2124', '2125', '2126', '2127', '2128', '2129', '2130', '2131', '2132', '2133', '2134', '2135', '2136', '2137', '2138', '2139', '2140', '2141', '2142', '2143', '2144', '2145', '2146', '2147', '2148', '2149', '2150', '2151', '2152', '2153', '2154', '2155', '2156', '2157', '2158', '2159', '2160', '2161', '2162', '2163', '2164', '2165', '2166', '2167', '2168', '2169', '2170', '2171', '2172', '2173', '2174', '2175', '2176', '2177', '2178', '2179', '2180', '2181', '2182', '2183', '2184', '2185', '2186', '2187', '2188', '2189', '2190', '2191', '2192', '2193', '2194', '2195', '2196', '2197', '2198', '2199', '2200', '2201', '2202', '2203', '2204', '2205', '2208', '2238', '2249', '2250', '2260', '2274', '2286', '2300', '2330', '2400', '2452', '2500', '2600', '2700', '2788', '3000', '3200', '3301', '3350', '3360', '3600', '3668', '3750', '3862', '4000', '4050', '4161', '4200', '4201', '4301', '4319', '4400', '4500', '4800', '5000', '5050', '5400', '5500', '5600', '6000', '6181', '6241', '6415', '6485', '7000', '7200', '7500', '7923', '8000', '8281', '8400', '8426', '8728', '8805', '8821', '9000', '10321', '10368', '10687', '10973', '11578', '12201', '12241', '12361', '12887', '13072', '14261', '16501', '16917', '17451', '17514', '18595', '19251', '20840', '25410', '25412', '29197', '31034', '31217', '77411', '77412', '77413', '84708', '88633', '88634', '108047', '109457', '2222174']\n"
          ],
          "name": "stdout"
        }
      ]
    },
    {
      "cell_type": "code",
      "metadata": {
        "id": "NFhyK9GGRtbF",
        "colab_type": "code",
        "colab": {}
      },
      "source": [
        "stoi = {}\n",
        "stoi['<unk>'] = 0\n",
        "#for key in num_key\n",
        "for idx,key in enumerate(num_key):\n",
        "    stoi[key] = idx+1\n"
      ],
      "execution_count": 12,
      "outputs": []
    },
    {
      "cell_type": "code",
      "metadata": {
        "id": "8_jAXHreT9OB",
        "colab_type": "code",
        "colab": {}
      },
      "source": [
        "itos = {}\n",
        "itos[0] = '<unk>'\n",
        "for idx,key in enumerate(num_key):\n",
        "    itos[stoi[key]] = key\n",
        "\n"
      ],
      "execution_count": 13,
      "outputs": []
    },
    {
      "cell_type": "code",
      "metadata": {
        "id": "IvzWiIlrRZN-",
        "colab_type": "code",
        "colab": {}
      },
      "source": [
        "class Num_dict:\n",
        "    def __init__(self,stoi,itos,num_keys):\n",
        "        self.stoi=stoi\n",
        "        self.itos=itos\n",
        "        self.num_keys = num_keys"
      ],
      "execution_count": 14,
      "outputs": []
    },
    {
      "cell_type": "code",
      "metadata": {
        "id": "76OXkxnghCtK",
        "colab_type": "code",
        "colab": {
          "base_uri": "https://localhost:8080/",
          "height": 55
        },
        "outputId": "16f8ac95-cb22-4ae3-dc26-630ed77deec9"
      },
      "source": [
        "num_vocab = Num_dict(stoi,itos,num_key)\n",
        "print((num_vocab.stoi))"
      ],
      "execution_count": 15,
      "outputs": [
        {
          "output_type": "stream",
          "text": [
            "{'<unk>': 0, '0': 1, '000': 2, '0000': 3, '0.004': 4, '0.005': 5, '0.01': 6, '0.015': 7, '0.0194': 8, '0.02': 9, '0.025': 10, '0.03': 11, '0.0375': 12, '0.04': 13, '0.042': 14, '0.045': 15, '0.05': 16, '0.06': 17, '0.0625': 18, '0.075': 19, '0.08': 20, '0.083': 21, '0.09': 22, '0.1': 23, '0.1037': 24, '0.12': 25, '0.125': 26, '0.14': 27, '0.15': 28, '0.1875': 29, '0.2': 30, '0.24': 31, '0.25': 32, '0.26': 33, '0.3': 34, '0.30': 35, '0.35': 36, '0.37': 37, '0.375': 38, '0.38': 39, '0.4': 40, '0.42': 41, '0.45': 42, '0.5': 43, '0.50': 44, '0.52': 45, '0.6': 46, '0.625': 47, '0.63': 48, '0.65': 49, '0.67': 50, '0.7': 51, '0.75': 52, '0.77': 53, '0.8': 54, '0.83': 55, '0.9': 56, '0.98': 57, '1': 58, '1.0': 59, '1.1': 60, '1.10': 61, '1.12': 62, '1.12174': 63, '1.13': 64, '1.2': 65, '1.25': 66, '1.26': 67, '1.3': 68, '1.4': 69, '1.5': 70, '1.6': 71, '1.7': 72, '1.745': 73, '1.75': 74, '1.8': 75, '1.80': 76, '1.9': 77, '2': 78, '2.0': 79, '02': 80, '2.1': 81, '2.2': 82, '2.25': 83, '2.3': 84, '2.4': 85, '2.5': 86, '2.6': 87, '2.7': 88, '2.8': 89, '2.9': 90, '3': 91, '3.0': 92, '03': 93, '3.125': 94, '3.2': 95, '3.25': 96, '3.3': 97, '3.375': 98, '3.4': 99, '3.5': 100, '3.6': 101, '3.7': 102, '3.75': 103, '3.8': 104, '3.9': 105, '4': 106, '4.0': 107, '4.2': 108, '4.3': 109, '4.4': 110, '4.5': 111, '4.6': 112, '4.8': 113, '5': 114, '5.0': 115, '05': 116, '5.1': 117, '5.25': 118, '5.4': 119, '5.5': 120, '5.6': 121, '5.62138': 122, '6': 123, '6.125': 124, '6.25': 125, '6.3': 126, '6.5': 127, '6.6': 128, '6.74': 129, '7': 130, '07': 131, '7.5': 132, '7.7': 133, '7.75': 134, '8': 135, '08': 136, '8.4': 137, '8.5': 138, '8.6': 139, '8.8': 140, '9': 141, '09': 142, '9.0': 143, '9.5': 144, '10': 145, '10.0': 146, '10.15': 147, '10.5': 148, '10.8': 149, '11': 150, '11.25': 151, '12': 152, '12.5': 153, '12.6': 154, '13': 155, '13.3': 156, '13.5': 157, '14': 158, '15': 159, '15.5': 160, '15.6': 161, '16': 162, '16.2': 163, '16.8': 164, '17': 165, '17.5': 166, '18': 167, '19': 168, '20': 169, '20.3': 170, '20.30': 171, '21': 172, '22': 173, '22.5': 174, '22.74': 175, '23': 176, '24': 177, '0024': 178, '25': 179, '26': 180, '26.3': 181, '27': 182, '28': 183, '28.5': 184, '29': 185, '30': 186, '030': 187, '31': 188, '32': 189, '32.5': 190, '33': 191, '33.3': 192, '34': 193, '35': 194, '36': 195, '37': 196, '37.5': 197, '38.0': 198, '38': 199, '38.4': 200, '38.5': 201, '39': 202, '40': 203, '40.7': 204, '41': 205, '42': 206, '42.5': 207, '43': 208, '44': 209, '45': 210, '46': 211, '47': 212, '47.5': 213, '48': 214, '49': 215, '50': 216, '51': 217, '52': 218, '53': 219, '54': 220, '55': 221, '56': 222, '56.8': 223, '57': 224, '58': 225, '58.6': 226, '59': 227, '0059': 228, '60': 229, '61': 230, '62': 231, '62.5': 232, '63': 233, '64': 234, '65': 235, '66': 236, '67': 237, '68': 238, '69': 239, '70': 240, '71': 241, '71.5': 242, '72': 243, '73': 244, '74': 245, '75': 246, '76': 247, '77': 248, '78': 249, '79': 250, '80': 251, '81': 252, '82': 253, '83': 254, '83.1': 255, '84': 256, '84.5': 257, '85': 258, '86': 259, '87': 260, '88': 261, '89': 262, '90': 263, '91': 264, '92': 265, '93': 266, '94': 267, '95': 268, '96': 269, '97.2': 270, '98': 271, '99': 272, '100': 273, '100.4': 274, '100.5': 275, '101': 276, '101.0': 277, '101.4': 278, '101.5': 279, '102': 280, '103': 281, '104': 282, '105': 283, '106': 284, '108': 285, '109': 286, '110': 287, '111': 288, '112': 289, '113': 290, '114': 291, '115': 292, '116': 293, '118': 294, '119': 295, '120': 296, '121': 297, '0121': 298, '124': 299, '125': 300, '126': 301, '128': 302, '130': 303, '131': 304, '132': 305, '133': 306, '133.3': 307, '134': 308, '135': 309, '136': 310, '137': 311, '139': 312, '140': 313, '141': 314, '142': 315, '143': 316, '144': 317, '145': 318, '146': 319, '147': 320, '148': 321, '149': 322, '150': 323, '151': 324, '0151': 325, '154': 326, '155': 327, '156': 328, '158.8': 329, '159': 330, '160': 331, '161': 332, '162': 333, '165': 334, '167': 335, '168': 336, '170': 337, '175': 338, '176': 339, '177': 340, '179': 341, '180': 342, '181': 343, '185': 344, '187': 345, '189': 346, '190': 347, '191': 348, '192': 349, '193': 350, '199': 351, '200': 352, '201': 353, '0201': 354, '204': 355, '205.5': 356, '210': 357, '0210': 358, '211': 359, '212': 360, '216': 361, '219': 362, '220': 363, '221': 364, '223': 365, '224': 366, '225': 367, '226': 368, '230': 369, '236': 370, '237': 371, '239': 372, '240': 373, '241': 374, '249': 375, '250': 376, '250.00': 377, '251': 378, '252': 379, '255': 380, '259': 381, '260': 382, '261': 383, '262': 384, '263': 385, '264': 386, '270': 387, '272': 388, '275': 389, '279': 390, '280': 391, '281': 392, '282': 393, '285.9': 394, '290': 395, '291': 396, '296': 397, '299': 398, '300': 399, '301': 400, '310': 401, '311': 402, '312': 403, '315': 404, '319': 405, '320': 406, '321': 407, '324': 408, '325': 409, '330': 410, '333': 411, '334': 412, '336': 413, '340': 414, '341': 415, '349': 416, '350': 417, '351': 418, '359': 419, '360': 420, '361': 421, '370': 422, '371': 423, '375': 424, '380': 425, '389': 426, '390': 427, '399': 428, '400': 429, '401': 430, '0403': 431, '405': 432, '420': 433, '425': 434, '427.3': 435, '427.31': 436, '428': 437, '440': 438, '450': 439, '453': 440, '460': 441, '468': 442, '470': 443, '475': 444, '480': 445, '497': 446, '500': 447, '504': 448, '510': 449, '525': 450, '535': 451, '540': 452, '550': 453, '556': 454, '560': 455, '584.9': 456, '600': 457, '0600': 458, '617': 459, '620': 460, '625': 461, '630': 462, '640': 463, '648': 464, '650': 465, '660': 466, '667': 467, '684': 468, '700': 469, '0700': 470, '718': 471, '720': 472, '730': 473, '750': 474, '766': 475, '788': 476, '800': 477, '0800': 478, '809': 479, '840': 480, '850': 481, '875': 482, '881': 483, '900': 484, '0900': 485, '911': 486, '935': 487, '950': 488, '958': 489, '961': 490, '975': 491, '1000': 492, '1017': 493, '1023': 494, '1050': 495, '1080': 496, '1100': 497, '1120': 498, '1150': 499, '1200': 500, '1230': 501, '1250': 502, '1300': 503, '1302': 504, '1334': 505, '1350': 506, '1400': 507, '1411': 508, '1440': 509, '1450': 510, '1468': 511, '1500': 512, '1502': 513, '1514': 514, '1543': 515, '1550': 516, '1600': 517, '1614': 518, '1649': 519, '1650': 520, '1680': 521, '1700': 522, '1750': 523, '1800': 524, '1843': 525, '1871': 526, '1900': 527, '2000': 528, '2051': 529, '2072': 530, '2097': 531, '2098': 532, '2099': 533, '2100': 534, '2101': 535, '2102': 536, '2103': 537, '2104': 538, '2105': 539, '2106': 540, '2107': 541, '2108': 542, '2109': 543, '2110': 544, '2111': 545, '2112': 546, '2113': 547, '2114': 548, '2115': 549, '2116': 550, '2117': 551, '2118': 552, '2119': 553, '2120': 554, '2121': 555, '2122': 556, '2123': 557, '2124': 558, '2125': 559, '2126': 560, '2127': 561, '2128': 562, '2129': 563, '2130': 564, '2131': 565, '2132': 566, '2133': 567, '2134': 568, '2135': 569, '2136': 570, '2137': 571, '2138': 572, '2139': 573, '2140': 574, '2141': 575, '2142': 576, '2143': 577, '2144': 578, '2145': 579, '2146': 580, '2147': 581, '2148': 582, '2149': 583, '2150': 584, '2151': 585, '2152': 586, '2153': 587, '2154': 588, '2155': 589, '2156': 590, '2157': 591, '2158': 592, '2159': 593, '2160': 594, '2161': 595, '2162': 596, '2163': 597, '2164': 598, '2165': 599, '2166': 600, '2167': 601, '2168': 602, '2169': 603, '2170': 604, '2171': 605, '2172': 606, '2173': 607, '2174': 608, '2175': 609, '2176': 610, '2177': 611, '2178': 612, '2179': 613, '2180': 614, '2181': 615, '2182': 616, '2183': 617, '2184': 618, '2185': 619, '2186': 620, '2187': 621, '2188': 622, '2189': 623, '2190': 624, '2191': 625, '2192': 626, '2193': 627, '2194': 628, '2195': 629, '2196': 630, '2197': 631, '2198': 632, '2199': 633, '2200': 634, '2201': 635, '2202': 636, '2203': 637, '2204': 638, '2205': 639, '2208': 640, '2238': 641, '2249': 642, '2250': 643, '2260': 644, '2274': 645, '2286': 646, '2300': 647, '2330': 648, '2400': 649, '2452': 650, '2500': 651, '2600': 652, '2700': 653, '2788': 654, '3000': 655, '3200': 656, '3301': 657, '3350': 658, '3360': 659, '3600': 660, '3668': 661, '3750': 662, '3862': 663, '4000': 664, '4050': 665, '4161': 666, '4200': 667, '4201': 668, '4301': 669, '4319': 670, '4400': 671, '4500': 672, '4800': 673, '5000': 674, '5050': 675, '5400': 676, '5500': 677, '5600': 678, '6000': 679, '6181': 680, '6241': 681, '6415': 682, '6485': 683, '7000': 684, '7200': 685, '7500': 686, '7923': 687, '8000': 688, '8281': 689, '8400': 690, '8426': 691, '8728': 692, '8805': 693, '8821': 694, '9000': 695, '10321': 696, '10368': 697, '10687': 698, '10973': 699, '11578': 700, '12201': 701, '12241': 702, '12361': 703, '12887': 704, '13072': 705, '14261': 706, '16501': 707, '16917': 708, '17451': 709, '17514': 710, '18595': 711, '19251': 712, '20840': 713, '25410': 714, '25412': 715, '29197': 716, '31034': 717, '31217': 718, '77411': 719, '77412': 720, '77413': 721, '84708': 722, '88633': 723, '88634': 724, '108047': 725, '109457': 726, '2222174': 727}\n"
          ],
          "name": "stdout"
        }
      ]
    },
    {
      "cell_type": "code",
      "metadata": {
        "id": "0s1sf58wfss9",
        "colab_type": "code",
        "colab": {
          "base_uri": "https://localhost:8080/",
          "height": 55
        },
        "outputId": "268d93f9-c37c-49ae-ed99-4ec590d600c8"
      },
      "source": [
        "print(LABEL_NUM.vocab.stoi)"
      ],
      "execution_count": 16,
      "outputs": [
        {
          "output_type": "stream",
          "text": [
            "defaultdict(<function _default_unk_index at 0x7f8c9bef3ea0>, {'<unk>': 0, '<pad>': 1, '<sos>': 2, '<eos>': 3, '<num>': 4, ':': 5, 'tablet': 6, '.': 7, 'sig': 8, 'mg': 9, 'po': 10, 'one': 11, 'daily': 12, 'day': 13, ',': 14, 'a': 15, 'refills': 16, 'capsule': 17, 's': 18, 'for': 19, 'release': 20, 'as': 21, 'needed': 22, 'every': 23, 'hours': 24, 'ml': 25, 'delayed': 26, 'e.c.': 27, 'times': 28, 'disp': 29, 'bid': 30, '.disp': 31, 'once': 32, 'two': 33, ' ': 34, 'solution': 35, 'sodium': 36, 'aday': 37, 'pain': 38, 'days': 39, '%': 40, 'unit': 41, 'mcg': 42, '2times': 43, 'tid': 44, 'tablets': 45, 'sustained': 46, 'at': 47, 'hr': 48, 'q6h': 49, 'acetaminophen': 50, 'hospital': 51, 'docusate': 52, 'name': 53, 'aspirin': 54, 'to': 55, 'twice': 56, 'metoprolol': 57, 'bedtime': 58, 'prn': 59, 'inhalation': 60, 'with': 61, 'hs': 62, 'units': 63, 'num': 64, 'hcl': 65, 'tartrate': 66, 'chewable': 67, 'three': 68, 'insulin': 69, 'and': 70, 'constipation': 71, 'q4h': 72, 'oxycodone': 73, 'sulfate': 74, 'patch': 75, 'q24h': 76, 'heparin': 77, 'albuterol': 78, 'aerosol': 79, 'q12h': 80, 'actuation': 81, 'sust': 82, 'senna': 83, 'dose': 84, 'in': 85, 'pantoprazole': 86, 'on': 87, 'injection': 88, 'furosemide': 89, 'four': 90, 'timesa': 91, 'please': 92, 'atorvastatin': 93, 'of': 94, 'extended': 95, 'lisinopril': 96, 'tab': 97, 'q8h': 98, 'suspension': 99, 'take': 100, 'chloride': 101, 'acid': 102, 'qid': 103, 'calcium': 104, 'asneeded': 105, ']': 106, '[': 107, 'atbedtime': 108, 'vitamin': 109, 'iv': 110, 'warfarin': 111, 'gram': 112, 'or': 113, 'bromide': 114, 'bisacodyl': 115, 'by': 116, 'ipratropium': 117, 'flush': 118, 'device': 119, 'weeks': 120, 'per': 121, 'the': 122, 'porcine': 123, 'simvastatin': 124, 'inr': 125, 'appl': 126, 'rel': 127, 'then': 128, '6hours': 129, 'potassium': 130, 'rapid': 131, 'recon': 132, 'dissolve': 133, '3times': 134, 'syringe': 135, 'directed': 136, 'topical': 137, 'folic': 138, 'sliding': 139, 'levothyroxine': 140, 'prednisone': 141, 'meq': 142, 'outpatient': 143, 'g': 144, 'particle': 145, 'six': 146, '24hr': 147, '6h': 148, 'disk': 149, 'scale': 150, 'multivitamin': 151, '5,000': 152, 'qs': 153, 'subcutaneous': 154, 'date': 155, 'fluticasone': 156, 'podaily': 157, 'omeprazole': 158, 'soln': 159, 'meals': 160, 'wheezing': 161, 'chewablepo': 162, 'phone': 163, 'human': 164, 'suppository': 165, 'thirty': 166, 'cap': 167, 'lab': 168, 'fever': 169, 'clopidogrel': 170, 'intravenous': 171, 'month': 172, 'five': 173, 'liquid': 174, 'powder': 175, 'crystal': 176, 'drops': 177, 'hold': 178, 'ophthalmic': 179, 'qd': 180, 'q4': 181, 'carbonate': 182, 'week': 183, 'amiodarone': 184, 'ferrous': 185, '4hours': 186, 'every6': 187, 'ranitidine': 188, 'line': 189, 'succinate': 190, 'dl': 191, '<': 192, 'regular': 193, 'dr': 194, 'hydromorphone': 195, 'sublingual': 196, 'gabapentin': 197, 'lorazepam': 198, 'syrup': 199, 'packet': 200, 'puff': 201, 'mouth': 202, 'inhaler': 203, 'shortness': 204, 'your': 205, 'q': 206, 'every4': 207, 'amlodipine': 208, 'until': 209, 'spray': 210, 'qhs': 211, 'magnesium': 212, 'qam': 213, 'not': 214, 'vancomycin': 215, 'hrsig': 216, 'nausea': 217, 'medicated': 218, 'breath': 219, 'adhesive': 220, 'lasix': 221, 'check': 222, 'fornebulization': 223, 'year': 224, 'anxiety': 225, 'asdir': 226, 'iron': 227, 'd3': 228, 'hfa': 229, 'drop': 230, 'w': 231, 'puffs': 232, 'oral': 233, 'levofloxacin': 234, 'glargine': 235, 'famotidine': 236, 'poq4h': 237, 'metformin': 238, 'inhalationq6h': 239, 'if': 240, 'salmeterol': 241, 'hydroxide': 242, 'miconazole': 243, 'morning': 244, 'insomnia': 245, 'citalopram': 246, 'coumadin': 247, 'cholecalciferol': 248, 'doses': 249, 'nitrate': 250, 'give': 251, 'd': 252, 'dayfor': 253, 'morphine': 254, 'ointment': 255, 'thiamine': 256, 'be': 257, 'this': 258, 'levetiracetam': 259, 'do': 260, 'x': 261, '1,000': 262, 'trazodone': 263, 'workplease': 264, 'tramadol': 265, 'unitssubcutaneous': 266, 'results': 267, 'b': 268, 'dr.': 269, 'forconstipation': 270, 'lansoprazole': 271, 'piggyback': 272, 'ciprofloxacin': 273, 'after': 274, 'lactulose': 275, 'goal': 276, 'normal': 277, 'months': 278, 'sbp': 279, 'continue': 280, 'atenolol': 281, 'eight': 282, 'is': 283, 'ten': 284, 'neb': 285, 'metronidazole': 286, 'puffinhalation': 287, ';': 288, 'you': 289, 'enoxaparin': 290, 'nasal': 291, 'lispro': 292, 'other': 293, 'c': 294, 'hydrochlorothiazide': 295, 'cream': 296, 'last': 297, 'every24': 298, '8hours': 299, 'saline': 300, 'lidocaine': 301, 'while': 302, 'tamsulosin': 303, 'oncea': 304, 'phenytoin': 305, 'trimethoprim': 306, 'lumen': 307, 'humalog': 308, 'start': 309, 'patient': 310, 'nystatin': 311, 'sob': 312, 'tube': 313, 'diltiazem': 314, 'none': 315, 'medication': 316, 'nph': 317, 'chest': 318, 'allopurinol': 319, 'fax': 320, 'sulfamethoxazole': 321, 'dexamethasone': 322, '100,000': 323, 'have': 324, 'digoxin': 325, 'complex': 326, 'ascorbic': 327, 'before': 328, 'carvedilol': 329, 'colace': 330, 'qpm': 331, 'monday': 332, 'over': 333, 'quetiapine': 334, 'pt': 335, 'doctor': 336, 'q3h': 337, 'tabletpo': 338, 'isosorbide': 339, 'nitroglycerin': 340, 'ibuprofen': 341, 'guaifenesin': 342, 'glycol': 343, 'dextrose': 344, 'polyethylene': 345, '12hours': 346, 'home': 347, 'xl': 348, 'taking': 349, 'hrtransdermal': 350, '4times': 351, 'spironolactone': 352, 'clonazepam': 353, 'ondansetron': 354, 'maleate': 355, 'every12': 356, 'only': 357, 'mls': 358, 'sc': 359, 'zolpidem': 360, 'weekly': 361, 'sertraline': 362, 'every8': 363, 'alcohol': 364, 'friday': 365, 'ext': 366, 'evening': 367, 'hydralazine': 368, 'nicotine': 369, 'cough': 370, 'blood': 371, 'each': 372, 'cartridge': 373, 'hundred': 374, 'see': 375, 'daterange': 376, 'use': 377, 'glipizide': 378, 'pf': 379, 'twenty': 380, 'stop': 381, 'nebinhalation': 382, 'olanzapine': 383, 'cbc': 384, 'tiotropium': 385, 'clonidine': 386, 'pobid': 387, 'follow': 388, 'gluconate': 389, 'agitation': 390, 'bottle': 391, 'poevery': 392, 'age': 393, 'acetate': 394, 'metoclopramide': 395, 'above': 396, 'mononitrate': 397, 'wednesday': 398, 'dependent': 399, 'menthol': 400, 'tabletsustained': 401, 'cyanocobalamin': 402, 'up': 403, 'cappo': 404, 'protocol': 405, 'n': 406, 'fentanyl': 407, 'tabs': 408, 'total': 409, 'pravastatin': 410, 'tidw': 411, 'toprol': 412, 'lotion': 413, 'poq4': 414, 'call': 415, 'expired': 416, 'rectaldaily': 417, 'er': 418, 'membrane': 419, 'fluoxetine': 420, 'hoursas': 421, 'wheeze': 422, 'recomb': 423, 'pm': 424, 'glyburide': 425, 'mirtazapine': 426, 'q2h': 427, 'nf': 428, 'twicea': 429, 'sevelamer': 430, 'duration': 431, 'polyvinyl': 432, '4pm': 433, '3hours': 434, 'valsartan': 435, '10ml': 436, 'slidingscale': 437, 'breakfast': 438, 'picc': 439, 'decrease': 440, 'am': 441, 'ih': 442, 'lantus': 443, 'oil': 444, 'twelve': 445, 'threetimes': 446, 'chem': 447, 'fifteen': 448, 'will': 449, 'through': 450, '&': 451, 'dinner': 452, 'titrate': 453, '7days': 454, 'camphor': 455, 'taper': 456, 'draw': 457, 'followed': 458, 'flushpicc': 459, '12h': 460, 'crystals': 461, 'particles': 462, 'course': 463, 'prior': 464, 'care': 465, 'latanoprost': 466, 'paroxetine': 467, 'tacrolimus': 468, 'gm': 469, 'dailyrx': 470, 'headache': 471, 'fluconazole': 472, 'zinc': 473, 'tylenol': 474, 'apply': 475, 'q72h': 476, 'bupropion': 477, 'dosing': 478, 'pen': 479, 'rosuvastatin': 480, 'crystalsig': 481, 'eyes': 482, 'labetalol': 483, 'than': 484, 'montelukast': 485, 'hexavitamin': 486, 'site': 487, 'capsulepo': 488, 'dropperette': 489, 'rash': 490, 'when': 491, 'mycophenolate': 492, 'loose': 493, 'timolol': 494, 'dry': 495, \"'s\": 496, 'nebulization': 497, 'via': 498, 'sucralfate': 499, 'we': 500, 'grams': 501, 'mofetil': 502, 'prochlorperazine': 503, 'pcp': 504, 'should': 505, 'losartan': 506, 'd5w': 507, 'itching': 508, 'diarrhea': 509, 'from': 510, 'poq6h': 511, 'poonce': 512, 'may': 513, 'cephalexin': 514, 'orwheezing': 515, 'sprays': 516, 'mlinjection': 517, 'attached': 518, 'no': 519, 'numhours': 520, 'inspect': 521, 'more': 522, 'level': 523, 'shift': 524, 'finasteride': 525, 'followedby': 526, 'amoxicillin': 527, 'ezetimibe': 528, 'methadone': 529, 'neededfor': 530, 'syringes': 531, 'ofbreath': 532, 'povidone': 533, 'haloperidol': 534, 'alfa': 535, '8h': 536, 'protonix': 537, 'y': 538, 'venlafaxine': 539, 'numdrops': 540, 'concentrate': 541, 'potwice': 542, 'sedation': 543, 'hrs': 544, 'simethicone': 545, 'numpuffs': 546, '12hr': 547, 'dilaudid': 548, 'kit': 549, 'percocet': 550, 'checked': 551, 'hour': 552, 'hd': 553, 'ns': 554, 'md': 555, 'supply': 556, '=': 557, 'minutes': 558, 'clinic': 559, 'prilosec': 560, 'iso': 561, 'office': 562, 'diazepam': 563, 'epoetin': 564, 'digits': 565, 'adjust': 566, 'can': 567, 'mlintravenous': 568, 'loperamide': 569, '1,250': 570, 'mo': 571, 'nifedipine': 572, 'solnintravenous': 573, 'codeine': 574, 'bun': 575, '+': 576, 'ativan': 577, 'chlorhexidine': 578, 'mouthwash': 579, 'donepezil': 580, '10,000': 581, 'glucose': 582, 'hydrocodone': 583, 'nadolol': 584, 'risperidone': 585, 'exceed': 586, 'oxide': 587, 'sbp<100': 588, 'tazobactam': 589, 'resume': 590, 'piperacillin': 591, 'forty': 592, 'puffsinhalation': 593, '24hrsig': 594, 'breathor': 595, 'ceftriaxone': 596, 'oxygen': 597, 'dropophthalmic': 598, 'dayas': 599, 'alendronate': 600, 'calcitriol': 601, 'push': 602, 'torsemide': 603, 'osmotic': 604, 'amitriptyline': 605, 'dr.name': 606, 'fr': 607, 'lunch': 608, 'alprazolam': 609, 'sig:1': 610, 'was': 611, 'cefpodoxime': 612, 'mucous': 613, 'inhalationq4h': 614, 'need': 615, 'ptt': 616, 'captopril': 617, 'acyclovir': 618, 'hypoglycemia': 619, 'stools': 620, 'off': 621, 'therapeutic': 622, 'given': 623, 'lock': 624, 'rifaximin': 625, 'continuous': 626, 'os': 627, 'rectal': 628, 'mgpo': 629, 'topicalqid': 630, 'un': 631, 'back': 632, 'diphenhydramine': 633, 'baclofen': 634, 'colchicine': 635, 'miscellaneous': 636, 'mlspo': 637, 'diskus': 638, 'nebulizer': 639, 'drive': 640, 'otherday': 641, 'rectalhs': 642, 'hydrocortisone': 643, 'escitalopram': 644, 'q48h': 645, 'asdirected': 646, 'duloxetine': 647, 'verapamil': 648, 'omega': 649, 'trough': 650, 'lovenox': 651, 'multivitamins': 652, '10days': 653, 'potid': 654, 'mineral': 655, 'fexofenadine': 656, 'ursodiol': 657, 'bisulfate': 658, 'carbidopa': 659, 'complete': 660, 'levodopa': 661, 'andprn': 662, 'eye': 663, 'milk': 664, 'scalesubcutaneous': 665, 'th': 666, 'qidachs': 667, 'azithromycin': 668, 'pills': 669, '24h': 670, '50,000': 671, 'cc': 672, '4to': 673, 'appltopical': 674, 'tu': 675, 'drawn': 676, 'magnesia': 677, 'left': 678, 'flushperipheral': 679, 'lozenge': 680, 'end': 681, 'dorzolamide': 682, 'location': 683, 'butalbital': 684, 'lamotrigine': 685, 'non': 686, 'brimonidine': 687, 'identifier': 688, 'numeric': 689, 'rate': 690, 'tabletrefills': 691, 'test': 692, 'zofran': 693, '.hospital': 694, 'both': 695, 'caff': 696, 'dialysis': 697, 'pot': 698, 'pressure': 699, 'mlmucous': 700, 'discontinue': 701, 'minerals': 702, 'benzonatate': 703, 'forshortness': 704, 'infusion': 705, '24hours': 706, 'painrx': 707, 'sa': 708, 'thursday': 709, 'cefepime': 710, 'meropenem': 711, '4h': 712, 'using': 713, 'valganciclovir': 714, 'based': 715, 'dyspnea': 716, 'doxazosin': 717, 'first': 718, 'are': 719, 'physical': 720, 'capsules': 721, 'for1': 722, '3x': 723, 'clavulanate': 724, 'shortnessof': 725, 'terazosin': 726, 'k': 727, 'divalproex': 728, 'cr': 729, 'lancets': 730, 'breakthrough': 731, 'petrolatum': 732, 'inhalationevery': 733, 'enalapril': 734, 'propionate': 735, 'box': 736, 'change': 737, 'creatinine': 738, 'combivent': 739, 'q3': 740, 'artificial': 741, 'half': 742, 'that': 743, 'unitsheparin': 744, 'erythromycin': 745, 'right': 746, '..': 747, 'inh': 748, 'u': 749, 'susp': 750, 'syringesubcutaneous': 751, 'according': 752, 'medications': 753, 'starting': 754, 'chewablesig': 755, 'night': 756, '72hr': 757, 'na': 758, 'oxybutynin': 759, '30tablet': 760, 'immediate': 761, 'linezolid': 762, 'min': 763, 'qachs': 764, 'tp': 765, 'acids': 766, 'bidrx': 767, 'fatty': 768, 'lipitor': 769, 'transdermal': 770, 'fumarate': 771, 'has': 772, '5days': 773, 'bacitracin': 774, 'dailyhold': 775, 'regimen': 776, 'touch': 777, 'faxed': 778, 'mgsubcutaneous': 779, 'vial': 780, 'water': 781, 'sleep': 782, 'dinitrate': 783, 'ec': 784, 'fourtimes': 785, 'further': 786, 'advair': 787, 'all': 788, 'flagyl': 789, 'stool': 790, 'time': 791, 'white': 792, 'nasalqid': 793, 'clindamycin': 794, 'instructed': 795, 'notify': 796, 'salinedaily': 797, 'weeklytransdermal': 798, 'alt': 799, 'd2': 800, 'for2': 801, '.name': 802, 'mdi': 803, 'midodrine': 804, 'unitsinjection': 805, 'for7': 806, 'monitor': 807, 'sig:15': 808, 'pothree': 809, 'qmowefr': 810, 'therapy': 811, 'citrate': 812, 'glucagon': 813, 'seven': 814, 'increase': 815, 'primary': 816, 'thrush': 817, 'ast': 818, 'tuesday': 819, 'base': 820, 'gel': 821, 'next': 822, 'pill': 823, 'provide': 824, 'everyeight': 825, 'keflex': 826, 'mgintravenous': 827, 'tabletextended': 828, 'administer': 829, '2weeks': 830, 'gemfibrozil': 831, 'treatment': 832, 'fenofibrate': 833, 'misc': 834, 'pr': 835, 'ergocalciferol': 836, 'q15min': 837, 'tizanidine': 838, 'units201': 839, 'phos': 840, 'acetylcysteine': 841, 'crush': 842, 'numtablets': 843, 'started': 844, 'sunday': 845, 'bactrim': 846, 'clotrimazole': 847, 'pregabalin': 848, 'strip': 849, 'qday': 850, 'dextromethorphan': 851, 'saturday': 852, 'strips': 853, 'mag': 854, 'parenteral': 855, 'nexium': 856, 'below': 857, 'medical': 858, 'order': 859, 'cipro': 860, 'hydroxyzine': 861, 'sat': 862, 'sl': 863, 'subcutaneousq12h': 864, 'tx': 865, 'workinr': 866, 'cinacalcet': 867, 'number': 868, 'bidhold': 869, 'lamivudine': 870, 'seventy': 871, 'multiphasic': 872, 'lipase': 873, 'suppositoryrectal': 874, 'lfts': 875, 'ongoing': 876, 'temp': 877, '1x': 878, 'tenofovir': 879, 'amylase': 880, 'cyclobenzaprine': 881, 'topiramate': 882, '@': 883, 'ds': 884, 'mesalamine': 885, 'plavix': 886, 'fish': 887, 'sugar': 888, 'cardiologist': 889, 'skin': 890, 'tear': 891, 'amp': 892, 'j': 893, 'pack': 894, 'symptoms': 895, '24hrtransdermal': 896, 'psyllium': 897, 'qod': 898, '2x': 899, 'micronized': 900, 'aluminum': 901, 'e': 902, 'keppra': 903, 'deceased': 904, 'dilantin': 905, 'rr': 906, 'ultram': 907, 'an': 908, 'labs': 909, 'ng': 910, 'prn10': 911, 'protease': 912, 'injectionsubcutaneous': 913, 'loratadine': 914, 'niacin': 915, 'ritonavir': 916, 'bowel': 917, 'everyother': 918, 'throat': 919, 'recombinant': 920, 'access': 921, 'secretions': 922, 'spasm': 923, 'fifty': 924, '3days': 925, 'infectious': 926, 'nortriptyline': 927, 'oz': 928, 'port': 929, 'disease': 930, 'carbamazepine': 931, 'it': 932, 'troche': 933, 'less': 934, 'pramipexole': 935, 'propranolol': 936, 'rehab': 937, 'application': 938, 'fludrocortisone': 939, 'hypoglycemiaprotocol': 940, 'memantine': 941, 'scopolamine': 942, 'topicaltid': 943, 'ultra': 944, 'affected': 945, 'peg': 946, 'restart': 947, 'were': 948, 'atrial': 949, 'tabletsublingual': 950, '1,500': 951, 'oxcarbazepine': 952, 'handihaler': 953, 'spiriva': 954, 'strength': 955, 'target': 956, 'physician': 957, 'prnperipheral': 958, 'food': 959, 'his': 960, 'nafcillin': 961, 'o2': 962, 'bed': 963, 'feeding': 964, 'mon': 965, 'wafer': 966, 'diff': 967, 'levels': 968, 'noon': 969, 'triamcinolone': 970, 'ampicillin': 971, 'buspirone': 972, 'cyclosporine': 973, 'for3': 974, 'area': 975, 'methylphenidate': 976, 'daydisp': 977, 'dose0': 978, 'fri': 979, 'metolazone': 980, 'miralax': 981, 'sotalol': 982, '2days': 983, 'augmentin': 984, 'weight': 985, '72hrtransdermal': 986, 'forwheezing': 987, 'liver': 988, 'm.d.': 989, 'poq12h': 990, 'sixty': 991, 't': 992, 'antibiotics': 993, 'central': 994, 'fingerstick': 995, 'heartburn': 996, 'workpt': 997, '4,000': 998, 'groin': 999, 'hemodialysis': 1000, 'nebulizerinhalation': 1001, 'pioglitazone': 1002, 'pyridoxine': 1003, 'adjusted': 1004, 'afib': 1005, 'devicesig': 1006, 'following': 1007, 'gas': 1008, 'wound': 1009, 'aripiprazole': 1010, 'nacl': 1011, 'tabletspo': 1012, 'levalbuterol': 1013, 'severe': 1014, 'her': 1015, 'lactate': 1016, 'osm': 1017, 'panel': 1018, 'atrovent': 1019, 'compazine': 1020, 'daily16': 1021, 'for5': 1022, 'prednisolone': 1023, 'suspensionsig': 1024, 'acetonide': 1025, 'admission': 1026, 'alum': 1027, 'completed': 1028, 'l': 1029, 'lopressor': 1030, 'needle': 1031, 'seventeen': 1032, 'simeth': 1033, 'tolterodine': 1034, '4pm.disp': 1035, 'drink': 1036, 'low': 1037, 'miscell': 1038, 'aspart': 1039, 'dispense': 1040, 'patches': 1041, 'repeat': 1042, 'indigestion': 1043, 'mginjection': 1044, 'needs': 1045, 'rx': 1046, '2hours': 1047, 'everytwelve': 1048, 'hum': 1049, 'lovastatin': 1050, 'phosphate': 1051, 'units301': 1052, 'cannula': 1053, 'flushtemporary': 1054, 'keep': 1055, 'least': 1056, 'work': 1057, 'enema': 1058, 'fs': 1059, 'hoursdisp': 1060, 'hydroxychloroquine': 1061, 'mucousmembrane': 1062, 'between': 1063, 'congestion': 1064, 'patchtransdermal': 1065, 'sore': 1066, 'glucophage': 1067, 'bicarbonate': 1068, 'increased': 1069, 'p': 1070, 'she': 1071, 'doxycycline': 1072, 'dressing': 1073, 'elixir': 1074, 'instructions': 1075, 'maintain': 1076, 'mwf': 1077, 'nephrocaps': 1078, 'qhd': 1079, 'alk': 1080, 'been': 1081, 'everysix': 1082, 'budesonide': 1083, 'daysrx': 1084, 'hr<60': 1085, 'narcotics': 1086, 'pump': 1087, 'td': 1088, 'allergy': 1089, 'clarithromycin': 1090, 'intravenousevery': 1091, 'lozengemucous': 1092, 'muscle': 1093, 'q1h': 1094, 'topicalhospital': 1095, '1weeks': 1096, 'clobetasol': 1097, 'he': 1098, 'novolog': 1099, 'thismedication': 1100, 'bm': 1101, 'oxycontin': 1102, 'place': 1103, 'under': 1104, '25,000': 1105, 'cetylpyridinium': 1106, 'daptomycin': 1107, 'glucometer': 1108, 'injectionqmowefr': 1109, 'post': 1110, 'sun': 1111, 'due': 1112, 'hyclate': 1113, 'leg': 1114, 'dulcolax': 1115, 'emtricitabine': 1116, 'fibrillation': 1117, 'fosamax': 1118, 'kg': 1119, 'pulse': 1120, 'ropinirole': 1121, 'ambien': 1122, 'full': 1123, 'megestrol': 1124, 'any': 1125, 'besylate': 1126, 'lithium': 1127, 'units251': 1128, '.tablet': 1129, 'bg': 1130, 'ceftazidime': 1131, 'intravenousonce': 1132, 'meds': 1133, 'mix': 1134, 'proceed': 1135, 'worklabs': 1136, 'dryness': 1137, 'heart': 1138, 'insulinplease': 1139, 'juice': 1140, 'liters': 1141, 'movements': 1142, 'silver': 1143, 'temperature': 1144, 'workcbc': 1145, 'zantac': 1146, 'max': 1147, 'prescribed': 1148, 'qmon': 1149, 'sr': 1150, 'atovaquone': 1151, 'electrolytes': 1152, 'machinery': 1153, 'previous': 1154, 'at4': 1155, 'atropine': 1156, 'aweek': 1157, 'dextrs': 1158, 'for10': 1159, 'vials': 1160, 'appointment': 1161, 'meclizine': 1162, 'nimodipine': 1163, 'pre': 1164, 'send': 1165, 'stable': 1166, 'systolic': 1167, 'intramuscular': 1168, 'prophylaxis': 1169, 'thru': 1170, 'azathioprine': 1171, 'f': 1172, 'fixed': 1173, 'quinapril': 1174, 'units151': 1175, 'eighty': 1176, 'phonefax': 1177, 'q6': 1178, 'themorning': 1179, 'transplant': 1180, 'x1': 1181, '20,000': 1182, 'also': 1183, 'begin': 1184, 'bottles': 1185, 'dolasetron': 1186, 'during': 1187, 'prevent': 1188, 'pruritis': 1189, 'vanco': 1190, 'zonisamide': 1191, '1doses': 1192, 'areas': 1193, 'multi': 1194, 'portability': 1195, 'reconsoln': 1196, 'sq': 1197, 'accordingly': 1198, 'bumetanide': 1199, 'evaluate': 1200, 'hyoscyamine': 1201, 'm': 1202, 'mupirocin': 1203, 'packets': 1204, 'sirolimus': 1205, 'today': 1206, '60tablet': 1207, 'dx': 1208, 'icu': 1209, 'parenteralsolution': 1210, \"'\": 1211, 'qac': 1212, 'discomfort': 1213, 'hct': 1214, 'injectioninjection': 1215, 'nebs': 1216, 'oncedaily': 1217, 'stopped': 1218, 'units241': 1219, '4x': 1220, 'cl': 1221, 'phosphates': 1222, 'triamterene': 1223, 'zocor': 1224, 'ac': 1225, 'directedsubcutaneous': 1226, 'gramintravenous': 1227, 'mechanical': 1228, 'prevacid': 1229, 'tincture': 1230, 'vicodin': 1231, 'air': 1232, 'dipyridamole': 1233, 'esr': 1234, 'note': 1235, 'provider': 1236, 'reglan': 1237, 'vitamins': 1238, '1ml': 1239, 'dvt': 1240, 'flovent': 1241, 'holdfor': 1242, 'id': 1243, 'mlmiscellaneous': 1244, 'norvasc': 1245, 'operate': 1246, 'ophth': 1247, 'phenobarbital': 1248, 'qsun': 1249, 'rosiglitazone': 1250, 'sent': 1251, 'subcutaneousdaily': 1252, 'units161': 1253, '2l': 1254, 'cholestyramine': 1255, 'infection': 1256, 'pulmonary': 1257, 'thurs': 1258, 'cefazolin': 1259, 'finish': 1260, 'irritation': 1261, 'lanolin': 1262, 'q2': 1263, 'schedule': 1264, 'wheezes': 1265, 'xr': 1266, 'changes': 1267, 'med': 1268, 'namename': 1269, 'ophthalmicdaily': 1270, 'respiratory': 1271, 'sheet': 1272, 'units351': 1273, 'glimepiride': 1274, 'humulin': 1275, 'indication': 1276, 'polymyxin': 1277, 'renal': 1278, 'extra': 1279, 'function': 1280, 'lower': 1281, 'painhold': 1282, 'there': 1283, 'thereafter': 1284, 'tobramycin': 1285, 'bp': 1286, 'crp': 1287, 'greater': 1288, 'sugars': 1289, 'workcheck': 1290, 'hydrochlorothiazid': 1291, 'promethazine': 1292, 'disoproxil': 1293, 'methimazole': 1294, 'seizure': 1295, 'tidhold': 1296, 'cepacol': 1297, 'continued': 1298, 'ertapenem': 1299, 'everyfour': 1300, 'plus': 1301, 'topicaldaily': 1302, 'units121': 1303, 'vomiting': 1304, 'beclomethasone': 1305, 'differential': 1306, 'drip': 1307, 'e.g.': 1308, 'hydrobromide': 1309, 'multiple': 1310, 'poqid': 1311, 'solninjection': 1312, 'within': 1313, '\"': 1314, 'donot': 1315, 'h': 1316, 'ha': 1317, 'odt': 1318, 'patchweekly': 1319, 'solutionsig': 1320, 'surgery': 1321, '24hrs': 1322, 'bs': 1323, 'catheter': 1324, 'delayedrelease': 1325, 'gentamicin': 1326, 'gtt': 1327, 'injector': 1328, 'lanthanum': 1329, 'meal': 1330, 'nasaltid': 1331, 'persliding': 1332, 'qwed': 1333, 'system': 1334, 'valproic': 1335, 'voriconazole': 1336, 'workweekly': 1337, 'cause': 1338, 'cvl': 1339, 'd2.4w': 1340, 'd50': 1341, 'duoneb': 1342, 'nu': 1343, 'rectalhospital': 1344, 'sucrose': 1345, 'benztropine': 1346, 'flushes': 1347, 'glucosamine': 1348, 'inhalationq4': 1349, 'modified': 1350, 'new': 1351, 'previously': 1352, 'qfri': 1353, 'symbicort': 1354, '2,000': 1355, 'attn': 1356, 'doxepin': 1357, 'finger': 1358, 'fungal': 1359, 'indomethacin': 1360, 'inject': 1361, 'obtain': 1362, 'tears': 1363, 'applicable': 1364, 'atazanavir': 1365, 'degradable': 1366, 'flonase': 1367, 'injectiononce': 1368, 'medicine': 1369, 'mesylate': 1370, 'prn10ml': 1371, 'r': 1372, 'soluble': 1373, 'then200': 1374, 'tues': 1375, 'free': 1376, 'lft': 1377, 'onnum': 1378, 'seroquel': 1379, 'subcutaneousfour': 1380, 'therapyplease': 1381, 'benadryl': 1382, 'counter': 1383, 'down': 1384, 'imdur': 1385, 'maximum': 1386, 'numtablet': 1387, 'ou': 1388, 'piggybacksig': 1389, 'protochol': 1390, 'q12hrx': 1391, 'ss': 1392, 'taken': 1393, 'vaginal': 1394, '.daterange': 1395, '5x': 1396, 'dosage': 1397, 'go': 1398, 'methocarbamol': 1399, 'occupational': 1400, 'atphone': 1401, 'completion': 1402, 'crestor': 1403, 'doseinjection': 1404, 'driving': 1405, 'eighteen': 1406, 'every48': 1407, 'insulinsliding': 1408, 'long': 1409, 'maalox': 1410, 'neurontin': 1411, 'polysaccharide': 1412, 'sildenafil': 1413, 'sprinkle': 1414, 'abdominal': 1415, 'directedinjection': 1416, \"ml'spo\": 1417, 'naproxen': 1418, 'portacath': 1419, 'qsat': 1420, 'same': 1421, 'spry': 1422, 'units281': 1423, 'drug': 1424, 'epogen': 1425, 'freestyle': 1426, 'hematocrit': 1427, 'speech': 1428, 'subcutaneoustwice': 1429, 'volume': 1430, '3to': 1431, 'alternate': 1432, 'buffered': 1433, 'comfort': 1434, 'dir': 1435, 'done': 1436, 'esomeprazole': 1437, 'inhalers': 1438, 'irbesartan': 1439, 'ketoconazole': 1440, 'make': 1441, 'ptch': 1442, 'treat': 1443, 'albumin': 1444, 'called': 1445, 'diovan': 1446, 'inthe': 1447, 'levaquin': 1448, 'oversedation': 1449, 'propoxyphene': 1450, 'seen': 1451, 'subcutaneousonce': 1452, 'does': 1453, 'fondaparinux': 1454, 'high': 1455, 'januvia': 1456, 'q12': 1457, 'testosterone': 1458, 'celexa': 1459, 'hydroxyurea': 1460, 'inhinhalation': 1461, 'nitrofurantoin': 1462, 'out': 1463, 'pellets': 1464, 'these': 1465, 'unitsubcutaneous': 1466, '1days': 1467, 'clinical': 1468, 'dipropionate': 1469, 'discuss': 1470, 'diskwith': 1471, 'get': 1472, 'including': 1473, 'methylprednisolone': 1474, 'mlpo': 1475, 'nasalhospital': 1476, 'sixteen': 1477, 'applophthalmic': 1478, 'bedtimeinsulin': 1479, 'company': 1480, 'copd': 1481, 'dc': 1482, 'distress': 1483, 'machine': 1484, 'must': 1485, 'sbp<110': 1486, 'accessing': 1487, 'ambulatory': 1488, 'chewables': 1489, 'fluid': 1490, 'im': 1491, 'now': 1492, 'pramoxine': 1493, 'qtues': 1494, 'scaleinsulin': 1495, 'scaleplease': 1496, 'adult': 1497, 'anti': 1498, 'but': 1499, 'flomax': 1500, 'k+': 1501, 'mexiletine': 1502, 'ramipril': 1503, 'rectalonce': 1504, 'remove': 1505, 'thin': 1506, 'unless': 1507, 'abacavir': 1508, 'antibiotic': 1509, 'avoid': 1510, 'c.': 1511, 'dailydisp': 1512, 'effect': 1513, 'fourteen': 1514, 'gout': 1515, 'protocol71': 1516, 'reg': 1517, 'steroids': 1518, 'sulfameth': 1519, 'urea': 1520, '.date': 1521, 'additional': 1522, 'applicationtopical': 1523, 'cal': 1524, 'penicillin': 1525, 'pyridostigmine': 1526, 'q8': 1527, 'qthur': 1528, 'sulfadiazine': 1529, 'tomorrow': 1530, '2.5.disp': 1531, 'acidophilus': 1532, 'day.name': 1533, 'disposable': 1534, 'inhalationinhalation': 1535, 'itch': 1536, 'monitoring': 1537, 'neck': 1538, 'otc': 1539, 'pleasetake': 1540, 'provided': 1541, 'reason': 1542, 'sarna': 1543, 'sig:2': 1544, 'subcutaneousat': 1545, 'vna': 1546, 'yeast': 1547, 'checks': 1548, 'chemistry': 1549, 'edema': 1550, 'having': 1551, 'op': 1552, 'oxazepam': 1553, 'qam.disp': 1554, 're': 1555, 'tabsublingual': 1556, 'tapered': 1557, 'which': 1558, 'x2': 1559, 'center': 1560, 'cnt': 1561, 'cod': 1562, 'diuresis': 1563, 'htn': 1564, 'narcotic': 1565, 'otherwise': 1566, 'rifampin': 1567, 'valacyclovir': 1568, 'caltrate': 1569, 'day.hospital': 1570, 'diphenoxylate': 1571, 'ensure': 1572, 'flowsheet': 1573, 'held': 1574, 'vytorin': 1575, 'bloating': 1576, 'day:400': 1577, 'finished': 1578, 'heavy': 1579, 'reconstitution': 1580, 'result': 1581, 'so': 1582, 'spasms': 1583, 'tolerated': 1584, 'units200': 1585, 'uti': 1586, 'zosyn': 1587, 'arm': 1588, 'collagenase': 1589, 'combo': 1590, 'contact': 1591, 'dabigatran': 1592, 'laboratory': 1593, 'motrin': 1594, 'necessary': 1595, 'nostril': 1596, 'questions': 1597, 'shoulder': 1598, 'spraynasal': 1599, 'substitute': 1600, 'vit': 1601, 'afternoon': 1602, 'bag': 1603, 'ciwa': 1604, 'dronabinol': 1605, 'every3': 1606, 'forsob': 1607, 'injinjection': 1608, 'lancet': 1609, 'modafinil': 1610, 'pads': 1611, 'papain': 1612, 'qd.disp': 1613, 'resultsto': 1614, 'status': 1615, 'still': 1616, 'suction': 1617, 'swish': 1618, 'temazepam': 1619, 'theevening': 1620, 'tidrx': 1621, 'todr': 1622, 'tpn': 1623, 'usual': 1624, 'available': 1625, 'centrum': 1626, 'con': 1627, 'decadron': 1628, 'etexilate': 1629, 'feeds': 1630, 'gintravenous': 1631, 'klor': 1632, 'levemir': 1633, 'mucinex': 1634, 'needles': 1635, 'ninety': 1636, 'nose': 1637, 'perday': 1638, 'proair': 1639, 'received': 1640, 'residual': 1641, 'units181': 1642, 'valve': 1643, 'well': 1644, '.5': 1645, '0.4ml': 1646, 'address': 1647, 'alternating': 1648, 'aortic': 1649, 'aranesp': 1650, 'calcitonin': 1651, 'clozapine': 1652, 'cm': 1653, 'oxygenplease': 1654, 'pneumonia': 1655, 'poq8h': 1656, 'preop': 1657, 'restarted': 1658, 'salmon': 1659, 'solnsintravenous': 1660, 'theophylline': 1661, 'treatmentinhalation': 1662, 'valproate': 1663, '1.5tablet': 1664, '10units': 1665, '110mcg': 1666, 'apart': 1667, 'discontinued': 1668, 'disintegrating': 1669, 'inhalationfour': 1670, 'injectionq8h': 1671, 'injections': 1672, 'opium': 1673, 'prnas': 1674, 'q1': 1675, 'q6hrs': 1676, 'quinine': 1677, 'record': 1678, 'requires': 1679, 'rr<10': 1680, 'sbp<90': 1681, '6units': 1682, 'ambulating': 1683, 'bolus': 1684, 'ca': 1685, 'dapsone': 1686, 'dextroamphetamine': 1687, 'diagnosis': 1688, 'dofetilide': 1689, 'followsliding': 1690, 'inhalersig': 1691, 'oxalate': 1692, 'q8hrs': 1693, 'qachsinsulin': 1694, 'refuse': 1695, 'room': 1696, 'transdermalevery': 1697, 'tricor': 1698, 'units141': 1699, 'used': 1700, 'workchem': 1701, 'zidovudine': 1702, '1,200': 1703, 'basic': 1704, 'claritin': 1705, 'confusion': 1706, 'constipationrx': 1707, 'd50w': 1708, 'dailyat': 1709, 'desired': 1710, 'for4': 1711, 'forwheeze': 1712, 'insulininsulin': 1713, 'knee': 1714, 'methotrexate': 1715, 'nummls': 1716, 'primidone': 1717, 'rr<12': 1718, 'scaleunits': 1719, 'swallowing': 1720, 'tongue': 1721, '1tablet': 1722, '_': 1723, 'bimatoprost': 1724, 'byheparin': 1725, 'control': 1726, 'gramsintravenous': 1727, 'had': 1728, 'into': 1729, 'metabolic': 1730, 'normalsaline': 1731, 'phenol': 1732, 'pm.disp': 1733, 'rapiddissolve': 1734, 'refer': 1735, 'regarding': 1736, 'spit': 1737, 'sulfasalazine': 1738, 'swallow': 1739, 'units240': 1740, 'vac': 1741, 'xopenex': 1742, '4days': 1743, 'actos': 1744, 'bags': 1745, 'bilirubin': 1746, 'caps': 1747, 'dailyplease': 1748, 'dicloxacillin': 1749, 'epipen': 1750, 'faxresults': 1751, 'fiber': 1752, 'inhalationq2h': 1753, 'nine': 1754, 'ordering': 1755, 'pens': 1756, 'prescription': 1757, 'q5min': 1758, 'reduce': 1759, 'travoprost': 1760, 'wed': 1761, 'amphetamine': 1762, 'anastrozole': 1763, 'cilostazol': 1764, 'de': 1765, 'dosed': 1766, 'felodipine': 1767, 'lopinavir': 1768, 'prn.disp': 1769, 'reaction': 1770, 'sod': 1771, 'topicaltwice': 1772, 'wean': 1773, '14days': 1774, 'acute': 1775, 'cetirizine': 1776, 'commode': 1777, 'd5061': 1778, 'face': 1779, 'facility': 1780, 'gi': 1781, 'gmintravenous': 1782, 'gum': 1783, 'hospice': 1784, 'pcp.name': 1785, 'procrit': 1786, 'rec': 1787, 'tonight': 1788, 'units221': 1789, 'away': 1790, 'dailyfor': 1791, 'determined': 1792, 'devices': 1793, 'floor': 1794, 'hr<55': 1795, 'lactobacillus': 1796, 'multiphase': 1797, 'rinse': 1798, 'singulair': 1799, 'urine': 1800, 'xinafoate': 1801, '2h': 1802, '4units': 1803, '8units': 1804, 'cardiac': 1805, 'chlorpromazine': 1806, 'estrogens': 1807, 'final': 1808, 'fingersticks': 1809, 'minute': 1810, 'octreotide': 1811, 'ophthalmichospital': 1812, 'own': 1813, 'rn': 1814, 'stomach': 1815, 'synthroid': 1816, 'transdermalonce': 1817, 'zyrtec': 1818, '2.5first': 1819, '60,000': 1820, 'addition': 1821, 'aggitation': 1822, 'ama': 1823, 'carepicc': 1824, 'emergency': 1825, 'except': 1826, 'goalinr': 1827, 'hco3': 1828, 'intravenoustwice': 1829, 'lite': 1830, 'npo': 1831, 'raloxifene': 1832, 'raltegravir': 1833, 'supp': 1834, 'sustainedrelease': 1835, 'tests': 1836, 'ulcer': 1837, 'wellbutrin': 1838, 'without': 1839, 'brain': 1840, 'changed': 1841, 'chronic': 1842, 'conjugated': 1843, 'drname': 1844, 'fioricet': 1845, 'hospitalization': 1846, 'inrgoal': 1847, 'intravenousq': 1848, 'legs': 1849, 'period': 1850, 'plan': 1851, 'range': 1852, 'refill': 1853, 'unitinjection': 1854, 'zetia': 1855, 'ziprasidone': 1856, '4l': 1857, 'applyto': 1858, 'cans': 1859, 'elevated': 1860, 'estradiol': 1861, 'everysunday': 1862, 'fleet': 1863, 'form': 1864, 'la': 1865, 'migraine': 1866, 'million': 1867, 'mlinhalation': 1868, 'ms': 1869, 'output': 1870, 'provider.name': 1871, 'sig:0.5': 1872, 't.bili': 1873, 'units160': 1874, 'x7': 1875, 'zoloft': 1876, '12,000': 1877, '20meq': 1878, '3.0.disp': 1879, '4,500': 1880, 'attention': 1881, 'aztreonam': 1882, 'bili': 1883, 'container': 1884, 'cortisone': 1885, 'evaluation': 1886, 'extremity': 1887, 'failure': 1888, 'o': 1889, 'ostomy': 1890, 'perform': 1891, 'polysorbate': 1892, 'prnper': 1893, 'quinidine': 1894, 'supplies': 1895, 'switch': 1896, '0rx': 1897, '38,000': 1898, '6x': 1899, 'another': 1900, 'appropriate': 1901, 'chem7': 1902, 'cycle': 1903, 'decreased': 1904, 'detrol': 1905, 'formulary': 1906, 'mgdaily': 1907, 'moexipril': 1908, 'nc': 1909, 'neomycin': 1910, 'orders': 1911, 'pentoxifylline': 1912, 'pepcid': 1913, 'pharmacy': 1914, 'prograf': 1915, 'require': 1916, 'roxicet': 1917, 'salt': 1918, 'standing': 1919, 'steroid': 1920, 'sticks': 1921, 'tums': 1922, 'wheelchair': 1923, 'whiletaking': 1924, 'actonel': 1925, 'amantadine': 1926, 'bms': 1927, 'chestpain': 1928, 'cover': 1929, 'creat': 1930, 'days.hospital': 1931, 'efavirenz': 1932, 'flecainide': 1933, 'isoniazid': 1934, 'mask': 1935, 'passed': 1936, 'pilocarpine': 1937, 'prasugrel': 1938, 'proxetil': 1939, 'q24': 1940, 'q24hrx': 1941, 'standard': 1942, 'stavudine': 1943, 'swelling': 1944, 'tabletsig': 1945, 'units261': 1946, 'with10': 1947, 'zyprexa': 1948, '830,000': 1949, 'acetazolamide': 1950, 'aldactone': 1951, 'cell': 1952, 'depakote': 1953, 'dicyclomine': 1954, 'fib': 1955, 'foley': 1956, 'follows': 1957, 'hospitalized': 1958, 'injectionhospital': 1959, 'injectionq24h': 1960, 'lidoderm': 1961, 'mild': 1962, 'minoxidil': 1963, 'monohyd': 1964, 'numinhalation': 1965, 'perphenazine': 1966, 'powdr': 1967, 'preadmission': 1968, 'q10': 1969, 'qdaily': 1970, 'resolves': 1971, 'sash': 1972, 'sennosides': 1973, 'sitagliptin': 1974, 'stent': 1975, 'titrated': 1976, 'tr': 1977, 'upon': 1978, 'vaccine': 1979, 'wk': 1980, '33,200': 1981, '37,500': 1982, '3doses': 1983, 'about': 1984, 'avr': 1985, 'bipap': 1986, 'bismuth': 1987, 'brand': 1988, 'chlorthalidone': 1989, 'contin': 1990, 'epinephrine': 1991, 'filgrastim': 1992, 'flow': 1993, 'forpain': 1994, 'injectionq12h': 1995, 'macrocrystal': 1996, 'namephone': 1997, 'nebulizertreatment': 1998, 'serum': 1999, 'supplemental': 2000, 'units120': 2001, 'vanc': 2002, '2units': 2003, 'allergic': 2004, 'being': 2005, 'chondroitin': 2006, 'coenzyme': 2007, 'count': 2008, 'dwell': 2009, 'eachhemodialysis': 2010, 'eating': 2011, 'every2': 2012, 'finishing': 2013, 'hip': 2014, 'humalogglucose': 2015, 'inhaled': 2016, 'open': 2017, 'otic': 2018, 'possible': 2019, 'procedure': 2020, 'receive': 2021, 'resolved': 2022, 'sublinguals': 2023, 'sulbactam': 2024, 'syringeinjection': 2025, 'thendecrease': 2026, 'to6': 2027, 'units321': 2028, '1tab': 2029, '5ml': 2030, 'advance': 2031, 'ammonium': 2032, 'aricept': 2033, 'avodart': 2034, 'b12': 2035, 'bymouth': 2036, 'ck': 2037, 'cpap': 2038, 'darunavir': 2039, 'drowsiness': 2040, 'dyspepsia': 2041, 'eplerenone': 2042, 'foot': 2043, 'forward': 2044, 'hypertension': 2045, 'indicated': 2046, 'injectionq6h': 2047, 'num.5': 2048, 'nurse': 2049, 'printed': 2050, 'replete': 2051, 'resp': 2052, 'seizures': 2053, 'stick': 2054, 'succ': 2055, 'takeas': 2056, 'unable': 2057, 'x3': 2058, '0.6ml': 2059, '2tablets': 2060, 'acceptable': 2061, 'administration': 2062, 'around': 2063, 'bmp': 2064, 'ct': 2065, 'days.name': 2066, 'dur': 2067, 'everytwenty': 2068, 'fluphenazine': 2069, 'flushindwelling': 2070, 'formoterol': 2071, 'indefinitely': 2072, 'meter': 2073, 'moxifloxacin': 2074, 'olmesartan': 2075, 'oxygenhome': 2076, 'physician.name': 2077, 'q4hr': 2078, 'qac&hs': 2079, 'sats': 2080, 'subcutaneoushospital': 2081, 'sublingually': 2082, 'thanks': 2083, 'tsh': 2084, '2doses': 2085, '3,000': 2086, '30,000': 2087, '3l': 2088, '500+d': 2089, 'abd': 2090, 'action': 2091, 'assess': 2092, 'daycourse': 2093, 'dissolves': 2094, 'dizziness': 2095, 'doctor.name': 2096, 'drain': 2097, 'ending': 2098, 'entacapone': 2099, 'forreconstitution': 2100, 'history': 2101, 'ii': 2102, 'incision': 2103, 'injectionasdir': 2104, 'injectiondaily': 2105, 'levsin': 2106, 'male': 2107, 'manage': 2108, 'oxygenoxygen': 2109, 'ranolazine': 2110, 'seeattached': 2111, 'specify': 2112, 'suppositorys': 2113, 'thank': 2114, 'trach': 2115, 'ultrasoft': 2116, 'wish': 2117, '3h': 2118, '4gm': 2119, '6hrs': 2120, 'activity': 2121, 'afibgoal': 2122, 'aspir': 2123, 'bicarb': 2124, 'breast': 2125, 'cancer': 2126, 'cozaar': 2127, 'currently': 2128, 'fibrillationgoal': 2129, 'gerd': 2130, 'initial': 2131, 'kwikpen': 2132, 'melatonin': 2133, 'mouthdaily': 2134, 'movement': 2135, 'nebulizationsig': 2136, 'neht': 2137, 'oxygen2': 2138, 'packetsig': 2139, 'paindo': 2140, 'prazosin': 2141, 'propafenone': 2142, 'r.ns': 2143, 'recheck': 2144, 'saturation': 2145, 'small': 2146, 'solublepo': 2147, 'subcutaneously': 2148, 'takingthis': 2149, 'tbili': 2150, 'uinjection': 2151, 'units101': 2152, 'variable': 2153, 'vialinhalation': 2154, '911.disp': 2155, 'amount': 2156, 'arthritis': 2157, 'asa': 2158, 'bedtimehumalog': 2159, 'citracal': 2160, 'consider': 2161, 'diseaser.ns': 2162, 'everymonday': 2163, 'help': 2164, 'ho': 2165, 'hsrx': 2166, 'hydrochloride': 2167, 'likely': 2168, 'limit': 2169, 'membranetid': 2170, 'milliliter': 2171, 'nevirapine': 2172, 'novolin': 2173, 'oxymetazoline': 2174, 'protam': 2175, 'q8hrx': 2176, 'reflux': 2177, 'regularglucose': 2178, 'rehabilitation': 2179, 'relief': 2180, 'solns': 2181, 'split': 2182, 'subsalicylate': 2183, 'till': 2184, 'tubes': 2185, 'twicedaily': 2186, 'unitsfs': 2187, 'untilnum': 2188, 'usubcutaneous': 2189, 'vary': 2190, '10u': 2191, 'achs': 2192, 'baseline': 2193, 'bedtimeas': 2194, 'closely': 2195, 'concentrated': 2196, 'coreg': 2197, 'coverage': 2198, 'dayslast': 2199, 'desmopressin': 2200, 'feet': 2201, 'female': 2202, 'flushing': 2203, 'forindigestion': 2204, 'going': 2205, 'haldol': 2206, 'intravenousq12h': 2207, 'product': 2208, 'q4hrs': 2209, 'tidac': 2210, 'tobe': 2211, 'upset': 2212, 'valium': 2213, 'very': 2214, 'visit': 2215, 'xanax': 2216, '1week': 2217, '30capsule': 2218, '3rd': 2219, 'avandia': 2220, 'avapro': 2221, 'bilateral': 2222, 'breathing': 2223, 'celecoxib': 2224, 'diclofenac': 2225, 'directedunits': 2226, 'ear': 2227, 'frequency': 2228, 'lacosamide': 2229, 'lung': 2230, 'namenda': 2231, 'ngt': 2232, 'page': 2233, 'pager': 2234, 'patients': 2235, 'paxil': 2236, 'phenazopyridine': 2237, 'pkt': 2238, 'poqam': 2239, 'poqd': 2240, 'pruritus': 2241, 'saliva': 2242, 'sedated': 2243, 'softener': 2244, 'stay': 2245, 'sure': 2246, 'tabsust': 2247, 'teaspoons': 2248, 'terbinafine': 2249, 'unknown': 2250, 'workdaily': 2251, 'administered': 2252, 'betaxolol': 2253, 'cardiology': 2254, 'crushed': 2255, 'diabetes': 2256, 'edisylate': 2257, 'electric': 2258, 'ethambutol': 2259, 'fevers': 2260, 'folds': 2261, 'for14': 2262, 'for6': 2263, 'hospitalrx': 2264, 'icd': 2265, 'injectable': 2266, 'instill': 2267, 'longer': 2268, 'q12hhold': 2269, 'recent': 2270, 'recommended': 2271, 'sob.disp': 2272, 'subcutaneousthree': 2273, 'thyroid': 2274, 'tsp': 2275, 'wbc': 2276, 'whende': 2277, '12hrs': 2278, '8u': 2279, 'applesauce': 2280, 'completing': 2281, 'darbepoetin': 2282, 'daysthen': 2283, 'decreaseto': 2284, 'dilt': 2285, 'forheartburn': 2286, 'imipramine': 2287, 'inpacket': 2288, 'iss': 2289, 'kcl': 2290, 'klonopin': 2291, 'lyrica': 2292, 'management': 2293, 'mins': 2294, 'mlsmiscellaneous': 2295, 'pleasecontinue': 2296, 'pls': 2297, 'qnoon': 2298, 'qpm.disp': 2299, 'ra': 2300, 'reassess': 2301, 'regularly': 2302, 'roxanol': 2303, 'soft': 2304, 'sternal': 2305, 'subcutaneousevery': 2306, 'testing': 2307, 'v': 2308, 'who': 2309, 'yourprimary': 2310, '0units': 2311, '12units': 2312, '6u': 2313, 'adderall': 2314, 'ambulation': 2315, 'apap': 2316, 'bedside': 2317, 'benazepril': 2318, 'cardizem': 2319, 'careplease': 2320, 'ccinjection': 2321, 'cd': 2322, 'cramps': 2323, 'dental': 2324, 'detemir': 2325, 'did': 2326, 'diprop': 2327, 'draws': 2328, 'injectionq4h': 2329, 'kidney': 2330, 'ldh': 2331, 'membraneprn': 2332, 'midline': 2333, 'moderate': 2334, 'monthly': 2335, 'nares': 2336, 'nitrostat': 2337, 'np': 2338, 'persists': 2339, 'polysorbat': 2340, 'q6hr': 2341, 'removed': 2342, 'repaglinide': 2343, 'restless': 2344, 'side': 2345, 'teaspoon': 2346, 'therapypatient': 2347, 'withdraw': 2348, 'x10': 2349, '.phone': 2350, '1st': 2351, '2ml': 2352, 'attachedsliding': 2353, 'bidplease': 2354, 'brinzolamide': 2355, 'cap,24': 2356, 'filled': 2357, 'flare': 2358, 'fluocinonide': 2359, 'flushmid': 2360, 'foragitation': 2361, 'forchest': 2362, 'him': 2363, 'hoursfor': 2364, 'how': 2365, 'ihinhalation': 2366, 'immediately': 2367, 'influen': 2368, 'injectionintramuscular': 2369, 'injectiontwice': 2370, 'itchy': 2371, 'large': 2372, 'lastdose': 2373, 'leave': 2374, 'levoxyl': 2375, 'list': 2376, 'lutein': 2377, 'micafungin': 2378, 'mitral': 2379, 'mlflush': 2380, 'mouthevery': 2381, 'mouthtwice': 2382, 'negative': 2383, 'niaspan': 2384, 'onetablet': 2385, 'ordered': 2386, 'pneumococcal': 2387, 'portindwelling': 2388, 'qidwmhs': 2389, 'qmwf': 2390, 'qweek': 2391, 'required': 2392, 'rivastigmine': 2393, 'routine': 2394, 'script': 2395, 'street': 2396, 'stroke': 2397, 'substitution': 2398, 'team': 2399, 'zestril': 2400, '2.5tablets': 2401, '4.5rx': 2402, '4.disp': 2403, '6days': 2404, '6weeks': 2405, 'aliskiren': 2406, 'betamethasone': 2407, 'bleeding': 2408, 'bycardiologist': 2409, 'careheparin': 2410, 'chair': 2411, 'current': 2412, 'delivery': 2413, 'depression': 2414, 'dinnerinsulin': 2415, 'flushwith': 2416, 'gtube': 2417, 'h2o': 2418, 'hemorrhoids': 2419, 'infuse': 2420, 'mcginjection': 2421, 'metamucil': 2422, 'num.5.disp': 2423, 'ok': 2424, 'overload': 2425, 'pensig': 2426, 'poqhs': 2427, 'q12hrs': 2428, 'qtuthsa': 2429, 'relieved': 2430, 'resolve': 2431, 'return': 2432, 'risk': 2433, 'salinefollowed': 2434, 'solostar': 2435, 'tamoxifen': 2436, 'thentake': 2437, 'upper': 2438, 'workpatient': 2439, 'zero': 2440, '2u': 2441, 'breakfastinsulin': 2442, 'byyour': 2443, 'completes': 2444, 'coordinator': 2445, 'cranberry': 2446, 'dailyongoing': 2447, 'ferrousul': 2448, 'fsbs': 2449, 'hc': 2450, 'hourshold': 2451, 'hyperglycemia': 2452, 'imodium': 2453, 'inrcoumadin': 2454, 'intake': 2455, 'intensol': 2456, 'lbs': 2457, 'lexapro': 2458, 'linepicc': 2459, 'mech': 2460, 'midazolam': 2461, 'miscellaneousonce': 2462, 'mlmiscell': 2463, 'mlsubcutaneous': 2464, 'morethan': 2465, 'orally': 2466, 'phenolate': 2467, 'pofour': 2468, 'put': 2469, 'recommendations': 2470, 'sbp<120': 2471, 'solutions': 2472, 'spraymucous': 2473, 'state': 2474, 'supplement': 2475, 'syndrome': 2476, 'systems': 2477, 'tells': 2478, 'tessalon': 2479, 'theresults': 2480, 'units280': 2481, 'unitsbs': 2482, 'withmeals': 2483, 'withresults': 2484, '100.disp': 2485, '12.disp': 2486, '17.disp': 2487, '1month': 2488, '2.0.disp': 2489, '20.disp': 2490, '2gm': 2491, '30ml': 2492, 'abdomen': 2493, 'allergies': 2494, 'bandage': 2495, 'bidprn': 2496, 'boxrefill': 2497, 'cartridgesig': 2498, 'celebrex': 2499, 'chf': 2500, 'citric': 2501, 'creon': 2502, 'cromolyn': 2503, 'determine': 2504, 'died': 2505, 'dm': 2506, 'dosesubcutaneous': 2507, 'erythema': 2508, 'everyfriday': 2509, 'everysaturday': 2510, 'flexeril': 2511, 'gain': 2512, 'giving': 2513, 'guidelines': 2514, 'head': 2515, 'hickman': 2516, 'hospitalclinic': 2517, 'hrptt': 2518, 'inch': 2519, 'kitmiscellaneous': 2520, 'made': 2521, 'maintenance': 2522, 'mondays': 2523, 'monitored': 2524, 'nameat': 2525, 'ocuvite': 2526, 'oxacillin': 2527, 'painplease': 2528, 'peripheral': 2529, 'peroxide': 2530, 'poqidachs': 2531, 'qhs.disp': 2532, 'scheduled': 2533, 'specified': 2534, 'subcutaneousqachs': 2535, 'sumatriptan': 2536, 'take2': 2537, 'transdermalq72h': 2538, 'valps': 2539, 'vent': 2540, 'vesicare': 2541, '.doctor': 2542, '1.disp': 2543, '2.disp': 2544, '24.disp': 2545, '40,000': 2546, 'able': 2547, 'added': 2548, 'advised': 2549, 'basal': 2550, 'break': 2551, 'bronchospasm': 2552, 'bumex': 2553, 'canula': 2554, 'chem10': 2555, 'clostridium': 2556, 'continueuntil': 2557, 'crackers': 2558, 'culture': 2559, 'cymbalta': 2560, 'dailyand': 2561, 'day.date': 2562, 'diabetic': 2563, 'discussed': 2564, 'ditropan': 2565, 'doseto': 2566, 'dropperetteophthalmic': 2567, 'ed': 2568, 'ethacrynic': 2569, 'everythursday': 2570, 'followup': 2571, 'fracture': 2572, 'frequently': 2573, 'gauge': 2574, 'gauze': 2575, 'hist': 2576, 'imipenem': 2577, 'improves': 2578, 'insulinper': 2579, 'intravenousq24h': 2580, 'leflunomide': 2581, 'lumigan': 2582, 'megace': 2583, 'nausearx': 2584, 'nebulizers': 2585, 'numresults': 2586, 'nursing': 2587, 'oncologist': 2588, 'pain.hospital': 2589, 'polacrilex': 2590, 'pravachol': 2591, 'products': 2592, 'psoriasis': 2593, 'pulmicort': 2594, 'q6hours': 2595, 'report': 2596, 'set': 2597, 'signs': 2598, 'slow': 2599, 'spacer': 2600, 'tomaintain': 2601, 'topamax': 2602, 'tue': 2603, 'wait': 2604, 'workyou': 2605, '!': 2606, '1,625': 2607, '26.disp': 2608, '3.5.disp': 2609, '4u': 2610, '8pm': 2611, 'adjustment': 2612, 'alkaline': 2613, 'amonth': 2614, 'anemia': 2615, 'aspiration': 2616, 'because': 2617, 'breakfastglargine': 2618, 'buccal': 2619, 'bulk': 2620, 'buttocks': 2621, 'cilastatin': 2622, 'clavulanic': 2623, 'continues': 2624, 'cp': 2625, 'dailyuntil': 2626, 'diet': 2627, 'diphenhyd': 2628, 'downrx': 2629, 'effusion': 2630, 'eval': 2631, 'glucotrol': 2632, 'glycerin': 2633, 'heavymachinery': 2634, 'inj': 2635, 'inr.disp': 2636, 'insulincontinue': 2637, 'levobunolol': 2638, 'liter': 2639, 'md.name': 2640, 'medicateds': 2641, 'milrinone': 2642, 'miss': 2643, 'nabumetone': 2644, 'namepattern1': 2645, 'notexceed': 2646, 'oxygen2l': 2647, 'peak': 2648, 'placed': 2649, 'pseudoephedrine': 2650, 'puree': 2651, 'q5': 2652, 'qidrx': 2653, 'releases': 2654, 'risedronate': 2655, 'risperdal': 2656, 'stat': 2657, 'subcutaneousq24h': 2658, 'takes': 2659, 'unitsinsulin': 2660, 'unitsunits': 2661, 'ventolin': 2662, 'viagra': 2663, 'walker': 2664, 'workserial': 2665, 'would': 2666, 'x7days': 2667, '17,000': 2668, '19.disp': 2669, '27,000': 2670, '28.disp': 2671, '4th': 2672, '5.disp': 2673, '60capsule': 2674, 'asthma': 2675, 'atnoon': 2676, 'atrialfibrillation': 2677, 'balance': 2678, 'body': 2679, 'cad': 2680, 'carafate': 2681, 'caution': 2682, 'cont': 2683, 'cultures': 2684, 'develop': 2685, 'different': 2686, 'doxercalciferol': 2687, 'drainage': 2688, 'drains': 2689, 'eat': 2690, 'exam': 2691, 'eyeophthalmic': 2692, 'fine': 2693, 'fourhundred': 2694, 'galantamine': 2695, 'hand': 2696, 'hiccups': 2697, 'improved': 2698, 'inpatient': 2699, 'insulinregular': 2700, 'lamictal': 2701, 'lastday': 2702, 'miscellaneousfour': 2703, 'mlmouthwash': 2704, 'mobile': 2705, 'notdrive': 2706, 'numrx': 2707, 'nutren': 2708, 'pending': 2709, 'phytonadione': 2710, 'piccpicc': 2711, 'portable': 2712, 'ppx': 2713, 'prilocaine': 2714, 'primarycare': 2715, 'proscar': 2716, 'q6hregularglucose': 2717, 'releasesig': 2718, 'rest': 2719, 'safety': 2720, 'sbp<95': 2721, 'scalebreakfast': 2722, 'service': 2723, 'setting': 2724, 'smoking': 2725, 'tocomplete': 2726, 'transfer': 2727, 'ultrafine': 2728, 'weeksrx': 2729, 'wounds': 2730, 'x3days': 2731, '18.disp': 2732, '20units': 2733, '21.disp': 2734, '4hrs': 2735, 'abx': 2736, 'aciphex': 2737, 'allow': 2738, 'anaphylaxis': 2739, 'angina': 2740, 'anticoagulation': 2741, 'azelastine': 2742, 'bd': 2743, 'benicar': 2744, 'bladder': 2745, 'bp<100': 2746, 'byetta': 2747, 'carephysician': 2748, 'chemotherapy': 2749, 'compression': 2750, 'd1': 2751, 'doseinhalation': 2752, 'dronedarone': 2753, 'f.': 2754, 'feed': 2755, 'forinsomnia': 2756, 'glaucoma': 2757, 'glycopyrrolate': 2758, 'house': 2759, 'hr<60rx': 2760, 'hrname': 2761, 'hypotension': 2762, 'infectiousdisease': 2763, 'ir': 2764, 'itchiness': 2765, 'mealsrx': 2766, 'medroxyprogesterone': 2767, 'mirapex': 2768, \"n't\": 2769, 'nasaltwice': 2770, 'needed.hospital': 2771, 'neutra': 2772, 'no.2': 2773, 'outpt': 2774, 'perles': 2775, 'poq3': 2776, 'pounds': 2777, 'reconstitutionsig': 2778, 'settings': 2779, 'short': 2780, 'sig:1.5': 2781, 'strength;starting': 2782, 'syringemiscellaneous': 2783, 'they': 2784, 'thirteen': 2785, 'timesdaily': 2786, 'toname': 2787, 'transition': 2788, 'treatments': 2789, 'twentyfive': 2790, 'uroxatral': 2791, 'withhypoglycemia': 2792, 'xt': 2793, '0.5tablet': 2794, '12u': 2795, '13.disp': 2796, '16.disp': 2797, '1months': 2798, '2tabs': 2799, '48hours': 2800, '4grams': 2801, '4weeks': 2802, '7tablet': 2803, '8,000': 2804, '9.disp': 2805, 'add': 2806, 'arrange': 2807, 'bedtimeregular': 2808, 'beginning': 2809, 'breathactivated': 2810, 'capsulerefills': 2811, 'confirmed': 2812, 'country': 2813, 'daily16rx': 2814, 'dailyapply': 2815, 'delirium': 2816, 'disopyramide': 2817, 'duricef': 2818, 'endocet': 2819, 'equal': 2820, 'everyday': 2821, 'everytuesday': 2822, 'faxphone': 2823, 'fill': 2824, 'for30': 2825, 'fosamprenavir': 2826, 'fully': 2827, 'headaches': 2828, 'hn': 2829, 'holding': 2830, 'hundredfifty': 2831, 'hunger': 2832, 'i': 2833, 'inhalationq8h': 2834, 'insulinhumalog': 2835, 'lancetmiscellaneous': 2836, 'layer': 2837, 'medicationsplease': 2838, 'membraneqid': 2839, 'minintravenous': 2840, 'mlsintravenous': 2841, 'nasonex': 2842, 'nurses': 2843, 'pad': 2844, 'pe': 2845, 'ph': 2846, 'phosphatase': 2847, 'pleasegive': 2848, 'poqpm': 2849, 'probenecid': 2850, 'proceedwith': 2851, 'provigil': 2852, 'q8hr': 2853, 'receiving': 2854, 'red': 2855, 'remain': 2856, 'sacral': 2857, 'sbp<100rx': 2858, 'scalp': 2859, 'sensitive': 2860, 'shouldbe': 2861, 'sleepy': 2862, 'solutionfor': 2863, 'tachycardia': 2864, 'thenstop': 2865, 'therapyoutpatient': 2866, 'titration': 2867, 'tophone': 2868, 'try': 2869, 'unittablet': 2870, 'ventricular': 2871, 'vertigo': 2872, 'weights': 2873, 'x5': 2874, 'zaroxolyn': 2875, '...': 2876, '10cc': 2877, '14.disp': 2878, '15.disp': 2879, '16units': 2880, '20,000,000': 2881, '200mgdaily': 2882, '2nd': 2883, '2pm': 2884, 'again': 2885, 'aloe': 2886, 'am.disp': 2887, 'awake': 2888, 'bowelmovements': 2889, 'boxes': 2890, 'bridge': 2891, 'carbamide': 2892, 'caspofungin': 2893, 'chewablespo': 2894, 'continous': 2895, 'continuously': 2896, 'cuff': 2897, 'dailystart': 2898, 'desipramine': 2899, 'desonide': 2900, 'doctors': 2901, 'dosewill': 2902, 'dr.nameoffice': 2903, 'equipment': 2904, 'etravirine': 2905, 'extendedrelease': 2906, 'family': 2907, 'feedings': 2908, 'fluvoxamine': 2909, 'furtherdosing': 2910, 'included': 2911, 'inhalationtwice': 2912, 'injectionevery': 2913, 'injectiontid': 2914, 'inrnum': 2915, 'juiceand': 2916, 'just': 2917, 'laxative': 2918, 'leucovorin': 2919, 'map': 2920, 'medicationplease': 2921, 'nicardipine': 2922, 'ofacetaminophen': 2923, 'ophthalmictwice': 2924, 'oxygenpatient': 2925, 'painmedication': 2926, 'phoneicd': 2927, 'phoslo': 2928, 'pohs': 2929, 'posaconazole': 2930, 'priorto': 2931, 'q2hrs': 2932, 'q6hrx': 2933, 'qdinner': 2934, 'redness': 2935, 'renagel': 2936, 'ritalin': 2937, 'scbs': 2938, 'second': 2939, 'seconds': 2940, 'support': 2941, 'suppositories': 2942, 'supratherapeutic': 2943, 't4': 2944, 'tetracycline': 2945, 'thick': 2946, 'travatan': 2947, 'truvada': 2948, 'tubing': 2949, 'tuesdays': 2950, 'urethral': 2951, 'wall': 2952, '23.disp': 2953, '25.disp': 2954, '27.disp': 2955, '29.disp': 2956, '8am': 2957, 'ace': 2958, 'achieve': 2959, 'actuationinhalation': 2960, 'alkphos': 2961, 'amaryl': 2962, 'andthen': 2963, 'appt': 2964, 'atnight': 2965, 'benzocaine': 2966, \"c'd\": 2967, 'car': 2968, 'chantix': 2969, 'clear': 2970, 'conc': 2971, 'constipationhold': 2972, 'cre': 2973, 'danazol': 2974, 'difficulty': 2975, 'directedby': 2976, 'effexor': 2977, 'etc': 2978, 'even': 2979, 'excessive': 2980, 'flexpen': 2981, 'for12': 2982, 'forfurther': 2983, 'forone': 2984, 'fridays': 2985, 'gms': 2986, 'hctz': 2987, 'hospitalhospital': 2988, 'hrresidual': 2989, 'hydrophil': 2990, 'hydrox': 2991, 'ifyou': 2992, 'increases': 2993, 'inhalationq3': 2994, 'inr2.0': 2995, 'instead': 2996, 'intravenousq8h': 2997, 'kcal': 2998, 'ketorolac': 2999, 'lax': 3000, 'managed': 3001, 'measure': 3002, 'minocycline': 3003, 'mlsyringe': 3004, 'mri': 3005, 'name.name': 3006, 'nottake': 3007, 'oint': 3008, 'ophthalmictid': 3009, 'pain.disp': 3010, 'paste': 3011, 'pentamidine': 3012, 'perweek': 3013, 'petrolat': 3014, 'phlebitis': 3015, 'pleasecheck': 3016, 'positive': 3017, 'protein': 3018, 'prozac': 3019, 'q6hhold': 3020, 'reached': 3021, 'remeron': 3022, 'requiring': 3023, 'restlessness': 3024, 'rests': 3025, 'resultsfaxed': 3026, 'robitussin': 3027, 'scaleinjection': 3028, 'self': 3029, 'semiweekly': 3030, 'sig:4': 3031, 'smoke': 3032, 'solutab': 3033, 'subcutaneousasdir': 3034, 'takewith': 3035, 'them': 3036, 'therapydx': 3037, 'thicksecretions': 3038, 'third': 3039, 'together': 3040, 'tolerate': 3041, 'tothe': 3042, 'twentytwo': 3043, 'weakness': 3044, 'workdilantin': 3045, 'written': 3046, '100rx': 3047, '14tablet': 3048, '15units': 3049, '22.disp': 3050, '30units': 3051, '3tablets': 3052, '3tabs': 3053, '48,000': 3054, '5minutes': 3055, '5units': 3056, 'activities': 3057, 'advanced': 3058, 'af': 3059, 'along': 3060, 'amiloride': 3061, 'applicationophthalmic': 3062, 'argatroban': 3063, 'arms': 3064, 'arrival': 3065, 'asinstructed': 3066, 'ask': 3067, 'asp': 3068, 'bloodpressure': 3069, 'breakfastnph': 3070, 'burn': 3071, 'callresults': 3072, 'carb': 3073, 'cath': 3074, 'ccs': 3075, 'checking': 3076, 'cmv': 3077, 'coagulation': 3078, 'combine': 3079, 'coughing': 3080, 'dailydaterange': 3081, 'daynum': 3082, 'days.date': 3083, 'electrolyte': 3084, 'excess': 3085, 'fat': 3086, 'forsecretions': 3087, 'hgb': 3088, 'indinavir': 3089, 'influenza': 3090, 'insulinpen': 3091, 'juice61': 3092, 'kayexalate': 3093, 'lift': 3094, 'lytes': 3095, 'm.d': 3096, 'macrocryst25': 3097, 'mist': 3098, 'offer': 3099, 'onedose': 3100, 'operatemachinery': 3101, 'oroperate': 3102, 'oseltamivir': 3103, 'pain.name': 3104, 'peri': 3105, 'phenergan': 3106, 'pleasespecify': 3107, 'poq3h': 3108, 'prep': 3109, 'prevention': 3110, 'propofol': 3111, 'purchased': 3112, 'rectalevery': 3113, 'rectalq6h': 3114, 'renvela': 3115, 'review': 3116, 'salicylate': 3117, 'salsalate': 3118, 'scalefingerstick': 3119, 'scoop': 3120, 'services': 3121, 'shampoo': 3122, 'sig:4.5': 3123, 'size': 3124, 'slowly': 3125, 'somnolence': 3126, 'ssi': 3127, 'stage': 3128, 'stripmiscellaneous': 3129, 'supper': 3130, 'swabs': 3131, 'temporary': 3132, 'thigh': 3133, 'timesper': 3134, 'topicalonce': 3135, 'topicalprn': 3136, 'totake': 3137, 'triglycerides': 3138, 'type': 3139, 'unitsbg': 3140, 'untill': 3141, 'upwith': 3142, 'values': 3143, 'zafirlukast': 3144, '....': 3145, '3.0first': 3146, '3.disp': 3147, '3ml': 3148, '8.disp': 3149, 'accessingport': 3150, 'acebutolol': 3151, 'activatedsig': 3152, 'active': 3153, 'afterdialysis': 3154, 'anxietyrx': 3155, 'appropriately': 3156, 'avrgoal': 3157, 'bicalutamide': 3158, 'bloodsugar': 3159, 'breasts': 3160, 'canister': 3161, 'capsaicin': 3162, 'carisoprodol': 3163, 'chemistries': 3164, 'chlorpheniramine': 3165, 'cleared': 3166, 'closed': 3167, 'code': 3168, 'covering': 3169, 'd5051': 3170, 'dailyif': 3171, 'diseases': 3172, 'effervescent': 3173, 'evaluated': 3174, 'factor': 3175, 'faxedto': 3176, 'fe': 3177, 'fibersource': 3178, 'finally': 3179, 'flushtunneled': 3180, 'forcough': 3181, 'forsedation': 3182, 'furtherinstructed': 3183, 'future': 3184, 'generic': 3185, 'gramsinjection': 3186, 'health': 3187, 'hemorrhoidal': 3188, 'heparinflush': 3189, 'hr<50': 3190, 'increasing': 3191, 'infatabs': 3192, 'inrdx': 3193, 'instructons': 3194, 'interval': 3195, 'le': 3196, 'lescol': 3197, 'liothyronine': 3198, 'lpm': 3199, 'lunesta': 3200, 'm20': 3201, 'methyl': 3202, 'momname': 3203, 'much': 3204, 'nebtreatment': 3205, 'oraldaily': 3206, 'ordrive': 3207, 'ot': 3208, 'pcpname': 3209, 'pleasefax': 3210, 'poly': 3211, 'prandin': 3212, 'preservision': 3213, 'prnfor': 3214, 'prnhold': 3215, 'prt': 3216, 'pyrazinamide': 3217, 'q2hr': 3218, 'q48': 3219, 'regularinsulin': 3220, 'removal': 3221, 'rolling': 3222, 'saturdays': 3223, 'secondary': 3224, 'seeinstructions': 3225, 'seek': 3226, 'session': 3227, 'shower': 3228, 'space': 3229, 'tabletdaily': 3230, 'takethis': 3231, 'thendiscontinue': 3232, 'therapyto': 3233, 'threehundred': 3234, 'ticlopidine': 3235, 'tolerating': 3236, 'toprevent': 3237, 'trandolapril': 3238, 'twentyfour': 3239, 'unitcapsule': 3240, 'units211': 3241, 'units320': 3242, 'withdrawal': 3243, 'workvancomycin': 3244, 'youshould': 3245, '100cc': 3246, '100units': 3247, '1l': 3248, '30.disp': 3249, '5000injection': 3250, '5000units': 3251, '5pm': 3252, '5tablet': 3253, '60rx': 3254, 'ac&hs': 3255, 'afterwards': 3256, 'amikacin': 3257, 'andfax': 3258, 'andnum': 3259, 'androgel': 3260, 'asdirsubcutaneous': 3261, 'asprescribed': 3262, 'atbreakfast': 3263, 'athospital': 3264, 'beforebreakfast': 3265, 'beforemeals': 3266, 'breakfasthumalog': 3267, 'chlordiazepoxide': 3268, 'college': 3269, 'contains': 3270, 'contrast': 3271, \"dc'd\": 3272, 'deliver': 3273, 'diagnostic': 3274, 'directions': 3275, 'doing': 3276, 'doseaccordingly': 3277, 'drowsy': 3278, 'dvtprophylaxis': 3279, 'emulsion': 3280, 'enablex': 3281, 'encephalopathy': 3282, 'entecavir': 3283, 'equipmentplease': 3284, 'exelon': 3285, 'facial': 3286, 'fast': 3287, 'fasting': 3288, 'finishes': 3289, 'florastor': 3290, 'flushheparin': 3291, 'forsbp': 3292, 'frequent': 3293, 'fromdaterange': 3294, 'gj': 3295, 'however': 3296, 'hx': 3297, 'important': 3298, 'inhalations': 3299, 'insulinrx': 3300, 'isno': 3301, 'jtube': 3302, 'juice51': 3303, 'later': 3304, 'lisp': 3305, 'load': 3306, 'lomotil': 3307, 'lutein;brmv': 3308, 'mattress': 3309, 'mdto': 3310, 'meloxicam': 3311, 'mental': 3312, 'methenamine': 3313, 'microspheres': 3314, 'mid': 3315, 'milliliters': 3316, 'miscellaneoustwice': 3317, 'misoprostol': 3318, 'mobility': 3319, 'nebneb': 3320, 'nostrils': 3321, 'noted': 3322, 'numand': 3323, 'numthen': 3324, 'ofnum': 3325, 'operating': 3326, 'polystyrene': 3327, 'povidon': 3328, 'preventconstipation': 3329, 'puritis': 3330, 'q1hr': 3331, 'qweekly': 3332, 'recs': 3333, 'request': 3334, 'resuming': 3335, 'rhythm': 3336, 'riss': 3337, 'rr<12rx': 3338, 'saturations': 3339, 'scan': 3340, 'sensipar': 3341, 'separate': 3342, 'sessions': 3343, 'sig:6': 3344, 'sinemet': 3345, 'sit': 3346, 'sorbitol': 3347, 'spine': 3348, 'stripsplease': 3349, 'sulfonate': 3350, 't.': 3351, 'takeone': 3352, 'tapering': 3353, 'tel': 3354, 'thepatient': 3355, 'thirtyfive': 3356, 'titrateto': 3357, 'toaffected': 3358, 'tosliding': 3359, 'tracheostomy': 3360, 'tubefeeding': 3361, 'tumor': 3362, 'ulcers': 3363, 'units361': 3364, 'university': 3365, 'upto': 3366, 'urinary': 3367, 'v.': 3368, 'ventilation': 3369, 'wear': 3370, 'wheezingrx': 3371, 'workblood': 3372, 'workdraw': 3373, 'workon': 3374, 'yourself': 3375, 'zydis': 3376, '10.disp': 3377, '14units': 3378, '1=': 3379, '1gm': 3380, '1pill': 3381, '2,000,000': 3382, '3weeks': 3383, '7.disp': 3384, '7units': 3385, 'acting': 3386, 'admit': 3387, 'aerosolinhaler': 3388, 'against': 3389, 'aid': 3390, 'anxietyhold': 3391, 'appetite': 3392, 'applied': 3393, 'artery': 3394, 'astelin': 3395, 'atripla': 3396, 'becomes': 3397, 'bedirected': 3398, 'bid400': 3399, 'billion': 3400, 'bisoprolol': 3401, 'boxrefills': 3402, 'bydr': 3403, 'calcipotriene': 3404, 'careper': 3405, 'cellulitis': 3406, 'chart': 3407, 'cold': 3408, 'colesevelam': 3409, 'come': 3410, 'compressor': 3411, 'consult': 3412, 'continuing': 3413, 'controlled': 3414, 'coumadinclinic': 3415, 'cut': 3416, 'd.': 3417, 'day.daterange': 3418, 'degrees': 3419, 'directedper': 3420, 'diuretic': 3421, 'doseintravenous': 3422, 'dots': 3423, 'eachnostril': 3424, 'ecotrin': 3425, 'embolism': 3426, 'empty': 3427, 'enteric': 3428, 'everymorning': 3429, 'evista': 3430, 'extubated': 3431, 'feel': 3432, 'felbamate': 3433, 'flaxseed': 3434, 'forgoal': 3435, 'fornausea': 3436, 'fosinopril': 3437, 'french': 3438, 'fro': 3439, 'glucerna': 3440, 'glucoses': 3441, 'hbr': 3442, 'headacherx': 3443, 'hr<12': 3444, 'hr<6': 3445, 'humalogsliding': 3446, 'injury': 3447, 'life': 3448, 'lumendaily': 3449, 'metaxalone': 3450, 'mucomyst': 3451, 'nameoffice': 3452, 'naphazoline': 3453, 'napo4': 3454, 'nasalonce': 3455, 'nebsinhalation': 3456, 'nightly': 3457, 'nitroquick': 3458, 'norepinephrine': 3459, 'numsprays': 3460, 'ofantibiotics': 3461, 'onthis': 3462, 'ophthalmicqid': 3463, 'orderdate': 3464, 'oxygen1': 3465, 'oxygencontinuous': 3466, 'past': 3467, 'patientis': 3468, 'peritoneal': 3469, 'phonephone': 3470, 'phosphorus': 3471, 'pna': 3472, 'poq2h': 3473, 'pressures': 3474, 'q6hinsulin': 3475, 'qachs.disp': 3476, 'qsunday': 3477, 'qtc': 3478, 'rectaltwice': 3479, 'sedating': 3480, 'serevent': 3481, 'since': 3482, 'statin': 3483, 'sub': 3484, 'sundays': 3485, 'surgical': 3486, 'sw': 3487, 'thefollowing': 3488, 'thehospital': 3489, 'tid.disp': 3490, 'tissue': 3491, 'to200': 3492, 'toadmission': 3493, 'tocontinue': 3494, 'toe': 3495, 'told': 3496, 'topically': 3497, 'topicalthree': 3498, 'trihexyphenidyl': 3499, 'tromethamine': 3500, 'tunneled': 3501, 'vesta': 3502, 'viral': 3503, 'whether': 3504, 'with10ml': 3505, 'workevery': 3506, 'wrist': 3507, 'xalatan': 3508, 'yourcardiologist': 3509, 'yourcoumadin': 3510, '13units': 3511, '2rx': 3512, '500,000': 3513, '50cc': 3514, '6.disp': 3515, '60ml': 3516, '90tablet': 3517, 'adjustments': 3518, 'administering': 3519, 'already': 3520, 'amino': 3521, 'anal': 3522, 'arginine': 3523, 'asmanex': 3524, 'assist': 3525, 'balsalazide': 3526, 'bedplease': 3527, 'bedsemi': 3528, 'begiven': 3529, 'bethanechol': 3530, 'breakthroughpain': 3531, 'calcarb': 3532, 'caredoctor': 3533, 'chain': 3534, 'checkinr': 3535, 'cholesterol': 3536, 'co2': 3537, 'colitis': 3538, 'completely': 3539, 'concentration': 3540, 'condition': 3541, 'cq': 3542, 'critical': 3543, 'cryst': 3544, 'd5071': 3545, 'dayday': 3546, 'dayshold': 3547, 'daystapered': 3548, 'depending': 3549, 'drivewhile': 3550, 'elements': 3551, 'endocrinologist': 3552, 'equivalent': 3553, 'everywednesday': 3554, 'extremities': 3555, 'famciclovir': 3556, 'fibgoal': 3557, 'for11': 3558, 'foranxiety': 3559, 'fordiarrhea': 3560, 'found': 3561, 'ganciclovir': 3562, 'glucometerplease': 3563, 'good': 3564, 'graft': 3565, 'hemorrhoid': 3566, 'homedose': 3567, 'hr<14': 3568, 'hrcycle': 3569, 'hrhospital': 3570, 'humidification': 3571, 'hypoxia': 3572, 'ifneeded': 3573, 'initials': 3574, 'injectionintravenous': 3575, 'injectionprn': 3576, 'instruction': 3577, 'insulintake': 3578, 'isosource': 3579, 'issues': 3580, 'kcl.disp': 3581, 'kpo4': 3582, 'letrozole': 3583, 'lip': 3584, 'listed': 3585, 'lotrel': 3586, 'metastatic': 3587, 'methazolamide': 3588, 'milligrams': 3589, 'mmhg': 3590, 'mono': 3591, 'most': 3592, 'mu': 3593, 'naloxone': 3594, 'nanocrystallized': 3595, 'nasaldaily': 3596, 'neupogen': 3597, 'notice': 3598, 'numfor': 3599, 'numinjection': 3600, 'nutrition': 3601, 'od': 3602, 'oftylenol': 3603, 'oneweek': 3604, 'onset': 3605, 'original': 3606, 'oxecta': 3607, 'packetpo': 3608, 'pca': 3609, 'perprotocol': 3610, 'phoneall': 3611, 'placement': 3612, 'pleasehold': 3613, 'pletal': 3614, 'poat': 3615, 'pole': 3616, 'poor': 3617, 'prnpain': 3618, 'pulmonologist': 3619, 'q24hday': 3620, 'q24hplease': 3621, 'q4pm': 3622, 'rapiddissolves': 3623, 'reach': 3624, 'recently': 3625, 'reconsolns': 3626, 'reduced': 3627, 'replace': 3628, 'rib': 3629, 'scaleregular': 3630, 'single': 3631, 'sleeping': 3632, 'social': 3633, 'solifenacin': 3634, 'soon': 3635, 'sores': 3636, 'starton': 3637, 'subcutaneousqam': 3638, 'substitutions': 3639, 'tachypnea': 3640, 'throughnum': 3641, 'tohospital': 3642, 'toyour': 3643, 'training': 3644, 'traumatic': 3645, 'twisthaler': 3646, 'unitrefills': 3647, 'upappointment': 3648, 'valtrex': 3649, 'valvegoal': 3650, 'whileon': 3651, 'workhave': 3652, 'workoutpatient': 3653, 'yourinr': 3654, 'yourpcp': 3655, 'z': 3656, '11.disp': 3657, '12rx': 3658, '14u': 3659, '1capsule': 3660, '1u': 3661, '1wk': 3662, '20ml': 3663, '2grams': 3664, '2tablet': 3665, '4gms': 3666, '4uglucoses': 3667, '5cc': 3668, '5times': 3669, '6pm': 3670, '6times': 3671, '8hrs': 3672, '<3': 3673, 'a.m.': 3674, 'acarbose': 3675, 'alone': 3676, 'aminocaproic': 3677, 'ampule': 3678, 'anagrelide': 3679, 'andadjust': 3680, 'anddinner': 3681, 'antifungal': 3682, 'appointments': 3683, 'asper': 3684, 'attack': 3685, 'beta': 3686, 'bitartrate': 3687, 'biweekly': 3688, 'boniva': 3689, 'breakfast70': 3690, 'bring': 3691, 'cabergoline': 3692, 'calcium+d': 3693, 'clean': 3694, 'cleanser': 3695, 'clozaril': 3696, 'coated': 3697, 'cognitive': 3698, 'communicate': 3699, 'conserving': 3700, 'consitpation': 3701, 'copy': 3702, 'could': 3703, 'counting': 3704, 'day:2': 3705, 'daysafter': 3706, 'delerium': 3707, 'diltia': 3708, 'direct': 3709, 'double': 3710, 'drinkalcohol': 3711, 'dysfunction': 3712, 'early': 3713, 'ekg': 3714, 'elbow': 3715, 'eleven': 3716, 'enough': 3717, 'es': 3718, 'everyseventy': 3719, 'evidence': 3720, 'expiratory': 3721, 'eyesophthalmic': 3722, 'fa': 3723, \"fax'd\": 3724, 'fellow': 3725, 'fivetimes': 3726, 'flushinjection': 3727, 'forordering': 3728, 'gait': 3729, 'general': 3730, 'glatiramer': 3731, 'gt': 3732, 'hippurate': 3733, 'hypochlorite': 3734, 'ifpatient': 3735, 'improve': 3736, 'inhibitor': 3737, 'inspiratory': 3738, 'isnum': 3739, 'kac': 3740, 'labwork': 3741, 'lactose': 3742, 'lesions': 3743, 'loosestools': 3744, 'mercaptopurine': 3745, 'midnight': 3746, 'mm': 3747, 'motor': 3748, 'mr1': 3749, 'mucositis': 3750, 'mylanta': 3751, 'naac': 3752, 'naltrexone': 3753, 'name:15': 3754, 'narcoticpain': 3755, 'nasalcannula': 3756, 'natural': 3757, 'nebmiscellaneous': 3758, 'nebuleinhalation': 3759, 'needed.name': 3760, 'needlemiscellaneous': 3761, 'numtake': 3762, 'ocean': 3763, 'old': 3764, 'onehundred': 3765, 'onmonday': 3766, 'operative': 3767, 'ophthalmiconce': 3768, 'overnight': 3769, 'paricalcitol': 3770, 'part': 3771, 'patchestransdermal': 3772, 'persistent': 3773, 'phenylephrine': 3774, 'platelet': 3775, 'platelets': 3776, 'pleasecall': 3777, 'pleural': 3778, 'premarin': 3779, 'present': 3780, 'print': 3781, 'prnconstipation': 3782, 'probalance': 3783, 'purchase': 3784, 'pylori': 3785, 'pyridium': 3786, 'qbreakfast': 3787, 'qhsrx': 3788, 'qmonday': 3789, 'quantity': 3790, 'r.n.s': 3791, 'rectalqd': 3792, 'region': 3793, 'residuals': 3794, 'reviewed': 3795, 'run': 3796, 'scaleas': 3797, 'scalehumalog': 3798, 'scinjection': 3799, 'semi': 3800, 'sexual': 3801, 'sinus': 3802, 'skip': 3803, 'some': 3804, 'staff': 3805, 'stenosis': 3806, 'sterile': 3807, 'subcutaneousbefore': 3808, 'super': 3809, 'tadalafil': 3810, 'therapyhome': 3811, 'tidplease': 3812, 'tigecycline': 3813, 'tip': 3814, 'tostart': 3815, 'trace': 3816, 'u.': 3817, 'unitsat': 3818, 'untis': 3819, 'value': 3820, 'vehicle': 3821, 'venous': 3822, 'vite': 3823, 'worklab': 3824, 'x2days': 3825, 'yet': 3826, 'youare': 3827, 'yourdoctor': 3828, '0u': 3829, '100ml': 3830, '100unit': 3831, '15ml': 3832, '1hour': 3833, '20u': 3834, '30days': 3835, '7doses': 3836, '8days': 3837, 'ache': 3838, 'advice': 3839, 'aggrenox': 3840, 'andat': 3841, 'ankle': 3842, 'anzemet': 3843, 'apartment': 3844, 'apraclonidine': 3845, 'aq': 3846, 'aqua': 3847, 'asdirinjection': 3848, 'associated': 3849, 'atrium': 3850, 'aware': 3851, 'bacitracnzn': 3852, 'basis': 3853, 'bedtimefor': 3854, 'bidwm': 3855, 'biotin': 3856, 'bleed': 3857, 'boost': 3858, 'breakthru': 3859, 'breathlessness': 3860, 'bysliding': 3861, 'caffeine': 3862, 'candesartan': 3863, 'cardura': 3864, 'cartridges': 3865, 'chlorothiazide': 3866, 'clinically': 3867, 'clomipramine': 3868, 'coags': 3869, 'confirm': 3870, 'constip': 3871, 'constipated': 3872, 'consume': 3873, 'correction': 3874, 'coumadinplease': 3875, 'cramping': 3876, 'cutaneous': 3877, 'cypionate': 3878, 'dailydo': 3879, 'dailyweek': 3880, 'day.phone': 3881, 'decreases': 3882, 'deficiency': 3883, 'dementia': 3884, 'dermatitis': 3885, 'diflucan': 3886, 'dinnertime': 3887, 'dobhoff': 3888, 'ears': 3889, 'effective': 3890, 'either': 3891, 'elevating': 3892, 'eloped': 3893, 'ends': 3894, 'epzicom': 3895, 'erlotinib': 3896, 'few': 3897, 'film': 3898, 'fit': 3899, 'flexhaler': 3900, 'fluocinolone': 3901, 'fluvastatin': 3902, 'followprinted': 3903, 'formulation': 3904, 'forportability': 3905, 'forwheezes': 3906, 'getting': 3907, 'hdprotocol': 3908, 'hematologist': 3909, 'holdsbp': 3910, 'hospital:15': 3911, 'hp': 3912, 'hr<8': 3913, 'hyponatremia': 3914, 'illness': 3915, 'induced': 3916, 'inhalerinhalation': 3917, 'injsubcutaneous': 3918, 'inr2': 3919, 'inrchecked': 3920, 'insomina': 3921, 'insulinglucoses': 3922, 'insurance': 3923, 'intravenousqhd': 3924, 'itraconazole': 3925, 'juice71': 3926, 'length': 3927, 'lessthan': 3928, 'lozenges': 3929, 'mgmg': 3930, 'mgnum': 3931, 'mgtablet': 3932, 'mgtapered': 3933, 'microcapsule': 3934, 'milliliterspo': 3935, 'minimum': 3936, 'mlns': 3937, 'moredays': 3938, 'morningand': 3939, 'namefour': 3940, 'namepattern4': 3941, 'nephrologist': 3942, 'nicoderm': 3943, 'niferex': 3944, 'obstructive': 3945, 'officephone': 3946, 'ofthe': 3947, 'ofthis': 3948, 'ofyour': 3949, 'orif': 3950, 'outlined': 3951, 'p.m.': 3952, 'pannus': 3953, 'parkinson': 3954, 'pat': 3955, 'pheniramine': 3956, 'piccline': 3957, 'piroxicam': 3958, 'pleasefollow': 3959, 'prescriptions': 3960, 'preserv': 3961, 'productavailable': 3962, 'propylthiouracil': 3963, 'psv': 3964, 'q72': 3965, 'qtuesday': 3966, 'recommend': 3967, 'regurgitation': 3968, 'resolution': 3969, 'resp.rate': 3970, 'rhinocort': 3971, 'scalecheck': 3972, 'scalesee': 3973, 'screen': 3974, 'seesliding': 3975, 'separately': 3976, 'speak': 3977, 'stabilized': 3978, 'stopping': 3979, 'stripsone': 3980, 'such': 3981, 'suctioning': 3982, 'sufficient': 3983, 'supplements': 3984, 'table': 3985, 'tablespoon': 3986, 'tabletssublingual': 3987, 'take3': 3988, 'talk': 3989, 'tank': 3990, 'tape': 3991, 'tell': 3992, 'thursdays': 3993, 'tolerates': 3994, 'too': 3995, 'totalof': 3996, 'twiceweekly': 3997, 'twotablets': 3998, 'twoweeks': 3999, 'units110': 4000, 'units341': 4001, 'units;fs': 4002, 'untilfollow': 4003, 'urinalysis': 4004, 'valerate': 4005, 'valves': 4006, 'vancocin': 4007, 'ventilator': 4008, 'viscous': 4009, 'weekcourse': 4010, 'whilehospitalized': 4011, 'withbreakfast': 4012, 'wks': 4013, 'workbun': 4014, 'workhematocrit': 4015, 'x6': 4016, 'xeroform': 4017, 'zemplar': 4018, '.please': 4019, '100u': 4020, '10pm': 4021, '120tablet': 4022, '2d': 4023, '2uglucoses': 4024, '3.5first': 4025, '30minutes': 4026, '3months': 4027, '50ml': 4028, '55rx': 4029, '5l': 4030, '6am': 4031, '6l': 4032, '9units': 4033, 'a.': 4034, 'actigall': 4035, 'aday.hospital': 4036, 'adequate': 4037, 'adjustdose': 4038, 'allows': 4039, 'andcall': 4040, 'andfollow': 4041, 'anything': 4042, 'apidra': 4043, 'approximately': 4044, 'aquaphor': 4045, 'aspreviously': 4046, 'asyou': 4047, 'atdialysis': 4048, 'atotal': 4049, 'b6': 4050, 'bedetermined': 4051, 'bloodglucose': 4052, 'brace': 4053, 'buprenorphine': 4054, 'buttock': 4055, 'cartia': 4056, 'case': 4057, 'cellcept': 4058, 'cessation': 4059, 'cialis': 4060, 'classic': 4061, 'collar': 4062, 'combigan': 4063, 'concerta': 4064, 'congestive': 4065, 'consecutive': 4066, 'consistently': 4067, 'continuethrough': 4068, 'cosopt': 4069, 'craving': 4070, 'cushion': 4071, 'cva': 4072, 'cvs': 4073, 'cycled': 4074, 'cyclophosphamide': 4075, 'dailyfolic': 4076, 'daysplease': 4077, 'decide': 4078, 'didanosine': 4079, 'directedfor': 4080, 'dosenum': 4081, 'doseof': 4082, 'drinking': 4083, 'dyazide': 4084, 'dysphagia': 4085, 'econazole': 4086, 'elite': 4087, 'ethyl': 4088, 'etoh': 4089, 'fibercon': 4090, 'fivehundred': 4091, 'foam': 4092, 'focal': 4093, 'foradil': 4094, 'forheadache': 4095, 'fromnum': 4096, 'glass': 4097, 'gointment': 4098, 'gone': 4099, 'haveresults': 4100, 'healing': 4101, 'hepatic': 4102, 'higher': 4103, 'hospitalapply': 4104, 'hospitalto': 4105, 'hoursprn': 4106, 'hr<10': 4107, 'hr<13': 4108, 'hr<9': 4109, 'hrtarget': 4110, 'hydrogen': 4111, 'hyzaar': 4112, 'imatinib': 4113, 'inam': 4114, 'incentive': 4115, 'inhalationonce': 4116, 'inhalationq2': 4117, 'inhalationqid': 4118, 'inhalername': 4119, 'injectionq3': 4120, 'injectiontitrate': 4121, 'insulinglargine': 4122, 'intact': 4123, 'intramuscularonce': 4124, 'intravenousinfusion': 4125, 'ivf': 4126, 'know': 4127, 'known': 4128, 'labsplease': 4129, 'lactaid': 4130, 'lancets1': 4131, 'lateral': 4132, 'lineflush': 4133, 'lingual': 4134, 'lockout': 4135, 'loz': 4136, 'lycopene': 4137, 'measured': 4138, 'medicines': 4139, 'meperidine': 4140, 'mghospital': 4141, 'mgonce': 4142, 'microfine': 4143, \"ml'sinjection\": 4144, 'mlsmiscell': 4145, 'monohydrate': 4146, 'motility': 4147, 'mouththree': 4148, 'mrsa': 4149, 'msm': 4150, 'namefax': 4151, 'nasacort': 4152, 'nebulizerhome': 4153, 'nebulizerplease': 4154, 'neoral': 4155, 'neurologist': 4156, 'neurosurgery': 4157, 'never': 4158, 'nitro': 4159, 'nobm': 4160, 'numplease': 4161, 'numunits': 4162, 'ofdr': 4163, 'oncology': 4164, 'oncoumadin': 4165, 'onlasix': 4166, 'onprednisone': 4167, 'ontuesday': 4168, 'ounces': 4169, 'oxygeno2': 4170, 'packetrefills': 4171, 'pain.daterange': 4172, 'painfor': 4173, 'pancrease': 4174, 'pericardial': 4175, 'peridex': 4176, 'phoneplease': 4177, 'pills2160': 4178, 'pills;num': 4179, 'planned': 4180, 'pleaseadjust': 4181, 'pleasediscontinue': 4182, 'pleasetitrate': 4183, 'plt': 4184, 'po1x': 4185, 'poq1': 4186, 'positioning': 4187, 'pradaxa': 4188, 'probiotic': 4189, 'protect': 4190, 'psychiatry': 4191, 'pts': 4192, 'pyrimethamine': 4193, 'q12hr': 4194, 'q3days': 4195, 'qahs': 4196, 'qodhs': 4197, 'rapamycin': 4198, 'ratio': 4199, 'refusing': 4200, 'regimenplease': 4201, 'rehabplease': 4202, 'remained': 4203, 'removable': 4204, 'repair': 4205, 'repletion': 4206, 'reported': 4207, 'requip': 4208, 'ribavirin': 4209, 'rr<10rx': 4210, 'rt': 4211, 'sbp<100.disp': 4212, 'sbp<90rx': 4213, 'scalecontinue': 4214, 'scaleper': 4215, 'scalesliding': 4216, 'sec': 4217, 'sequential': 4218, 'sig:2.5': 4219, 'solutioninhalation': 4220, 'spanish': 4221, 'st': 4222, 'stents': 4223, 'stress': 4224, 'study': 4225, 'surgeon': 4226, 'syringes1': 4227, 'syringeslow': 4228, 'tabdaily': 4229, 'take1': 4230, 'tegaserod': 4231, 'tf': 4232, 'thecounter': 4233, 'then125': 4234, 'then20': 4235, 'therapydiagnosis': 4236, 'thereis': 4237, 'thrombus': 4238, 'todr.name': 4239, 'topatient': 4240, 'topicalfour': 4241, 'tracheobronchomalacia': 4242, 'triazolam': 4243, 'twentyeight': 4244, 'unasyn': 4245, 'unitsglucose': 4246, 'untilinr': 4247, 'upright': 4248, 'uptitrate': 4249, 'vagifem': 4250, 'variableunits': 4251, 'viaj': 4252, 'wash': 4253, 'wednesdays': 4254, 'weds': 4255, 'weeks.name': 4256, 'wheel': 4257, 'wipes': 4258, 'workbasic': 4259, 'workfirst': 4260, 'workname': 4261, 'workstat': 4262, 'wt': 4263, 'youhave': 4264, 'yourblood': 4265, 'youwill': 4266, '0.8ml': 4267, '10am': 4268, '10tablet': 4269, '11am': 4270, '16,000': 4271, '1cc': 4272, '1rx': 4273, '200units': 4274, '24hour': 4275, '24units': 4276, '25units': 4277, '2pills': 4278, '3,000,000': 4279, '31.disp': 4280, '3cc': 4281, '40tablet': 4282, '40units': 4283, '4million': 4284, '50units': 4285, '5min': 4286, '600+d': 4287, '6hr': 4288, '6months': 4289, '6uglucoses': 4290, '7d': 4291, 'absorption': 4292, 'accessories': 4293, 'admitted': 4294, 'advil': 4295, 'aerolizer': 4296, 'airway': 4297, 'allowed': 4298, 'alphagan': 4299, 'ambisome': 4300, 'ambulatingregularly': 4301, 'amphotericin': 4302, 'andafter': 4303, 'ap': 4304, 'apnea': 4305, 'aquacel': 4306, 'attempt': 4307, 'b1': 4308, 'bactroban': 4309, 'banana': 4310, 'become': 4311, 'becontinued': 4312, 'bedhospital': 4313, 'bediscontinued': 4314, 'bedpatient': 4315, 'bedtimeglucose': 4316, 'bipapbipap': 4317, 'bkft': 4318, 'bloodsugars': 4319, 'breakfastand': 4320, 'building': 4321, 'burning': 4322, 'cardiacsurgery': 4323, 'catheters': 4324, 'cefadroxil': 4325, 'chemo': 4326, 'cmp': 4327, 'co': 4328, 'combination': 4329, 'concern': 4330, 'constipation.hospital': 4331, 'constipation.name': 4332, 'consulting': 4333, 'cortef': 4334, 'coumadinyou': 4335, 'cpk': 4336, 'cxr': 4337, 'dailyheparin': 4338, 'days20': 4339, 'dayweek': 4340, 'decanoate': 4341, 'diltzac': 4342, 'direction': 4343, 'dirinjection': 4344, 'dirsubcutaneous': 4345, 'dispersible': 4346, 'diuretics': 4347, 'dobutamine': 4348, 'duoderm': 4349, 'eachmeal': 4350, 'egd': 4351, 'emesis': 4352, 'episode': 4353, 'erectile': 4354, 'esophageal': 4355, 'especially': 4356, 'ethanol': 4357, 'eucerin': 4358, 'everyhour': 4359, 'exceed4000': 4360, 'exemestane': 4361, 'extract': 4362, 'febuxostat': 4363, 'feedstubefeeding': 4364, 'feeling': 4365, 'felt': 4366, 'fluidsplease': 4367, 'fold': 4368, 'forcad': 4369, 'forcongestion': 4370, 'forearm': 4371, 'formula': 4372, 'forthe': 4373, 'fortotal': 4374, 'fortwo': 4375, 'fsbg': 4376, 'gastric': 4377, 'gg': 4378, 'glutamine': 4379, 'gpo': 4380, 'ha.disp': 4381, 'handle': 4382, 'hep': 4383, 'hepatitis': 4384, 'homeregimen': 4385, 'hoursoff': 4386, 'hr<18': 4387, 'hr<4': 4388, 'hr<7': 4389, 'hrson': 4390, 'humaloginsulin': 4391, 'humidified': 4392, 'i.v.': 4393, 'ifchest': 4394, 'iloprost': 4395, 'immune': 4396, 'in24': 4397, 'include': 4398, 'infatab': 4399, 'initially': 4400, 'injectionq4': 4401, 'inrplease': 4402, 'inrtherapeutic': 4403, 'instruct': 4404, 'insulinlantus': 4405, 'insulinnph': 4406, 'intubated': 4407, 'isbetween': 4408, 'joint': 4409, 'kaletra': 4410, 'kerlix': 4411, 'ketones': 4412, 'kits': 4413, 'lac': 4414, 'lactase': 4415, 'ld': 4416, 'lesion': 4417, 'lethargy': 4418, 'levocarnitine': 4419, 'light': 4420, 'lineplease': 4421, 'machineplease': 4422, 'machinerywhile': 4423, 'magic': 4424, 'mass': 4425, 'mdphone': 4426, 'medication.disp': 4427, 'medrol': 4428, 'mgbase': 4429, 'mgs': 4430, 'midday': 4431, 'mintues': 4432, 'miscell.four': 4433, 'mornings': 4434, 'mouthonce': 4435, 'mvi': 4436, 'nameresults': 4437, 'naprosyn': 4438, 'nateglinide': 4439, 'nebulizernebulizer': 4440, 'nefazodone': 4441, 'neurology': 4442, 'nomore': 4443, 'notspecified': 4444, 'nsfollowed': 4445, 'numfirst': 4446, 'numwith': 4447, 'nurse.name': 4448, 'nutritional': 4449, 'of2.5': 4450, 'ofcoumadin': 4451, 'onthe': 4452, 'ordersbreakfast': 4453, 'orwheeze': 4454, 'packing': 4455, 'packs': 4456, 'painful': 4457, 'pak': 4458, 'patanol': 4459, 'patency': 4460, 'pelvic': 4461, 'perattached': 4462, 'performed': 4463, 'perlumen': 4464, 'phoneoffice': 4465, 'plaquenil': 4466, 'pleaseapply': 4467, 'pleasehave': 4468, 'posterior': 4469, 'prefilled': 4470, 'previouslyprescribed': 4471, 'prevpac': 4472, 'prnheparin': 4473, 'prnplease': 4474, 'proventil': 4475, 'puffsnasal': 4476, 'puffspuffs': 4477, 'pyloric': 4478, 'q12hlast': 4479, 'q12hours': 4480, 'q2hours': 4481, 'q4hours': 4482, 'q6hprn': 4483, 'q72hrx': 4484, 'q8hhold': 4485, 'qdand': 4486, 'qidhold': 4487, 'qm': 4488, 'qsrefills': 4489, 'qsuff': 4490, 'rails': 4491, 'random': 4492, 'rapamune': 4493, 'rechecked': 4494, 'reevaluate': 4495, 'refilled': 4496, 'remains': 4497, 'replacement': 4498, 'restarting': 4499, 'returns': 4500, 'revealed': 4501, 'rheumatic': 4502, 'ring': 4503, 'rizatriptan': 4504, 'rr<14': 4505, 'rr<8': 4506, 'running': 4507, 'sedationrx': 4508, 'selenium': 4509, 'showed': 4510, 'solutionintravenous': 4511, 'solutionpo': 4512, 'specifically': 4513, 'spo2': 4514, 'sq161': 4515, 'sqinjection': 4516, 'ssinjection': 4517, 'startingnum': 4518, 'ste': 4519, 'stiffness': 4520, 'stockings': 4521, 'straight': 4522, 'subcutaneousas': 4523, 'subcutaneousqpm': 4524, 'systane': 4525, 'tabletsonce': 4526, 'theraputic': 4527, 'therapyfor': 4528, 'therapypt': 4529, 'thickened': 4530, 'thiothixene': 4531, 'thirtytwo': 4532, 'thisdose': 4533, 'throughout': 4534, 'thrusday': 4535, 'toes': 4536, 'toright': 4537, 'tostop': 4538, 'tosurgery': 4539, 'trileptal': 4540, 'troughs': 4541, 'undefined': 4542, 'unitinhalation': 4543, 'untillower': 4544, 'untiltherapeutic': 4545, 'wafers': 4546, 'want': 4547, 'weeks.hospital': 4548, 'wet': 4549, 'workmonday': 4550, 'worsening': 4551, 'yes': 4552, '0.5cc': 4553, '101f.': 4554, '11pm': 4555, '11units': 4556, '12days': 4557, '12hplease': 4558, '12hrx': 4559, '15minutes': 4560, '15u': 4561, '160hold': 4562, '16u': 4563, '18u': 4564, '1puff': 4565, '1refills': 4566, '2,400': 4567, '2.5results': 4568, '20mg': 4569, '20mgdaily': 4570, '21days': 4571, '24hplease': 4572, '2a': 4573, '2~3': 4574, '34units': 4575, '3lbs': 4576, '3tablet': 4577, '3units': 4578, '48hrs': 4579, '4doses': 4580, '4hr': 4581, '4tablet': 4582, '5000u': 4583, '500cc': 4584, 'aa': 4585, 'abdominaldiscomfort': 4586, 'abdominalpain': 4587, 'abrasions': 4588, 'abscess': 4589, 'accu': 4590, 'acidoph': 4591, 'additives': 4592, 'adefovir': 4593, 'aggressive': 4594, 'alert': 4595, 'alertness': 4596, 'alleviate': 4597, 'altered': 4598, 'ambulate': 4599, 'anc': 4600, 'andfriday': 4601, 'andvancomycin': 4602, 'anusol': 4603, 'app': 4604, 'applmiscellaneous': 4605, 'approx': 4606, 'assessment': 4607, 'astrength': 4608, 'aswell': 4609, 'atacand': 4610, 'atdinner': 4611, 'axilla': 4612, 'b.i.d': 4613, 'backup': 4614, 'becaplermin': 4615, 'bedtimedisp': 4616, 'bedtimeregularglucose': 4617, 'betaken': 4618, 'better': 4619, 'bid.disp': 4620, 'bloodwork': 4621, 'botheyes': 4622, 'bottlerefills': 4623, 'boulardii': 4624, 'breakdown': 4625, 'by1ml': 4626, 'by2': 4627, 'c.diff': 4628, 'cabg': 4629, 'cane': 4630, 'capful': 4631, 'ccpo': 4632, 'cefuroxime': 4633, 'cervical': 4634, 'chek': 4635, 'chewabledate': 4636, 'chewablehospital': 4637, 'chondroit': 4638, 'ciclopirox': 4639, 'ciprodex': 4640, 'cleanse': 4641, 'clorazepate': 4642, 'cmo': 4643, 'colistimethate': 4644, 'commodeplease': 4645, 'continuousinfusion': 4646, 'convatec': 4647, 'correct': 4648, 'coumadinaccordingly': 4649, 'counts': 4650, 'cpapcpap': 4651, 'cravings': 4652, 'cx': 4653, 'cyclopentolate': 4654, 'd5066': 4655, 'dailydosing': 4656, 'day1': 4657, 'day:1': 4658, 'dayrx': 4659, 'days.then': 4660, 'days10': 4661, 'daysto': 4662, 'dayuntil': 4663, 'daywith': 4664, 'decreasing': 4665, 'decubitus': 4666, 'deep': 4667, 'demeclocycline': 4668, 'department': 4669, 'di': 4670, 'diamox': 4671, 'dibasic': 4672, 'dipotassium': 4673, 'directedas': 4674, 'directedbelow': 4675, 'directedotherwise': 4676, 'dispos': 4677, 'divide': 4678, 'dressingchanges': 4679, 'dressings': 4680, 'dryeyes': 4681, 'eczema': 4682, 'enddate': 4683, 'enemas': 4684, 'ep': 4685, 'ethylsuccinate': 4686, 'event': 4687, 'exertion': 4688, 'extreme': 4689, 'flank': 4690, 'fleets': 4691, 'fluids': 4692, 'fluoride': 4693, 'fluorometholone': 4694, 'folate': 4695, 'for8': 4696, 'for9': 4697, 'foratrial': 4698, 'forhyperglycemia': 4699, 'gent': 4700, 'gleevec': 4701, 'globulin': 4702, 'gluc': 4703, 'gradually': 4704, 'greaterthan': 4705, 'gums': 4706, 'h.': 4707, 'hands': 4708, 'havechest': 4709, 'haveyour': 4710, 'healthcare': 4711, 'heated': 4712, 'heme': 4713, 'hemoglobin': 4714, 'hi': 4715, 'homesliding': 4716, 'hospital:2': 4717, 'hospitalnum': 4718, 'hourson': 4719, 'hr<11': 4720, 'hrdate': 4721, 'hs.disp': 4722, 'hyperkalemia': 4723, 'ifyour': 4724, 'imitrex': 4725, 'impact': 4726, 'improvement': 4727, 'indapamide': 4728, 'indwelling': 4729, 'information': 4730, 'inhalerrefills': 4731, 'injectioninfusion': 4732, 'injectionq': 4733, 'injectionthree': 4734, 'inner': 4735, 'inpm': 4736, 'instructionstablet': 4737, 'insulinfingerstick': 4738, 'invasive': 4739, 'ivpca': 4740, 'jp': 4741, 'ketostix': 4742, 'let': 4743, 'lethargic': 4744, 'lineflushdialysis': 4745, 'lineheparin': 4746, 'lo': 4747, 'loading': 4748, 'local': 4749, 'lumens': 4750, 'lunchhumalog': 4751, 'lunchtime': 4752, 'lupron': 4753, 'maintained': 4754, 'many': 4755, 'maxstr': 4756, 'maze': 4757, 'mb': 4758, 'mcgsubcutaneous': 4759, 'md.': 4760, 'membranetwice': 4761, 'mgs04': 4762, 'mgtwice': 4763, 'mildly': 4764, 'mmole': 4765, 'moisture': 4766, 'moniter': 4767, 'monthrefills': 4768, 'monthsrx': 4769, 'mr': 4770, 'ms.': 4771, 'mvr': 4772, 'myasthenia': 4773, 'nak': 4774, 'nebulized': 4775, 'needed.date': 4776, 'nelfinavir': 4777, 'neuropathic': 4778, 'nighttime': 4779, 'norethindrone': 4780, 'normally': 4781, 'nothing': 4782, 'numcapsule': 4783, 'o2sat': 4784, 'odd': 4785, 'officer': 4786, 'ofloxacin': 4787, 'onsunday': 4788, 'onwednesday': 4789, 'operatively': 4790, 'ophthalmicevery': 4791, 'ophthalmicthree': 4792, 'osa': 4793, 'overall': 4794, 'overlap': 4795, 'oxyfast': 4796, 'pacemaker': 4797, 'package': 4798, 'pain.date': 4799, 'painmedications': 4800, 'pamidronate': 4801, 'paperwork': 4802, 'parkinsons': 4803, 'peginterferon': 4804, 'perhour': 4805, 'perineal': 4806, 'phonedr': 4807, 'pleasemonitor': 4808, 'pleaseuse': 4809, 'po3x': 4810, 'po5x': 4811, 'point': 4812, 'precautions': 4813, 'primaquine': 4814, 'pro': 4815, 'profile': 4816, 'prot': 4817, 'pulm': 4818, 'q12hday': 4819, 'q1hprn': 4820, 'q1hras': 4821, 'q2w': 4822, 'q2weeks': 4823, 'q3d': 4824, 'q3hrs': 4825, 'q6pm': 4826, 'q8am': 4827, 'q8hday': 4828, 'q8hplease': 4829, 'qdlisinopril': 4830, 'qfriday': 4831, 'qhsfor': 4832, 'qidachs.disp': 4833, 'reaches': 4834, 'receives': 4835, 'rectally': 4836, 'rectalq4': 4837, 'restasis': 4838, 'resultssent': 4839, 'rocephin': 4840, 'saccharomyces': 4841, 'safe': 4842, 'sash.disp': 4843, 'saw': 4844, 'scale71': 4845, 'scaleglucose': 4846, 'secure': 4847, 'several': 4848, 'shot': 4849, 'sided': 4850, 'sig:5': 4851, 'significant': 4852, 'significantly': 4853, 'sites': 4854, 'sitting': 4855, 'slide': 4856, 'snacks': 4857, 'son': 4858, 'sq201': 4859, 'startafter': 4860, 'stoptaking': 4861, 'strips1': 4862, 'subcutaneousqac': 4863, 'subcutaneouswith': 4864, 'subtherapeutic': 4865, 'takemore': 4866, 'taperschedule': 4867, 'telemetry': 4868, 'teriparatide': 4869, 'their': 4870, 'then1': 4871, 'then2': 4872, 'thend': 4873, 'theoffice': 4874, 'therapyevaluate': 4875, 'therapys': 4876, 'therefore': 4877, 'thighs': 4878, 'thismedicine': 4879, 'tobacco': 4880, 'topcp': 4881, 'tracheal': 4882, 'transferred': 4883, 'transfusion': 4884, 'transportation': 4885, 'trazadone': 4886, 'tretinoin': 4887, 'tri': 4888, 'trospium': 4889, 'turn': 4890, 'twentysix': 4891, 'ua': 4892, 'units131': 4893, 'units250': 4894, 'unitsfor': 4895, 'urology': 4896, 'usually': 4897, 'uti.disp': 4898, 'vialinjection': 4899, 'viread': 4900, 'vitamind3': 4901, 'vivelle': 4902, 'weekgoal': 4903, 'welchol': 4904, 'whole': 4905, 'wishto': 4906, 'withdrawl': 4907, 'withlasix': 4908, 'withpcp': 4909, 'workcoumadin': 4910, 'workhct': 4911, 'workneeds': 4912, 'worktwice': 4913, 'workvna': 4914, 'worn': 4915, 'yankauer': 4916, 'zaditor': 4917, 'zomig': 4918, '.25': 4919, '0.3ml': 4920, '04:10pm': 4921, '0units151': 4922, '1.5tablets': 4923, '100mcg': 4924, '100refills': 4925, '10rx': 4926, '11,000units': 4927, '1200cc': 4928, '12hday': 4929, '160:2units': 4930, '18units': 4931, '1:1,000': 4932, '1unit': 4933, '2.5for': 4934, '200mgtwice': 4935, '22units': 4936, '250units': 4937, '25u': 4938, '28units': 4939, '2units201': 4940, '30min': 4941, '30u': 4942, '3u': 4943, '4000mgs': 4944, '400give': 4945, '4tabs': 4946, '5000unit': 4947, '6doses': 4948, '7pm': 4949, '90rx': 4950, ':1': 4951, 'abilify': 4952, 'acetic': 4953, 'acetominophen': 4954, 'additionally': 4955, 'adjustable': 4956, 'adjusting': 4957, 'admin': 4958, 'advise': 4959, 'aftertaking': 4960, 'ago': 4961, 'alp': 4962, 'alter': 4963, 'ampules': 4964, 'amputation': 4965, 'amstart': 4966, 'andfurther': 4967, 'antacid': 4968, 'aphasia': 4969, 'apple': 4970, 'arimidex': 4971, 'asacol': 4972, 'asked': 4973, 'asnecessary': 4974, 'asprior': 4975, 'assistance': 4976, 'astolerated': 4977, 'atleast': 4978, 'atname': 4979, 'atomoxetine': 4980, 'attending': 4981, 'atthe': 4982, 'axetil': 4983, 'azilect': 4984, 'bacteremia': 4985, 'bechecked': 4986, 'bedbound': 4987, 'bedtime0': 4988, 'bedtime71': 4989, 'bedtimehumalogglucose': 4990, 'befaxed': 4991, 'beforeeating': 4992, 'began': 4993, 'belowsubcutaneous': 4994, 'benefiber': 4995, 'beneprotein': 4996, 'bengay': 4997, 'benzoyl': 4998, 'boluses': 4999, 'boxrefill:1': 5000, 'boxrefill:2': 5001, 'branched': 5002, 'bridging': 5003, 'brief': 5004, 'bromocriptine': 5005, 'buy': 5006, 'bythe': 5007, 'bytransplant': 5008, 'cadd': 5009, 'calcitrate': 5010, 'callyour': 5011, 'canbe': 5012, 'candidiasis': 5013, 'cannister': 5014, 'capsulespo': 5015, 'caremidline': 5016, 'causes': 5017, 'cavity': 5018, 'cbs': 5019, 'cdiff': 5020, 'changing': 5021, 'clears': 5022, 'clobazam': 5023, 'clock': 5024, 'clot': 5025, 'coccyx': 5026, 'colistin': 5027, 'concerns': 5028, 'confused': 5029, 'conjunctivitis': 5030, 'conservingdevice': 5031, 'contipation': 5032, 'coronary': 5033, 'cosntipation': 5034, 'coumadindosing': 5035, 'coursecomplete': 5036, 'crash': 5037, 'ctropnt': 5038, 'd5': 5039, 'daily.disp': 5040, 'daily400': 5041, 'dailyasa': 5042, 'dailymetoprolol': 5043, 'dailyvitamin': 5044, 'dailyx': 5045, 'dalteparin': 5046, 'damage': 5047, 'datenum': 5048, 'dayand': 5049, 'days40': 5050, 'days5': 5051, 'daysday': 5052, 'daysend': 5053, 'daystarting': 5054, 'dbp': 5055, 'deferoxamine': 5056, 'delivered': 5057, 'depot': 5058, 'described': 5059, 'desires': 5060, 'dialy': 5061, 'dihydrochloride': 5062, 'directeddisp': 5063, 'directly': 5064, 'disc': 5065, 'discontinuation': 5066, 'discretion': 5067, 'disorder': 5068, 'disulfiram': 5069, 'dizzy': 5070, 'dosecoumadin': 5071, 'doseinsulin': 5072, 'drs': 5073, 'dutasteride': 5074, 'dystonia': 5075, 'ed.disp': 5076, 'empiric': 5077, 'enbrel': 5078, 'enclosed': 5079, 'endurance': 5080, 'epigastric': 5081, 'episodes': 5082, 'epoprostenol': 5083, 'ercp': 5084, 'euvolemic': 5085, 'everyshift': 5086, 'ex': 5087, 'experience': 5088, 'external': 5089, 'faxto': 5090, 'feosol': 5091, 'ferrex': 5092, 'ferric': 5093, 'fistula': 5094, 'flatulence': 5095, 'flunisolide': 5096, 'flushdialysis': 5097, 'flutter': 5098, 'fora': 5099, 'forbronchospasm': 5100, 'forcontinued': 5101, 'fordyspnea': 5102, 'forinr': 5103, 'forloose': 5104, 'fororal': 5105, 'fortytwo': 5106, 'fosfomycin': 5107, 'fsg': 5108, 'fungus': 5109, 'gastroenterologist': 5110, 'gastroparesis': 5111, 'gatifloxacin': 5112, 'generalized': 5113, 'goalptt': 5114, 'gramspo': 5115, 'guar': 5116, 'hair': 5117, 'hdon': 5118, 'healed': 5119, 'here': 5120, 'hives': 5121, 'holduntil': 5122, 'hols': 5123, 'hospiceplease': 5124, 'hospitalplease': 5125, 'hospitaluse': 5126, 'hourperiod': 5127, 'hrflush': 5128, 'hsv': 5129, 'humalogblood': 5130, 'humalogplease': 5131, 'hydration': 5132, 'hydrochlorothiaz': 5133, 'hypromellose': 5134, 'ileostomy': 5135, 'inability': 5136, 'increasedsecretions': 5137, 'inderal': 5138, 'inform': 5139, 'inhalationthree': 5140, 'initiation': 5141, 'injectionq2h': 5142, 'injectorsig': 5143, 'inr.please': 5144, 'inr2.5': 5145, 'inris': 5146, 'insomniahold': 5147, 'institution': 5148, 'insulinbreakfast': 5149, 'internal': 5150, 'interstitial': 5151, 'intravenouscontinuous': 5152, 'intravenousdaily': 5153, 'intravenousthree': 5154, 'ir1250': 5155, 'irrigation': 5156, 'isoosm': 5157, 'isordil': 5158, 'isradipine': 5159, 'istherapeutic': 5160, 'itchingrx': 5161, 'its': 5162, 'ivig': 5163, 'j.': 5164, 'janumet': 5165, 'jar': 5166, 'jelly': 5167, 'kapseal': 5168, 'ketotifen': 5169, 'lacerations': 5170, 'lad': 5171, 'lancetsplease': 5172, 'lancing': 5173, 'leuprolide': 5174, 'lipid': 5175, 'liquids': 5176, 'loosestool': 5177, 'loxapine': 5178, 'lysine': 5179, 'm2': 5180, 'mandible': 5181, 'maxalt': 5182, 'mcv': 5183, 'meatus': 5184, 'medicationuntil': 5185, 'medium': 5186, 'medsplease': 5187, 'mestinon': 5188, 'mg<2.0': 5189, 'mgevery': 5190, 'mgfor': 5191, 'mgintramuscular': 5192, 'mgm': 5193, 'mgon': 5194, 'mgoral': 5195, 'micu': 5196, 'miscell.as': 5197, 'miscellaneousas': 5198, 'mn': 5199, 'moist': 5200, 'months.daterange': 5201, 'months.hospital': 5202, 'mood': 5203, 'motion': 5204, 'mrx1': 5205, 'mucus': 5206, 'namelocation': 5207, 'nasalprn': 5208, 'neg': 5209, 'nepro': 5210, 'neuro': 5211, 'ngt.disp': 5212, 'nifedical': 5213, 'nineteen': 5214, 'num1': 5215, 'numnasal': 5216, 'numprednisone': 5217, 'numto': 5218, 'nuvaring': 5219, 'ofvancomycin': 5220, 'okay': 5221, 'olopatadine': 5222, 'onepill': 5223, 'onfriday': 5224, 'onwards': 5225, 'operateheavy': 5226, 'oras': 5227, 'ordinary': 5228, 'osteoporosis': 5229, 'oxygencontinue': 5230, 'oxygensupplemental': 5231, 'pa': 5232, 'paincontrol': 5233, 'pains': 5234, 'paintake': 5235, 'palmitate': 5236, 'pancrelipase': 5237, 'patchsemiweekly': 5238, 'pectin': 5239, 'peptamen': 5240, 'perianal': 5241, 'pertinent': 5242, 'phoneemail': 5243, 'piggybackname': 5244, 'pindolol': 5245, 'pleaseadminister': 5246, 'pleasesend': 5247, 'pleasestop': 5248, 'pmnum': 5249, 'poas': 5250, 'pobreakfast': 5251, 'pod': 5252, 'poqmon': 5253, 'pork': 5254, 'ports': 5255, 'postop': 5256, 'preoperative': 5257, 'preopschedule': 5258, 'previouslydirected': 5259, 'prnagitation': 5260, 'prnpantoprazole': 5261, 'prnwheezing': 5262, 'promote': 5263, 'propylene': 5264, 'protocolplease': 5265, 'provera': 5266, 'pruitis': 5267, 'psych': 5268, 'psychiatric': 5269, 'ptt60': 5270, 'pull': 5271, 'pumptube': 5272, 'q1has': 5273, 'q1hour': 5274, 'q24hhold': 5275, 'q2has': 5276, 'q36h': 5277, 'q5minutes': 5278, 'q6hday': 5279, 'q6prn': 5280, 'q72hr': 5281, 'qafternoon': 5282, 'qamand': 5283, 'qamhold': 5284, 'rabeprazole': 5285, 'racepinephrine': 5286, 'rbc': 5287, 'recommendation': 5288, 'rectalat': 5289, 'redose': 5290, 'reduction': 5291, 'reevaluated': 5292, 'refractory': 5293, 'related': 5294, 'requirement': 5295, 'respiratorydistress': 5296, 'restrictions': 5297, 'resumed': 5298, 'revatio': 5299, 'rhamnosus': 5300, 'riluzole': 5301, 'rncoordinator': 5302, 'rns': 5303, 'rofecoxib': 5304, 'rr<9': 5305, 'rxinhalation': 5306, 'scrotal': 5307, 'seeing': 5308, 'sees': 5309, 'sendresults': 5310, 'sequels': 5311, 'shake': 5312, 'sign': 5313, 'sl.disp': 5314, 'sleeplessness': 5315, 'slurry': 5316, 'snack': 5317, 'sobrx': 5318, 'sodiumchloride': 5319, 'softeners': 5320, 'somnolent': 5321, 'sooner': 5322, 'soy': 5323, 'spironolacton': 5324, 'spraysnasal': 5325, 'sputum': 5326, 'sq241': 5327, 'startdate': 5328, 'stasis': 5329, 'steady': 5330, 'stridor': 5331, 'stripsdispense': 5332, 'studies': 5333, 'style': 5334, 'sulfacetamide': 5335, 'summary': 5336, 'supervision': 5337, 'swab': 5338, 'syringerefills': 5339, 'sys': 5340, 't3': 5341, 'tablespoons': 5342, 'tabletsdaily': 5343, 'tabletsfor': 5344, 'tabsdaily': 5345, 'take4': 5346, 'taketwo': 5347, 'tbsp': 5348, 'tegretol': 5349, 'temodar': 5350, 'than4000': 5351, 'than4gm': 5352, 'then400': 5353, 'thenext': 5354, 'thenone': 5355, 'thera': 5356, 'therapypulmonary': 5357, 'theseresults': 5358, 'thirtysix': 5359, 'threedays': 5360, 'thrunum': 5361, 'tightness': 5362, 'tiw': 5363, 'toensure': 5364, 'toilet': 5365, 'tomonitor': 5366, 'top': 5367, 'totalbilirubin': 5368, 'tpnplease': 5369, 'transdermaldaily': 5370, 'treated': 5371, 'troughprograf': 5372, 'turning': 5373, 'u500': 5374, 'units150': 5375, 'units180': 5376, 'units220': 5377, 'units271': 5378, 'units360': 5379, 'unitsintravenous': 5380, 'univasc': 5381, 'unlessotherwise': 5382, 'urologist': 5383, 'useas': 5384, 'usualdose': 5385, 'valcyte': 5386, 'vancomycintrough': 5387, 'vancomycinvancomycin': 5388, 'variablesubcutaneous': 5389, 'vartanphone': 5390, 'vigamox': 5391, 'viokase': 5392, 'vip': 5393, 'vistaril': 5394, 'voiding': 5395, 'waf': 5396, 'weekshold': 5397, 'weeksthen': 5398, 'where': 5399, 'willbe': 5400, 'withdr': 5401, 'withthis': 5402, 'worklfts': 5403, 'workserum': 5404, 'worksodium': 5405, 'workvanco': 5406, 'x2d': 5407, 'x5days': 5408, 'xifaxan': 5409, 'youmay': 5410, 'yourappointment': 5411, 'yourdoctor.name': 5412, 'yourfollow': 5413, 'zonegran': 5414, '.capsule': 5415, '0.5ml': 5416, '1000mcg': 5417, '10doses': 5418, '10l': 5419, '10u.': 5420, '120.disp': 5421, '14day': 5422, '150units': 5423, '16:00': 5424, '1:1000': 5425, '1:15': 5426, '1:40': 5427, '1bottle': 5428, '1mth': 5429, '1qam': 5430, '2.5ml': 5431, '2.5tablet': 5432, '20subcutaneous': 5433, '24u': 5434, '250cc': 5435, '2liters': 5436, '3first': 5437, '3x14': 5438, '400mgdaily': 5439, '40mghospital': 5440, '4pills': 5441, '4units251': 5442, '5,000unit': 5443, '50tablet': 5444, '50u': 5445, '55ml': 5446, '5u': 5447, '60hold': 5448, '6tablets': 5449, '75cc': 5450, '7am': 5451, '8uglucoses': 5452, '90cc': 5453, '9pm': 5454, ':3': 5455, 'acceptablesubstitute': 5456, 'accolate': 5457, 'accordingto': 5458, 'accupril': 5459, 'acidreflux': 5460, 'acne': 5461, 'adaptic': 5462, 'addendum': 5463, 'adjustcoumadin': 5464, 'affectedarea': 5465, 'affectedareas': 5466, 'aftercompleting': 5467, 'aftercompletion': 5468, 'afterlast': 5469, 'ag': 5470, 'agents': 5471, 'albuminfax': 5472, 'alcoholor': 5473, 'alcoholwhile': 5474, 'allmedications': 5475, 'alpha': 5476, 'alternative': 5477, 'amd': 5478, 'amrx': 5479, 'anakinra': 5480, 'andpotassium': 5481, 'anterior': 5482, 'antimicrobial': 5483, 'anxiety.hospital': 5484, 'appears': 5485, 'arranged': 5486, 'asindicated': 5487, 'asoutpatient': 5488, 'athome': 5489, 'atrehab': 5490, 'attachedsheet': 5491, 'autoset': 5492, 'avoidconstipation': 5493, 'bagplease': 5494, 'barrier': 5495, 'beadjusted': 5496, 'becompleted': 5497, 'beddx': 5498, 'belowfor': 5499, 'belowunits': 5500, 'benefit': 5501, 'berestarted': 5502, 'best': 5503, 'beused': 5504, 'bi': 5505, 'bidpantoprazole': 5506, 'bidtake': 5507, 'biliary': 5508, 'binder': 5509, 'biopsy': 5510, 'black': 5511, 'block': 5512, 'blocker': 5513, 'bone': 5514, 'bottom': 5515, 'bowelmovement': 5516, 'bph': 5517, 'bradycardia': 5518, 'brkfast': 5519, 'bulgar': 5520, 'buspar': 5521, 'call911.disp': 5522, 'capsulesig': 5523, 'carbohydrate': 5524, 'carcinoma': 5525, 'careful': 5526, 'carefully': 5527, 'catheterization': 5528, 'chamber': 5529, 'checkblood': 5530, 'checktrough': 5531, 'chewablename': 5532, 'choice': 5533, 'cholecystostomy': 5534, 'cirrhosis': 5535, 'clearance': 5536, 'coating': 5537, 'collect': 5538, 'communicated': 5539, 'completecourse': 5540, 'complicated': 5541, 'consistent': 5542, 'const': 5543, 'consultation': 5544, 'contactname': 5545, 'cr<2.0': 5546, 'crackers61': 5547, 'crea': 5548, 'creatine': 5549, 'critic': 5550, 'cuffplease': 5551, 'cup': 5552, 'daily16please': 5553, 'dailyas': 5554, 'dailycalcium': 5555, 'dailydocusate': 5556, 'dailyexcept': 5557, 'dailyferrous': 5558, 'dailygoal': 5559, 'dailyomeprazole': 5560, 'dailyprn': 5561, 'dailysimvastatin': 5562, 'dailyto': 5563, 'dairy': 5564, 'dark': 5565, 'day:2.5': 5566, 'day:20': 5567, 'day:200': 5568, 'day:5': 5569, 'daybefore': 5570, 'days1': 5571, 'days;then': 5572, 'dayscontinue': 5573, 'daysfirst': 5574, 'daysstart': 5575, 'daysstop': 5576, 'daystake': 5577, 'daysuntil': 5578, 'decided': 5579, 'dehydration': 5580, 'demadex': 5581, 'denies': 5582, 'des': 5583, 'desats': 5584, 'details': 5585, 'dev': 5586, 'dex': 5587, 'dexameth': 5588, 'dialysisdays': 5589, 'diffchem': 5590, 'dilated': 5591, 'directedintravenous': 5592, 'discontinuing': 5593, 'discussedwith': 5594, 'discussion': 5595, 'disks': 5596, 'division': 5597, 'dl0': 5598, 'dl4': 5599, 'dnr': 5600, 'doseafter': 5601, 'dosemay': 5602, 'doseon': 5603, 'doseshold': 5604, 'dosesrx': 5605, 'dot': 5606, 'durationrx': 5607, 'dvts': 5608, 'dyspnearx': 5609, 'dysuria': 5610, 'ecg': 5611, 'echo': 5612, 'ef': 5613, 'effects': 5614, 'emergencyroom': 5615, 'endocarditis': 5616, 'endoscopy': 5617, 'enfuvirtide': 5618, 'enulose': 5619, 'enzymes': 5620, 'epi': 5621, 'epivir': 5622, 'equipmenthospital': 5623, 'ethinyl': 5624, 'ever': 5625, 'everyfive': 5626, 'exercise': 5627, 'extubation': 5628, 'eyelid': 5629, 'falls': 5630, 'faxnumber': 5631, 'feasible': 5632, 'ferritin': 5633, 'flair': 5634, 'flakes': 5635, 'flushintravenous': 5636, 'forafib': 5637, 'forbladder': 5638, 'forblood': 5639, 'forcoumadin': 5640, 'forday': 5641, 'forgi': 5642, 'formechanical': 5643, 'forsleep': 5644, 'forteo': 5645, 'forthree': 5646, 'fortyfive': 5647, 'forwarded': 5648, 'fractures': 5649, 'fullyambulatory': 5650, 'fx': 5651, 'gastritis': 5652, 'gen': 5653, 'glucovance': 5654, 'glulisine': 5655, 'glycolax': 5656, 'gmsintravenous': 5657, 'goalnum': 5658, 'gouty': 5659, 'gramrefills': 5660, 'gtts': 5661, 'guanfacine': 5662, 'guidance': 5663, 'h20': 5664, 'hallucinations': 5665, 'havethe': 5666, 'heel': 5667, 'hewas': 5668, 'hg': 5669, 'hiss': 5670, 'hit': 5671, 'holddose': 5672, 'holdif': 5673, 'homatropine': 5674, 'hospital:1': 5675, 'hospital:6': 5676, 'hospitalx': 5677, 'hourprior': 5678, 'hr<5': 5679, 'hrinjection': 5680, 'humira': 5681, 'humulog': 5682, 'hypernatremia': 5683, 'hypothyroidism': 5684, 'hytrin': 5685, 'ibandronate': 5686, 'ifno': 5687, 'implant': 5688, 'in24hrs': 5689, 'inahler': 5690, 'inbrain': 5691, 'incontinence': 5692, 'info': 5693, 'ingestion': 5694, 'inguinal': 5695, 'inhalationprn': 5696, 'inhalationq1': 5697, 'inhalerhospital': 5698, 'inhallation': 5699, 'inhospital': 5700, 'injectionfour': 5701, 'injectionq3h': 5702, 'innolet': 5703, 'inron': 5704, 'ins': 5705, 'insominia': 5706, 'insomniarx': 5707, 'instructedby': 5708, 'insulin0': 5709, 'insulinsee': 5710, 'interferon': 5711, 'intrathecal': 5712, 'intravenous3x': 5713, 'intravenousasdir': 5714, 'intravenousq6h': 5715, 'intravenouswith': 5716, 'iodine': 5717, 'ionized': 5718, 'isnormal': 5719, 'iu': 5720, 'ivinjection': 5721, 'k<4.0': 5722, 'k<4.4': 5723, 'laceration': 5724, 'lactinex': 5725, 'lead': 5726, 'leaflets': 5727, 'leaving': 5728, 'levelfax': 5729, 'levoquin': 5730, 'levothroid': 5731, 'librium': 5732, 'like': 5733, 'liposome': 5734, 'lips': 5735, 'log': 5736, 'loss': 5737, 'lotemax': 5738, 'lotrimin': 5739, 'lovaza': 5740, 'lyte': 5741, 'macrobid': 5742, 'magox': 5743, 'managementplease': 5744, 'mch': 5745, 'mchc': 5746, 'mdon': 5747, 'mechanicalaortic': 5748, 'medicaiton': 5749, 'medically': 5750, 'medicationinsulin': 5751, 'medicationsresume': 5752, 'membrane5x': 5753, 'mevacor': 5754, 'mg<2': 5755, 'mginhalation': 5756, 'mgtablets': 5757, 'middle': 5758, 'migraines': 5759, 'milliliterrefills': 5760, 'mini': 5761, 'minimal': 5762, 'minutesbefore': 5763, 'miscellaneousqachs': 5764, 'miscellaneousthree': 5765, 'ml.disp': 5766, 'mlintramuscular': 5767, 'mlsinhalation': 5768, 'mlsinjection': 5769, 'mv': 5770, 'mwhc': 5771, 'nails': 5772, 'nameaddress': 5773, 'nametwice': 5774, 'nan': 5775, 'nasalevery': 5776, 'nearest': 5777, 'nebu': 5778, 'nebulizationinhalation': 5779, 'nectar': 5780, 'nitrogen': 5781, 'norvir': 5782, 'novalog': 5783, 'novologbs': 5784, 'nr': 5785, 'num.date': 5786, 'numcaps': 5787, 'numstop': 5788, 'nut.tx.gluc.intol': 5789, 'o2home': 5790, 'observe': 5791, 'obtained': 5792, 'om': 5793, 'on2111': 5794, 'onand': 5795, 'onc': 5796, 'onceper': 5797, 'onetime': 5798, 'onnarcotics': 5799, 'onnon': 5800, 'oob': 5801, 'ophthalmicfour': 5802, 'orderplease': 5803, 'ordrink': 5804, 'orphenadrine': 5805, 'ortho': 5806, 'orthopedic': 5807, 'outbreak': 5808, 'overloaded': 5809, 'oxygen3': 5810, 'oxygen3l': 5811, 'oxygennum': 5812, 'oxygenpt': 5813, 'painafter': 5814, 'pap': 5815, 'peninjector': 5816, 'percocets': 5817, 'perineum': 5818, 'perinsulin': 5819, 'petites': 5820, 'phenelzine': 5821, 'phenobarb': 5822, 'phonediagnosis': 5823, 'phonegoal': 5824, 'placeon': 5825, 'pleasedo': 5826, 'pleaseresume': 5827, 'pleurex': 5828, 'plug': 5829, 'poasdir': 5830, 'points': 5831, 'pomonday': 5832, 'poprn': 5833, 'poq': 5834, 'portabilitydx': 5835, 'pos': 5836, 'pouch': 5837, 'preadmissionmedication': 5838, 'preopdosing': 5839, 'prnanxiety': 5840, 'prnbreakthrough': 5841, 'prnipratropium': 5842, 'prnprotonix': 5843, 'problems': 5844, 'procainamide': 5845, 'procedures': 5846, 'prograflevel': 5847, 'prophy': 5848, 'prosthesis': 5849, 'pruritic': 5850, 'pulled': 5851, 'pulsed': 5852, 'q24hrs': 5853, 'q3hr': 5854, 'q3pm': 5855, 'q48hrs': 5856, 'q6hplease': 5857, 'q72hrs': 5858, 'q8hours': 5859, 'q8pm': 5860, 'qamrx': 5861, 'qdatorvastatin': 5862, 'qhemodialysis': 5863, 'qhour': 5864, 'qidprn': 5865, 'qidtitrate': 5866, 'qmonth': 5867, 'qsmiscellaneous': 5868, 'qt': 5869, 'quarter': 5870, 'qwednesday': 5871, 'r.': 5872, 'radial': 5873, 'radiation': 5874, 'rashapply': 5875, 'ray': 5876, 'rdw': 5877, 'rebreather': 5878, 'rectum': 5879, 'reducer': 5880, 'refills:2': 5881, 'refresh': 5882, 'rehabprovider': 5883, 'relieve': 5884, 'remaining': 5885, 'response': 5886, 'resumepreop': 5887, 'retraining': 5888, 'rheumatologist': 5889, 'rhinorrhea': 5890, 'ribbonophthalmic': 5891, 'rifabutin': 5892, 'rivaroxaban': 5893, 'rr<6': 5894, 'salinenormal': 5895, 'sametime': 5896, 'sample': 5897, 'sanctura': 5898, 'scalefingersticks': 5899, 'scalenph': 5900, 'scaleprovided': 5901, 'scrotum': 5902, 'section': 5903, 'seebelow': 5904, 'seems': 5905, 'selegiline': 5906, 'senokot': 5907, 'sensors': 5908, 'sentto': 5909, 'sets': 5910, 'shouldcontinue': 5911, 'showering': 5912, 'sig:10': 5913, 'signed': 5914, 'skelaxin': 5915, 'sma': 5916, 'solubles': 5917, 'source': 5918, 'spb': 5919, 'specifiedrefills': 5920, 'spinal': 5921, 'splints': 5922, 'sponge': 5923, 'spontaneous': 5924, 'stability': 5925, 'stagger': 5926, 'startnum': 5927, 'starttaking': 5928, 'states': 5929, 'step': 5930, 'stillhave': 5931, 'stock': 5932, 'stop.disp': 5933, 'str': 5934, 'strengthgoal': 5935, 'stripssig': 5936, 'stump': 5937, 'subcutaneousqidachs': 5938, 'subsequent': 5939, 'supple': 5940, 'supplieskangaroo': 5941, 'suppliestest': 5942, 'suresoft': 5943, 'surface': 5944, 'surfit': 5945, 'sutent': 5946, 'switched': 5947, 'sx': 5948, 'syringesinsulin': 5949, 'syringessupply': 5950, 'tabsday': 5951, 'take40': 5952, 'takein': 5953, 'tarceva': 5954, 'targets': 5955, 'teeth': 5956, 'temozolomide': 5957, 'theinr': 5958, 'then30': 5959, 'then40': 5960, 'thenswitch': 5961, 'therafter': 5962, 'therapyevaluation': 5963, 'thirtyfour': 5964, 'thisis': 5965, 'thrombosis': 5966, 'tiagabine': 5967, 'tidcheck': 5968, 'tidprn': 5969, 'tinea': 5970, 'to400': 5971, 'tobegin': 5972, 'tohospitalization': 5973, 'toinfectious': 5974, 'tolcapone': 5975, 'took': 5976, 'toonce': 5977, 'topicalevery': 5978, 'totaldose': 5979, 'tract': 5980, 'trifluoperazine': 5981, 'troc': 5982, 'tte': 5983, 'tubefeeds': 5984, 'tubehold': 5985, 'tuberefills': 5986, 'tucks': 5987, 'twodays': 5988, 'units191': 5989, 'units260': 5990, 'units350': 5991, 'units381': 5992, 'units81': 5993, 'unitsbefore': 5994, 'unitsin': 5995, 'unitsper': 5996, 'unitsqam': 5997, 'unitssubcutaneously': 5998, 'untildiscontinued': 5999, 'untilyou': 6000, 'urean': 6001, 'varenicline': 6002, 'varies': 6003, 'vasopressin': 6004, 'vein': 6005, 'vg': 6006, 'viag': 6007, 'vimpat': 6008, 'vital': 6009, 'vitc': 6010, 'vre': 6011, 'vs': 6012, 'weaned': 6013, 'weekend': 6014, 'weeksafter': 6015, 'weekslast': 6016, 'weigh': 6017, 'wheelchairplease': 6018, 'whileusing': 6019, 'withgoal': 6020, 'withmin': 6021, 'withpain': 6022, 'workast': 6023, 'workesr': 6024, 'workfor': 6025, 'workhospital': 6026, 'workicd': 6027, 'worklft': 6028, 'workliver': 6029, 'worknum': 6030, 'workthe': 6031, 'x1wk': 6032, 'xray': 6033, 'yourhome': 6034, 'yourpcp.name': 6035, 'yourprevious': 6036, 'youstill': 6037, 'zenpep': 6038, '.adhesive': 6039, '.cap': 6040, '.patient': 6041, '0.25mcg': 6042, '05:42am': 6043, '06:15am': 6044, '09:36pm': 6045, '1,000,000': 6046, '1000cc': 6047, '100hold': 6048, '109,000': 6049, '10please': 6050, '10uglucoses': 6051, '11.please': 6052, '11days': 6053, '12,500': 6054, '125mcg': 6055, '12mcg': 6056, '14d': 6057, '15,000': 6058, '150cc': 6059, '150hold': 6060, '15min': 6061, '160mmhg': 6062, '1:30': 6063, '1bm': 6064, '1drop': 6065, '1gram': 6066, '1injection': 6067, '200.disp': 6068, '200:4units': 6069, '200cc': 6070, '200daily': 6071, '200mcg': 6072, '20tablet': 6073, '23rx': 6074, '24,000': 6075, '240:6units': 6076, '25rx': 6077, '2hr': 6078, '2hrs': 6079, '2u201': 6080, '2week': 6081, '30cc': 6082, '30each': 6083, '30mins': 6084, '350units': 6085, '35units': 6086, '3liters': 6087, '3pm': 6088, '4000mgin': 6089, '40mg': 6090, '45units': 6091, '4ml': 6092, '4rx': 6093, '4tablets': 6094, '4x4': 6095, '500ml': 6096, '500unit': 6097, '55cc': 6098, '5d': 6099, '5tablets': 6100, '5th': 6101, '5uglucoses': 6102, '6,000': 6103, '60mg': 6104, '60recheck': 6105, '60units': 6106, '68,000': 6107, '6tablet': 6108, '6units301': 6109, '75mcg': 6110, '76,000': 6111, '8units351': 6112, '9.please': 6113, '90capsule': 6114, '90s': 6115, '9:30': 6116, '9am': 6117, 'a24': 6118, 'ablation': 6119, 'abnormalities': 6120, 'abuse': 6121, 'acamprosate': 6122, 'acar': 6123, 'acetaminophenper': 6124, 'act': 6125, 'aday.date': 6126, 'adhd': 6127, 'adminster': 6128, 'aerobid': 6129, 'aerosolsig': 6130, 'affects': 6131, 'afibdose': 6132, 'afrin': 6133, 'afterhemodialysis': 6134, 'afterthat': 6135, 'afterward': 6136, 'agitated': 6137, 'agitationhold': 6138, 'agitationplease': 6139, 'alb': 6140, 'aldactazide': 6141, 'align': 6142, 'alkalinephosphatase': 6143, 'allergicreaction': 6144, 'als': 6145, 'altace': 6146, 'alteplase': 6147, 'alternatively': 6148, 'alzheimer': 6149, 'ambulance': 6150, 'ambulatingfrequently': 6151, 'amhold': 6152, 'amio': 6153, 'ampintravenous': 6154, 'amps': 6155, 'ampuleinhalation': 6156, 'andbedtime': 6157, 'andchem': 6158, 'andcreatinine': 6159, 'anddose': 6160, 'andgive': 6161, 'andhave': 6162, 'androderm': 6163, 'andsunday': 6164, 'andthursday': 6165, 'aneurysm': 6166, 'angap': 6167, 'angioedema': 6168, 'anticipate': 6169, 'anythingthat': 6170, 'aorta': 6171, 'aorticvalve': 6172, 'applications': 6173, 'applicator': 6174, 'applicators': 6175, 'appointmentwith': 6176, 'approval': 6177, 'arava': 6178, 'asabove': 6179, 'ascending': 6180, 'ascites': 6181, 'asdir8': 6182, 'aspirin325': 6183, 'associates': 6184, 'asthere': 6185, 'at4pm': 6186, 'athemodialysis': 6187, 'atyour': 6188, 'auto': 6189, 'av': 6190, 'avr.disp': 6191, 'azmacort': 6192, 'azopt': 6193, 'baby': 6194, 'bariatric': 6195, 'basedon': 6196, 'bb': 6197, 'beadministered': 6198, 'bearing': 6199, 'beddiagnosis': 6200, 'bedirectedto': 6201, 'bedtime.hospital': 6202, 'bedtime.name': 6203, 'beforebedtime': 6204, 'belowtablet': 6205, 'bentyl': 6206, 'betweennum': 6207, 'beyond': 6208, 'bidatorvastatin': 6209, 'bilat': 6210, 'bipolar': 6211, 'biscolax': 6212, 'blisters': 6213, 'bolusinitial': 6214, 'bs201': 6215, 'bs:<70': 6216, 'byhospital': 6217, 'bypass': 6218, 'cagluc': 6219, 'calorie': 6220, 'campral': 6221, 'cancause': 6222, 'cannulaconserving': 6223, 'capecitabine': 6224, 'caplets': 6225, 'carbatrol': 6226, 'carbs': 6227, 'carepatient': 6228, 'carephysician.name': 6229, 'caresaline': 6230, 'caresodium': 6231, 'carotid': 6232, 'cartridgename': 6233, 'casodex': 6234, 'catapres': 6235, 'causedrowsiness': 6236, 'causing': 6237, 'cetuximab': 6238, 'checkyour': 6239, 'chew': 6240, 'chills': 6241, 'ciclesonide': 6242, 'cleansing': 6243, 'clogging': 6244, 'closure': 6245, 'colcrys': 6246, 'colestipol': 6247, 'collection': 6248, 'colon': 6249, 'comment': 6250, 'comments': 6251, 'commodedx': 6252, 'compact': 6253, 'compatable': 6254, 'compatible': 6255, 'completedon': 6256, 'completionof': 6257, 'complx': 6258, 'concerning': 6259, 'concurrently': 6260, 'consipation': 6261, 'consta': 6262, 'constiaption': 6263, 'constipatin': 6264, 'constipationplease': 6265, 'contraceptive': 6266, 'contraindicated': 6267, 'cool': 6268, 'copper': 6269, 'cord': 6270, 'couamdin': 6271, 'cough.hospital': 6272, 'coughrx': 6273, 'courselast': 6274, 'courseon': 6275, 'covered': 6276, 'crackers71': 6277, 'crackles': 6278, 'craniotomy': 6279, 'crushand': 6280, 'crystalname': 6281, 'ctr': 6282, 'cyproheptadine': 6283, 'd5076': 6284, 'daily.name': 6285, 'daily16dose': 6286, 'dailyalbuterol': 6287, 'dailyaspirin': 6288, 'dailyatorvastatin': 6289, 'dailydiltiazem': 6290, 'dailyhome': 6291, 'dailylasix': 6292, 'dailylevothyroxine': 6293, 'dailylipitor': 6294, 'dailylisinopril': 6295, 'dailynum': 6296, 'dailyon': 6297, 'dailyoxycodone': 6298, 'dailypantoprazole': 6299, 'dailyper': 6300, 'dailyprotonix': 6301, 'dailysenna': 6302, 'dailytapered': 6303, 'dailythereafter': 6304, 'dailythiamine': 6305, 'dailywith': 6306, 'dangerous': 6307, 'dantrolene': 6308, 'darifenacin': 6309, 'darvocet': 6310, 'date:1': 6311, 'daterange1': 6312, 'day:30': 6313, 'dayon': 6314, 'dayplease': 6315, 'days.phone': 6316, 'days30': 6317, 'daysand': 6318, 'daysdisp': 6319, 'deconditioning': 6320, 'delica': 6321, 'dentist': 6322, 'depends': 6323, 'depo': 6324, 'descending': 6325, 'despite': 6326, 'dextran': 6327, 'dha': 6328, 'dialysisnurse': 6329, 'diastolic': 6330, 'difficult': 6331, 'difficultybreathing': 6332, 'dig': 6333, 'dimenhydrinate': 6334, 'dinnerrx': 6335, 'directedrx': 6336, 'directedtopical': 6337, 'discontinuetapered': 6338, 'discussing': 6339, 'discusswith': 6340, 'diseaser.n.s': 6341, 'dissection': 6342, 'dist': 6343, 'diuresed': 6344, 'dl2': 6345, 'dlnotify': 6346, 'dni': 6347, 'doanything': 6348, 'doctoron': 6349, 'documented': 6350, 'donnatal': 6351, 'dosages': 6352, 'doseadjustments': 6353, 'doseas': 6354, 'dosechanges': 6355, 'dosedaily': 6356, 'doseplease': 6357, 'doseshould': 6358, 'dosesplease': 6359, 'dosestake': 6360, 'dosesto': 6361, 'drawing': 6362, 'drawnon': 6363, 'dressingplease': 6364, 'dropped': 6365, 'dropper': 6366, 'dulera': 6367, 'duodenal': 6368, 'dyspneahold': 6369, 'e.': 6370, 'eachday': 6371, 'eachmorning': 6372, 'eachrefills': 6373, 'earlier': 6374, 'effient': 6375, 'elixer': 6376, 'emboli': 6377, 'embolus': 6378, 'enalaprilat': 6379, 'endocrinology': 6380, 'epa': 6381, 'estrace': 6382, 'etabonate': 6383, 'evenings': 6384, 'every5': 6385, 'everymon': 6386, 'exceed4': 6387, 'exenatide': 6388, 'expected': 6389, 'exsufflator': 6390, 'exudate': 6391, 'eyeirritation': 6392, 'f.disp': 6393, 'father': 6394, 'feedreplete': 6395, 'femur': 6396, 'fewer': 6397, 'fibrosis': 6398, 'firstdose': 6399, 'flu': 6400, 'fluorouracil': 6401, 'flushnormal': 6402, 'flushsodium': 6403, 'flutamide': 6404, 'folgard': 6405, 'for15': 6406, 'forhypocalcemia': 6407, 'forms': 6408, 'foroversedation': 6409, 'forprn': 6410, 'forreflux': 6411, 'forsliding': 6412, 'forte': 6413, 'fortysix': 6414, 'foryour': 6415, 'fosphenytoin': 6416, 'fourdays': 6417, 'fpr': 6418, 'functiontests': 6419, 'gammagard': 6420, 'garlic': 6421, 'gets': 6422, 'giveafter': 6423, 'glarginetake': 6424, 'glu': 6425, 'glucocard': 6426, 'glucometerdisp': 6427, 'glucometermiscellaneous': 6428, 'glucometerone': 6429, 'gluteal': 6430, 'goal2.5': 6431, 'golytely': 6432, 'got': 6433, 'gr': 6434, 'granules': 6435, 'groins': 6436, 'gttophthalmic': 6437, 'gu': 6438, 'guaiac': 6439, 'h.pylori': 6440, 'h2oexpiratory': 6441, 'hamax': 6442, 'hectorol': 6443, 'hemorrhage': 6444, 'hepatology': 6445, 'hourly': 6446, 'hours.date': 6447, 'hours.hospital': 6448, 'hr<15': 6449, 'hr<16': 6450, 'hr<55rx': 6451, 'hrstransdermal': 6452, 'hs;201': 6453, 'hshold': 6454, 'humaloghumalog': 6455, 'humalogper': 6456, 'humidifier': 6457, 'hundredtwenty': 6458, 'husk': 6459, 'hyperlipidemia': 6460, 'hypoglycemia71': 6461, 'id.disp': 6462, 'ifblood': 6463, 'ifnot': 6464, 'ifpossible': 6465, 'ifstill': 6466, 'immobile': 6467, 'impair': 6468, 'impaired': 6469, 'inaddition': 6470, 'inbetween': 6471, 'inchophthalmic': 6472, 'incisional': 6473, 'includes': 6474, 'ineach': 6475, 'inhalationq': 6476, 'inhalationtid': 6477, 'inhale': 6478, 'initiated': 6479, 'injection2x': 6480, 'injectionhs': 6481, 'inmorning': 6482, 'inplace': 6483, 'inr<2.0': 6484, 'inrbetween': 6485, 'inrresults': 6486, 'inrs': 6487, 'inside': 6488, 'insulin20': 6489, 'insulinbg': 6490, 'insuling': 6491, 'insulinglucose': 6492, 'insulinregimen': 6493, 'interaction': 6494, 'intercourse': 6495, 'interventional': 6496, 'intra': 6497, 'intramuscularprn': 6498, 'intranasal': 6499, 'intravenoushospital': 6500, 'intravenousq48h': 6501, 'intravenoustitrate': 6502, 'ipratroprium': 6503, 'isambulatory': 6504, 'isnot': 6505, 'isphone': 6506, 'itis': 6507, 'ivintravenous': 6508, 'jantoven': 6509, 'jaw': 6510, 'jevity': 6511, 'juice70': 6512, 'kaopectate': 6513, 'katarzyna': 6514, 'klebsiella': 6515, 'label': 6516, 'lancetmiscell': 6517, 'lancetsdispense': 6518, 'lantuslantus': 6519, 'ldl': 6520, 'levelplease': 6521, 'levitra': 6522, 'liberally': 6523, 'lifting': 6524, 'linecare': 6525, 'lipoic': 6526, 'liq': 6527, 'lives': 6528, 'lobe': 6529, 'loosely': 6530, 'loteprednol': 6531, 'lubiprostone': 6532, 'lue': 6533, 'lungs': 6534, 'lutein;brmvwith': 6535, 'lvef': 6536, 'm.': 6537, 'mail': 6538, 'makes': 6539, 'manner': 6540, 'marinol': 6541, 'marked': 6542, 'mayrefuse': 6543, 'mdname': 6544, 'mealsand': 6545, 'mealtime': 6546, 'measurement': 6547, 'mechanicalventilation': 6548, 'mechcanical': 6549, 'medicate': 6550, 'medicationcontinue': 6551, 'medicationhumalog': 6552, 'medicationpatient': 6553, 'medicationsyou': 6554, 'medplease': 6555, 'mellitus': 6556, 'membranehospital': 6557, 'meropenum': 6558, 'metered': 6559, 'method': 6560, 'methyldopa': 6561, 'mgcapsule': 6562, 'mgmiscellaneous': 6563, 'mgsublingual': 6564, 'mi': 6565, 'micrograms': 6566, 'mininjection': 6567, 'minutesfor': 6568, 'minutesprior': 6569, 'miscell.twice': 6570, 'miscellan': 6571, 'miscellaneousfive': 6572, 'ml.': 6573, 'mlml': 6574, 'moving': 6575, 'mssa': 6576, 'mt': 6577, 'mucosa': 6578, 'muir': 6579, 'multivit': 6580, 'mwf.disp': 6581, 'my': 6582, 'na+': 6583, 'name:1': 6584, 'name:2': 6585, 'namemd': 6586, 'nameplease': 6587, 'namerx': 6588, 'nametells': 6589, 'nano': 6590, 'nasalthree': 6591, 'nasotracheal': 6592, 'natura': 6593, 'near': 6594, 'nebulizedtreatment': 6595, 'nebullizer': 6596, 'necon': 6597, 'needed.daterange': 6598, 'neededas': 6599, 'nephrology': 6600, 'neuropathy': 6601, 'nights': 6602, 'normalized': 6603, 'notstart': 6604, 'num;take': 6605, 'num@': 6606, 'numdisk': 6607, 'numlast': 6608, 'numophthalmic': 6609, 'numpuff': 6610, 'numspray': 6611, 'numtimes': 6612, 'nutritiontubefeeding': 6613, 'o2please': 6614, 'objects': 6615, 'ofbleeding': 6616, 'ofinsulin': 6617, 'ofnum.5.disp': 6618, 'ofsurgery': 6619, 'ofwarfarin': 6620, 'oj': 6621, 'on2115': 6622, 'on2132': 6623, 'on2154': 6624, 'on2161': 6625, 'onantibiotics': 6626, 'onehalf': 6627, 'onlytake': 6628, 'onwarfarin': 6629, 'ophthalmicqhs': 6630, 'opiates': 6631, 'ordersbedtimeglargine': 6632, 'orphone': 6633, 'orthopedics': 6634, 'orwheezing.name': 6635, 'othermedications': 6636, 'othernight': 6637, 'otictwice': 6638, 'outpatientantibiotics': 6639, 'outpatientparenteral': 6640, 'overthe': 6641, 'oximetry': 6642, 'oxygensaturations': 6643, 'pacer': 6644, 'pacing': 6645, 'packetspo': 6646, 'packettransdermal': 6647, 'painnot': 6648, 'palsy': 6649, 'pancreatitis': 6650, 'partof': 6651, 'patientbecomes': 6652, 'peep': 6653, 'penicillamine': 6654, 'penile': 6655, 'penis': 6656, 'peramide': 6657, 'perhome': 6658, 'perhospital': 6659, 'perminute': 6660, 'phase': 6661, 'phone.phone': 6662, 'phoneattn': 6663, 'phosphorous': 6664, 'piccplease': 6665, 'piece': 6666, 'pilldaily': 6667, 'pillsonce': 6668, 'pktpo': 6669, 'placing': 6670, 'pleae': 6671, 'pleasedecrease': 6672, 'pleasedispense': 6673, 'pleaseincrease': 6674, 'pleasestart': 6675, 'png': 6676, 'po2': 6677, 'polycarbophil': 6678, 'ponoon': 6679, 'portal': 6680, 'portex': 6681, 'position': 6682, 'ppi': 6683, 'prempro': 6684, 'prenatal': 6685, 'printedsliding': 6686, 'prnalbuterol': 6687, 'prndisp': 6688, 'prnheartburn': 6689, 'prnline': 6690, 'prnmetoprolol': 6691, 'probiotics': 6692, 'procardia': 6693, 'proph': 6694, 'prophylactic': 6695, 'protection': 6696, 'protective': 6697, 'proximal': 6698, 'pudding': 6699, 'puffer': 6700, 'pulsedose': 6701, 'puritus': 6702, 'q12h.': 6703, 'q12hd1': 6704, 'q24hinsulin': 6705, 'q24hr': 6706, 'q2days': 6707, 'q4hhold': 6708, 'q6hstanding': 6709, 'q8h.': 6710, 'q8hd1': 6711, 'q8num': 6712, 'qdcalcium': 6713, 'qdday': 6714, 'qdlevofloxacin': 6715, 'qdmetoprolol': 6716, 'qhshumalog': 6717, 'qlunch': 6718, 'qmonwedfri': 6719, 'qpmnum': 6720, 'qshift': 6721, 'quad': 6722, 'quick': 6723, 'radiologypa': 6724, 'ranexa': 6725, 'rashrx': 6726, 'razadyne': 6727, 'rca': 6728, 'reactions': 6729, 'rectalprn': 6730, 'rectalqam': 6731, 'rectalqod': 6732, 'regime': 6733, 'release24': 6734, 'remainder': 6735, 'remicade': 6736, 'renally': 6737, 'reposition': 6738, 'requirements': 6739, 'resulting': 6740, 'resultsshould': 6741, 'resumehome': 6742, 'retention': 6743, 'reyataz': 6744, 'rheumatology': 6745, 'rhinitis': 6746, 'rhonchi': 6747, 'rle': 6748, 'robaxin': 6749, 'rr<11': 6750, 'rr<16': 6751, 'rr<17': 6752, 'rr<19': 6753, 'rufinamide': 6754, 'ruled': 6755, 'runny': 6756, 'ruq': 6757, 's.': 6758, 'salineplease': 6759, 'sao2': 6760, 'sauce': 6761, 'sbp<105': 6762, 'sbp<16': 6763, 'scale61': 6764, 'scale:0': 6765, 'scaleattached': 6766, 'scalecoverage': 6767, 'scaledisp': 6768, 'scaleinstructions': 6769, 'scop': 6770, 'scripts': 6771, 'seat': 6772, 'seeyour': 6773, 'senior': 6774, 'sensitivity': 6775, 'shell': 6776, 'shotsubcutaneous': 6777, 'simple': 6778, 'sixhours': 6779, 'slding': 6780, 'slightly': 6781, 'soap': 6782, 'solids': 6783, 'sorethroat': 6784, 'sothat': 6785, 'spacerplease': 6786, 'sparingly': 6787, 'spirometer': 6788, 'spoke': 6789, 'sqfs': 6790, 'ssinsulin': 6791, 'stabilizes': 6792, 'stalevo': 6793, 'staph': 6794, 'staples': 6795, 'startednum': 6796, 'stated': 6797, 'stimulation': 6798, 'stops': 6799, 'strattera': 6800, 'stripsuse': 6801, 'subcut': 6802, 'sublingualas': 6803, 'sublingualevery': 6804, 'sublingualprn': 6805, 'subq': 6806, 'subsalicy': 6807, 'suggest': 6808, 'suggested': 6809, 'sulf': 6810, 'supplementation': 6811, 'suppliesglucometer': 6812, 'supplieslancets': 6813, 'suppliesname': 6814, 'suppliesplease': 6815, 'suppliespump': 6816, 'supplyrefills': 6817, 'suppression': 6818, 'suppressive': 6819, 'sureclick': 6820, 'surgeryrx': 6821, 'surveillance': 6822, 'symptomatic': 6823, 'syringesdisp': 6824, 'syringesfor': 6825, 'syringesplease': 6826, 'tabfor': 6827, 'tabletsdaterange': 6828, 'tablettwice': 6829, 'tabson': 6830, 'take5': 6831, 'take6': 6832, 'takeat': 6833, 'takefor': 6834, 'takeuntil': 6835, 'takingnarcotic': 6836, 'tap': 6837, 'telephone': 6838, 'terconazole': 6839, 'thedose': 6840, 'therapycontinuous': 6841, 'therapyoxygen': 6842, 'therapyper': 6843, 'therapyphysical': 6844, 'therapyspeech': 6845, 'thesame': 6846, 'theskin': 6847, 'thetongue': 6848, 'thing': 6849, 'thirtyeight': 6850, 'thismedication.disp': 6851, 'thoracic': 6852, 'though': 6853, 'thrushswish': 6854, 'tidachs': 6855, 'tidnum': 6856, 'to1': 6857, 'toback': 6858, 'todetermine': 6859, 'toexceed': 6860, 'tohave': 6861, 'tohelp': 6862, 'toimprove': 6863, 'tomanage': 6864, 'tonum': 6865, 'toother': 6866, 'topicalasdir': 6867, 'torestart': 6868, 'tothree': 6869, 'tpntpn': 6870, 'tpnvolume': 6871, 'tracheitis': 6872, 'transfuse': 6873, 'transfusions': 6874, 'translingual': 6875, 'transport': 6876, 'trending': 6877, 'trends': 6878, 'trouble': 6879, 'troughfax': 6880, 'troughlftscbc': 6881, 'trying': 6882, 'tub': 6883, 'twiceper': 6884, 'twohundred': 6885, 'tylenoldaily': 6886, 'tylenolin': 6887, 'uf': 6888, 'unclear': 6889, 'uncontrolled': 6890, 'undergo': 6891, 'underthe': 6892, 'undertongue': 6893, 'unitoral': 6894, 'units,201': 6895, 'units300': 6896, 'units;201': 6897, 'units;fsbg': 6898, 'unitsevery': 6899, 'unitsnph': 6900, 'unitsqpm': 6901, 'unresponsive': 6902, 'untilinstructed': 6903, 'upplease': 6904, 'uptitrated': 6905, 'uptitration': 6906, 'vardenafil': 6907, 'vasotec': 6908, 'veins': 6909, 'vialrefills': 6910, 'vialsubcutaneous': 6911, 'viapeg': 6912, 'visiting': 6913, 'visual': 6914, 'vomitingrx': 6915, 'vomitting': 6916, 'vt': 6917, 'vulvar': 6918, 'wake': 6919, 'walking': 6920, 'warfarinyou': 6921, 'warm': 6922, 'watch': 6923, 'wax': 6924, 'weekafter': 6925, 'weeks.phone': 6926, 'weightsplease': 6927, 'wereprior': 6928, 'what': 6929, 'wheelchairwheelchair': 6930, 'wheezing.phone': 6931, 'wheezingfor': 6932, 'whenthe': 6933, 'wife': 6934, 'withalcohol': 6935, 'withdialysis': 6936, 'withdinner': 6937, 'witheach': 6938, 'withfurosemide': 6939, 'withother': 6940, 'withpercocet': 6941, 'withyour': 6942, 'work2171': 6943, 'workdiagnosis': 6944, 'workdigoxin': 6945, 'workdx': 6946, 'workfollow': 6947, 'working': 6948, 'workpotassium': 6949, 'workthursday': 6950, 'workto': 6951, 'worktrough': 6952, 'workyour': 6953, 'worsens': 6954, 'wrap': 6955, 'wtih': 6956, 'x24': 6957, 'x4': 6958, 'xerophthalmia': 6959, 'yo': 6960, 'youcan': 6961, 'youdrowsy': 6962, 'youexperience': 6963, 'youmust': 6964, 'yourdose': 6965, 'yourhospital': 6966, 'yourhospitalization': 6967, 'yoursliding': 6968, 'yourwarfarin': 6969, 'yousleepy': 6970, 'youwere': 6971, 'zileuton': 6972, 'zoledronic': 6973, 'zoster': 6974, '.125': 6975, '.3': 6976, '.fax': 6977, '.results': 6978, '.subcutaneous': 6979, '0.5tablets': 6980, '07:00': 6981, '0units120': 6982, '0units201': 6983, '1.please': 6984, '10,ast': 6985, '100.rx': 6986, '1000ml': 6987, '100hr': 6988, '100mmhg': 6989, '100or': 6990, '100please': 6991, '101f': 6992, '10:50pm': 6993, '10d': 6994, '10fax': 6995, '10hold': 6996, '10meq': 6997, '10mg][2178': 6998, '10mgdaily': 6999, '10mgdaterange': 7000, '10subcutaneous': 7001, '110.disp': 7002, '110hr': 7003, '110rx': 7004, '118ml': 7005, '11and': 7006, '120,000': 7007, '120cc': 7008, '120ml': 7009, '12:01am': 7010, '12noon': 7011, '12pm': 7012, '12subcutaneous': 7013, '13days': 7014, '14rx': 7015, '150ml': 7016, '15tablet': 7017, '15th': 7018, '16days': 7019, '16mgin': 7020, '16please': 7021, '16th': 7022, '17:00': 7023, '19,000': 7024, '1:20': 7025, '1b': 7026, '1day': 7027, '1inhaler': 7028, '1mg': 7029, '1mgnum': 7030, '1pm': 7031, '2,500': 7032, '2,800': 7033, '2.5l': 7034, '2.5patient': 7035, '200mg': 7036, '200mgqd': 7037, '20days': 7038, '20end': 7039, '22.date': 7040, '22:00': 7041, '22u': 7042, '24end': 7043, '24hrx': 7044, '25mcg': 7045, '26for': 7046, '26th': 7047, '26u': 7048, '28subcutaneous': 7049, '28tablet': 7050, '2am': 7051, '2bm': 7052, '2cc': 7053, '2consecutive': 7054, '2lpm': 7055, '2ns': 7056, '2num': 7057, '2rf': 7058, '2stop': 7059, '2to': 7060, '3.0dx': 7061, '30please': 7062, '30seconds': 7063, '30syringe': 7064, '30th': 7065, '325mg': 7066, '38.0.disp': 7067, '38subcutaneous': 7068, '3bms': 7069, '3hrs': 7070, '3pills': 7071, '3rx': 7072, '3uglucoses': 7073, '400:10': 7074, '400mg': 7075, '400notify': 7076, '400u': 7077, '40capsule': 7078, '40meq': 7079, '40mgonce': 7080, '40u': 7081, '45ml': 7082, '45tablet': 7083, '45u': 7084, '4:30pm': 7085, '4bm': 7086, '4u251': 7087, '4units301': 7088, '5.please': 7089, '5000uinjection': 7090, '50mcg': 7091, '56tablet': 7092, '5am': 7093, '5mg': 7094, '5u201': 7095, '5weeks': 7096, '60cc': 7097, '60packet': 7098, '6pills': 7099, '6refills': 7100, '6results': 7101, '6tabs': 7102, '6u301': 7103, '6wk': 7104, '700units': 7105, '72hours': 7106, '75ml': 7107, '7please': 7108, '7uglucoses': 7109, '8hr': 7110, '8ml': 7111, '8u.': 7112, '8weeks': 7113, '9,000': 7114, '90mcg': 7115, '95rx': 7116, '9days': 7117, '9tablet': 7118, '@1400': 7119, 'a.location': 7120, 'abduction': 7121, 'ability': 7122, 'acapella': 7123, 'accompanying': 7124, 'accuzyme': 7125, 'acheive': 7126, 'achieved': 7127, 'activated': 7128, 'activatedinhalation': 7129, 'actually': 7130, 'acular': 7131, 'ad': 7132, 'adalat': 7133, 'aday.name': 7134, 'adhere': 7135, 'administerhumalog': 7136, 'administeringinsulin': 7137, 'administerthrough': 7138, 'adrenal': 7139, 'after1': 7140, 'afterdose': 7141, 'aftereach': 7142, 'afterhospital': 7143, 'afterinr': 7144, 'afteruse': 7145, 'agitationrx': 7146, 'agitiation': 7147, 'alfuzosin': 7148, 'alkaloids': 7149, 'alleviated': 7150, 'although': 7151, 'always': 7152, 'am10': 7153, 'amdose': 7154, 'amechanical': 7155, 'aminophylline': 7156, 'amlactin': 7157, 'amountof': 7158, 'amplease': 7159, 'ancef': 7160, 'and1': 7161, 'and4': 7162, 'and5': 7163, 'and6': 7164, 'anda': 7165, 'andadminister': 7166, 'andcontinue': 7167, 'andcoumadin': 7168, 'andhumalog': 7169, 'andif': 7170, 'andname': 7171, 'andqhs': 7172, 'andsend': 7173, 'andspit': 7174, 'anhour': 7175, 'anixety': 7176, 'anticoagulationpatient': 7177, 'anticoagulationplease': 7178, 'antidiabetic': 7179, 'antigen': 7180, 'antihypertensives': 7181, 'anxiety.name': 7182, 'anxious': 7183, 'appendage': 7184, 'appliances': 7185, 'approved': 7186, 'apri': 7187, 'aretaking': 7188, 'arf': 7189, 'arterial': 7190, 'asbefore': 7191, 'asdirmiscellaneous': 7192, 'asliding': 7193, 'aslong': 7194, 'aspartame': 7195, 'assessed': 7196, 'at8pm': 7197, 'atc': 7198, 'atgoal': 7199, 'attempts': 7200, 'axid': 7201, 'b.': 7202, 'b.bif': 7203, 'bagintravenous': 7204, 'balsam': 7205, 'bandages': 7206, 'bandagetopical': 7207, 'bedecreased': 7208, 'bedosed': 7209, 'bedrawn': 7210, 'bee': 7211, 'beeper': 7212, 'beevaluated': 7213, 'beforeadministering': 7214, 'beforeadmission': 7215, 'beforeand': 7216, 'beforeapplying': 7217, 'beforedinner': 7218, 'beforeor': 7219, 'beincreased': 7220, 'belladonna': 7221, 'below.name': 7222, 'belowinjection': 7223, 'bestarted': 7224, 'betablocker': 7225, 'betadine': 7226, 'betimol': 7227, 'betweendoses': 7228, 'bg251': 7229, 'bidacetaminophen': 7230, 'bidfurosemide': 7231, 'bilaterally': 7232, 'bipapnasal': 7233, 'blade': 7234, 'bo': 7235, 'bones': 7236, 'bosentan': 7237, 'bottlepo': 7238, 'bottlesrefill': 7239, 'boxesrefills': 7240, 'boxmiscell': 7241, 'boxsig': 7242, 'braceplease': 7243, 'breakthough': 7244, 'breathrx': 7245, 'brought': 7246, 'brush': 7247, 'buccalevery': 7248, 'bullets': 7249, 'burns': 7250, 'bycardiology': 7251, 'byinfectious': 7252, 'byname': 7253, 'bypcp': 7254, 'byprimary': 7255, 'bystolic': 7256, 'c.difficile': 7257, 'c.disp': 7258, 'caduet': 7259, 'calldr': 7260, 'calledto': 7261, 'callphone': 7262, 'calories': 7263, 'came': 7264, 'candidal': 7265, 'candiscontinue': 7266, 'cannot': 7267, 'cansubstitute': 7268, 'carbohydrates': 7269, 'careflush': 7270, 'careline': 7271, 'carotene': 7272, 'cases': 7273, 'cathplease': 7274, 'cbcwith': 7275, 'cerebral': 7276, 'checkfingersticks': 7277, 'checkplease': 7278, 'checksplease': 7279, 'chemical': 7280, 'chestcongestion': 7281, 'chloraseptic': 7282, 'chloroquine': 7283, 'cholangitis': 7284, 'cisatracurium': 7285, 'citrucel': 7286, 'citrus': 7287, 'clamp': 7288, 'clarify': 7289, 'clinicaleffect': 7290, 'clinician': 7291, 'clinicresults': 7292, 'clogged': 7293, 'clotting': 7294, 'cluster': 7295, 'coag': 7296, 'coli': 7297, 'collected': 7298, 'colostomy': 7299, 'comes': 7300, 'comfortable': 7301, 'commercial': 7302, 'commode1': 7303, 'commode3': 7304, 'communication': 7305, 'compared': 7306, 'completeresolution': 7307, 'compound': 7308, 'considersliding': 7309, 'constipation.disp': 7310, 'constipationpt': 7311, 'constipatoin': 7312, 'constpation': 7313, 'consulted': 7314, 'consuming': 7315, 'containers': 7316, 'containing': 7317, 'continueduntil': 7318, 'continuetaking': 7319, 'continueto': 7320, 'continuewhile': 7321, 'continuewith': 7322, 'continuouspulse': 7323, 'contstipation': 7324, 'convert': 7325, 'copaxone': 7326, 'copd.disp': 7327, 'corneal': 7328, 'cortsol': 7329, 'costipation': 7330, 'cough.date': 7331, 'coumadin1': 7332, 'coumadindose': 7333, 'courseis': 7334, 'courserx': 7335, 'cpapplease': 7336, 'cplx': 7337, 'crcl': 7338, 'creatnine': 7339, 'crystalhospital': 7340, 'cta': 7341, 'culturelle': 7342, 'cyberknife': 7343, 'cycles': 7344, 'daily.date': 7345, 'daily16coumadin': 7346, 'daily16goal': 7347, 'daily16to': 7348, 'daily3': 7349, 'dailyacetaminophen': 7350, 'dailyafter': 7351, 'dailyativan': 7352, 'dailycitalopram': 7353, 'dailydaily': 7354, 'dailydose': 7355, 'dailyhctz': 7356, 'dailyinr': 7357, 'dailymultivitamins': 7358, 'dailyplavix': 7359, 'dailypls': 7360, 'dailyresume': 7361, 'dailystandard': 7362, 'dailytake': 7363, 'dailythis': 7364, 'dailywhen': 7365, 'dasy': 7366, 'data': 7367, 'date:15': 7368, 'daterange3': 7369, 'daterange;then': 7370, 'dates': 7371, 'day2': 7372, 'day:3': 7373, 'dayalternate': 7374, 'daydaterange': 7375, 'dayof': 7376, 'days200': 7377, 'days;1': 7378, 'daysdose': 7379, 'daysgive': 7380, 'daysof': 7381, 'daysthrough': 7382, 'daysthru': 7383, 'daystotal': 7384, 'daywhile': 7385, 'dbili': 7386, 'ddd': 7387, 'death': 7388, 'debridement': 7389, 'debrox': 7390, 'decreasedose': 7391, 'decub': 7392, 'defer': 7393, 'deliberatechanges': 7394, 'demerol': 7395, 'demonstrated': 7396, 'des.disp': 7397, 'desatted': 7398, 'desaturations': 7399, 'desenex': 7400, 'desensitization': 7401, 'desiredclinical': 7402, 'desvenlafaxine': 7403, 'developed': 7404, 'develops': 7405, 'devicename': 7406, 'deviceplease': 7407, 'dextroseto': 7408, 'diarhea': 7409, 'diazoxide': 7410, 'differently': 7411, 'difficile': 7412, 'dinner70': 7413, 'dinnerhumalog': 7414, 'dinnernph': 7415, 'dinr': 7416, 'directeddaterange': 7417, 'directedmiscell': 7418, 'directedmiscellaneous': 7419, 'directedsublingual': 7420, 'dirqs': 7421, 'discs': 7422, 'dispensed': 7423, 'dispo': 7424, 'dissolved': 7425, 'distal': 7426, 'distended': 7427, 'distention': 7428, 'diuresing': 7429, 'dl10': 7430, 'dl8': 7431, 'dlnum': 7432, 'doctors.name': 7433, 'doesnot': 7434, 'domeboro': 7435, 'domperidone': 7436, 'dopamine': 7437, 'doripenem': 7438, 'dorsum': 7439, 'dose.name': 7440, 'dose2141': 7441, 'doseadjusted': 7442, 'dosefor': 7443, 'dosepacks': 7444, 'doseper': 7445, 'dosepo': 7446, 'doseson': 7447, 'dosesteroids': 7448, 'dosingbased': 7449, 'dosinggoal': 7450, 'dosingof': 7451, 'dosingper': 7452, 'dovonex': 7453, 'dp': 7454, 'dressingchange': 7455, 'dripplease': 7456, 'drivingwhile': 7457, 'dropsophthalmic': 7458, 'drugs': 7459, 'dsg': 7460, 'dueto': 7461, 'duragesic': 7462, 'duration:1': 7463, 'dypsnea': 7464, 'eachlumen': 7465, 'echocardiogram': 7466, 'echocontrast': 7467, 'effusions': 7468, 'ekgplease': 7469, 'elevate': 7470, 'elsewhere': 7471, 'emend': 7472, 'emla': 7473, 'emollient': 7474, 'empyema': 7475, 'ems.disp': 7476, 'encourage': 7477, 'encouraged': 7478, 'endnum': 7479, 'endocrine': 7480, 'endon': 7481, 'eng': 7482, 'enteral': 7483, 'entocort': 7484, 'entry': 7485, 'enzyme': 7486, 'epidural': 7487, 'epigastrium': 7488, 'epistaxis': 7489, 'epo': 7490, 'equipment1': 7491, 'ermultiphase': 7492, 'erythematous': 7493, 'esophagitis': 7494, 'esrd': 7495, 'estimated': 7496, 'eszopiclone': 7497, 'ethosuximide': 7498, 'etiology': 7499, 'evaluateand': 7500, 'eveningof': 7501, 'every1': 7502, 'everyevening': 7503, 'everythird': 7504, 'everythree': 7505, 'exacerbation': 7506, 'excede': 7507, 'exceed4gms': 7508, 'exceedmore': 7509, 'exceptwednesday': 7510, 'exit': 7511, 'experiencing': 7512, 'expressive': 7513, 'externa': 7514, 'facilityphysician': 7515, 'failed': 7516, 'fails': 7517, 'failureplease': 7518, 'fall': 7519, 'feedingtube': 7520, 'feedspeptamen': 7521, 'feedsreplete': 7522, 'femara': 7523, 'fen': 7524, 'ferrlecit': 7525, 'feverdo': 7526, 'feveror': 7527, 'find': 7528, 'fingers': 7529, 'fio2': 7530, 'fiorinal': 7531, 'fissures': 7532, 'fk': 7533, 'florinef': 7534, 'fluidoverload': 7535, 'flushper': 7536, 'folliculitis': 7537, 'follows:400': 7538, 'folow': 7539, 'for13': 7540, 'for20': 7541, 'for99': 7542, 'foradjustment': 7543, 'forback': 7544, 'forbowel': 7545, 'forbreakthrough': 7546, 'forcad.disp': 7547, 'forconst': 7548, 'fordiscomfort': 7549, 'fordosing': 7550, 'forfluid': 7551, 'forincreased': 7552, 'fork+': 7553, 'forpatient': 7554, 'forpci': 7555, 'forsbp<100': 7556, 'forstent': 7557, 'fortyfour': 7558, 'fossa': 7559, 'fragmin': 7560, 'freedom': 7561, 'fs241': 7562, 'fullstrength': 7563, 'functional': 7564, 'functioning': 7565, 'gallbladder': 7566, 'gastrocrom': 7567, 'gastroenterology': 7568, 'genital': 7569, 'geodon': 7570, 'gib': 7571, 'gilek': 7572, 'give2': 7573, 'giveat': 7574, 'giveon': 7575, 'giveper': 7576, 'givevia': 7577, 'givewith': 7578, 'glucometerdispense': 7579, 'glucometerfree': 7580, 'glucometerglucometer': 7581, 'glucometerpatient': 7582, 'glucometersig': 7583, 'glucosource': 7584, 'glycemic': 7585, 'goal50': 7586, 'goalof': 7587, 'goals': 7588, 'goes': 7589, 'goto': 7590, 'gramsrecon': 7591, 'ground': 7592, 'group': 7593, 'growth': 7594, 'guage': 7595, 'guiatuss': 7596, 'halftablet': 7597, 'handout': 7598, 'hard': 7599, 'hasresolved': 7600, 'havea': 7601, 'havebeen': 7602, 'havethis': 7603, 'headach': 7604, 'headachedo': 7605, 'headed': 7606, 'hearts': 7607, 'heldrx': 7608, 'hemaglobin': 7609, 'hematology': 7610, 'hemoptysis': 7611, 'hemorroids': 7612, 'heparindependent': 7613, 'herpes': 7614, 'hibiclens': 7615, 'hinged': 7616, 'hmb': 7617, 'holdhr': 7618, 'horus': 7619, 'hospital1': 7620, 'hospitalativan': 7621, 'hospitaldose': 7622, 'hospitalfor': 7623, 'hospitalmetoprolol': 7624, 'hospitalphone': 7625, 'hospitalprotonix': 7626, 'hospitalweek': 7627, 'hot': 7628, 'houras': 7629, 'hours.daterange': 7630, 'hours.name': 7631, 'hoursapart': 7632, 'hoursof': 7633, 'hr<17': 7634, 'hr<19': 7635, 'hr<3': 7636, 'hr<50rx': 7637, 'hr<60,sbp<100': 7638, 'hrdaterange': 7639, 'hrhold': 7640, 'hrprn': 7641, 'hsschedule': 7642, 'htn.disp': 7643, 'humolog': 7644, 'hungerhold': 7645, 'hydrin': 7646, 'hydrocerin': 7647, 'hyoscy': 7648, 'hypertensive': 7649, 'hypertensives': 7650, 'hypokalemia': 7651, 'hypovolemia': 7652, 'hypoxemia': 7653, 'ica': 7654, 'idrecommendations': 7655, 'if151': 7656, 'ifconstipated': 7657, 'ifpt': 7658, 'igg': 7659, 'ileus': 7660, 'images': 7661, 'imiquimod': 7662, 'immodium': 7663, 'impairment': 7664, 'implantation': 7665, 'improving': 7666, 'in24hours': 7667, 'inafternoon': 7668, 'inattention': 7669, 'inches': 7670, 'indefinate': 7671, 'independently': 7672, 'inducedthrombocytopenia': 7673, 'ineffective': 7674, 'infarcts': 7675, 'infected': 7676, 'infollow': 7677, 'inhalationq1h': 7678, 'inhalationsinhalation': 7679, 'inhaledinhalation': 7680, 'inhibitorunable': 7681, 'injected': 7682, 'injection1x': 7683, 'injectionas': 7684, 'injectionq2': 7685, 'injectionq48h': 7686, 'injectionqhd': 7687, 'injectionqid': 7688, 'injectionsash': 7689, 'injuryplease': 7690, 'injurysig': 7691, 'injxninjection': 7692, 'innum': 7693, 'inr.goal': 7694, 'inrand': 7695, 'inrdaily': 7696, 'inrdrawn': 7697, 'inrtheraputic': 7698, 'insomia': 7699, 'instilled': 7700, 'instructedto': 7701, 'instructionsplease': 7702, 'instructionstablets': 7703, 'instructs': 7704, 'insufficiency': 7705, 'insufflator': 7706, 'insulin121': 7707, 'insulin151': 7708, 'insulin25': 7709, 'insulin70': 7710, 'insulin;151': 7711, 'insulinas': 7712, 'insulinaspart': 7713, 'insulincheck': 7714, 'insulindose': 7715, 'insulinlispro': 7716, 'insulinpt': 7717, 'insulinresume': 7718, 'insulinsc': 7719, 'insulinsyringes': 7720, 'interacts': 7721, 'intermittent': 7722, 'intertrigo': 7723, 'intolerance': 7724, 'intravenousafter': 7725, 'intravenousas': 7726, 'intravenousprn': 7727, 'intructed': 7728, 'invanz': 7729, 'inyour': 7730, 'irrigate': 7731, 'iscomplete': 7732, 'istalol': 7733, 'itmay': 7734, 'ivpinitial': 7735, 'ivprn': 7736, 'junel': 7737, 'juven': 7738, 'kangaroo': 7739, 'kerlex': 7740, 'ketone': 7741, 'kginitial': 7742, 'kitsplease': 7743, 'l.': 7744, 'l.acidoph': 7745, 'laa': 7746, 'labsdrawn': 7747, 'labsweekly': 7748, 'lack': 7749, 'lancetslancets': 7750, 'lancetsone': 7751, 'lancetsuse': 7752, 'lat': 7753, 'late': 7754, 'lay': 7755, 'lb': 7756, 'leaves': 7757, 'legswelling': 7758, 'level.fax': 7759, 'lialda': 7760, 'lieu': 7761, 'lifelong': 7762, 'liftplease': 7763, 'lightheaded': 7764, 'lineper': 7765, 'lipids': 7766, 'lipram': 7767, 'lit': 7768, 'liverfunction': 7769, 'lle': 7770, 'look': 7771, 'lopid': 7772, 'lose': 7773, 'lost': 7774, 'lowback': 7775, 'lozengebuccal': 7776, 'luq': 7777, 'lv': 7778, 'lying': 7779, 'lyme': 7780, 'mac': 7781, 'machinary': 7782, 'machinefor': 7783, 'machineuse': 7784, 'macrodantin': 7785, 'maintainpreadmission': 7786, 'makeyou': 7787, 'managing': 7788, 'mandelate': 7789, 'markedly': 7790, 'maybe': 7791, 'maychange': 7792, 'mayneed': 7793, 'mdfax': 7794, 'mdlocation': 7795, 'mdu': 7796, 'me': 7797, 'mealsplease': 7798, 'medciation': 7799, 'medial': 7800, 'medicalattention': 7801, 'medication.name': 7802, 'medicationmaalox': 7803, 'medicationscontinue': 7804, 'medicationsinsulin': 7805, 'medicationstake': 7806, 'medicationswhile': 7807, 'meet': 7808, 'melas': 7809, 'membraneasdir': 7810, 'membranedaily': 7811, 'membranefive': 7812, 'membranefour': 7813, 'membranes': 7814, 'membranethree': 7815, 'memory': 7816, 'mephobarbital': 7817, 'mepilex': 7818, 'mepron': 7819, 'metastasis': 7820, 'methylnaltrexone': 7821, 'mets': 7822, 'mgdays': 7823, 'mgdose': 7824, 'mgof': 7825, 'mgrecon': 7826, 'mgso4': 7827, 'miacalcin': 7828, 'micardis': 7829, 'minimize': 7830, 'miscell.every': 7831, 'miscell.once': 7832, 'miscellaneousevery': 7833, 'mixed': 7834, 'mixwith': 7835, 'ml0.25': 7836, 'mliv': 7837, 'mlnormal': 7838, 'mlsmucous': 7839, 'mobic': 7840, 'mode': 7841, 'moisturize': 7842, 'mondaythrough': 7843, 'monopril': 7844, 'monthrefill': 7845, 'mos+': 7846, 'mouthfour': 7847, 'mouthpain': 7848, 'mouthq4hr': 7849, 'movementsper': 7850, 'mr.': 7851, 'mr2': 7852, 'mscontin': 7853, 'msir': 7854, 'mth': 7855, 'multivitaminsnacl': 7856, 'myalgias': 7857, 'name:4': 7858, 'nameatenolol': 7859, 'nameonce': 7860, 'nameonly': 7861, 'nametablet': 7862, 'naratriptan': 7863, 'narcoticsto': 7864, 'nas': 7865, 'nasalcanula': 7866, 'nasalfour': 7867, 'nasalq2h': 7868, 'naturale': 7869, 'nausea.hospital': 7870, 'nausea.name': 7871, 'nauseahold': 7872, 'nebivolol': 7873, 'nebule': 7874, 'nebulizeruse': 7875, 'necrotic': 7876, 'neededfirst': 7877, 'needledispense': 7878, 'needto': 7879, 'nepafenac': 7880, 'nephrostomy': 7881, 'nerve': 7882, 'neuralgia': 7883, 'neurologically': 7884, 'neutral': 7885, 'neutropenia': 7886, 'nevanac': 7887, 'ng.disp': 7888, 'nitrolingual': 7889, 'nizoral': 7890, 'no.10': 7891, 'noacceptable': 7892, 'nocoumadin': 7893, 'nocturnal': 7894, 'norelief': 7895, 'norflex': 7896, 'noscript': 7897, 'notdrink': 7898, 'nothing151': 7899, 'notifymd': 7900, 'notrelieved': 7901, 'notresolve': 7902, 'notstop': 7903, 'ntg': 7904, 'num10': 7905, 'num2': 7906, 'num;then': 7907, 'numadjust': 7908, 'numamp': 7909, 'numbowel': 7910, 'numdays': 7911, 'numinhalations': 7912, 'numtapered': 7913, 'numweeks': 7914, 'nutritiontube': 7915, 'o22': 7916, 'oa': 7917, 'obese': 7918, 'occurs': 7919, 'ofchest': 7920, 'officeat': 7921, 'ofhospital': 7922, 'oflevofloxacin': 7923, 'ofprednisone': 7924, 'often': 7925, 'oftherapy': 7926, 'oftreatment': 7927, 'ofunknown': 7928, 'on,12': 7929, 'on2113': 7930, 'on2124': 7931, 'on2134': 7932, 'on2149': 7933, 'on2169': 7934, 'on2185': 7935, 'onamiodarone': 7936, 'ondialysis': 7937, 'one2.5': 7938, 'one200': 7939, 'oneand': 7940, 'onetab': 7941, 'oneyear': 7942, 'onfor': 7943, 'onformulary': 7944, 'onhold': 7945, 'onhospital': 7946, 'only.disp': 7947, 'only;all': 7948, 'onmechanical': 7949, 'onsliding': 7950, 'onsteroids': 7951, 'onto': 7952, 'onward': 7953, 'onyour': 7954, 'oozing': 7955, 'ophtho': 7956, 'opioid': 7957, 'opth': 7958, 'oragitation': 7959, 'oralhospital': 7960, 'orbreathlessness': 7961, 'orconfused': 7962, 'ordriving': 7963, 'ordyspnea': 7964, 'ormore': 7965, 'orrespiratory': 7966, 'orrr': 7967, 'orshortness': 7968, 'oruntil': 7969, 'orvomiting': 7970, 'osh': 7971, 'osteomyelitis': 7972, 'otherantibiotics': 7973, 'otherplease': 7974, 'otherwisedirected': 7975, 'oticthree': 7976, 'otitis': 7977, 'our': 7978, 'oversedated': 7979, 'oximeter': 7980, 'oxygen2liters': 7981, 'oxygendiagnosis': 7982, 'oxygenfor': 7983, 'oxygennasal': 7984, 'oxygenoxygen1': 7985, 'oxygentitrate': 7986, 'oxygenvia': 7987, 'oyster': 7988, 'oz.61': 7989, 'p.o': 7990, 'packages': 7991, 'packetpacket': 7992, 'paged': 7993, 'pain2152': 7994, 'painapply': 7995, 'paindecreases': 7996, 'pair': 7997, 'paliperidone': 7998, 'palliative': 7999, 'pancreatic': 8000, 'paper': 8001, 'parameters': 8002, 'passes': 8003, 'passy': 8004, 'pasv': 8005, 'patch.disp': 8006, 'pathology': 8007, 'patientambulating': 8008, 'pcpfor': 8009, 'pcpsubcutaneous': 8010, 'pd': 8011, 'pelvis': 8012, 'pentosan': 8013, 'percocetcolace': 8014, 'percutaneous': 8015, 'perfacility': 8016, 'performactivities': 8017, 'pergt': 8018, 'periodically': 8019, 'peritonitis': 8020, 'periwound': 8021, 'perle': 8022, 'peryour': 8023, 'petroleum': 8024, 'pfts': 8025, 'pg': 8026, 'pharmacist': 8027, 'phonedx': 8028, 'phoneicd9': 8029, 'phonenumber': 8030, 'phosp': 8031, 'phospha': 8032, 'physicaltherapy': 8033, 'physicians': 8034, 'picc.disp': 8035, 'piccheparin': 8036, 'piggybackintravenous': 8037, 'piggybacks': 8038, 'pillevery': 8039, 'pillsfor': 8040, 'pilltwice': 8041, 'pink': 8042, 'pkg': 8043, 'plain': 8044, 'plaque': 8045, 'plastic': 8046, 'pleasealternate': 8047, 'pleasecontact': 8048, 'pleasecrush': 8049, 'pleased': 8050, 'pleasediscuss': 8051, 'pleasenote': 8052, 'pleaseplace': 8053, 'pleaseprovide': 8054, 'pleasesee': 8055, 'pleasewear': 8056, 'plenty': 8057, 'pneumoboots': 8058, 'polysulfate': 8059, 'poq1hour': 8060, 'poq2': 8061, 'poq24h': 8062, 'poq6': 8063, 'poqdaily': 8064, 'poqod': 8065, 'portabilitydiagnosis': 8066, 'posee': 8067, 'postoperative': 8068, 'potential': 8069, 'precose': 8070, 'prednisoneprednisone': 8071, 'premedicate': 8072, 'premix': 8073, 'preparation': 8074, 'presumed': 8075, 'preventbronchospasm': 8076, 'pristiq': 8077, 'prnacetaminophen': 8078, 'prnaspirin': 8079, 'prndocusate': 8080, 'prndyspnea': 8081, 'prnif': 8082, 'prnnausea': 8083, 'prnprn': 8084, 'probable': 8085, 'probably': 8086, 'procanbid': 8087, 'process': 8088, 'processed': 8089, 'program': 8090, 'prolongation': 8091, 'prophalaxis': 8092, 'protopic': 8093, 'provider;target': 8094, 'psoriatic': 8095, 'psychiatrist': 8096, 'pud': 8097, 'pulses': 8098, 'pumpinsulin': 8099, 'pumpplease': 8100, 'pumpsubcutaneous': 8101, 'pvd.disp': 8102, 'q10pm': 8103, 'q12h.disp': 8104, 'q12hcontinue': 8105, 'q15minutes': 8106, 'q1600': 8107, 'q1700': 8108, 'q1pm': 8109, 'q24h.': 8110, 'q30min': 8111, 'q3hours': 8112, 'q3weeks': 8113, 'q4hprn': 8114, 'q4hrx': 8115, 'q4prn': 8116, 'q5am': 8117, 'q6am': 8118, 'q6hglucose': 8119, 'q6hhumalogglucose': 8120, 'q6hregular': 8121, 'q6hrprn': 8122, 'q8hd': 8123, 'q8hlast': 8124, 'q8htake': 8125, 'qac.disp': 8126, 'qam28': 8127, 'qd2148': 8128, 'qdasa': 8129, 'qdaspirin': 8130, 'qdfolic': 8131, 'qdfor': 8132, 'qdheparin': 8133, 'qdinsulin': 8134, 'qdisp': 8135, 'qdpantoprazole': 8136, 'qduntil': 8137, 'qevening': 8138, 'qhshold': 8139, 'qid.disp': 8140, 'qidachsrx': 8141, 'qidinsulin': 8142, 'qidpchs': 8143, 'qidplease': 8144, 'qpmdaterange': 8145, 'qsaturday': 8146, 'qsinjection': 8147, 'qssubcutaneous': 8148, 'qsx1': 8149, 'qtprolongation': 8150, 'qtuthur': 8151, 'r.ns.at': 8152, 'r1000': 8153, 'radiology': 8154, 'radiologyplease': 8155, 'rales': 8156, 'rass': 8157, 'rate:10': 8158, 'rates': 8159, 'ready': 8160, \"rec'ing\": 8161, 'records': 8162, 'recovery': 8163, 'rectaltid': 8164, 'recurrence': 8165, 'referral': 8166, 'refuserx': 8167, 'refuses': 8168, 'regimeninsulin': 8169, 'regions': 8170, 'regularsliding': 8171, 'rehabilitationplease': 8172, 'rehabprovider;target': 8173, 'rel.30': 8174, 'release24hr': 8175, 'reliever': 8176, 'removalplease': 8177, 'renalfunction': 8178, 'repeatonce': 8179, 'repleted': 8180, 'repositioning': 8181, 'requests': 8182, 'requirments': 8183, 'resection': 8184, 'reservoir': 8185, 'respiratorydepression': 8186, 'resultscalled': 8187, 'resultto': 8188, 'retention,24': 8189, 'ribfractures': 8190, 'rice': 8191, 'rls': 8192, 'road': 8193, 'rocaltrol': 8194, 'roho': 8195, 'rom': 8196, 'rosacea': 8197, 'rose': 8198, 'routinely': 8199, 'rozerem': 8200, 'rr<4': 8201, 'rrr': 8202, 'runs': 8203, 's.therm;brlactobacillus': 8204, 'sacrum': 8205, 'sali': 8206, 'saphenous': 8207, 'says': 8208, 'sbp<100mmhg': 8209, 'sbp<12': 8210, 'sbp<130': 8211, 'scalebefore': 8212, 'scalebelow': 8213, 'scalefinger': 8214, 'scalefor': 8215, 'scalefour': 8216, 'scalewhile': 8217, 'schedulebelow': 8218, 'sclae': 8219, 'scsliding': 8220, 'scsubcutaneous': 8221, 'seborrheic': 8222, 'secretionsrx': 8223, 'sedative': 8224, 'sedatives': 8225, 'separated': 8226, 'sepsis': 8227, 'serial': 8228, 'seventyfive': 8229, 'sever': 8230, 'shakes': 8231, 'sharps': 8232, 'shewas': 8233, 'shouldnot': 8234, 'shown': 8235, 'sig:3': 8236, 'sips': 8237, 'sister': 8238, 'siteinfection': 8239, 'sleepiness': 8240, 'smart': 8241, 'smear': 8242, 'soa': 8243, 'soda': 8244, 'softner': 8245, 'solninhalation': 8246, 'solnsinjection': 8247, 'solu': 8248, 'solutionname': 8249, 'soma': 8250, 'sometime': 8251, 'sonata': 8252, 'soreness': 8253, 'soy;brnut.tx.glucoseintolerance': 8254, 'sp': 8255, 'sparing': 8256, 'spasmhold': 8257, 'speaking': 8258, 'specialist': 8259, 'spectravite': 8260, 'spot': 8261, 'sq261': 8262, 'sqsubcutaneous': 8263, 'squirts': 8264, 'starch': 8265, 'starlix': 8266, 'stemi': 8267, 'sting': 8268, 'stips': 8269, 'stocking': 8270, 'stomachupset': 8271, 'stooling': 8272, 'stopthis': 8273, 'stopwhen': 8274, 'straining': 8275, 'strength;goal': 8276, 'strengthening': 8277, 'stripsdisp': 8278, 'subcutaneousinjection': 8279, 'subcutaneoussliding': 8280, 'subhepatic': 8281, 'suboxone': 8282, 'subsides': 8283, 'successful': 8284, 'suctions': 8285, 'sulfa': 8286, 'sulfide': 8287, 'sundaynum': 8288, 'sundowning': 8289, 'superficial': 8290, 'supplies1': 8291, 'suppliessupply': 8292, 'supplysubcutaneous': 8293, 'suppositorysrectal': 8294, 'suspected': 8295, 'suspensionhospital': 8296, 'svc': 8297, 'synringes': 8298, 'syringeintravenous': 8299, 'syringeplease': 8300, 'syringesdispense': 8301, 'sz': 8302, 'tabletevery': 8303, 'tabletfor': 8304, 'tabletsin': 8305, 'tabsdaterange': 8306, 'tabsin': 8307, 'tabspo': 8308, 'tacro': 8309, 'take10': 8310, 'take200': 8311, 'takeanother': 8312, 'takedaily': 8313, 'takeevery': 8314, 'takehalf': 8315, 'takenum': 8316, 'takeup': 8317, 'takewhile': 8318, 'takeyour': 8319, 'takingpercocet': 8320, 'talking': 8321, 'taperplease': 8322, 'tb': 8323, 'tbi': 8324, 'teaspoonspo': 8325, 'tele': 8326, 'telmisartan': 8327, 'terbutaline': 8328, 'term': 8329, 'tested': 8330, 'testim': 8331, 'tfts': 8332, 'thalidomide': 8333, 'than6': 8334, 'thankyou': 8335, 'theafternoon': 8336, 'thecoumadin': 8337, 'theday': 8338, 'theemergency': 8339, 'theinfectious': 8340, 'then10': 8341, 'then5': 8342, 'thenoff': 8343, 'thenon': 8344, 'therapeuticinr': 8345, 'therapeuticon': 8346, 'therapies': 8347, 'therapuetic': 8348, 'therapy2': 8349, 'therapycbc': 8350, 'therapycognitive': 8351, 'therapyeval': 8352, 'therapyhospital': 8353, 'therapyo2': 8354, 'therapyright': 8355, 'thereare': 8356, 'therepeutic': 8357, 'theresult': 8358, 'thesliding': 8359, 'thinning': 8360, 'thioridazine': 8361, 'thiosulfate': 8362, 'thoroughly': 8363, 'thought': 8364, 'throatpain': 8365, 'thrombocytopenia': 8366, 'through2152': 8367, 'thursdaycbc': 8368, 'thursdayfax': 8369, 'thus': 8370, 'tibc': 8371, 'tiddisp': 8372, 'tiddo': 8373, 'tiddocusate': 8374, 'tidlansoprazole': 8375, 'tidlorazepam': 8376, 'tidstart': 8377, 'tidto': 8378, 'tidvancomycin': 8379, 'timeof': 8380, 'timoptic': 8381, 'tinged': 8382, 'titradose': 8383, 'tmp': 8384, 'to60': 8385, 'tobaseline': 8386, 'tocheck': 8387, 'tocoumadin': 8388, 'toeach': 8389, 'tofax': 8390, 'tohemodialysis': 8391, 'tokeep': 8392, 'tolmetin': 8393, 'tolvaptan': 8394, 'tomeals': 8395, 'toon': 8396, 'toone': 8397, 'tooth': 8398, 'topicalapplication': 8399, 'toptt': 8400, 'toradol': 8401, 'torso': 8402, 'totaldaily': 8403, 'toward': 8404, 'toxicity': 8405, 'toxin': 8406, 'tpnsee': 8407, 'tracheoplasty': 8408, 'trade': 8409, 'transitioning': 8410, 'transportationplease': 8411, 'trauma': 8412, 'treating': 8413, 'tremor': 8414, 'tremors': 8415, 'trend': 8416, 'trended': 8417, 'trial': 8418, 'trialplease': 8419, 'trifluridine': 8420, 'triple': 8421, 'trizivir': 8422, 'tropicamide': 8423, 'troughplease': 8424, 'troughresults': 8425, 'trusopt': 8426, 'tsps': 8427, 'tts': 8428, 'ttss': 8429, 'tuesdayand': 8430, 'tumorclinic': 8431, 'tunnel': 8432, 'tyelenol': 8433, 'tylenolper': 8434, 'u251': 8435, 'u301': 8436, 'u351': 8437, 'uafax': 8438, 'ud': 8439, 'ulceration': 8440, 'ulcerative': 8441, 'uloric': 8442, 'ultimately': 8443, 'ultra1': 8444, 'ultrasound': 8445, 'underneath': 8446, 'underwent': 8447, 'units,161': 8448, 'units,250': 8449, 'units,300': 8450, 'units100': 8451, 'units111': 8452, 'units140': 8453, 'units231': 8454, 'units91': 8455, 'units;161': 8456, 'units;200': 8457, 'units;241': 8458, 'unitsfsbg': 8459, 'unitsif': 8460, 'unitsof': 8461, 'unitssc': 8462, 'unrelieved': 8463, 'unsure': 8464, 'untiladvised': 8465, 'untilcoumadin': 8466, 'untilstable': 8467, 'untilstopped': 8468, 'urgent': 8469, 'urojet': 8470, 'urosepsis': 8471, 'us': 8472, 'usage': 8473, 'useonly': 8474, 'uses': 8475, 'vaginaltwice': 8476, 'vancomycinlevel': 8477, 'varied': 8478, 'varying': 8479, 'vascular': 8480, 'vaseline': 8481, 'ventilated': 8482, 'video': 8483, 'view': 8484, 'vitron': 8485, 'wasnum': 8486, 'wasstarted': 8487, 'watery': 8488, 'way': 8489, 'wbat': 8490, 'weaning': 8491, 'wearing': 8492, 'wedfri': 8493, 'wednesdaynum': 8494, 'week200': 8495, 'weeklyfax': 8496, 'weeklyplease': 8497, 'weekon': 8498, 'weeks.date': 8499, 'weekstarting': 8500, 'weekthen': 8501, 'weekuntil': 8502, 'weightbased': 8503, 'weightincreases': 8504, 'wends': 8505, 'werepreviously': 8506, 'wheelchairdx': 8507, 'wheelchairstandard': 8508, 'wheelchairwith': 8509, 'wheezealbuterol': 8510, 'wheezerx': 8511, 'wheezing.date': 8512, 'wheezing.disp': 8513, 'wheezing.name': 8514, 'whentaking': 8515, 'whenyou': 8516, 'willcall': 8517, 'willlikely': 8518, 'willneed': 8519, 'willtolerate': 8520, 'wires': 8521, 'withambulation': 8522, 'withany': 8523, 'withcoumadin': 8524, 'withdifferential': 8525, 'withhemodialysis': 8526, 'withinfectious': 8527, 'withlast': 8528, 'withname': 8529, 'withnormal': 8530, 'withtylenol': 8531, 'workbmp': 8532, 'workfriday': 8533, 'workfull': 8534, 'worklaboratory': 8535, 'worknext': 8536, 'workpleae': 8537, 'workq': 8538, 'workqweekly': 8539, 'worksafety': 8540, 'worksheet': 8541, 'worksma7': 8542, 'workstanding': 8543, 'worktacrolimus': 8544, 'worktsh': 8545, 'woundcare': 8546, 'x1week': 8547, 'x3d': 8548, 'x8': 8549, 'xa': 8550, 'xenaderm': 8551, 'xibrom': 8552, 'xl.disp': 8553, 'xolair': 8554, 'years': 8555, 'youfeel': 8556, 'youneed': 8557, 'yourequire': 8558, 'yourneurologist': 8559, 'yourphysician': 8560, 'yousee': 8561, 'youtake': 8562, 'zegerid': 8563, 'zelnorm': 8564, 'zithromax': 8565, 'znox': 8566, 'zolmitriptan': 8567, 'zometa': 8568, 'zyflo': 8569, 'zyvox': 8570, \"'ve\": 8571, ',glucose': 8572, '.....': 8573, '.18': 8574, '.215': 8575, '.35': 8576, '.5cc': 8577, '.atorvastatin': 8578, '.bisacodyl': 8579, '.cholecalciferol': 8580, '.digoxin': 8581, '.dispense': 8582, '.donepezil': 8583, '.fluticasone': 8584, '.for': 8585, '.multivitamin': 8586, '.num': 8587, '.olanzapine': 8588, '.pantoprazole': 8589, '.rx': 8590, '.senna': 8591, '.the': 8592, '.then': 8593, '0.25ml': 8594, '0.2mg': 8595, '0.2ml': 8596, '0.4mlsubcutaneous': 8597, '0.5cap': 8598, '0.5tab': 8599, '0.7ml': 8600, '05:12am': 8601, '07:35am': 8602, '09:00': 8603, '0kpo4': 8604, '0units141': 8605, '0units161': 8606, '1,100,000': 8607, '1,600': 8608, '1.12to': 8609, '10.daterange': 8610, '100,pulse': 8611, '1000units': 8612, '100crush': 8613, '100million': 8614, '100tablet': 8615, '101f.disp': 8616, '10:00': 8617, '10a': 8618, '10and': 8619, '10cagluc': 8620, '10day': 8621, '10mg': 8622, '10results': 8623, '10transdermal': 8624, '10u.name': 8625, '10uglucose': 8626, '10unitsscbs': 8627, '11rx': 8628, '11then': 8629, '12.5mgdaterange': 8630, '12.please': 8631, '125cc': 8632, '12hour': 8633, '12hrsig': 8634, '12hrson': 8635, '12hsulfameth': 8636, '12l': 8637, '12last': 8638, '12please': 8639, '12uglucose': 8640, '12unitsscbs': 8641, '130.disp': 8642, '1300.please': 8643, '14,phone': 8644, '144lbs': 8645, '14please': 8646, '14then': 8647, '14uglucoses': 8648, '14unitssc': 8649, '15.date': 8650, '1500cc': 8651, '150=2u151': 8652, '150mcg': 8653, '150please': 8654, '15gm': 8655, '15mg][2178': 8656, '15mgdaterange': 8657, '15rx': 8658, '16,9': 8659, '160:4units': 8660, '16:40mg,2027': 8661, '16uglucoses': 8662, '17,num': 8663, '1700units': 8664, '17gram': 8665, '17u': 8666, '17units': 8667, '188mcg': 8668, '18for': 8669, '18hrs': 8670, '18results': 8671, '18u301': 8672, '1900prochlorperazine': 8673, '1:00pm': 8674, '1:1': 8675, '1:14': 8676, '1:30pm': 8677, '1=2101': 8678, '1=2124': 8679, '1a': 8680, '1if': 8681, '1kit': 8682, '1mgm': 8683, '1mgon': 8684, '1no': 8685, '1patch': 8686, '1subcutaneous': 8687, '1syringe': 8688, '2.5check': 8689, '2.5inr': 8690, '2.5please': 8691, '2.5pt': 8692, '2.5received': 8693, '2.5rx': 8694, '2.5take': 8695, '200,and': 8696, '200:4unitsac': 8697, '200:6units': 8698, '200=2': 8699, '200=4u201': 8700, '200give': 8701, '200mgm': 8702, '200mgpo': 8703, '200mgqd.disp': 8704, '200mgtablets': 8705, '200ml': 8706, '200qd': 8707, '20diagnosis': 8708, '20fax': 8709, '20for': 8710, '20mgday': 8711, '20mgfrom': 8712, '20qd': 8713, '20results': 8714, '21and': 8715, '21stop': 8716, '22.please': 8717, '225mcg': 8718, '23results': 8719, '240:8units': 8720, '24hlast': 8721, '24hours.disp': 8722, '24hrname': 8723, '24last': 8724, '24tablet': 8725, '24weeks': 8726, '25.please': 8727, '250.00.disp': 8728, '250.disp': 8729, '250=': 8730, '250=6u251': 8731, '250mcg': 8732, '25gx1': 8733, '25mgtablet': 8734, '26.please': 8735, '260:6units': 8736, '27,then': 8737, '27last': 8738, '28.please': 8739, '280:10units': 8740, '280:8unitsac': 8741, '28and': 8742, '28day': 8743, '28results': 8744, '29end': 8745, '2:00': 8746, '2:00pm': 8747, '2amp': 8748, '2b': 8749, '2bms': 8750, '2day': 8751, '2end': 8752, '2gram': 8753, '2hour': 8754, '2last': 8755, '2lbs': 8756, '2mgalternating': 8757, '2mgdaily': 8758, '2mgnum': 8759, '2min': 8760, '2ndary': 8761, '2nddose': 8762, '2puffs': 8763, '2soft': 8764, '2uglucose': 8765, '2units161': 8766, '2units251': 8767, '2unitsbs': 8768, '2weeks.hospital': 8769, '2xweek': 8770, '3,treat': 8771, '3.0check': 8772, '3.0hospital': 8773, '3.0please': 8774, '3.0tablets': 8775, '3.5dx': 8776, '3.5for': 8777, '3.5results': 8778, '30,phone': 8779, '30.please': 8780, '300,8': 8781, '300:8units': 8782, '30doses': 8783, '30fax': 8784, '30mlrefills': 8785, '30not': 8786, '30qd': 8787, '30transdermal': 8788, '31last': 8789, '31tablet': 8790, '31x': 8791, '32units': 8792, '350=': 8793, '350=10u.': 8794, '35u': 8795, '36units': 8796, '37mcg': 8797, '38.3c': 8798, '3day': 8799, '3daysthen': 8800, '3gm': 8801, '3has': 8802, '3hr': 8803, '3lnc': 8804, '3mgnum': 8805, '3mgq6hrs': 8806, '3take': 8807, '3then': 8808, '3u151': 8809, '3units201': 8810, '4.fax': 8811, '4.rx': 8812, '4000mgacetaminophen': 8813, '4000mgof': 8814, '400=': 8815, '400mgintravenous': 8816, '400mgonce': 8817, '40mgsubcutaneous': 8818, '40ml': 8819, '40qd': 8820, '42tablet': 8821, '44tablet': 8822, '44units': 8823, '45cc': 8824, '480ml': 8825, '48hrtransdermal': 8826, '4end': 8827, '4gmapap': 8828, '4gof': 8829, '4has': 8830, '4hprn': 8831, '4mgon': 8832, '4please': 8833, '4pmplease': 8834, '4puffs': 8835, '4s': 8836, '4u201': 8837, '5,000,000': 8838, '5,000units': 8839, '500.disp': 8840, '5000unity': 8841, '50mg': 8842, '50rx': 8843, '5:30am': 8844, '5doses': 8845, '5end': 8846, '5for': 8847, '5mg2185': 8848, '5mg][2178': 8849, '5mgdaily': 8850, '5mgdaterange': 8851, '5mls': 8852, '6,000,000': 8853, '600cc': 8854, '60mg,11': 8855, '60subcutaneous': 8856, '60u': 8857, '650mgm': 8858, '6:00': 8859, '6:30am': 8860, '6insulin': 8861, '6minutes': 8862, '6phone': 8863, '6rx': 8864, '6to': 8865, '6u151': 8866, '6u241': 8867, '6u251': 8868, '6u281': 8869, '6uglucose': 8870, '6units351': 8871, '7,calcium': 8872, '7.5mgdaterange': 8873, '7.fax': 8874, '7.please': 8875, '70cc': 8876, '70u': 8877, '72hrstransdermal': 8878, '750mg': 8879, '75u': 8880, '7:30pm': 8881, '7day': 8882, '7mgpatch': 8883, '7subcutaneous': 8884, '7then': 8885, '7u': 8886, '7u281': 8887, '800units': 8888, '80cc': 8889, '80ml': 8890, '80s': 8891, '8:00': 8892, '8:00am': 8893, '8e': 8894, '8h.': 8895, '8hd1': 8896, '8hhold': 8897, '8hrx': 8898, '8please': 8899, '8subcutaneous': 8900, '8tablet': 8901, '8th': 8902, '8u201': 8903, '8u301': 8904, '8u321': 8905, '8u351': 8906, '8uglucose': 8907, '8wk': 8908, '8wks': 8909, '90,contact': 8910, '90hold': 8911, '90refills': 8912, '911if': 8913, '92%.disp': 8914, '9please': 8915, '9u361': 8916, '9uglucoses': 8917, '@phone': 8918, 'a&d': 8919, 'a1c': 8920, 'ab': 8921, 'abddiscomfort': 8922, 'abdominalcramping': 8923, 'abdpain': 8924, 'abhr': 8925, 'abiraterone': 8926, 'abnormality': 8927, 'abrasion': 8928, 'absolute': 8929, 'absolutely': 8930, 'absorb': 8931, 'accepting': 8932, 'accessory': 8933, 'accucheck': 8934, 'accurately': 8935, 'acei': 8936, 'acetamenophen': 8937, 'acknowledged': 8938, 'acknowledges': 8939, 'actiq': 8940, 'activation': 8941, 'acudial': 8942, 'additions': 8943, 'adherent': 8944, 'adhesivepatch': 8945, 'adisp': 8946, 'adjustaccording': 8947, 'adjustas': 8948, 'adjustedaccordingly': 8949, 'adjustedby': 8950, 'adjustement': 8951, 'adjustingheparin': 8952, 'adjusts': 8953, 'adjustvancomycin': 8954, 'adjustyour': 8955, 'administer500': 8956, 'administeraccording': 8957, 'administerinsulin': 8958, 'administersubcutaneously': 8959, 'adn': 8960, 'adose': 8961, 'adverse': 8962, 'aerosolinhalation': 8963, 'afebrile': 8964, 'affectsyou': 8965, 'afibdr': 8966, 'afibinr': 8967, 'afibrx': 8968, 'afibtarget': 8969, 'after2': 8970, 'afterantibiotics': 8971, 'afterdaily': 8972, 'afterdinner': 8973, 'afterhd': 8974, 'aftermeropenem': 8975, 'afteryour': 8976, 'agency': 8977, 'aggressively': 8978, 'agitaiton': 8979, 'agitationdispense': 8980, 'agoal': 8981, 'ahalf': 8982, 'aids': 8983, 'aim': 8984, 'airwaysecretions': 8985, 'albendazole': 8986, 'aleve': 8987, 'algorithm': 8988, 'alkalosis': 8989, 'alkp': 8990, 'allergist': 8991, 'allevyn': 8992, 'allquestions': 8993, 'alrex': 8994, 'alternatewith': 8995, 'alternatingwith': 8996, 'am200': 8997, 'amand': 8998, 'amaximum': 8999, 'ambu': 9000, 'ambulatingtid': 9001, 'ameal': 9002, 'amiodaroneresults': 9003, 'amiodorone': 9004, 'amox': 9005, 'ams': 9006, 'anadditional': 9007, 'analgesic': 9008, 'analysis': 9009, 'aname': 9010, 'anaphylactic': 9011, 'anaphylacticreaction': 9012, 'anappointment': 9013, 'and10': 9014, 'and2': 9015, 'and20': 9016, 'and30': 9017, 'and40': 9018, 'and9pm': 9019, 'andalso': 9020, 'andast': 9021, 'andbefore': 9022, 'anddiscontinue': 9023, 'andevening': 9024, 'andevery': 9025, 'andextremities': 9026, 'andfamily': 9027, 'andfrequency': 9028, 'andgiven': 9029, 'andglucose': 9030, 'andhs': 9031, 'andlasix': 9032, 'andmagnesium': 9033, 'andmonitor': 9034, 'andprecautions': 9035, 'andqpm': 9036, 'andrespiratory': 9037, 'andresults': 9038, 'andsaturday': 9039, 'andstop': 9040, 'andtest': 9041, 'andthursdays': 9042, 'andtrough': 9043, 'andtuesday': 9044, 'andwas': 9045, 'anesthesia': 9046, 'anginal': 9047, 'angiogram': 9048, 'ankles': 9049, 'anothertablet': 9050, 'anoutpatient': 9051, 'anoxic': 9052, 'antibioticsplease': 9053, 'antibioticspt': 9054, 'antibiotictreatment': 9055, 'antibody': 9056, 'anticipated': 9057, 'anticoagulated': 9058, 'anticoagulationmanagement': 9059, 'anticoagulationnurses': 9060, 'antiobiotics': 9061, 'antipruritics': 9062, 'anucort': 9063, 'anxietycan': 9064, 'anxietymethylprednisolone': 9065, 'anxietyplease': 9066, 'anychanges': 9067, 'anychest': 9068, 'anydental': 9069, 'anyquestions': 9070, 'aphysician': 9071, 'apneacontinue': 9072, 'apparent': 9073, 'appearing': 9074, 'appls': 9075, 'applyfor': 9076, 'applying': 9077, 'applyover': 9078, 'apressure': 9079, 'aralast': 9080, 'arecompleted': 9081, 'aredia': 9082, 'areds': 9083, 'arixtra': 9084, 'armpain': 9085, 'armpit': 9086, 'armpits': 9087, 'aromasin': 9088, 'arrangements': 9089, 'arrest': 9090, 'art': 9091, 'arthralgias': 9092, 'asamiodarone': 9093, 'asappropriate': 9094, 'asbelow': 9095, 'asd': 9096, 'asdescribed': 9097, 'asdetermined': 9098, 'asdirdisp': 9099, 'asdirected.disp': 9100, 'asdirper': 9101, 'asfollow': 9102, 'asit': 9103, 'aslevofloxacin': 9104, 'asneeded.hospital': 9105, 'aspatient': 9106, 'aspirate': 9107, 'aspirationpneumonia': 9108, 'aspre': 9109, 'assistplease': 9110, 'associatesaddress': 9111, 'assume': 9112, 'assuming': 9113, 'assure': 9114, 'astepro': 9115, 'asthe': 9116, 'aswritten': 9117, 'asymptomatic': 9118, 'at2': 9119, 'at5am': 9120, 'at8am': 9121, 'ata': 9122, 'atbaseline': 9123, 'atdoctor': 9124, 'atend': 9125, 'atmos': 9126, 'atpressure': 9127, 'atrialfibrillationfirst': 9128, 'atsame': 9129, 'attach': 9130, 'attachedinsulin': 9131, 'attachedscale': 9132, 'attachedunits': 9133, 'attacks': 9134, 'attain': 9135, 'attatched': 9136, 'atthis': 9137, 'automated': 9138, 'automatic': 9139, 'autopsy': 9140, 'avalide': 9141, 'avandamet': 9142, 'avastin': 9143, 'aveeno': 9144, 'avelox': 9145, 'avinza': 9146, 'await': 9147, 'axillary': 9148, 'azo': 9149, 'b.hospital': 9150, 'babeseosis': 9151, 'backpack': 9152, 'backpain': 9153, 'bacterial': 9154, 'bad': 9155, 'bagrefills': 9156, 'baking': 9157, 'balancetraining': 9158, 'banding': 9159, 'bare': 9160, 'baso': 9161, 'beads': 9162, 'beats': 9163, 'becomplete': 9164, 'beconase': 9165, 'bed1': 9166, 'bedfully': 9167, 'bedindication': 9168, 'bedkinair': 9169, 'bedrest': 9170, 'bedtime.phone': 9171, 'bedtime.record': 9172, 'bedtime61': 9173, 'bedtimeaccording': 9174, 'bedtimeaspart': 9175, 'bedtimerx': 9176, 'bedtimesliding': 9177, 'beforechemotherapy': 9178, 'beforelunch': 9179, 'beforetaking': 9180, 'befully': 9181, 'behavior': 9182, 'beingheld': 9183, 'beinstructed': 9184, 'bells': 9185, 'bench': 9186, 'benefits': 9187, 'benum': 9188, 'benzos': 9189, 'beon': 9190, 'beover': 9191, 'bepurchased': 9192, 'bere': 9193, 'bereevaluated': 9194, 'bestopped': 9195, 'betapered': 9196, 'betaseron': 9197, 'between15': 9198, 'betweentabs': 9199, 'beweaned': 9200, 'bg351': 9201, 'bibasilar': 9202, 'bidatenolol': 9203, 'bidbisacodyl': 9204, 'bidcontinue': 9205, 'biddiltiazem': 9206, 'biddo': 9207, 'bidfor': 9208, 'bidgive': 9209, 'bidinsulin': 9210, 'bidlasix': 9211, 'bidlast': 9212, 'bidon': 9213, 'bidondansetron': 9214, 'bidoxycodone': 9215, 'bidpatient': 9216, 'bidphenytoin': 9217, 'bidplavix': 9218, 'bidprednisone': 9219, 'bidsertraline': 9220, 'bidto': 9221, 'bidwarfarin': 9222, 'bidx': 9223, 'bidx2dys': 9224, 'bidyou': 9225, 'big': 9226, 'bile': 9227, 'bilifax': 9228, 'biloba': 9229, 'bipapplease': 9230, 'bismol': 9231, 'bites': 9232, 'bka': 9233, 'bkfst': 9234, 'bl': 9235, 'bld': 9236, 'bldg': 9237, 'blister': 9238, 'blistered': 9239, 'bloatingrx': 9240, 'blooddrawn': 9241, 'bloodpressures': 9242, 'blue': 9243, 'bmdaily': 9244, 'bms.disp': 9245, 'bor;brglucosam': 9246, 'bos': 9247, 'bothmedications': 9248, 'bottlesrefills': 9249, 'bound': 9250, 'bowels': 9251, 'boxmiscellaneous': 9252, 'boxrefills:2': 9253, 'boxtopical': 9254, 'bp<110': 9255, 'br': 9256, 'bracelet': 9257, 'brands': 9258, 'breakfast.disp': 9259, 'breakfastaspart': 9260, 'breakfastregular': 9261, 'breakfastrx': 9262, 'breakthroughpainhold': 9263, 'breathdispense': 9264, 'breathingtreatments': 9265, 'breathrough': 9266, 'breeze': 9267, 'brkfst': 9268, 'bronch': 9269, 'bronchiectasis': 9270, 'brushing': 9271, 'bs251': 9272, 'bs351': 9273, 'btw': 9274, 'bullet': 9275, 'bunand': 9276, 'button': 9277, 'byacetaminophen': 9278, 'byophthalmologist': 9279, 'bypsych': 9280, 'cabg.disp': 9281, 'caddress': 9282, 'cadexomer': 9283, 'cafter': 9284, 'caglu': 9285, 'cagluc90': 9286, 'calc': 9287, 'calcio': 9288, 'calciumtablets': 9289, 'call911': 9290, 'callyou': 9291, 'caloric': 9292, 'cammode': 9293, 'canconsider': 9294, 'canedisp': 9295, 'canincrease': 9296, 'canisters': 9297, 'cannisters': 9298, 'cannulas': 9299, 'cannulatitrate': 9300, 'canresume': 9301, 'cansrefills': 9302, 'canuli': 9303, 'capfulpo': 9304, 'caphosol': 9305, 'capsule2172': 9306, 'capsules2172': 9307, 'carbamoxide': 9308, 'carbratio': 9309, 'card': 9310, 'cardiomyopathy': 9311, 'cardioversion': 9312, 'cards': 9313, 'careas': 9314, 'carecenter': 9315, 'carecommercial': 9316, 'carefoley': 9317, 'carehickman': 9318, 'carenormal': 9319, 'careprotocol': 9320, 'careprovider': 9321, 'caresite': 9322, 'carethoracic': 9323, 'carmol': 9324, 'carnatine': 9325, 'caror': 9326, 'carry': 9327, 'carteolol': 9328, 'cartridgehospital': 9329, 'cartridgesubcutaneous': 9330, 'cartriges': 9331, 'castor': 9332, 'cat': 9333, 'caused': 9334, 'cautiously': 9335, 'cbc.please': 9336, 'ccintramuscular': 9337, 'ccintravenous': 9338, 'ccsash': 9339, 'ccu': 9340, 'ceftin': 9341, 'cells': 9342, 'centeraddress': 9343, 'cetaphil': 9344, 'cevimeline': 9345, 'chance': 9346, 'changesadditions': 9347, 'changesplease': 9348, 'changeto': 9349, 'checkcheck': 9350, 'checkdaily': 9351, 'checkedon': 9352, 'checkon': 9353, 'checkswith': 9354, 'checkvanco': 9355, 'chemistrypanel': 9356, 'cheratussin': 9357, 'chestdiscomfort': 9358, 'chestpressure': 9359, 'chief': 9360, 'chlor': 9361, 'chlorambucil': 9362, 'chloride0.9': 9363, 'chronically': 9364, 'chronicpain': 9365, 'ci': 9366, 'cigarette': 9367, 'cigarettes': 9368, 'cimetidine': 9369, 'cinnamon': 9370, 'clarinex': 9371, 'clavicle': 9372, 'cleaned': 9373, 'cleanseall': 9374, 'cleanserdressing': 9375, 'cleocin': 9376, 'climara': 9377, 'clinc': 9378, 'clinicfor': 9379, 'clinicon': 9380, 'clinicphone': 9381, 'clips': 9382, 'close': 9383, 'closest': 9384, 'clots': 9385, 'clusters': 9386, 'cmb': 9387, 'coagulapathy': 9388, 'coat': 9389, 'coffee': 9390, 'cognition': 9391, 'coiling': 9392, 'col': 9393, 'colestid': 9394, 'collapse': 9395, 'colonoscopy': 9396, 'combined': 9397, 'combivir': 9398, 'comfortpack': 9399, 'commodediagnosis': 9400, 'commodedisp': 9401, 'commodenum': 9402, 'commodeuse': 9403, 'community': 9404, 'comode': 9405, 'comp': 9406, 'competency': 9407, 'competentmd': 9408, 'complaining': 9409, 'complains': 9410, 'complaint': 9411, 'complete.disp': 9412, 'complete10': 9413, 'complete14': 9414, 'completed2140': 9415, 'completiondate': 9416, 'compromise': 9417, 'compromised': 9418, 'comtan': 9419, 'concurrent': 9420, 'conditioning': 9421, 'condom': 9422, 'confined': 9423, 'confirmedwith': 9424, 'conj': 9425, 'conjestion': 9426, 'conjuction': 9427, 'conjunction': 9428, 'connect': 9429, 'consciousness': 9430, 'consideration': 9431, 'considering': 9432, 'consistency': 9433, 'constant': 9434, 'consti': 9435, 'constipating': 9436, 'constipation.phone': 9437, 'constipation\\\\': 9438, 'constipationif': 9439, 'constipationwhile': 9440, 'contactyour': 9441, 'contains325': 9442, 'contents': 9443, 'continously': 9444, 'continuefor': 9445, 'continueheparin': 9446, 'continueindefinitely': 9447, 'continuos': 9448, 'contraceptives': 9449, 'contrastplease': 9450, 'controlling': 9451, 'coordinate': 9452, 'coordination': 9453, 'corgard': 9454, 'corn': 9455, 'correcting': 9456, 'cotton': 9457, 'cough.name': 9458, 'coughs': 9459, 'coumadin.name': 9460, 'coumadinafter': 9461, 'coumadinas': 9462, 'coumadingoal': 9463, 'coumadininstructions': 9464, 'coumadinnum': 9465, 'coumadintherapeutic': 9466, 'counseling': 9467, 'coursefinishes': 9468, 'courseif': 9469, 'coursethrough': 9470, 'coveragebg': 9471, 'coverwith': 9472, 'cpapdx': 9473, 'crackers66': 9474, 'crani': 9475, 'crashdx': 9476, 'creatinineand': 9477, 'creatinineplease': 9478, 'crf': 9479, 'crohn': 9480, 'crp.all': 9481, 'crpall': 9482, 'crpfrequency': 9483, 'crpplease': 9484, 'cruch': 9485, 'crushin': 9486, 'crystaldate': 9487, 'cubicin': 9488, 'currentdose': 9489, 'cushionroho': 9490, 'cutter': 9491, 'cyclen': 9492, 'cycleover': 9493, 'd5081': 9494, 'da': 9495, 'daily.hospital': 9496, 'daily1': 9497, 'daily12': 9498, 'daily16inr': 9499, 'daily16start': 9500, 'daily16take': 9501, 'daily18': 9502, 'daily4': 9503, 'daily85cc': 9504, 'daily[has': 9505, 'dailyacyclovir': 9506, 'dailyadministration': 9507, 'dailyallopurinol': 9508, 'dailyatenolol': 9509, 'dailycarvedilol': 9510, 'dailycholecalciferol': 9511, 'dailyciprofloxacin': 9512, 'dailyclopidogrel': 9513, 'dailycyanocobalamin': 9514, 'dailydecrease': 9515, 'dailydigoxin': 9516, 'dailyergocalciferol': 9517, 'dailyfeet': 9518, 'dailyflush': 9519, 'dailyfurosemide': 9520, 'dailygabapentin': 9521, 'dailygive': 9522, 'dailyhaloperidol': 9523, 'dailyi': 9524, 'dailyincrease': 9525, 'dailyindefinitely': 9526, 'dailylevoxyl': 9527, 'dailylorazepam': 9528, 'dailymay': 9529, 'dailymetformin': 9530, 'dailymirtazapine': 9531, 'dailymorphine': 9532, 'dailymycophenolate': 9533, 'dailynexium': 9534, 'dailyprednisone': 9535, 'dailypt': 9536, 'dailystarting': 9537, 'dailysubcutaneous': 9538, 'dailytaper': 9539, 'dailytarget': 9540, 'dailythen': 9541, 'dailythrough': 9542, 'dailytoprol': 9543, 'dailyweights': 9544, 'dailywhile': 9545, 'damp': 9546, 'danger': 9547, 'dasatinib': 9548, 'dat': 9549, 'date2103': 9550, 'date:2': 9551, 'date:2159': 9552, 'date:2198': 9553, 'daterange2': 9554, 'daterange20': 9555, 'daterangethen': 9556, 'daughter': 9557, 'daughters': 9558, 'day.2108': 9559, 'day14': 9560, 'day2120': 9561, 'day2132': 9562, 'day30': 9563, 'day5': 9564, 'day:.disp': 9565, 'day:10': 9566, 'day:15': 9567, 'day:4': 9568, 'day:40': 9569, 'day:60': 9570, 'day:[not': 9571, 'dayafter': 9572, 'dayaspirin': 9573, 'daycall': 9574, 'daydosing': 9575, 'dayexcept': 9576, 'dayongoing': 9577, 'days,2': 9578, 'days,20': 9579, 'days.20': 9580, 'days.daterange': 9581, 'days2': 9582, 'days2152': 9583, 'days50': 9584, 'daysa': 9585, 'daysfor': 9586, 'daysimvastatin': 9587, 'daysmetoprolol': 9588, 'daysnext': 9589, 'daysstarted': 9590, 'daysstarting': 9591, 'daysswish': 9592, 'daysthen200': 9593, 'daysupply': 9594, 'daytake': 9595, 'daytime': 9596, 'dccv': 9597, 'ddavp': 9598, 'ddextrose': 9599, 'deaccess': 9600, 'decisions': 9601, 'decline': 9602, 'deemed': 9603, 'deficit': 9604, 'degenerative': 9605, 'degree': 9606, 'dehydrated': 9607, 'demonstrates': 9608, 'depend': 9609, 'depressed': 9610, 'dermatologist': 9611, 'desat': 9612, 'desaturates': 9613, 'describes': 9614, 'desogestrel': 9615, 'detailed': 9616, 'determinedby': 9617, 'devicehospital': 9618, 'devicemiscell': 9619, 'devicemiscellaneous': 9620, 'devise': 9621, 'dexa': 9622, 'dexlansoprazole': 9623, 'dfat': 9624, 'dhea': 9625, 'diagnosed': 9626, 'diagnosis2153': 9627, 'dialysate': 9628, 'dialysis.disp': 9629, 'dialysisplease': 9630, 'dialyvite': 9631, 'diaphoresis': 9632, 'diarrheal': 9633, 'diarrhearesolved': 9634, 'diarrrhea': 9635, 'diastat': 9636, 'dibucaine': 9637, 'dic': 9638, 'dietplease': 9639, 'differentialgoing': 9640, 'diffplease': 9641, 'diffuse': 9642, 'diflunisal': 9643, 'difluprednate': 9644, 'digitek': 9645, 'digoxinlevel': 9646, 'diluted': 9647, 'dinner.disp': 9648, 'dinnerand': 9649, 'dinnernum': 9650, 'dinnerregularglucose': 9651, 'dip': 9652, 'dipro': 9653, 'directed.date': 9654, 'directed:2': 9655, 'directedaccording': 9656, 'directeddispense': 9657, 'directedtablets': 9658, 'director': 9659, 'dirunits': 9660, 'discard': 9661, 'discontine': 9662, 'discontinuedby': 9663, 'discontinueheparin': 9664, 'discontinuelovenox': 9665, 'discontinuerx': 9666, 'discontinuewhen': 9667, 'discontiued': 9668, 'discus': 9669, 'discussyour': 9670, 'diseaseclinic': 9671, 'disp:30': 9672, 'dispenser': 9673, 'distances': 9674, 'distension': 9675, 'dl11': 9676, 'dl14': 9677, 'dl5': 9678, 'dl6': 9679, 'dm.disp': 9680, \"doctor'srecommendation\": 9681, 'doctor51': 9682, 'doctorplease': 9683, 'document': 9684, 'docusil': 9685, 'dornase': 9686, 'dose1': 9687, 'dose2103': 9688, 'dose2105': 9689, 'dose25': 9690, 'doseaccording': 9691, 'doseage': 9692, 'dosebased': 9693, 'dosebreakfast': 9694, 'dosecomplete': 9695, 'dosecompleted': 9696, 'dosefingerstick': 9697, 'dosefinished': 9698, 'dosegiven': 9699, 'dosehold': 9700, 'doselasix': 9701, 'dosenph': 9702, 'doseophthalmic': 9703, 'doseorder': 9704, 'dosepack': 9705, 'doseportability': 9706, 'doserx': 9707, 'doses1': 9708, 'dosesafter': 9709, 'dosesdaily': 9710, 'dosesdose': 9711, 'dosesystem': 9712, 'dosetablet': 9713, 'dosetoday': 9714, 'dosevaries': 9715, 'dosewith': 9716, 'dosingadjustments': 9717, 'dosingplease': 9718, 'draining': 9719, 'drawnand': 9720, 'drawnby': 9721, 'drawnum': 9722, 'dress': 9723, 'dressingsplease': 9724, 'drg': 9725, 'drinkingalcohol': 9726, 'driveor': 9727, 'dropdaily': 9728, 'dropdrop': 9729, 'dropping': 9730, 'drydressing': 9731, 'dryeye': 9732, 'dryweight': 9733, 'duration:10': 9734, 'durationwill': 9735, 'durezol': 9736, 'duringdialysis': 9737, 'duringhemodialysis': 9738, 'duringthe': 9739, 'duty': 9740, 'dys': 9741, 'dysarthria': 9742, 'e.coli': 9743, 'ea': 9744, 'eachdialysis': 9745, 'eachnight': 9746, 'eachsyringe': 9747, 'earliest': 9748, 'ease': 9749, 'easily': 9750, 'echocardiographic': 9751, 'ecoli': 9752, 'ectopy': 9753, 'edecrin': 9754, 'efferdose': 9755, 'eg': 9756, 'eighthundred': 9757, 'ejection': 9758, 'elastic': 9759, 'electrolyteschecked': 9760, 'elevatedblood': 9761, 'embolic': 9762, 'embolismpatient': 9763, 'emptying': 9764, 'endstage': 9765, 'enemaplease': 9766, 'ent': 9767, 'ent.disp': 9768, 'enterobacter': 9769, 'entire': 9770, 'equals': 9771, 'equipmentcommode': 9772, 'equipmenthome': 9773, 'equipmentnebulizer': 9774, 'equipmentone': 9775, 'erosions': 9776, 'error': 9777, 'esbl': 9778, 'esophagoscopy': 9779, 'esp': 9780, 'est': 9781, 'estraderm': 9782, 'estring': 9783, 'estroven': 9784, 'et': 9785, 'eth': 9786, 'ethin': 9787, 'etodolac': 9788, 'etonogestrel': 9789, 'evacuation': 9790, 'evd': 9791, 'events': 9792, 'everolimus': 9793, 'everyblood': 9794, 'everym': 9795, 'everymeal': 9796, 'everynight': 9797, 'everysun': 9798, 'everyweek': 9799, 'exact': 9800, 'exactly': 9801, 'exceed2': 9802, 'exceedsix': 9803, 'exceedthree': 9804, 'excercises': 9805, 'exchanges': 9806, 'excluded': 9807, 'excoriation': 9808, 'excoriations': 9809, 'excuse': 9810, 'exercises': 9811, 'exhalation': 9812, 'existing': 9813, 'exploration': 9814, 'extending': 9815, 'extermity': 9816, 'extraction': 9817, 'extrapyramidal': 9818, 'factors': 9819, 'faint': 9820, 'famvir': 9821, 'fashion': 9822, 'fastreaction': 9823, 'fatigue': 9824, 'fbs100': 9825, 'feedingreplete': 9826, 'feedingsreplete': 9827, 'feedingstubefeeding': 9828, 'feedingtubefeeding': 9829, 'feedisosource': 9830, 'feedsand': 9831, 'feedsglucerna': 9832, 'feedsisosource': 9833, 'feedsnepro': 9834, 'feedstube': 9835, 'feellightheaded': 9836, 'feels': 9837, 'fem': 9838, 'femoral': 9839, 'fergon': 9840, 'feveralbuterol': 9841, 'fevermax': 9842, 'feverplease': 9843, 'feverrx': 9844, 'fibrillationrx': 9845, 'fibrinogen': 9846, 'fiftyfive': 9847, 'fiftytwo': 9848, 'filter': 9849, 'finally200': 9850, 'findings': 9851, 'finely': 9852, 'fingerstickblood': 9853, 'fingerstickglucose': 9854, 'fingersticks:0': 9855, 'fingerstickscheck': 9856, 'finishedwith': 9857, 'finishnum': 9858, 'finishyour': 9859, 'fiorocet': 9860, 'firstday': 9861, 'fivedays': 9862, 'fiveminutes': 9863, 'fixeddose': 9864, 'flanks': 9865, 'flares': 9866, 'flash': 9867, 'flat': 9868, 'flatus': 9869, 'flex': 9870, 'flexion': 9871, 'flintstones': 9872, 'flora': 9873, 'fluidscontinue': 9874, 'fluidsiv': 9875, 'fluoxymesterone': 9876, 'flurazepam': 9877, 'flurbiprofen': 9878, 'flush10': 9879, 'flusheach': 9880, 'flushesheparin': 9881, 'flushesnormal': 9882, 'flushesplease': 9883, 'flushessaline': 9884, 'flushplease': 9885, 'flushrx': 9886, 'focused': 9887, 'folbic': 9888, 'followingscale': 9889, 'follows:10': 9890, 'follows:8': 9891, 'followyour': 9892, 'foltx': 9893, 'food.disp': 9894, 'foodrx': 9895, 'for100': 9896, 'for17': 9897, 'for201': 9898, 'for21': 9899, 'foradditional': 9900, 'foran': 9901, 'forangina': 9902, 'foraspiration': 9903, 'forat': 9904, 'forbreathlessness': 9905, 'forconsipation': 9906, 'forconsitpation': 9907, 'forconstip': 9908, 'forconstipation.hospital': 9909, 'fordeconditioning': 9910, 'fordr': 9911, 'fordryness': 9912, 'forevaluation': 9913, 'forevery': 9914, 'forexcessive': 9915, 'forfever': 9916, 'forfs': 9917, 'forgas': 9918, 'forhome': 9919, 'forhyperkalemia': 9920, 'foritching': 9921, 'formed': 9922, 'formigraines': 9923, 'formore': 9924, 'foronce': 9925, 'forosteoporosis': 9926, 'forpotassium': 9927, 'forpulse': 9928, 'forrefills': 9929, 'forresidual': 9930, 'forrespiratory': 9931, 'forseizures': 9932, 'forsenol': 9933, 'forstomach': 9934, 'fortachycardia': 9935, 'fortreatment': 9936, 'fortrough': 9937, 'foruti': 9938, 'forwardresult': 9939, 'forweight': 9940, 'fosrenol': 9941, 'fourhours': 9942, 'fourth': 9943, 'foward': 9944, 'fraction': 9945, 'frequentfingersticks': 9946, 'fri2.5': 9947, 'fridaynum': 9948, 'fromname': 9949, 'frx': 9950, 'fs161': 9951, 'fs251': 9952, 'furtherinstructions': 9953, 'futher': 9954, 'futuresteroid': 9955, 'gained': 9956, 'gains': 9957, 'gargle': 9958, 'gaspain': 9959, 'gasrx': 9960, 'gassy': 9961, 'gave': 9962, 'gaviscon': 9963, 'gels': 9964, 'generalplease': 9965, 'genteal': 9966, 'gentleman': 9967, 'gently': 9968, 'genttrough': 9969, 'gerd.disp': 9970, 'geriatric': 9971, 'gfr': 9972, 'ggt': 9973, 'ginjection': 9974, 'ginkgo': 9975, 'give10': 9976, 'give4': 9977, 'give8': 9978, 'givedose': 9979, 'givenat': 9980, 'givenprescription': 9981, 'glargineplease': 9982, 'glc': 9983, 'glucan': 9984, 'glucocom': 9985, 'glucometerascensia': 9986, 'glucometercheck': 9987, 'glucose0': 9988, 'glucoselevel': 9989, 'glucosemonitoring': 9990, 'glucoses<120': 9991, 'glucostix': 9992, 'glyset': 9993, 'gmpo': 9994, 'gmsinjection': 9995, 'goal2.0': 9996, 'goal=': 9997, 'goal=2.5': 9998, 'goalis': 9999, 'goaway': 10000, 'gpc': 10001, 'graded': 10002, 'gradient': 10003, 'graduated': 10004, 'gramsdaily': 10005, 'gramsof': 10006, 'growing': 10007, 'gt.disp': 10008, 'guided': 10009, 'guideline': 10010, 'gurgling': 10011, 'gyn': 10012, 'h.o.': 10013, 'h.o.rx': 10014, 'h2o2': 10015, 'h2osupp': 10016, 'hallucination': 10017, 'hand.s': 10018, 'handlacerations': 10019, 'handled': 10020, 'handling': 10021, 'hap': 10022, 'happens': 10023, 'hascompleted': 10024, 'hastaken': 10025, 'haveblood': 10026, 'havecompleted': 10027, 'havenum': 10028, 'haveyou': 10029, 'hazardous': 10030, 'hb': 10031, 'hbig': 10032, 'hbv': 10033, 'hcp': 10034, 'hct%': 10035, 'hd.disp': 10036, 'hdisp': 10037, 'headace': 10038, 'headachehold': 10039, 'headahce': 10040, 'headof': 10041, 'heal': 10042, 'heals': 10043, 'hear': 10044, 'heartprotection': 10045, 'heels': 10046, 'helpwith': 10047, 'hematuria': 10048, 'hemoconcentration': 10049, 'heparindrip': 10050, 'heparinheparin': 10051, 'heparinplease': 10052, 'hepatologist': 10053, 'hepb': 10054, 'herbal': 10055, 'herceptin': 10056, 'herhematocrit': 10057, 'herpetic': 10058, 'hips': 10059, 'hisoffice': 10060, 'historydate': 10061, 'hld': 10062, 'holdcoumadin': 10063, 'holdingrx': 10064, 'holdmedication': 10065, 'holdthis': 10066, 'homediagnosis': 10067, 'homeinsulin': 10068, 'homemedications': 10069, 'hospicecare': 10070, 'hospital.phone': 10071, 'hospital2': 10072, 'hospital:0.5': 10073, 'hospital:4': 10074, 'hospital:5': 10075, 'hospitalactivated': 10076, 'hospitalactos': 10077, 'hospitalas': 10078, 'hospitalat': 10079, 'hospitalbed': 10080, 'hospitalcalcium': 10081, 'hospitalcenter': 10082, 'hospitalcitalopram': 10083, 'hospitalclonazepam': 10084, 'hospitaldaterange': 10085, 'hospitaldisp': 10086, 'hospitalhospice': 10087, 'hospitalinr': 10088, 'hospitalinsulin': 10089, 'hospitalpowder': 10090, 'hospitalsenna': 10091, 'hospitalsimvastatin': 10092, 'hospitaluntil': 10093, 'hospitalwith': 10094, 'host': 10095, 'hourafter': 10096, 'hourbefore': 10097, 'hourdisp': 10098, 'hourintravenous': 10099, 'hours.disp': 10100, 'hoursafter': 10101, 'hoursbegin': 10102, 'hoursflush': 10103, 'hoursprior': 10104, 'hoursrx': 10105, 'hoursthe': 10106, 'hoursto': 10107, 'hoursweek': 10108, 'hous': 10109, 'hr100': 10110, 'hr60': 10111, 'hr<2': 10112, 'hr<20': 10113, 'hr<60,sbp<90': 10114, 'hr<65': 10115, 'hras': 10116, 'hrphone': 10117, 'hrplease': 10118, 'hrrx': 10119, 'hrsprn': 10120, 'hs71': 10121, 'hs;161': 10122, 'hsinsulin': 10123, 'hspatient': 10124, 'hsplease': 10125, 'hstake': 10126, 'ht': 10127, 'htnhold': 10128, 'humalog81': 10129, 'humalogas': 10130, 'humalogue': 10131, 'humilin': 10132, 'hundredforty': 10133, 'hundredseventy': 10134, 'hundredthirty': 10135, 'husband': 10136, 'hydrateivf': 10137, 'hydrochlorothyazide': 10138, 'hydrofiber': 10139, 'hypercholesterolemia': 10140, 'hypglycemia': 10141, 'hypokinesis': 10142, 'hypothyroid': 10143, 'hypoventilation': 10144, 'i.e.': 10145, 'ica<1.12': 10146, 'icaps': 10147, 'icd9': 10148, 'ideal': 10149, 'identified': 10150, 'ie': 10151, 'if301': 10152, 'ifbg': 10153, 'ifcontinue': 10154, 'ifhaving': 10155, 'ifnecessary': 10156, 'ifpain': 10157, 'ifsedated': 10158, 'iftaking': 10159, 'ij': 10160, 'ill': 10161, 'impaction': 10162, 'imuran': 10163, 'in15': 10164, 'ina': 10165, 'inatrial': 10166, 'inc': 10167, 'incase': 10168, 'incisors': 10169, 'inclinic': 10170, 'includingcreatinine': 10171, 'increasedose': 10172, 'increaseto': 10173, 'increment': 10174, 'increse': 10175, 'indefinetelly': 10176, 'indefinite': 10177, 'independent': 10178, 'indeterminate': 10179, 'index': 10180, 'indocin': 10181, 'indwellingport': 10182, 'infarct': 10183, 'inflammation': 10184, 'informed': 10185, 'infusionintravenous': 10186, 'infusionplease': 10187, 'infusionrate': 10188, 'infusions': 10189, 'infusiontitrate': 10190, 'inhalationhospital': 10191, 'inhalationq6': 10192, 'inhalationq6hr': 10193, 'inhaledevery': 10194, 'inhalinhalation': 10195, 'inhibitorplease': 10196, 'inhinh': 10197, 'initiatingnmbas': 10198, 'injectionqdaily': 10199, 'injectionweekly': 10200, 'injectionwith': 10201, 'injectoin': 10202, 'injectorintramuscular': 10203, 'injectors': 10204, 'inone': 10205, 'inother': 10206, 'inpulmonary': 10207, 'inr.fax': 10208, 'inr.forward': 10209, 'inr1.5': 10210, 'inr2150': 10211, 'inr<2.5': 10212, 'inr=': 10213, 'inr=2': 10214, 'inrcheck': 10215, 'inrchecks': 10216, 'inrehab': 10217, 'inrfax': 10218, 'inrmonitoring': 10219, 'inrof': 10220, 'inrreaches': 10221, 'inrshould': 10222, 'inrto': 10223, 'insilun': 10224, 'insomnia.name': 10225, 'insomniaplease': 10226, 'inspectsite': 10227, 'inspiratorypressure': 10228, 'instillin': 10229, 'institute': 10230, 'instructedsubcutaneous': 10231, 'instructionplease': 10232, 'instructionsbelow': 10233, 'instructionsyou': 10234, 'insulin1': 10235, 'insulin10': 10236, 'insulin30': 10237, 'insulin;201': 10238, 'insulin;251': 10239, 'insulinadministration': 10240, 'insulindisp': 10241, 'insulindose0': 10242, 'insulinflowsheet': 10243, 'insulinfor': 10244, 'insulininjections': 10245, 'insulinmiscellaneous': 10246, 'insulinnovolog': 10247, 'insulinpls': 10248, 'insulinstanding': 10249, 'insulinsupply': 10250, 'insulinx': 10251, 'intakeincreases': 10252, 'intertriginous': 10253, 'intervals': 10254, 'intervention': 10255, 'intoabdomen': 10256, 'intoxication': 10257, 'intramuscularas': 10258, 'intramuscularq3months': 10259, 'intramuscularq4': 10260, 'intratracheal': 10261, 'intravaginally': 10262, 'intravenousat': 10263, 'intravenoushd': 10264, 'intravenousq24': 10265, 'intravenousq3h': 10266, 'intravenousq48': 10267, 'intron': 10268, 'inurine': 10269, 'inuse': 10270, 'involved': 10271, 'iodide': 10272, 'is2.0': 10273, 'isalso': 10274, 'isambulating': 10275, 'ischemia': 10276, 'ischemic': 10277, 'iscompleted': 10278, 'isincluded': 10279, 'ismore': 10280, 'ison': 10281, 'issedating': 10282, 'isto': 10283, 'istolerating': 10284, 'ivantibiotics': 10285, 'ivc': 10286, 'ivcefazolin': 10287, 'ivdaily': 10288, 'ivdisp': 10289, 'ivfplease': 10290, 'ivno': 10291, 'ivp': 10292, 'j.phone': 10293, 'jawwiring': 10294, 'jvd': 10295, 'k<4': 10296, 'kaolin': 10297, 'kdependent': 10298, 'keepsats': 10299, 'kepra': 10300, 'kept': 10301, 'keratoconjunctivitis': 10302, 'kgno': 10303, 'kgs': 10304, 'kiame': 10305, 'kidneyfunction': 10306, 'killers': 10307, 'kinase': 10308, 'kitchange': 10309, 'kneeamputation': 10310, 'knees': 10311, 'krill': 10312, 'l2': 10313, 'labeled': 10314, 'laboratoryblood': 10315, 'laboratoryplease': 10316, 'labored': 10317, 'labs2138': 10318, 'labsand': 10319, 'labschecked': 10320, 'lactrase': 10321, 'lancetssig': 10322, 'laparotomy': 10323, 'larger': 10324, 'largest': 10325, 'laryngoscopy': 10326, 'larynx': 10327, 'lasixplease': 10328, 'lastdate': 10329, 'lasting': 10330, 'lastinr': 10331, 'layertopical': 10332, 'leak': 10333, 'lecithin': 10334, 'leftlower': 10335, 'leftventricular': 10336, 'leiden': 10337, 'lessen': 10338, 'leukemia': 10339, 'leveland': 10340, 'levelon': 10341, 'levonorgestrel': 10342, 'lftsall': 10343, 'liberal': 10344, 'liding': 10345, 'lifetime': 10346, 'liftdisp': 10347, 'limb': 10348, 'line.name': 10349, 'liraglutide': 10350, 'listerine': 10351, 'litersmiscell': 10352, 'litersnasal': 10353, 'litersper': 10354, 'living': 10355, 'lobectomy': 10356, 'locations': 10357, 'lockoutinterval': 10358, 'longterm': 10359, 'lortab': 10360, 'loses': 10361, 'lovenoxinjections': 10362, 'lovenoxwhen': 10363, 'lowcalcium': 10364, 'lowerback': 10365, 'lozengesmucous': 10366, 'lrcontinuous': 10367, 'lsat': 10368, 'ltac': 10369, 'lubricant': 10370, 'lubrication': 10371, 'lumbar': 10372, 'lunchand': 10373, 'lunchaspart': 10374, 'lunchhold': 10375, 'lunchregular': 10376, 'lurasidone': 10377, 'lymphedema': 10378, 'lymphs': 10379, 'm10': 10380, 'ma': 10381, 'machine1': 10382, 'machinediagnosis': 10383, 'machinenebulizer': 10384, 'machinepatient': 10385, 'machinesuction': 10386, 'maintaining': 10387, 'maintenanceheparin': 10388, 'major': 10389, 'malignant': 10390, 'manages': 10391, 'manipulation': 10392, 'manometry': 10393, 'manual': 10394, 'mastocytosis': 10395, 'match': 10396, 'mavik': 10397, 'maximal': 10398, 'maximize': 10399, 'maxlimit': 10400, 'mcgintramuscular': 10401, 'mcgoral': 10402, 'mcgpatch': 10403, 'mcgs': 10404, 'mdaddress': 10405, 'mdat': 10406, 'mdbedtime': 10407, 'mdfs': 10408, 'mdfs61': 10409, 'mdiinhalation': 10410, 'mdin': 10411, 'meals.name': 10412, 'mealsas': 10413, 'mealsdisp': 10414, 'measurements': 10415, 'mechanicalvalves': 10416, 'medicaid': 10417, 'medicallynecessary.hospital': 10418, 'medicationadministration': 10419, 'medicationand': 10420, 'medicationglipizide': 10421, 'medicationmay': 10422, 'medicationon': 10423, 'medicationregular': 10424, 'medicationrestart': 10425, 'medicationscontaining': 10426, 'medicationsince': 10427, 'medicationsregular': 10428, 'medicationvitamin': 10429, 'medicationwhen': 10430, 'medicineaddress': 10431, 'medicineto': 10432, 'medictaion': 10433, 'medipore': 10434, 'medsdo': 10435, 'medsyou': 10436, 'member': 10437, 'membraneevery': 10438, 'membraneq4h': 10439, 'meningitis': 10440, 'meningoencephalitis': 10441, 'mentalstatus': 10442, 'meqs': 10443, 'metal': 10444, 'metastases': 10445, 'metermiscellaneous': 10446, 'methadonemethadone': 10447, 'methylsulfonylmethane': 10448, 'metipranolol': 10449, 'metoprololfor': 10450, 'metoprololtartrate': 10451, 'metrocream': 10452, 'metrogel': 10453, 'metroprolol': 10454, 'mg1': 10455, 'mg;day': 10456, 'mgacetaminophen': 10457, 'mgat': 10458, 'mgby': 10459, 'mgcalcium': 10460, 'mgday': 10461, 'mgin': 10462, 'mgper': 10463, 'mgqday': 10464, 'mgrectal': 10465, 'mgthree': 10466, 'mh': 10467, 'midlinedaily': 10468, 'might': 10469, 'migraineheadache': 10470, 'mililiters': 10471, 'milligram': 10472, 'milligramsmilligrams': 10473, 'millimole': 10474, 'millioncell': 10475, 'min3': 10476, 'minerals;brvit': 10477, 'minimally': 10478, 'minitran': 10479, 'minsafter': 10480, 'minutesafter': 10481, 'minutesas': 10482, 'minutesx': 10483, 'miscell.five': 10484, 'miscellaneousasdir': 10485, 'miscellaneousqidachs': 10486, 'missed': 10487, 'mitotane': 10488, 'mitralvalve': 10489, 'mixture': 10490, 'ml1': 10491, 'ml5': 10492, 'mlfrom': 10493, 'mlheparin': 10494, 'mlliquid': 10495, 'mlophthalmic': 10496, 'mlsolution': 10497, 'mlt': 10498, 'mobilized': 10499, 'moderately': 10500, 'moisten': 10501, 'moisturizing': 10502, 'molindone': 10503, 'monday.disp': 10504, 'monday2165': 10505, 'mondayresults': 10506, 'mondaywednesday': 10507, 'monitorblood': 10508, 'monitoringplease': 10509, 'monitorlevels': 10510, 'monitorplease': 10511, 'monobasic': 10512, 'monos': 10513, 'months.name': 10514, 'moretimes': 10515, 'morning25': 10516, 'morningdose': 10517, 'mother': 10518, 'mouthcare': 10519, 'mouthq4': 10520, 'mouthsores': 10521, 'mouthtid': 10522, 'mouthwashmaalox': 10523, \"mov't\": 10524, 'mra': 10525, 'mriplease': 10526, 'mrs': 10527, 'mucosal': 10528, 'mulitple': 10529, 'multaq': 10530, 'musthave': 10531, 'mycostatin': 10532, 'myfortic': 10533, 'myofascial': 10534, 'nail': 10535, 'name;target': 10536, 'nameand': 10537, 'namecan': 10538, 'namefor': 10539, 'namegoal': 10540, 'namepattern5': 10541, 'nameqachs': 10542, 'namewill': 10543, 'namewith': 10544, 'nanograms': 10545, 'napping': 10546, 'nare': 10547, 'nasalcongestion': 10548, 'nasuea': 10549, 'nauesa': 10550, 'nausea.disp': 10551, 'nauseamay': 10552, 'nauseaor': 10553, 'nauseated': 10554, 'ndl': 10555, 'nebmiscell': 10556, 'nebnebneb': 10557, 'nebulizationdate': 10558, 'nebulizationname': 10559, 'nebulizations': 10560, 'nebulizedsolution': 10561, 'nebulizor': 10562, 'nebullizerinhalation': 10563, 'necrosis': 10564, 'needa': 10565, 'needed.phone': 10566, 'neededbased': 10567, 'neededto': 10568, 'neededwhile': 10569, 'needfor': 10570, 'needlesmiscellaneous': 10571, 'needlessupply': 10572, 'needlesupply': 10573, 'neht.disp': 10574, 'neosporin': 10575, 'nephro': 10576, 'nephrocap': 10577, 'nestle': 10578, 'net': 10579, 'neurooncology': 10580, 'neuts': 10581, 'newly': 10582, 'next2': 10583, 'nextthree': 10584, 'niacinamide': 10585, 'nightand': 10586, 'nightdisp': 10587, 'nitropaste': 10588, 'nitroprusside': 10589, 'no.4': 10590, 'nobowel': 10591, 'noc': 10592, 'nodecadron': 10593, 'nonepatient': 10594, 'nonetylenol': 10595, 'noontime': 10596, 'nopericardial': 10597, 'nor': 10598, 'normalize': 10599, 'normalizes': 10600, 'normotensive': 10601, 'norpace': 10602, 'nosebleed': 10603, 'nosebleeds': 10604, 'nostil': 10605, 'nosubstitutions': 10606, 'notambulating': 10607, 'notcontinue': 10608, 'notdone': 10609, 'noteating': 10610, 'notes': 10611, 'notethat': 10612, 'notgive': 10613, 'notified': 10614, 'notoperate': 10615, 'notresolved': 10616, 'notresponding': 10617, 'novasource': 10618, 'nphplease': 10619, 'npname': 10620, 'nsaid': 10621, 'nsaids': 10622, 'nsr': 10623, 'num&num': 10624, 'num,2': 10625, 'num.1': 10626, 'num.then': 10627, 'num20': 10628, 'num4': 10629, 'num;10': 10630, 'num;2': 10631, 'num;on': 10632, 'num;please': 10633, 'num;stop': 10634, 'numappls': 10635, 'numbered': 10636, 'numberphone': 10637, 'numbness': 10638, 'numcapsules': 10639, 'numcomplete': 10640, 'numcontinue': 10641, 'numdose': 10642, 'numdoses': 10643, 'numfax': 10644, 'numfinal': 10645, 'numgoal': 10646, 'numinr': 10647, 'numml': 10648, 'numpt': 10649, 'numsubcutaneous': 10650, 'numtabs': 10651, 'numteaspoons': 10652, 'numthrough': 10653, 'numuntil': 10654, 'nunasal': 10655, 'nurseat': 10656, 'nurseonly': 10657, 'nutritionplease': 10658, 'o21': 10659, 'o23': 10660, 'o2auto': 10661, 'o2patient': 10662, 'o2requirement': 10663, 'o2saturation': 10664, 'o2saturations': 10665, 'obstruction': 10666, 'obtainrecommendations': 10667, 'occasional': 10668, 'occlusion': 10669, 'ocella': 10670, 'oddi': 10671, 'odisp': 10672, 'odor': 10673, 'of\"comfort': 10674, 'of1.5': 10675, 'of1.8': 10676, 'of14': 10677, 'of15': 10678, 'of150': 10679, 'of2': 10680, 'of2.0': 10681, 'of4': 10682, 'of5': 10683, 'ofallergic': 10684, 'ofantibiotic': 10685, 'ofapap': 10686, 'ofbreathing': 10687, 'ofdate': 10688, 'officefor': 10689, 'officeof': 10690, 'offluid': 10691, 'offtapered': 10692, 'ofheadache': 10693, 'ofhumalog': 10694, 'ofmagnesia': 10695, 'ofmedication': 10696, 'ofoxygen': 10697, 'ofr': 10698, 'ofsaturday': 10699, 'ofwater': 10700, 'omalizumab': 10701, 'omit': 10702, 'omron': 10703, 'on2102': 10704, 'on2106': 10705, 'on2116': 10706, 'on2117': 10707, 'on2118': 10708, 'on2120': 10709, 'on2128': 10710, 'on2129': 10711, 'on2146': 10712, 'on2152': 10713, 'on2153': 10714, 'on2158': 10715, 'on2159': 10716, 'on2163': 10717, 'on2165': 10718, 'on2170': 10719, 'on2171': 10720, 'on2173': 10721, 'on2175': 10722, 'on2176': 10723, 'on2181': 10724, 'on2188': 10725, 'on2191': 10726, 'on2192': 10727, 'on2193': 10728, 'on2196': 10729, 'on2202': 10730, 'oncall': 10731, 'once.hospital': 10732, 'onceinr': 10733, 'onceweekly': 10734, 'onday': 10735, 'ondays': 10736, 'onehour': 10737, 'oneinhalation': 10738, 'onemonth': 10739, 'onerefills': 10740, 'onetablets': 10741, 'onglyza': 10742, 'ongoingrx': 10743, 'onhd': 10744, 'oninsulin': 10745, 'onipratropium': 10746, 'onlovenox': 10747, 'onmondays': 10748, 'onsetof': 10749, 'onthursday': 10750, 'ontrough': 10751, 'ontues': 10752, 'opacity': 10753, 'opat': 10754, 'opening': 10755, 'operated': 10756, 'operation': 10757, 'operator': 10758, 'opht': 10759, 'ophthalmicat': 10760, 'ophthalmicprn': 10761, 'ophthalmicq2': 10762, 'ophthalmicq6h': 10763, 'ophthalmicqam': 10764, 'opschedule': 10765, 'opthalmic': 10766, 'option': 10767, 'optive': 10768, 'opweight': 10769, 'oralqd': 10770, 'oralqday': 10771, 'oralsecretions': 10772, 'orcall': 10773, 'orconsume': 10774, 'orderpatient': 10775, 'ordersbreakfastglargine': 10776, 'ordersplease': 10777, 'orderto': 10778, 'ordertubefeeding': 10779, 'ordifficulty': 10780, 'ordiscomfort': 10781, 'ordr': 10782, 'orequal': 10783, 'orfeel': 10784, 'orgreater': 10785, 'orhr': 10786, 'oriented': 10787, 'orindigestion': 10788, 'orinstruments': 10789, 'orname': 10790, 'oropharyngeal': 10791, 'oroversedated': 10792, 'orpain': 10793, 'orsedation': 10794, 'orthopedist': 10795, 'orthostatic': 10796, 'orthostatics': 10797, 'osophthalmic': 10798, 'osteo': 10799, 'osteoarthritis': 10800, 'otherhumalog': 10801, 'otheropiod': 10802, 'ouophthalmic': 10803, 'oupt': 10804, 'ouqhs': 10805, 'overgrowth': 10806, 'overlay': 10807, 'ox': 10808, 'oxandrolone': 10809, 'oximetryovernight': 10810, 'oxygen1l': 10811, 'oxygen4': 10812, 'oxygen4l': 10813, 'oxygenas': 10814, 'oxygenby': 10815, 'oxygensaturation': 10816, 'oxygensig': 10817, 'p&t': 10818, 'p.r.n': 10819, 'packed': 10820, 'packetname': 10821, 'packetphone': 10822, 'padtopical': 10823, 'paf': 10824, 'pain.phone': 10825, 'pain1': 10826, 'pain2151': 10827, 'pain2153': 10828, 'pain;fever': 10829, 'painas': 10830, 'paincontinues': 10831, 'paindx': 10832, 'painfentanyl': 10833, 'paingive': 10834, 'painif': 10835, 'painmeds': 10836, 'painmonitor': 10837, 'painolanzapine': 10838, 'painper': 10839, 'painpersists': 10840, 'painrelated': 10841, 'painswish': 10842, 'painthis': 10843, 'palpitations': 10844, 'panels': 10845, 'panic': 10846, 'parasite': 10847, 'paraspinal': 10848, 'paromomycin': 10849, 'participate': 10850, 'particularly': 10851, 'parts': 10852, 'passive': 10853, 'patchand': 10854, 'patchdaily': 10855, 'patchmorphine': 10856, 'patchpatch': 10857, 'patchper': 10858, 'patchrefills': 10859, 'patchshould': 10860, \"patient'sblood\": 10861, \"patient'sprimary\": 10862, 'patientambulatory': 10863, 'patientgains': 10864, 'patienthas': 10865, 'patientincreasingly': 10866, 'patientto': 10867, 'pci': 10868, 'pco2': 10869, \"pcp'soffice\": 10870, 'pcpand': 10871, 'pcpto': 10872, 'pearl': 10873, 'pedestrian': 10874, 'pedis': 10875, 'pellet': 10876, 'penintramuscular': 10877, 'pensubcutaneous': 10878, 'pentasa': 10879, 'peppermint': 10880, 'peppery': 10881, 'pepto': 10882, 'perdirections': 10883, 'perfingerstick': 10884, 'perforomist': 10885, 'perhd': 10886, 'perhospice': 10887, 'periarea': 10888, 'perinstructions': 10889, 'periogard': 10890, 'permanent': 10891, 'perneht': 10892, 'perng': 10893, 'perpcp': 10894, 'perrehab': 10895, 'perrl': 10896, 'persistently': 10897, 'pertransplant': 10898, 'phentermine': 10899, 'phlegm': 10900, 'phone.please': 10901, 'phone:1': 10902, 'phoneand': 10903, 'phoneattention': 10904, 'phonebuilding': 10905, 'phonecbc': 10906, 'phoned': 10907, 'phonefirst': 10908, 'phonefor': 10909, 'phonename': 10910, 'phonept': 10911, 'phophatase': 10912, 'physcian': 10913, 'physican': 10914, 'physicianabout': 10915, 'physicianname': 10916, 'physiciannum': 10917, 'physicianon': 10918, 'pick': 10919, 'pieces': 10920, 'piggybackdate': 10921, 'pill;num': 10922, 'pillon': 10923, 'pillsdaily': 10924, 'pillson': 10925, 'pin': 10926, 'pk': 10927, 'placefor': 10928, 'placeover': 10929, 'planning': 10930, 'planto': 10931, 'pleaes': 10932, 'pleaese': 10933, 'pleaseask': 10934, 'pleasecomplete': 10935, 'pleasedraw': 10936, 'pleaseflush': 10937, 'pleaseremove': 10938, 'pleaserestart': 10939, 'pleasereturn': 10940, 'pleaseverbally': 10941, 'plesae': 10942, 'pleuraleffusion': 10943, 'plshold': 10944, 'ply': 10945, 'pmd': 10946, 'pneumoniae': 10947, 'po2x': 10948, 'po7x': 10949, 'pobefore': 10950, 'poc': 10951, 'podiatry': 10952, 'poeach': 10953, 'pohourly': 10954, 'polefeeding': 10955, 'popliteal': 10956, 'poq6hours': 10957, 'poq6hrs': 10958, 'poq8': 10959, 'poqfri': 10960, 'poqidwmhs': 10961, 'poqm': 10962, 'poqsun': 10963, 'poqtues': 10964, 'possibility': 10965, 'possibly': 10966, 'postoperatively': 10967, 'potassiumrepletion': 10968, 'potentially': 10969, 'potidac': 10970, 'pound': 10971, 'pox': 10972, 'ppm': 10973, 'practiceaddress': 10974, 'prearranged': 10975, 'precautionspressure': 10976, 'precipitate': 10977, 'precision': 10978, 'pred': 10979, 'prednisone10': 10980, 'prednisonetaper': 10981, 'prefer': 10982, 'preferably': 10983, 'prefers': 10984, 'preload': 10985, 'premeals': 10986, 'prescribe': 10987, 'prescribes': 10988, 'presence': 10989, 'presentation': 10990, 'presented': 10991, 'presribed': 10992, 'pressureif': 10993, 'pressureredistribution': 10994, 'presumedpneumonia': 10995, 'presure': 10996, 'pretreatment': 10997, 'prevents': 10998, 'prevident': 10999, 'previousadmission': 11000, 'primrose': 11001, 'prinivil': 11002, 'printout': 11003, 'prn.inspect': 11004, 'prnanxietyrx': 11005, 'prnbisacodyl': 11006, 'prncolace': 11007, 'prndispense': 11008, 'prndo': 11009, 'prndressing': 11010, 'prngoal': 11011, 'prnhaloperidol': 11012, 'prnheadache': 11013, 'prnitching': 11014, 'prnlansoprazole': 11015, 'prnlevothyroxine': 11016, 'prnlimit': 11017, 'prnondansetron': 11018, 'prnoxycodone': 11019, 'prnparoxetine': 11020, 'prnphone': 11021, 'prnpicc': 11022, 'prnresults': 11023, 'prnrx': 11024, 'prnsenna': 11025, 'prnshortness': 11026, 'prnsob': 11027, 'prnswish': 11028, 'prnto': 11029, 'prntramadol': 11030, 'prntylenol': 11031, 'prnwheeze': 11032, 'prodigy': 11033, 'production': 11034, 'progesterone': 11035, 'progressive': 11036, 'promod': 11037, 'prongs': 11038, 'propecia': 11039, 'proper': 11040, 'prophylactically': 11041, 'prophylaxisfor': 11042, 'prophylaxisplease': 11043, 'prostate': 11044, 'prosthesishair': 11045, 'protocal': 11046, 'protocoldispense': 11047, 'protocolinjection': 11048, 'protocolrx': 11049, 'protocolto': 11050, 'providers': 11051, 'providertablet': 11052, 'prox': 11053, 'proxy': 11054, 'prune': 11055, 'psychosis': 11056, 'ptchest': 11057, 'pth': 11058, 'pthas': 11059, 'ptmay': 11060, 'ptt50': 11061, 'pufss': 11062, 'pullpicc': 11063, 'pulmonaryhypertension': 11064, 'pulse<17': 11065, 'pumprx': 11066, 'pureed': 11067, 'purees': 11068, 'pvi': 11069, 'q1200': 11070, 'q12hcheck': 11071, 'q12hgive': 11072, 'q12hinsulin': 11073, 'q12hor': 11074, 'q12hstart': 11075, 'q12hthru': 11076, 'q12huntil': 11077, 'q12pm': 11078, 'q16': 11079, 'q18h': 11080, 'q1hrprn': 11081, 'q1mo': 11082, 'q2000': 11083, 'q24hatorvastatin': 11084, 'q24hdocusate': 11085, 'q24hfolic': 11086, 'q24hgive': 11087, 'q24hheparin': 11088, 'q24hlevetiracetam': 11089, 'q24hmultivitamins': 11090, 'q24hnum': 11091, 'q24hours': 11092, 'q24hthru': 11093, 'q2pm': 11094, 'q30': 11095, 'q3as': 11096, 'q3months': 11097, 'q48for': 11098, 'q48hday': 11099, 'q4days': 11100, 'q4hday': 11101, 'q4hinsulin': 11102, 'q4hrsprn': 11103, 'q5mins': 11104, 'q6h.': 11105, 'q6hdo': 11106, 'q6hend': 11107, 'q6hlast': 11108, 'q6hmetoprolol': 11109, 'q6hnum': 11110, 'q6insulin': 11111, 'q7am': 11112, 'q8h.disp': 11113, 'q8hcontinue': 11114, 'q8hnum': 11115, 'q8hrs12': 11116, 'q8hthru': 11117, 'q8hto': 11118, 'q9am': 11119, 'qam12u': 11120, 'qam20': 11121, 'qam45': 11122, 'qam6': 11123, 'qam70': 11124, 'qam8': 11125, 'qamplease': 11126, 'qbedtime': 11127, 'qdatenolol': 11128, 'qddigoxin': 11129, 'qdhumalog': 11130, 'qdmetformin': 11131, 'qdomeprazole': 11132, 'qdongoing': 11133, 'qdoxycodone': 11134, 'qdphenytoin': 11135, 'qdpo': 11136, 'qdprotonix': 11137, 'qdthiamine': 11138, 'qhdfor': 11139, 'qhouras': 11140, 'qhs.please': 11141, 'qhsgive': 11142, 'qhsglucose': 11143, 'qhsprn': 11144, 'qhssodium': 11145, 'qidac': 11146, 'qidachsprn': 11147, 'qidgive': 11148, 'qidpantoprazole': 11149, 'qidsliding': 11150, 'qidswish': 11151, 'qidto': 11152, 'qidx2': 11153, 'qmo': 11154, 'qmwfsun': 11155, 'qpc2h': 11156, 'qpm;on': 11157, 'qpmat': 11158, 'qpmhold': 11159, 'qpmrx': 11160, 'qpmsubcutaneous': 11161, 'qsdiagnosis': 11162, 'qsqidno': 11163, 'qsu': 11164, 'qthurs': 11165, 'qthursday': 11166, 'qtthsasu': 11167, 'qtu': 11168, 'qtuthsasu': 11169, 'quality': 11170, 'quit': 11171, 'quite': 11172, 'r.address': 11173, 'radiologycardiac': 11174, 'radiologyct': 11175, 'raised': 11176, 'rasagiline': 11177, 'rate:35': 11178, 'rate:40': 11179, 'rate:50ml': 11180, 'rate:60': 11181, 'rategoal': 11182, 'rating': 11183, 'rayplease': 11184, 'rd': 11185, 'reaching': 11186, 'reactive': 11187, 'read': 11188, 'readdressed': 11189, 'readjust': 11190, 'readjustment': 11191, 'reasonfor': 11192, 'rebound': 11193, 'recieved': 11194, 'reconstituted': 11195, 'reconstitutionhospital': 11196, 'reconstruction': 11197, 'rectalpain': 11198, 'rectalq4h': 11199, 'rectalqhs': 11200, 'recurrent': 11201, 'recurs': 11202, 'redosed': 11203, 'referto': 11204, 'refills:0': 11205, 'refused': 11206, 'regains': 11207, 'regardingcontinued': 11208, 'regardingoutpatient': 11209, 'regimen.disp': 11210, 'regranex': 11211, 'regulardose': 11212, 'regurgitationis': 11213, 'rehabfor': 11214, 'rehabphysician': 11215, 'reinstituted': 11216, 'relation': 11217, 'relayed': 11218, 'releasepo': 11219, 'relpax': 11220, 'removal.disp': 11221, 'renaldisease': 11222, 'renalduring': 11223, 'renallydose': 11224, 'renax': 11225, 'repeated': 11226, 'replaced': 11227, 'repliva': 11228, 'reports': 11229, 'representative': 11230, 'requested': 11231, 'requireconcentration': 11232, 'requirenarcotic': 11233, 'resident': 11234, 'resin': 11235, 'resistance': 11236, 'resistant': 11237, 'resloves': 11238, 'resolving': 11239, 'respirations': 11240, 'respiratoryplease': 11241, 'respond': 11242, 'responding': 11243, 'responsive': 11244, 'restartingpatient': 11245, 'restartnum': 11246, 'restated': 11247, 'resting': 11248, 'restoril': 11249, 'restpatient': 11250, 'restraints': 11251, 'restrict': 11252, 'restrictionplease': 11253, 'restsdx': 11254, \"resultsfax'd\": 11255, 'resultsneed': 11256, 'resultsplease': 11257, 'resumeafter': 11258, 'resumetaking': 11259, 'resumewhen': 11260, 'returned': 11261, 'returning': 11262, 'reults': 11263, 'revlimid': 11264, 'rf': 11265, 'rham': 11266, 'rheumatoid': 11267, 'ribbion': 11268, 'ribbon': 11269, 'riboflavin': 11270, 'ribs': 11271, 'ride': 11272, 'rightear': 11273, 'rigidity': 11274, 'rima': 11275, 'riskactivities': 11276, 'risks': 11277, 'rissinjection': 11278, 'rite': 11279, 'rlq': 11280, 'roflumilast': 11281, 'rollator': 11282, 'roomdx': 11283, 'rosecea': 11284, 'route': 11285, 'row': 11286, 'rowasa': 11287, 'rr<13': 11288, 'rr<18': 11289, 'rr<3': 11290, 'rr<7': 11291, 'rvr': 11292, 'rxn': 11293, 's.c': 11294, 's.o.p.': 11295, 'sah': 11296, 'salinesaline': 11297, 'samples': 11298, 'sashand': 11299, 'sashdisp': 11300, 'satgreater': 11301, 'savella': 11302, 'sbo': 11303, 'sbp<10': 11304, 'sbp<100,hr<60': 11305, 'sbp<110.disp': 11306, 'sbp<13': 11307, 'sbp<14': 11308, 'sbp<140': 11309, 'sbp<15': 11310, 'sbp<17': 11311, 'sbp<22': 11312, 'sbp<24': 11313, 'sbp<3': 11314, 'sbp<7': 11315, 'sbp<8': 11316, 'sbp<85': 11317, 'sbp<95rx': 11318, 'sc161': 11319, 'sc201': 11320, 'scale.name': 11321, 'scale0': 11322, 'scale1': 11323, 'scale101': 11324, 'scale200': 11325, 'scale4': 11326, 'scale51': 11327, 'scale:150': 11328, 'scale:200': 11329, 'scale:<200': 11330, 'scaleand': 11331, 'scalefs<60': 11332, 'scaleheparin': 11333, 'scalehospital': 11334, 'scalehumalogglucose': 11335, 'scaleincluded': 11336, 'scaleprinted': 11337, 'scaleprior': 11338, 'scaleq6h': 11339, 'scaleqachs': 11340, 'scalesheet': 11341, 'scaletake': 11342, 'scalewhich': 11343, 'scanct': 11344, 'scapular': 11345, 'scheduletablet': 11346, 'scipratropium': 11347, 'score': 11348, 'scored': 11349, 'scrip': 11350, 'secretion': 11351, 'sections': 11352, 'sedatedrx': 11353, 'sedatingmedications': 11354, 'seed': 11355, 'seedr': 11356, 'seeinsulin': 11357, 'seekemergency': 11358, 'seekimmediate': 11359, 'seem': 11360, 'seenby': 11361, 'seizuremedicine': 11362, 'selected': 11363, 'selsun': 11364, 'senda': 11365, 'septum': 11366, 'serotonin': 11367, 'serve': 11368, 'servicesstandard': 11369, 'servingpo': 11370, 'settingof': 11371, 'sex': 11372, 'share': 11373, 'sheetattached': 11374, 'shingles': 11375, 'shock': 11376, 'shorten': 11377, 'shovel': 11378, 'showing': 11379, 'shrinkerdx': 11380, 'sicca': 11381, 'sig:0.25': 11382, 'sig:1.25': 11383, 'sig:1000': 11384, 'sig:4,000,000': 11385, 'sig:500': 11386, 'significantconcentration': 11387, 'silvadene': 11388, 'sinusitis': 11389, 'siteevery': 11390, 'sixdays': 11391, 'sizewound': 11392, 'skinbreakdown': 11393, 'skinfolds': 11394, 'skipyour': 11395, 'sleepapnea': 11396, 'slight': 11397, 'slindingscale': 11398, 'slip': 11399, 'slliding': 11400, 'slurred': 11401, 'sma7': 11402, 'smallamount': 11403, 'smokewhile': 11404, 'smooth': 11405, 'smoothies': 11406, 'sns00525': 11407, 'soak': 11408, 'sobipratropium': 11409, 'sobwheezing': 11410, 'socks': 11411, 'soffice': 11412, 'sofsorb': 11413, 'soften': 11414, 'soles': 11415, 'solnintramuscular': 11416, 'solublespo': 11417, 'solutiondate': 11418, 'solutionhospital': 11419, 'somatropin': 11420, 'sometimes': 11421, 'soriatane': 11422, 'sort': 11423, 'sounds': 11424, 'sox': 11425, 'spaceruse': 11426, 'spasmrx': 11427, 'spasmshold': 11428, 'spasticity': 11429, 'special': 11430, 'specific': 11431, 'sphincter': 11432, 'spirit': 11433, 'spirometerplease': 11434, 'spirometryplease': 11435, 'splenectomy': 11436, 'spo': 11437, 'sponges': 11438, 'spots': 11439, 'sprayeach': 11440, 'spraysinhalation': 11441, 'spraytranslingual': 11442, 'sprinkleon': 11443, 'sprycel': 11444, 'sq210': 11445, 'sqfor': 11446, 'squamous': 11447, 'ssplease': 11448, 'stab': 11449, 'stabilize': 11450, 'stablegoal': 11451, 'stably': 11452, 'stand': 11453, 'standpoint': 11454, 'stanozolol': 11455, 'startedon': 11456, 'starts': 11457, 'statindue': 11458, 'statins': 11459, 'stick.name': 11460, 'sticksplease': 11461, 'stockingsplease': 11462, 'stoma': 11463, 'stones': 11464, 'stools.hospital': 11465, 'stoolsoftener': 11466, 'stop.name': 11467, 'stopdate': 11468, 'stopheparin': 11469, 'stopif': 11470, 'stopon': 11471, 'stoppedby': 11472, 'strengthrate': 11473, 'strep': 11474, 'streptomycin': 11475, 'strict': 11476, 'stripscheck': 11477, 'stripsglucometer': 11478, 'stripspatient': 11479, 'stripsrefills': 11480, 'stripstest': 11481, 'strokeprophylaxis': 11482, 'struck': 11483, 'stuffiness': 11484, 'stuffy': 11485, 'subclavian': 11486, 'subcutaneousachs': 11487, 'subcutaneousper': 11488, 'subcutaneousq': 11489, 'subcutaneousq12': 11490, 'subcutaneousqam.disp': 11491, 'subcutaneousqd': 11492, 'subcutaneoussubcutaneous': 11493, 'subcutaneoustid': 11494, 'sublingualonce': 11495, 'submitted': 11496, 'submucosal': 11497, 'suboptimaltechnical': 11498, 'substition': 11499, 'substitution.disp': 11500, 'suctioned': 11501, 'suctionplease': 11502, 'suctionsuction': 11503, 'sudafed': 11504, 'sufficiently': 11505, 'sugar<22': 11506, 'sugar<60': 11507, 'sugarbefore': 11508, 'sugarsdisp': 11509, 'sulfur': 11510, 'sulindac': 11511, 'sunitinib': 11512, 'sunyour': 11513, 'suppertime': 11514, 'suppl': 11515, 'supplementationplease': 11516, 'supplied': 11517, 'suppliesketostix': 11518, 'suppliesone': 11519, 'suppliestube': 11520, 'supply5': 11521, 'suppositiories': 11522, 'suregy': 11523, 'surestep': 11524, 'surgeryoffice': 11525, 'suspensionpo': 11526, 'suspensions': 11527, 'suture': 11528, 'sutures': 11529, 'svg': 11530, 'swabtopical': 11531, 'swallowrx': 11532, 'sweating': 11533, 'sweats': 11534, 'swishand': 11535, 'swollen': 11536, 'synringe': 11537, 'syringemiscell': 11538, 'syringesig': 11539, 'syrng': 11540, 'systemic': 11541, 't.bilifax': 11542, 'tabhospital': 11543, 'tableplease': 11544, 'tablespoonspo': 11545, 'tablethospital': 11546, 'tabletif': 11547, 'tabletinjection': 11548, 'tabletnum': 11549, 'tabletper': 11550, 'tablets;num': 11551, 'tabletsby': 11552, 'tabletseach': 11553, 'tabletsevery': 11554, 'tabletsper': 11555, 'tablettablet': 11556, 'tabnum': 11557, 'tabon': 11558, 'tabsevery': 11559, 'tacrolimuslevel': 11560, 'tacrolimuslevels': 11561, 'tactile': 11562, 'take1.5': 11563, 'take125': 11564, 'take20': 11565, 'take30': 11566, 'take7.5': 11567, 'takeamiodarone': 11568, 'takeaspirin': 11569, 'takebefore': 11570, 'takecolace': 11571, 'takeoff': 11572, 'takeon': 11573, 'takeonly': 11574, 'takeper': 11575, 'takethereafter': 11576, 'taketitrate': 11577, 'taketogether': 11578, 'takingdilaudid': 11579, 'takingmedication': 11580, 'takingnarcotics': 11581, 'takingoxycodone': 11582, 'takingpain': 11583, 'takingtylenol': 11584, 'takingyour': 11585, 'talkingto': 11586, 'tamponade': 11587, 'taper10': 11588, 'taper:40': 11589, 'tapereddose': 11590, 'taperingdose': 11591, 'taperweek': 11592, 'targetinr': 11593, 'taste': 11594, 'tbd': 11595, 'tbilifax': 11596, 'teach': 11597, 'teaching': 11598, 'teds': 11599, 'tee': 11600, 'telemetryplease': 11601, 'tellsyou': 11602, 'temp\\\\.': 11603, 'temps': 11604, 'tenoretic': 11605, 'tenormin': 11606, 'tentative': 11607, 'testing1': 11608, 'testingplease': 11609, 'testshould': 11610, 'teststrip': 11611, 'teststrips': 11612, 'texture': 11613, 'tft': 11614, 'thalamic': 11615, 'than2000': 11616, 'than4': 11617, 'than4,000': 11618, 'thanthree': 11619, 'thatday': 11620, 'thatrequires': 11621, 'thatshe': 11622, 'thatyour': 11623, 'theam': 11624, 'theargatroban': 11625, 'theattached': 11626, 'thecompletion': 11627, 'thediscretion': 11628, 'thefirst': 11629, 'theheparin': 11630, 'theinsulin': 11631, 'thelast': 11632, 'thelevothyroxine': 11633, 'thelovenox': 11634, 'then,2': 11635, 'then20meq': 11636, 'thename': 11637, 'thencan': 11638, 'thenchange': 11639, 'thendaily': 11640, 'thendiscontinue.name': 11641, 'thenhalf': 11642, 'thennum': 11643, 'thenqd': 11644, 'thenremove': 11645, 'thenresume': 11646, 'thenstart': 11647, 'thentwo': 11648, 'thenyou': 11649, 'theoutpatient': 11650, 'thepatients': 11651, 'thepm': 11652, 'theprednisone': 11653, 'theprotocol': 11654, 'therapeuticlevel': 11655, 'therapeuticrange': 11656, 'therapist': 11657, 'therapists': 11658, 'therapy3': 11659, 'therapyas': 11660, 'therapycardiac': 11661, 'therapycentral': 11662, 'therapyrequires': 11663, 'therapytreat': 11664, 'thereafteruntil': 11665, 'thesurgical': 11666, 'thetaper': 11667, 'thetime': 11668, 'thickness': 11669, 'thisdone': 11670, 'thishospitalization': 11671, 'thismay': 11672, 'thismed': 11673, 'thisname': 11674, 'thispatch': 11675, 'thisprescription': 11676, 'thisregimen': 11677, 'thisrx': 11678, 'thistle': 11679, 'thiswas': 11680, 'thorax': 11681, 'thousand': 11682, 'threehours': 11683, 'threepills': 11684, 'threetablets': 11685, 'throatirritation': 11686, 'throatswelling': 11687, 'thrombocytosis': 11688, 'thrombophlebitis': 11689, 'through2117': 11690, 'through2119': 11691, 'through2121': 11692, 'through2130': 11693, 'through2133': 11694, 'through2135': 11695, 'through2168': 11696, 'through2169': 11697, 'through2190': 11698, 'through4': 11699, 'throughg': 11700, 'thrus': 11701, 'thrushrx': 11702, 'thryoid': 11703, 'thtake': 11704, 'thursdayplease': 11705, 'tid1': 11706, 'tid3': 11707, 'tidacetaminophen': 11708, 'tidapply': 11709, 'tidasa': 11710, 'tidaspirin': 11711, 'tidatenolol': 11712, 'tidcoumadin': 11713, 'tidfor': 11714, 'tidmay': 11715, 'tidmetoprolol': 11716, 'tidtake': 11717, 'tidtitrate': 11718, 'tidwith': 11719, 'tidx': 11720, 'tigan': 11721, 'tight': 11722, 'til': 11723, 'timesevery': 11724, 'timesweekly': 11725, 'tingle': 11726, 'tingling': 11727, 'titer': 11728, 'titrateaccordingly': 11729, 'titratedose': 11730, 'titrating': 11731, 'tke': 11732, 'tlc': 11733, 'to2': 11734, 'to2.0': 11735, 'to2.5': 11736, 'to20': 11737, 'to2183': 11738, 'to2192': 11739, 'to3': 11740, 'to3.0': 11741, 'to5': 11742, 'toadditional': 11743, 'toadjust': 11744, 'toadministration': 11745, 'toattached': 11746, 'toavoid': 11747, 'tobra': 11748, 'tobradex': 11749, 'tobreakfast': 11750, 'tocomfort': 11751, 'tocompletion': 11752, 'tocreate': 11753, 'todayrx': 11754, 'todental': 11755, 'todiscontinue': 11756, 'todose': 11757, 'todressing': 11758, 'toend': 11759, 'toequal': 11760, 'toexert': 11761, 'tofollow': 11762, 'togiving': 11763, 'togoal': 11764, 'tohis': 11765, 'tohome': 11766, 'toinr': 11767, 'tointercourse': 11768, 'tolerable': 11769, 'tollerated': 11770, 'tomeropenem': 11771, 'tooffice': 11772, 'toorder': 11773, 'toothpaste': 11774, 'topicalas': 11775, 'toport': 11776, 'topt': 11777, 'tosbp': 11778, 'toscheduled': 11779, 'tosee': 11780, 'tosevere': 11781, 'toshoulder': 11782, 'tosoften': 11783, 'total10': 11784, 'totalcourse': 11785, 'totaldivalproex': 11786, 'totalper': 11787, 'totarget': 11788, 'tothursday': 11789, 'tovac': 11790, 'tox': 11791, 'tpnnon': 11792, 'tpnper': 11793, 'trachealstenosis': 11794, 'trachmask': 11795, 'tranplant': 11796, 'transdermally': 11797, 'transdermalq24h': 11798, 'transferrin': 11799, 'transitioned': 11800, 'transmetatarsal': 11801, 'transplantoffice': 11802, 'transverse': 11803, 'tranylcypromine': 11804, 'trastuzumab': 11805, 'treatmentfor': 11806, 'treatmentsinhalation': 11807, 'trental': 11808, 'treprostinil': 11809, 'tricep': 11810, 'tried': 11811, 'trimethobenzamide': 11812, 'tritrate': 11813, 'troches': 11814, 'troughand': 11815, 'troughfrequency': 11816, 'troughnum': 11817, 'troughon': 11818, 'troughto': 11819, 'truetrack': 11820, 'trypsin': 11821, 'tsppo': 11822, 'ttitrate': 11823, 'ttp': 11824, 'tubefeed': 11825, 'tubefeedingpromote': 11826, 'tubefeedingtubefeeding': 11827, 'tubefeedsisosource': 11828, 'tubeplease': 11829, 'tuberculosis': 11830, 'tuesdaynum': 11831, 'turbuhaler': 11832, 'tussin': 11833, 'twi': 11834, 'twitching': 11835, 'twohours': 11836, 'twotabs': 11837, 'txinhalation': 11838, 'tyenol': 11839, 'tykerb': 11840, 'tylenolrx': 11841, 'typical': 11842, 'u151': 11843, 'u201': 11844, 'ultratest': 11845, 'unableto': 11846, 'unavailable': 11847, 'uncertain': 11848, 'unchanged': 11849, 'uncomfortable': 11850, 'uncomplicated': 11851, 'underarms': 11852, 'underbreasts': 11853, 'underlying': 11854, 'unifiber': 11855, 'unitdwell': 11856, 'unithroid': 11857, 'unitintravenous': 11858, 'unitl': 11859, 'units,121': 11860, 'units,151': 11861, 'units,251': 11862, 'units.200': 11863, 'units.201': 11864, 'units0': 11865, 'units171': 11866, 'units311': 11867, 'units71': 11868, 'units;251': 11869, 'units;301': 11870, 'units;over': 11871, 'unitsmiscellaneous': 11872, 'unitssq': 11873, 'unitsunder': 11874, 'unitswhen': 11875, 'unitswith': 11876, 'unlessinstructed': 11877, 'unremarkable': 11878, 'unsuccessful': 11879, 'until2136': 11880, 'until2176': 11881, 'untilambulating': 11882, 'untilambulatory': 11883, 'untilappointment': 11884, \"untildc'd\": 11885, 'untildirected': 11886, 'untilfollowup': 11887, 'untilfurther': 11888, 'untillevel': 11889, 'untilnotified': 11890, 'untilseen': 11891, 'untilthe': 11892, 'untiltold': 11893, 'untis201': 11894, 'untissubcutaneous': 11895, 'uop': 11896, 'updates': 11897, 'upsetstomach': 11898, 'uptake': 11899, 'upward': 11900, 'urecholine': 11901, 'urinanalysis': 11902, 'urination': 11903, 'usefor': 11904, 'usewith': 11905, 'usingthe': 11906, 'usualsliding': 11907, 'utifor': 11908, 'uwith': 11909, 'v.disp': 11910, 'vacc': 11911, 'vaccuum': 11912, 'vacuum': 11913, 'vagina': 11914, 'valveand': 11915, 'valvepatient': 11916, 'valvereplacement': 11917, 'valveresults': 11918, 'vancomycinplease': 11919, 'vantin': 11920, 'variceal': 11921, 'variedunits': 11922, 'variessubcutaneous': 11923, 'vasospasm': 11924, 'vaxcel': 11925, 've': 11926, 'velcade': 11927, 'ventricle': 11928, 'vestibular': 11929, 'viactiv': 11930, 'viahospital': 11931, 'vialno': 11932, 'vianasal': 11933, 'victoza': 11934, 'visine': 11935, 'vision': 11936, 'visits': 11937, 'visitsvisit': 11938, 'vitd3': 11939, 'vomiting2153': 11940, 'vte': 11941, 'w.': 11942, 'waking': 11943, 'walkerplease': 11944, 'walkerrolling': 11945, 'warfarinplease': 11946, 'warfarintherapeutic': 11947, 'wasting': 11948, 'waterplease': 11949, 'waterrestrict': 11950, 'wedand': 11951, 'wedensday': 11952, 'wednesdayand': 11953, 'weekas': 11954, 'weekbun': 11955, 'weekdays': 11956, 'weekends': 11957, 'weekfor': 11958, 'weeklyand': 11959, 'weeklyfor': 11960, 'weeklyon': 11961, 'weekoff': 11962, 'weekrefill': 11963, 'weeksdiagnosis': 11964, 'weeksstarted': 11965, 'weightplease': 11966, 'weightsof': 11967, 'werediscussed': 11968, 'wererestarted': 11969, 'whatever': 11970, 'wheelchair1': 11971, 'wheezesrx': 11972, 'wheezing.hospital': 11973, 'wheezingplease': 11974, 'wheezng': 11975, 'whenambulating': 11976, 'whenchecking': 11977, 'whencreatinine': 11978, 'whenon': 11979, 'whento': 11980, 'whichever': 11981, 'whiledriving': 11982, 'whilenon': 11983, 'whilenonambulatory': 11984, 'whilepatient': 11985, 'whileyou': 11986, 'whilst': 11987, 'whom': 11988, 'willcause': 11989, 'willcontinue': 11990, 'willdecrease': 11991, 'willdetermine': 11992, 'willmanage': 11993, 'wipe': 11994, 'with25': 11995, 'withacetaminophen': 11996, 'withcardiologist': 11997, 'withdevice': 11998, 'withdry': 11999, 'withevery': 12000, 'withfinger': 12001, 'withfood': 12002, 'withfurther': 12003, 'withhd': 12004, 'withlunch': 12005, 'withnarcotic': 12006, 'withone': 12007, 'withpatch': 12008, 'withsliding': 12009, 'withthe': 12010, 'wnl': 12011, 'work2': 12012, 'work2101': 12013, 'work2166': 12014, 'work2204': 12015, 'workat': 12016, 'workbiweekly': 12017, 'workcomplete': 12018, 'workcreatinine': 12019, 'workcrp': 12020, 'workelectrolytes': 12021, 'workfk': 12022, 'workgoal': 12023, 'workin': 12024, 'workinrplease': 12025, 'worklabwork': 12026, 'workmonitor': 12027, 'workna': 12028, 'workonce': 12029, 'workpleaes': 12030, 'workpls': 12031, 'workptt': 12032, 'workqmonday': 12033, 'workrecheck': 12034, 'workresults': 12035, 'worksma': 12036, 'worksunday': 12037, 'worksurveillance': 12038, 'worktobramycin': 12039, 'workua': 12040, 'workurine': 12041, 'workwe': 12042, 'workwednesday': 12043, 'workwhile': 12044, 'worth': 12045, 'write': 12046, 'wwp': 12047, 'wz.disp': 12048, 'x12': 12049, 'x120': 12050, 'x24hours': 12051, 'x30': 12052, 'x3days,30': 12053, 'x7daysthen': 12054, 'xeloda': 12055, 'xrt': 12056, 'xs': 12057, 'xtra': 12058, 'yankaur': 12059, 'yearly': 12060, 'yeastinfection': 12061, 'yesterday': 12062, 'yfive': 12063, \"you'vefinished\": 12064, 'youanticipate': 12065, 'youdevelop': 12066, 'youdid': 12067, 'youfinish': 12068, 'youfollow': 12069, 'yourantibiotics': 12070, 'yourcholecystectomy': 12071, 'youregarding': 12072, 'yourfingersticks': 12073, 'yourgastroenterologist': 12074, 'yourheart': 12075, 'yourinsulin': 12076, 'youriv': 12077, 'yourlevofloxacin': 12078, 'yourneurological': 12079, 'yourphysicians': 12080, 'yourpreadmission': 12081, 'yourpulmonologist': 12082, 'yoursurgery': 12083, 'yoursystolic': 12084, 'yourtongue': 12085, 'z.': 12086, 'zaleplon': 12087, 'zeasorb': 12088, 'zebeta': 12089, 'zestoretic': 12090, 'zn': 12091, 'zonalon': 12092, 'zyban': 12093, 'zytiga': 12094, '~': 12095})\n"
          ],
          "name": "stdout"
        }
      ]
    },
    {
      "cell_type": "markdown",
      "metadata": {
        "id": "5RJrnFHDnU-c",
        "colab_type": "text"
      },
      "source": [
        "Define the device and the data iterator."
      ]
    },
    {
      "cell_type": "code",
      "metadata": {
        "id": "Sg583fjfnU-c",
        "colab_type": "code",
        "colab": {}
      },
      "source": [
        "device = torch.device('cuda' if torch.cuda.is_available() else 'cpu')"
      ],
      "execution_count": 17,
      "outputs": []
    },
    {
      "cell_type": "code",
      "metadata": {
        "id": "E-KZ_g0OnU-g",
        "colab_type": "code",
        "colab": {}
      },
      "source": [
        "BATCH_SIZE = 8\n",
        "\n",
        "train_iterator,valid_iterator,test_iterator = BucketIterator.splits(\n",
        "    (train_data, valid_data,test_data), \n",
        "     batch_size = BATCH_SIZE,\n",
        "     sort=False,\n",
        "     device = device)"
      ],
      "execution_count": 18,
      "outputs": []
    },
    {
      "cell_type": "code",
      "metadata": {
        "id": "1J-9TaSRGHVu",
        "colab_type": "code",
        "colab": {
          "base_uri": "https://localhost:8080/",
          "height": 35
        },
        "outputId": "6339326e-7e9c-477c-fdd4-3848d8db27f5"
      },
      "source": [
        "device"
      ],
      "execution_count": 19,
      "outputs": [
        {
          "output_type": "execute_result",
          "data": {
            "text/plain": [
              "device(type='cuda')"
            ]
          },
          "metadata": {
            "tags": []
          },
          "execution_count": 19
        }
      ]
    },
    {
      "cell_type": "code",
      "metadata": {
        "id": "gVLpMx_gy-wg",
        "colab_type": "code",
        "colab": {}
      },
      "source": [
        ""
      ],
      "execution_count": 19,
      "outputs": []
    },
    {
      "cell_type": "markdown",
      "metadata": {
        "id": "A28M2i0vnU-k",
        "colab_type": "text"
      },
      "source": [
        "## Building the Model\n",
        "\n"
      ]
    },
    {
      "cell_type": "code",
      "metadata": {
        "id": "0kbsocdPnU-l",
        "colab_type": "code",
        "colab": {}
      },
      "source": [
        "class Encoder(nn.Module):\n",
        "    def __init__(self, \n",
        "                 input_dim, \n",
        "                 hid_dim, \n",
        "                 n_layers, \n",
        "                 n_heads, \n",
        "                 pf_dim,\n",
        "                 dropout, \n",
        "                 device,\n",
        "                 max_length = 10000):\n",
        "        super().__init__()\n",
        "\n",
        "        self.device = device\n",
        "        \n",
        "        self.tok_embedding = nn.Embedding(input_dim, hid_dim)\n",
        "        self.pos_embedding = nn.Embedding(max_length, hid_dim)\n",
        "        \n",
        "        self.layers = nn.ModuleList([EncoderLayer(hid_dim, \n",
        "                                                  n_heads, \n",
        "                                                  pf_dim,\n",
        "                                                  dropout, \n",
        "                                                  device) \n",
        "                                     for _ in range(n_layers)])\n",
        "        \n",
        "        self.dropout = nn.Dropout(dropout)\n",
        "        \n",
        "        self.scale = torch.sqrt(torch.FloatTensor([hid_dim])).to(device)\n",
        "        \n",
        "    def forward(self, src, src_mask):\n",
        "        \n",
        "        #src = [batch size, src len]\n",
        "        #src_mask = [batch size, src len]\n",
        "        \n",
        "        batch_size = src.shape[0]\n",
        "        src_len = src.shape[1]\n",
        "        pos = torch.arange(0, src_len).unsqueeze(0).repeat(batch_size, 1).to(self.device)\n",
        "        \n",
        "        #pos = [batch size, src len]\n",
        "        \n",
        "        src = self.dropout((self.tok_embedding(src) * self.scale) + self.pos_embedding(pos))\n",
        "        \n",
        "        #src = [batch size, src len, hid dim]\n",
        "        \n",
        "        for layer in self.layers:\n",
        "            src = layer(src, src_mask)\n",
        "            \n",
        "        #src = [batch size, src len, hid dim]\n",
        "            \n",
        "        return src"
      ],
      "execution_count": 20,
      "outputs": []
    },
    {
      "cell_type": "code",
      "metadata": {
        "id": "UHNl9UtSnU-o",
        "colab_type": "code",
        "colab": {}
      },
      "source": [
        "class EncoderLayer(nn.Module):\n",
        "    def __init__(self, \n",
        "                 hid_dim, \n",
        "                 n_heads, \n",
        "                 pf_dim,  \n",
        "                 dropout, \n",
        "                 device):\n",
        "        super().__init__()\n",
        "        \n",
        "        self.self_attn_layer_norm = nn.LayerNorm(hid_dim)\n",
        "        self.ff_layer_norm = nn.LayerNorm(hid_dim)\n",
        "        self.self_attention = MultiHeadAttentionLayer(hid_dim, n_heads, dropout, device)\n",
        "        self.positionwise_feedforward = PositionwiseFeedforwardLayer(hid_dim, \n",
        "                                                                     pf_dim, \n",
        "                                                                     dropout)\n",
        "        self.dropout = nn.Dropout(dropout)\n",
        "        \n",
        "    def forward(self, src, src_mask):\n",
        "        \n",
        "        #src = [batch size, src len, hid dim]\n",
        "        #src_mask = [batch size, src len]\n",
        "                \n",
        "        #self attention\n",
        "        _src, _ = self.self_attention(src, src, src, src_mask)\n",
        "        \n",
        "        #dropout, residual connection and layer norm\n",
        "        src = self.self_attn_layer_norm(src + self.dropout(_src))\n",
        "        \n",
        "        #src = [batch size, src len, hid dim]\n",
        "        \n",
        "        #positionwise feedforward\n",
        "        _src = self.positionwise_feedforward(src)\n",
        "        \n",
        "        #dropout, residual and layer norm\n",
        "        src = self.ff_layer_norm(src + self.dropout(_src))\n",
        "        \n",
        "        #src = [batch size, src len, hid dim]\n",
        "        \n",
        "        return src"
      ],
      "execution_count": 21,
      "outputs": []
    },
    {
      "cell_type": "code",
      "metadata": {
        "id": "S7lGOggmnU-s",
        "colab_type": "code",
        "colab": {}
      },
      "source": [
        "class MultiHeadAttentionLayer(nn.Module):\n",
        "    def __init__(self, hid_dim, n_heads, dropout, device):\n",
        "        super().__init__()\n",
        "        \n",
        "        assert hid_dim % n_heads == 0\n",
        "        \n",
        "        self.hid_dim = hid_dim\n",
        "        self.n_heads = n_heads\n",
        "        self.head_dim = hid_dim // n_heads\n",
        "        \n",
        "        self.fc_q = nn.Linear(hid_dim, hid_dim)\n",
        "        self.fc_k = nn.Linear(hid_dim, hid_dim)\n",
        "        self.fc_v = nn.Linear(hid_dim, hid_dim)\n",
        "        \n",
        "        self.fc_o = nn.Linear(hid_dim, hid_dim)\n",
        "        \n",
        "        self.dropout = nn.Dropout(dropout)\n",
        "        \n",
        "        self.scale = torch.sqrt(torch.FloatTensor([self.head_dim])).to(device)\n",
        "        \n",
        "    def forward(self, query, key, value, mask = None):\n",
        "        \n",
        "        batch_size = query.shape[0]\n",
        "        \n",
        "        #query = [batch size, query len, hid dim]\n",
        "        #key = [batch size, key len, hid dim]\n",
        "        #value = [batch size, value len, hid dim]\n",
        "                \n",
        "        Q = self.fc_q(query)\n",
        "        K = self.fc_k(key)\n",
        "        V = self.fc_v(value)\n",
        "        \n",
        "        #Q = [batch size, query len, hid dim]\n",
        "        #K = [batch size, key len, hid dim]\n",
        "        #V = [batch size, value len, hid dim]\n",
        "                \n",
        "        Q = Q.view(batch_size, -1, self.n_heads, self.head_dim).permute(0, 2, 1, 3)\n",
        "        K = K.view(batch_size, -1, self.n_heads, self.head_dim).permute(0, 2, 1, 3)\n",
        "        V = V.view(batch_size, -1, self.n_heads, self.head_dim).permute(0, 2, 1, 3)\n",
        "        \n",
        "        #Q = [batch size, n heads, query len, head dim]\n",
        "        #K = [batch size, n heads, key len, head dim]\n",
        "        #V = [batch size, n heads, value len, head dim]\n",
        "                \n",
        "        energy = torch.matmul(Q, K.permute(0, 1, 3, 2)) / self.scale\n",
        "        \n",
        "        #energy = [batch size, n heads, query len, key len]\n",
        "        \n",
        "        if mask is not None:\n",
        "            energy = energy.masked_fill(mask == 0, -1e10)\n",
        "        \n",
        "        attention = torch.softmax(energy, dim = -1)\n",
        "                \n",
        "        #attention = [batch size, n heads, query len, key len]\n",
        "                \n",
        "        x = torch.matmul(self.dropout(attention), V)\n",
        "        \n",
        "        #x = [batch size, n heads, query len, head dim]\n",
        "        \n",
        "        x = x.permute(0, 2, 1, 3).contiguous()\n",
        "        \n",
        "        #x = [batch size, query len, n heads, head dim]\n",
        "        \n",
        "        x = x.view(batch_size, -1, self.hid_dim)\n",
        "        \n",
        "        #x = [batch size, query len, hid dim]\n",
        "        \n",
        "        x = self.fc_o(x)\n",
        "        \n",
        "        #x = [batch size, query len, hid dim]\n",
        "        \n",
        "        return x, attention"
      ],
      "execution_count": 22,
      "outputs": []
    },
    {
      "cell_type": "code",
      "metadata": {
        "id": "cJ3bl7n8nU-x",
        "colab_type": "code",
        "colab": {}
      },
      "source": [
        "class PositionwiseFeedforwardLayer(nn.Module):\n",
        "    def __init__(self, hid_dim, pf_dim, dropout):\n",
        "        super().__init__()\n",
        "        \n",
        "        self.fc_1 = nn.Linear(hid_dim, pf_dim)\n",
        "        self.fc_2 = nn.Linear(pf_dim, hid_dim)\n",
        "        \n",
        "        self.dropout = nn.Dropout(dropout)\n",
        "        \n",
        "    def forward(self, x):\n",
        "        \n",
        "        #x = [batch size, seq len, hid dim]\n",
        "        \n",
        "        x = self.dropout(torch.relu(self.fc_1(x)))\n",
        "        \n",
        "        #x = [batch size, seq len, pf dim]\n",
        "        \n",
        "        x = self.fc_2(x)\n",
        "        \n",
        "        #x = [batch size, seq len, hid dim]\n",
        "        \n",
        "        return x"
      ],
      "execution_count": 23,
      "outputs": []
    },
    {
      "cell_type": "code",
      "metadata": {
        "id": "Ry6-0oZOnU-1",
        "colab_type": "code",
        "colab": {}
      },
      "source": [
        "class Decoder(nn.Module):\n",
        "    def __init__(self, \n",
        "                 output_dim, \n",
        "                 hid_dim, \n",
        "                 n_layers, \n",
        "                 n_heads, \n",
        "                 pf_dim, \n",
        "                 dropout, \n",
        "                 device,\n",
        "                 output_trg_dim,\n",
        "                 output_num_dim,\n",
        "                 max_length = 10000\n",
        "                 ):\n",
        "        super().__init__()\n",
        "        \n",
        "        self.device = device\n",
        "        \n",
        "        self.tok_embedding = nn.Embedding(output_dim, hid_dim)\n",
        "        self.pos_embedding = nn.Embedding(max_length, hid_dim)\n",
        "        \n",
        "        self.layers = nn.ModuleList([DecoderLayer(hid_dim, \n",
        "                                                  n_heads, \n",
        "                                                  pf_dim, \n",
        "                                                  dropout, \n",
        "                                                  device)\n",
        "                                     for _ in range(n_layers)])\n",
        "        \n",
        "        self.fc_out = nn.Linear(hid_dim, output_trg_dim)\n",
        "        self.fc_num_out = nn.Linear(hid_dim,output_num_dim)\n",
        "       \n",
        "        self.dropout = nn.Dropout(dropout)\n",
        "        \n",
        "        self.scale = torch.sqrt(torch.FloatTensor([hid_dim])).to(device)\n",
        "        \n",
        "    def forward(self, trg, enc_src, trg_mask, src_mask):\n",
        "        \n",
        "        #trg = [batch size, trg len]\n",
        "        #enc_src = [batch size, src len, hid dim]\n",
        "        #trg_mask = [batch size, trg len]\n",
        "        #src_mask = [batch size, src len]\n",
        "                \n",
        "        batch_size = trg.shape[0]\n",
        "        trg_len = trg.shape[1]\n",
        "        \n",
        "        pos = torch.arange(0, trg_len).unsqueeze(0).repeat(batch_size, 1).to(self.device)\n",
        "                            \n",
        "        #pos = [batch size, trg len]\n",
        "        # print('tok_embedding',self.tok_embedding(trg))\n",
        "        # print(pos.shape)\n",
        "        # print('pos_embedding',self.pos_embedding(pos))   \n",
        "        trg = self.dropout((self.tok_embedding(trg) * self.scale) + self.pos_embedding(pos))\n",
        "                \n",
        "        #trg = [batch size, trg len, hid dim]\n",
        "        \n",
        "        for layer in self.layers:\n",
        "            trg, attention = layer(trg, enc_src, trg_mask, src_mask)\n",
        "        \n",
        "        #trg = [batch size, trg len, hid dim]\n",
        "        #attention = [batch size, n heads, trg len, src len]\n",
        "        \n",
        "        output = self.fc_out(trg)\n",
        "        output_num = self.fc_num_out(trg)\n",
        "        #output = [batch size, trg len, output dim]\n",
        "            \n",
        "        return output, attention,output_num"
      ],
      "execution_count": 24,
      "outputs": []
    },
    {
      "cell_type": "code",
      "metadata": {
        "id": "r-G--mXjnU-5",
        "colab_type": "code",
        "colab": {}
      },
      "source": [
        "class DecoderLayer(nn.Module):\n",
        "    def __init__(self, \n",
        "                 hid_dim, \n",
        "                 n_heads, \n",
        "                 pf_dim, \n",
        "                 dropout, \n",
        "                 device):\n",
        "        super().__init__()\n",
        "        \n",
        "        self.self_attn_layer_norm = nn.LayerNorm(hid_dim)\n",
        "        self.enc_attn_layer_norm = nn.LayerNorm(hid_dim)\n",
        "        self.ff_layer_norm = nn.LayerNorm(hid_dim)\n",
        "        self.self_attention = MultiHeadAttentionLayer(hid_dim, n_heads, dropout, device)\n",
        "        self.encoder_attention = MultiHeadAttentionLayer(hid_dim, n_heads, dropout, device)\n",
        "        self.positionwise_feedforward = PositionwiseFeedforwardLayer(hid_dim, \n",
        "                                                                     pf_dim, \n",
        "                                                                     dropout)\n",
        "        self.dropout = nn.Dropout(dropout)\n",
        "        \n",
        "    def forward(self, trg, enc_src, trg_mask, src_mask):\n",
        "        \n",
        "        #trg = [batch size, trg len, hid dim]\n",
        "        #enc_src = [batch size, src len, hid dim]\n",
        "        #trg_mask = [batch size, trg len]\n",
        "        #src_mask = [batch size, src len]\n",
        "        \n",
        "        #self attention\n",
        "        _trg, _ = self.self_attention(trg, trg, trg, trg_mask)\n",
        "        \n",
        "        #dropout, residual connection and layer norm\n",
        "        trg = self.self_attn_layer_norm(trg + self.dropout(_trg))\n",
        "            \n",
        "        #trg = [batch size, trg len, hid dim]\n",
        "            \n",
        "        #encoder attention\n",
        "        _trg, attention = self.encoder_attention(trg, enc_src, enc_src, src_mask)\n",
        "        \n",
        "        #dropout, residual connection and layer norm\n",
        "        trg = self.enc_attn_layer_norm(trg + self.dropout(_trg))\n",
        "                    \n",
        "        #trg = [batch size, trg len, hid dim]\n",
        "        \n",
        "        #positionwise feedforward\n",
        "        _trg = self.positionwise_feedforward(trg)\n",
        "        \n",
        "        #dropout, residual and layer norm\n",
        "        trg = self.ff_layer_norm(trg + self.dropout(_trg))\n",
        "        \n",
        "        #trg = [batch size, trg len, hid dim]\n",
        "        #attention = [batch size, n heads, trg len, src len]\n",
        "        \n",
        "        return trg, attention"
      ],
      "execution_count": 25,
      "outputs": []
    },
    {
      "cell_type": "code",
      "metadata": {
        "id": "Vx-0r1TYnU--",
        "colab_type": "code",
        "colab": {}
      },
      "source": [
        "class Seq2Seq(nn.Module):\n",
        "    def __init__(self, \n",
        "                 encoder, \n",
        "                 decoder, \n",
        "                 src_pad_idx, \n",
        "                 trg_pad_idx, \n",
        "                 device):\n",
        "        super().__init__()\n",
        "        \n",
        "        self.encoder = encoder\n",
        "        self.decoder = decoder\n",
        "        self.src_pad_idx = src_pad_idx\n",
        "        self.trg_pad_idx = trg_pad_idx\n",
        "        self.device = device\n",
        "        \n",
        "    def make_src_mask(self, src):\n",
        "        \n",
        "        #src = [batch size, src len]\n",
        "        \n",
        "        src_mask = (src != self.src_pad_idx).unsqueeze(1).unsqueeze(2)\n",
        "\n",
        "        #src_mask = [batch size, 1, 1, src len]\n",
        "\n",
        "        return src_mask\n",
        "    \n",
        "    def make_trg_mask(self, trg):\n",
        "        \n",
        "        #trg = [batch size, trg len]\n",
        "        \n",
        "        trg_pad_mask = (trg != self.trg_pad_idx).unsqueeze(1).unsqueeze(2)\n",
        "        \n",
        "        #trg_pad_mask = [batch size, 1, 1, trg len]\n",
        "        \n",
        "        trg_len = trg.shape[1]\n",
        "        \n",
        "        trg_sub_mask = torch.tril(torch.ones((trg_len, trg_len), device = self.device)).bool()\n",
        "        \n",
        "        #trg_sub_mask = [trg len, trg len]\n",
        "            \n",
        "        trg_mask = trg_pad_mask & trg_sub_mask\n",
        "        \n",
        "        #trg_mask = [batch size, 1, trg len, trg len]\n",
        "        \n",
        "        return trg_mask\n",
        "\n",
        "    def forward(self, src, trg):\n",
        "        \n",
        "        #src = [batch size, src len]\n",
        "        #trg = [batch size, trg len]\n",
        "                \n",
        "        src_mask = self.make_src_mask(src)\n",
        "        trg_mask = self.make_trg_mask(trg)\n",
        "        \n",
        "        #src_mask = [batch size, 1, 1, src len]\n",
        "        #trg_mask = [batch size, 1, trg len, trg len]\n",
        "        \n",
        "        enc_src = self.encoder(src, src_mask)\n",
        "        #print('enc_src size:',enc_src.shape)\n",
        "        #enc_src = [batch size, src len, hid dim]\n",
        "                \n",
        "        output, attention,output_num = self.decoder(trg, enc_src, trg_mask, src_mask)\n",
        "        \n",
        "        #output = [batch size, trg len, output dim]\n",
        "        #attention = [batch size, n heads, trg len, src len]\n",
        "        \n",
        "        return output, attention,output_num"
      ],
      "execution_count": 26,
      "outputs": []
    },
    {
      "cell_type": "markdown",
      "metadata": {
        "id": "OnmOuDIanU_C",
        "colab_type": "text"
      },
      "source": [
        "## Training the Seq2Seq Model\n"
      ]
    },
    {
      "cell_type": "code",
      "metadata": {
        "id": "5Ro-DaZYnU_C",
        "colab_type": "code",
        "colab": {
          "base_uri": "https://localhost:8080/",
          "height": 53
        },
        "outputId": "e6d91edf-aada-4493-8aa2-ceb89aec6029"
      },
      "source": [
        "INPUT_DIM = len(TEXT.vocab)\n",
        "OUTPUT_DIM = len(LABEL.vocab)\n",
        "OUTPUT_TRG_DIM = len(LABEL_NUM.vocab)\n",
        "OUTPUT_DIM_NUM = len(num_vocab.stoi)\n",
        "HID_DIM = 256\n",
        "ENC_LAYERS = 3\n",
        "DEC_LAYERS = 3\n",
        "ENC_HEADS = 8\n",
        "DEC_HEADS = 8\n",
        "ENC_PF_DIM = 512\n",
        "DEC_PF_DIM = 512\n",
        "ENC_DROPOUT = 0.1\n",
        "DEC_DROPOUT = 0.1\n",
        "\n",
        "enc = Encoder(INPUT_DIM, \n",
        "              HID_DIM, \n",
        "              ENC_LAYERS, \n",
        "              ENC_HEADS, \n",
        "              ENC_PF_DIM, \n",
        "              ENC_DROPOUT, \n",
        "              device)\n",
        "\n",
        "dec = Decoder(OUTPUT_DIM, \n",
        "              HID_DIM, \n",
        "              DEC_LAYERS, \n",
        "              DEC_HEADS, \n",
        "              DEC_PF_DIM, \n",
        "              DEC_DROPOUT, \n",
        "              device,\n",
        "              output_num_dim = OUTPUT_DIM_NUM,\n",
        "              output_trg_dim = OUTPUT_TRG_DIM\n",
        "              )\n",
        "\n",
        "print(INPUT_DIM)\n",
        "print(OUTPUT_DIM)"
      ],
      "execution_count": 27,
      "outputs": [
        {
          "output_type": "stream",
          "text": [
            "34495\n",
            "12822\n"
          ],
          "name": "stdout"
        }
      ]
    },
    {
      "cell_type": "code",
      "metadata": {
        "id": "itQUdhCLnU_F",
        "colab_type": "code",
        "colab": {}
      },
      "source": [
        "SRC_PAD_IDX = TEXT.vocab.stoi[TEXT.pad_token]\n",
        "TRG_PAD_IDX = LABEL.vocab.stoi[LABEL.pad_token]\n",
        "TRG_PAD_IDX = LABEL_NUM.vocab.stoi[LABEL_NUM.pad_token]\n",
        "model = Seq2Seq(enc, dec, SRC_PAD_IDX, TRG_PAD_IDX, device).to(device)"
      ],
      "execution_count": 28,
      "outputs": []
    },
    {
      "cell_type": "code",
      "metadata": {
        "id": "-tP7wI5dnU_J",
        "colab_type": "code",
        "colab": {
          "base_uri": "https://localhost:8080/",
          "height": 35
        },
        "outputId": "965f11c2-8127-4aa6-c017-46cab74b5321"
      },
      "source": [
        "def count_parameters(model):\n",
        "    return sum(p.numel() for p in model.parameters() if p.requires_grad)\n",
        "\n",
        "print(f'The model has {count_parameters(model):,} trainable parameters')"
      ],
      "execution_count": 29,
      "outputs": [
        {
          "output_type": "stream",
          "text": [
            "The model has 24,482,584 trainable parameters\n"
          ],
          "name": "stdout"
        }
      ]
    },
    {
      "cell_type": "code",
      "metadata": {
        "id": "Zu2LUFMGnU_N",
        "colab_type": "code",
        "colab": {}
      },
      "source": [
        "def initialize_weights(m):\n",
        "    if hasattr(m, 'weight') and m.weight.dim() > 1:\n",
        "        nn.init.xavier_uniform_(m.weight.data)"
      ],
      "execution_count": 30,
      "outputs": []
    },
    {
      "cell_type": "code",
      "metadata": {
        "id": "KxbCEsw1nU_Q",
        "colab_type": "code",
        "colab": {}
      },
      "source": [
        "model.apply(initialize_weights);"
      ],
      "execution_count": 31,
      "outputs": []
    },
    {
      "cell_type": "code",
      "metadata": {
        "id": "kwst5jVUnU_T",
        "colab_type": "code",
        "colab": {}
      },
      "source": [
        "LEARNING_RATE = 0.0005\n",
        "\n",
        "optimizer = torch.optim.Adam(model.parameters(), lr = LEARNING_RATE)"
      ],
      "execution_count": 32,
      "outputs": []
    },
    {
      "cell_type": "code",
      "metadata": {
        "id": "-rJUMKAwk3yV",
        "colab_type": "code",
        "colab": {}
      },
      "source": [
        "def get_num_mask(trg):\n",
        "    num_mask = torch.zeros(trg.shape).to(device)\n",
        "    batch = trg.shape[0]\n",
        "    for j in range(trg.shape[0]):\n",
        "        for i in range(len(trg[j])):\n",
        "            if trg[j][i]==1:\n",
        "                num_mask[j][i]=2\n",
        "                continue\n",
        "            tok = LABEL_NUM.vocab.itos[trg[j][i]]\n",
        "            \n",
        "            if tok==num_token:\n",
        "                num_mask[j][i]=1\n",
        "    num_mask = num_mask.long()\n",
        "    return num_mask"
      ],
      "execution_count": 33,
      "outputs": []
    },
    {
      "cell_type": "code",
      "metadata": {
        "id": "Nhf3m9zJnU_X",
        "colab_type": "code",
        "colab": {}
      },
      "source": [
        "criterion = nn.CrossEntropyLoss(ignore_index = TRG_PAD_IDX)\n",
        "criterion_num = nn.CrossEntropyLoss()"
      ],
      "execution_count": 34,
      "outputs": []
    },
    {
      "cell_type": "code",
      "metadata": {
        "id": "RgRRh_GVk2cr",
        "colab_type": "code",
        "colab": {}
      },
      "source": [
        "def get_loss(output,trg,trg_num_mask,output_num,trg_with_num):\n",
        "    generator_loss = criterion(output,trg_with_num)\n",
        "    num_idx = trg[trg_num_mask==1]\n",
        "    trg_nums = torch.zeros(len(num_idx)).to(device)\n",
        "    for i in range(len(num_idx)):\n",
        "        if LABEL.vocab.itos[num_idx[i]] not in num_vocab.num_keys:\n",
        "            trg_nums[i] = num_vocab.stoi['<unk>']\n",
        "        else:\n",
        "            trg_nums[i] = num_vocab.stoi[LABEL.vocab.itos[num_idx[i]]]\n",
        "    pred_nums = output_num[trg_num_mask==1]\n",
        "    # print('prediction nums:{}'.format(pred_nums))\n",
        "    # print('traget nums:{}'.format(trg_nums))\n",
        "    # print(pred_nums)\n",
        "    trg_nums = trg_nums.long()\n",
        "    num_loss = criterion_num(pred_nums,trg_nums)\n",
        "    return (generator_loss+ num_loss), generator_loss,num_loss"
      ],
      "execution_count": 35,
      "outputs": []
    },
    {
      "cell_type": "code",
      "metadata": {
        "id": "KHiBry1lnMJk",
        "colab_type": "code",
        "colab": {}
      },
      "source": [
        "# for i, batch in enumerate(train_iterator):\n",
        "        \n",
        "#         src = batch.INPUT_TEXT\n",
        "#         trg = batch.LABEL\n",
        "#         trg_with_num = batch.LABEL_NUM\n",
        "#         trg_num_mask = get_num_mask(trg_with_num)\n",
        "#         break\n",
        "\n",
        "# output, _ ,output_num= model(src, trg[:,:-1])\n",
        "     \n",
        "            \n",
        "# output_dim = output.shape[-1]\n",
        "# output_num_dim = output_num.shape[-1]\n",
        "\n",
        "# output = output.contiguous().view(-1, output_dim)\n",
        "# output_num = output_num.contiguous().view(-1, output_num_dim)\n",
        "        \n",
        "\n",
        "# trg = trg[:,1:].contiguous().view(-1)\n",
        "# trg_with_num = trg_with_num[:,1:].contiguous().view(-1)\n",
        "# trg_num_mask = trg_num_mask[:,1:].contiguous().view(-1)        \n",
        "#         #output = [batch size * trg len - 1, output dim]\n",
        "#         #trg = [batch size * trg len - 1]\n",
        "            \n",
        "# loss,gnt_loss,gnt_num_loss = get_loss(output,trg,trg_num_mask,output_num,trg_with_num)"
      ],
      "execution_count": 36,
      "outputs": []
    },
    {
      "cell_type": "code",
      "metadata": {
        "id": "kOnyrwkTnU_a",
        "colab_type": "code",
        "colab": {}
      },
      "source": [
        "def train(model, iterator, optimizer, criterion, clip):\n",
        "    \n",
        "    model.train()\n",
        "    \n",
        "    epoch_loss = 0\n",
        "    epoch_gnt_loss = 0\n",
        "    epoch_num_loss = 0\n",
        "    for i, batch in enumerate(iterator):\n",
        "        # gnt_loss=0\n",
        "        # gnt_num_loss=0\n",
        "        src = batch.INPUT_TEXT\n",
        "        trg = batch.LABEL\n",
        "        trg_with_num = batch.LABEL_NUM\n",
        "        trg_num_mask = get_num_mask(trg_with_num)\n",
        "\n",
        "        optimizer.zero_grad()\n",
        "        #print(src.shape)\n",
        "        #print(trg.shape)\n",
        "        output, _ ,output_num= model(src, trg[:,:-1])\n",
        "        #print(output.shape)\n",
        "                \n",
        "        #output = [batch size, trg len - 1, output dim]\n",
        "        #trg = [batch size, trg len]\n",
        "            \n",
        "        output_dim = output.shape[-1]\n",
        "        output_num_dim = output_num.shape[-1]\n",
        "\n",
        "        output = output.contiguous().view(-1, output_dim)\n",
        "        output_num = output_num.contiguous().view(-1, output_num_dim)\n",
        "        \n",
        "\n",
        "        trg = trg[:,1:].contiguous().view(-1)\n",
        "        trg_with_num = trg_with_num[:,1:].contiguous().view(-1)\n",
        "        trg_num_mask = trg_num_mask[:,1:].contiguous().view(-1)        \n",
        "        #output = [batch size * trg len - 1, output dim]\n",
        "        #trg = [batch size * trg len - 1]\n",
        "        #loss = criterion(output,trg)\n",
        "        loss,gnt_loss,gnt_num_loss = get_loss(output,trg,trg_num_mask,output_num,trg_with_num)\n",
        "        \n",
        "        gnt_loss.backward()\n",
        "        \n",
        "        torch.nn.utils.clip_grad_norm_(model.parameters(), clip)\n",
        "        \n",
        "        optimizer.step()\n",
        "        \n",
        "        epoch_loss += loss.item()\n",
        "        epoch_gnt_loss += gnt_loss.item()\n",
        "        epoch_num_loss += gnt_num_loss.item()\n",
        "        \n",
        "    return epoch_loss / len(iterator),epoch_gnt_loss / len(iterator),epoch_num_loss / len(iterator)"
      ],
      "execution_count": 37,
      "outputs": []
    },
    {
      "cell_type": "code",
      "metadata": {
        "id": "XsWCTr5d83l7",
        "colab_type": "code",
        "colab": {}
      },
      "source": [
        "def train_num(model, iterator, optimizer, criterion, clip):\n",
        "    \n",
        "    model.train()\n",
        "    \n",
        "    epoch_loss = 0\n",
        "    epoch_gnt_loss = 0\n",
        "    epoch_num_loss = 0\n",
        "    for i, batch in enumerate(iterator):\n",
        "        # gnt_loss=0\n",
        "        # gnt_num_loss=0\n",
        "        src = batch.INPUT_TEXT\n",
        "        trg = batch.LABEL\n",
        "        trg_with_num = batch.LABEL_NUM\n",
        "        trg_num_mask = get_num_mask(trg_with_num)\n",
        "\n",
        "        optimizer.zero_grad()\n",
        "        #print(src.shape)\n",
        "        #print(trg.shape)\n",
        "        output, _ ,output_num= model(src, trg[:,:-1])\n",
        "        #print(output.shape)\n",
        "                \n",
        "        #output = [batch size, trg len - 1, output dim]\n",
        "        #trg = [batch size, trg len]\n",
        "            \n",
        "        output_dim = output.shape[-1]\n",
        "        output_num_dim = output_num.shape[-1]\n",
        "\n",
        "        output = output.contiguous().view(-1, output_dim)\n",
        "        output_num = output_num.contiguous().view(-1, output_num_dim)\n",
        "        \n",
        "\n",
        "        trg = trg[:,1:].contiguous().view(-1)\n",
        "        trg_with_num = trg_with_num[:,1:].contiguous().view(-1)\n",
        "        trg_num_mask = trg_num_mask[:,1:].contiguous().view(-1)        \n",
        "        #output = [batch size * trg len - 1, output dim]\n",
        "        #trg = [batch size * trg len - 1]\n",
        "        #loss = criterion(output,trg)\n",
        "        loss,gnt_loss,gnt_num_loss = get_loss(output,trg,trg_num_mask,output_num,trg_with_num)\n",
        "        \n",
        "        gnt_num_loss.backward()\n",
        "        \n",
        "        torch.nn.utils.clip_grad_norm_(model.parameters(), clip)\n",
        "        \n",
        "        optimizer.step()\n",
        "        \n",
        "        epoch_loss += loss.item()\n",
        "        epoch_gnt_loss += gnt_loss.item()\n",
        "        epoch_num_loss += gnt_num_loss.item()\n",
        "        \n",
        "    return epoch_loss / len(iterator),epoch_gnt_loss / len(iterator),epoch_num_loss / len(iterator)"
      ],
      "execution_count": 38,
      "outputs": []
    },
    {
      "cell_type": "code",
      "metadata": {
        "id": "6-B5CjcTnU_d",
        "colab_type": "code",
        "colab": {}
      },
      "source": [
        "def evaluate(model, iterator, criterion):\n",
        "    \n",
        "    model.eval()\n",
        "    \n",
        "    epoch_loss = 0\n",
        "    epoch_gnt_loss = 0\n",
        "    epoch_num_loss = 0\n",
        "    with torch.no_grad():\n",
        "    \n",
        "        for i, batch in enumerate(iterator):\n",
        "            # gnt_loss=0\n",
        "            # gnt_num_loss=0\n",
        "\n",
        "            src = batch.INPUT_TEXT\n",
        "            trg = batch.LABEL\n",
        "            trg_with_num = batch.LABEL_NUM\n",
        "            trg_num_mask = get_num_mask(trg_with_num)\n",
        "\n",
        "            optimizer.zero_grad()\n",
        "            #print(src.shape)\n",
        "            #print(trg.shape)\n",
        "            output, _ ,output_num= model(src, trg[:,:-1])\n",
        "            #print(output.shape)\n",
        "                    \n",
        "            #output = [batch size, trg len - 1, output dim]\n",
        "            #trg = [batch size, trg len]\n",
        "                \n",
        "            output_dim = output.shape[-1]\n",
        "            output_num_dim = output_num.shape[-1]\n",
        "\n",
        "            output = output.contiguous().view(-1, output_dim)\n",
        "            output_num = output_num.contiguous().view(-1, output_num_dim)\n",
        "            \n",
        "\n",
        "            trg = trg[:,1:].contiguous().view(-1)\n",
        "            trg_with_num = trg_with_num[:,1:].contiguous().view(-1)\n",
        "            trg_num_mask = trg_num_mask[:,1:].contiguous().view(-1)        \n",
        "            #output = [batch size * trg len - 1, output dim]\n",
        "            #trg = [batch size * trg len - 1]\n",
        "            #loss = criterion(output,trg)\n",
        "            loss,gnt_loss,gnt_num_loss = get_loss(output,trg,trg_num_mask,output_num,trg_with_num)\n",
        "\n",
        "            epoch_loss += loss.item()\n",
        "            epoch_gnt_loss += gnt_loss.item()\n",
        "            epoch_num_loss += gnt_num_loss.item()\n",
        "            \n",
        "        return epoch_loss / len(iterator),epoch_gnt_loss / len(iterator),epoch_num_loss / len(iterator)"
      ],
      "execution_count": 39,
      "outputs": []
    },
    {
      "cell_type": "markdown",
      "metadata": {
        "id": "POnw9hCBnU_g",
        "colab_type": "text"
      },
      "source": [
        "We then define a small function that we can use to tell us how long an epoch takes."
      ]
    },
    {
      "cell_type": "code",
      "metadata": {
        "id": "h9WUJoXinU_g",
        "colab_type": "code",
        "colab": {}
      },
      "source": [
        "def epoch_time(start_time, end_time):\n",
        "    elapsed_time = end_time - start_time\n",
        "    elapsed_mins = int(elapsed_time / 60)\n",
        "    elapsed_secs = int(elapsed_time - (elapsed_mins * 60))\n",
        "    return elapsed_mins, elapsed_secs\n",
        "\n",
        "\n",
        "def show_example(model):\n",
        "    example_idx = np.random.randint(len(valid_data))\n",
        "\n",
        "    src = vars(valid_data.examples[example_idx])['INPUT_TEXT']\n",
        "    trg = vars(valid_data.examples[example_idx])['LABEL'] \n",
        "    trg_with_num = vars(valid_data.examples[example_idx])['LABEL_NUM'] \n",
        "\n",
        "    #print(f'src = {src}')\n",
        "    print('Reference:')\n",
        "\n",
        "    for tok in trg:\n",
        "        print(tok,end = ' ')\n",
        "    translation, attention,_= translate_sentence(src, TEXT, LABEL,LABEL_NUM, model, device)\n",
        "    print()\n",
        "    print('prediction:')\n",
        "    for idx,tok in enumerate(translation):\n",
        "        print(tok,end = ' ')\n",
        "    #     num_res = re.search(num_reg_1,tok)\n",
        "    #     if num_res is not None and num_res.span()[-1]-num_res.span()[0]==len(tok):\n",
        "    #         num_mask[idx]=1\n",
        "    print()\n",
        "    # print(pred_mask)\n",
        "    # print(num_mask)\n",
        "    # print((pred_mask==num_mask))"
      ],
      "execution_count": 40,
      "outputs": []
    },
    {
      "cell_type": "code",
      "metadata": {
        "id": "Yz8_2aWJkpVN",
        "colab_type": "code",
        "colab": {}
      },
      "source": [
        "def translate_sentence(sentence, src_field,trg_field ,trg_num_field, model, device, max_len = 500):\n",
        "    \n",
        "    model.eval()\n",
        "        \n",
        "    if isinstance(sentence, str):\n",
        "        nlp = spacy.load('en')\n",
        "        tokens = [token.text.lower() for token in nlp(sentence)]\n",
        "    else:\n",
        "        tokens = [token.lower() for token in sentence]\n",
        "\n",
        "    tokens = [src_field.init_token] + tokens + [src_field.eos_token]\n",
        "        \n",
        "    src_indexes = [src_field.vocab.stoi[token] for token in tokens]\n",
        "\n",
        "    src_tensor = torch.LongTensor(src_indexes).unsqueeze(0).to(device)\n",
        "    \n",
        "    src_mask = model.make_src_mask(src_tensor)\n",
        "    \n",
        "    with torch.no_grad():\n",
        "        enc_src = model.encoder(src_tensor, src_mask)\n",
        "\n",
        "    trg_indexes = [trg_field.vocab.stoi[trg_field.init_token]]\n",
        "    trg_with_num_idx = [trg_num_field.vocab.stoi[trg_num_field.init_token]]\n",
        "\n",
        "    for i in range(max_len):\n",
        "\n",
        "        trg_tensor = torch.LongTensor(trg_indexes).unsqueeze(0).to(device)\n",
        "\n",
        "        trg_mask = model.make_trg_mask(trg_tensor)\n",
        "\n",
        "\n",
        "        \n",
        "        with torch.no_grad():\n",
        "            output, attention,output_num = model.decoder(trg_tensor, enc_src, trg_mask, src_mask)\n",
        "        \n",
        "        pred_token_with_num = output.argmax(2)[:,-1].item()\n",
        "        trg_with_num_idx.append(pred_token_with_num)\n",
        "        pred_num = output_num.argmax(2)[:,-1].item()\n",
        "        if pred_token_with_num ==trg_num_field.vocab.stoi[num_token]:\n",
        "            pred_token = trg_field.vocab.stoi[num_vocab.itos[pred_num]]\n",
        "            trg_indexes.append(pred_token)\n",
        "        else:\n",
        "\n",
        "            pred_token = trg_field.vocab.stoi[trg_num_field.vocab.itos[pred_token_with_num]]        \n",
        "            trg_indexes.append(pred_token)\n",
        "\n",
        "        if pred_token == trg_field.vocab.stoi[trg_field.eos_token]:\n",
        "            break\n",
        "    \n",
        "    trg_tokens = [trg_field.vocab.itos[i] for i in trg_indexes]\n",
        "    trg_num_tokens = [trg_num_field.vocab.itos[i] for i in trg_with_num_idx]\n",
        "    \n",
        "    return trg_tokens[1:], attention,trg_num_tokens[1:]"
      ],
      "execution_count": 41,
      "outputs": []
    },
    {
      "cell_type": "markdown",
      "metadata": {
        "id": "kAIcYXqOnU_j",
        "colab_type": "text"
      },
      "source": [
        "Finally, we train our actual model. This model is almost 3x faster than the convolutional sequence-to-sequence model and also achieves a lower validation perplexity!"
      ]
    },
    {
      "cell_type": "code",
      "metadata": {
        "id": "ueU67NIqnU_k",
        "colab_type": "code",
        "colab": {
          "base_uri": "https://localhost:8080/",
          "height": 393
        },
        "outputId": "a1099529-2501-40c9-969e-784b6ac44bd8"
      },
      "source": [
        "N_EPOCHS = 10\n",
        "CLIP = 1\n",
        "LEARNING_RATE = 0.00001\n",
        "\n",
        "optimizer = torch.optim.Adam(model.parameters(), lr = LEARNING_RATE)\n",
        "best_valid_loss = float('inf')\n",
        "best_num_valid_loss = float('inf')\n",
        "train_loss_list = []\n",
        "valid_loss_list = []\n",
        "train_gnt_loss_list = []\n",
        "train_num_loss_list = []\n",
        "valid_gnt_loss_list = []\n",
        "valid_num_loss_list = []\n",
        "for epoch in range(N_EPOCHS):\n",
        "    \n",
        "    start_time = time.time()\n",
        "    \n",
        "    train_loss,train_gnt_loss,train_num_loss = train(model, train_iterator, optimizer, criterion, CLIP)\n",
        "    valid_loss,valid_gnt_loss,valid_num_loss = evaluate(model, valid_iterator, criterion)\n",
        "    train_loss_list.append(train_loss)\n",
        "    valid_loss_list.append(valid_loss)\n",
        "    train_gnt_loss_list.append(train_gnt_loss)\n",
        "    train_num_loss_list.append(train_num_loss)\n",
        "    valid_gnt_loss_list.append(valid_gnt_loss)\n",
        "    valid_num_loss_list.append(valid_num_loss)\n",
        "    end_time = time.time()\n",
        "    \n",
        "    epoch_mins, epoch_secs = epoch_time(start_time, end_time)\n",
        "    show_example(model)\n",
        "    if valid_gnt_loss < best_valid_loss:\n",
        "        best_valid_loss = valid_gnt_loss\n",
        "        #torch.save(model.state_dict(), '/content/drive/My Drive/mimic/transformer.pt')\n",
        "        torch.save(model.state_dict(), f'/content/drive/My Drive/mimic/num_gnt_2_final.pt')\n",
        "    # if valid_num_loss < best_num_valid_loss:\n",
        "    #     best_num_valid_loss = valid_num_loss\n",
        "    #     #torch.save(model.state_dict(), '/content/drive/My Drive/mimic/transformer.pt')\n",
        "    #     torch.save(model.state_dict(), f'/content/drive/My Drive/mimic/num_1_{epoch}.pt')\n",
        "    \n",
        "    \n",
        "    print(f'Epoch: {epoch+1:02} | Time: {epoch_mins}m {epoch_secs}s')\n",
        "    print(f'\\tTrain Loss: {train_loss:.3f} | Train gnt Loss: {train_gnt_loss:.3f} |Train num Loss: {train_num_loss:.3f} |')\n",
        "    print(f'\\tValid Loss: {valid_loss:.3f} | Valid gnt Loss: {valid_gnt_loss:.3f} |Valid num Loss: {valid_num_loss:.3f} |')\n",
        "    "
      ],
      "execution_count": null,
      "outputs": [
        {
          "output_type": "error",
          "ename": "KeyboardInterrupt",
          "evalue": "ignored",
          "traceback": [
            "\u001b[0;31m---------------------------------------------------------------------------\u001b[0m",
            "\u001b[0;31mKeyboardInterrupt\u001b[0m                         Traceback (most recent call last)",
            "\u001b[0;32m<ipython-input-43-f0dd7f4787a7>\u001b[0m in \u001b[0;36m<module>\u001b[0;34m()\u001b[0m\n\u001b[1;32m     16\u001b[0m     \u001b[0mstart_time\u001b[0m \u001b[0;34m=\u001b[0m \u001b[0mtime\u001b[0m\u001b[0;34m.\u001b[0m\u001b[0mtime\u001b[0m\u001b[0;34m(\u001b[0m\u001b[0;34m)\u001b[0m\u001b[0;34m\u001b[0m\u001b[0;34m\u001b[0m\u001b[0m\n\u001b[1;32m     17\u001b[0m \u001b[0;34m\u001b[0m\u001b[0m\n\u001b[0;32m---> 18\u001b[0;31m     \u001b[0mtrain_loss\u001b[0m\u001b[0;34m,\u001b[0m\u001b[0mtrain_gnt_loss\u001b[0m\u001b[0;34m,\u001b[0m\u001b[0mtrain_num_loss\u001b[0m \u001b[0;34m=\u001b[0m \u001b[0mtrain\u001b[0m\u001b[0;34m(\u001b[0m\u001b[0mmodel\u001b[0m\u001b[0;34m,\u001b[0m \u001b[0mtrain_iterator\u001b[0m\u001b[0;34m,\u001b[0m \u001b[0moptimizer\u001b[0m\u001b[0;34m,\u001b[0m \u001b[0mcriterion\u001b[0m\u001b[0;34m,\u001b[0m \u001b[0mCLIP\u001b[0m\u001b[0;34m)\u001b[0m\u001b[0;34m\u001b[0m\u001b[0;34m\u001b[0m\u001b[0m\n\u001b[0m\u001b[1;32m     19\u001b[0m     \u001b[0mvalid_loss\u001b[0m\u001b[0;34m,\u001b[0m\u001b[0mvalid_gnt_loss\u001b[0m\u001b[0;34m,\u001b[0m\u001b[0mvalid_num_loss\u001b[0m \u001b[0;34m=\u001b[0m \u001b[0mevaluate\u001b[0m\u001b[0;34m(\u001b[0m\u001b[0mmodel\u001b[0m\u001b[0;34m,\u001b[0m \u001b[0mvalid_iterator\u001b[0m\u001b[0;34m,\u001b[0m \u001b[0mcriterion\u001b[0m\u001b[0;34m)\u001b[0m\u001b[0;34m\u001b[0m\u001b[0;34m\u001b[0m\u001b[0m\n\u001b[1;32m     20\u001b[0m     \u001b[0mtrain_loss_list\u001b[0m\u001b[0;34m.\u001b[0m\u001b[0mappend\u001b[0m\u001b[0;34m(\u001b[0m\u001b[0mtrain_loss\u001b[0m\u001b[0;34m)\u001b[0m\u001b[0;34m\u001b[0m\u001b[0;34m\u001b[0m\u001b[0m\n",
            "\u001b[0;32m<ipython-input-38-9996ec09b92e>\u001b[0m in \u001b[0;36mtrain\u001b[0;34m(model, iterator, optimizer, criterion, clip)\u001b[0m\n\u001b[1;32m     40\u001b[0m         \u001b[0mgnt_loss\u001b[0m\u001b[0;34m.\u001b[0m\u001b[0mbackward\u001b[0m\u001b[0;34m(\u001b[0m\u001b[0;34m)\u001b[0m\u001b[0;34m\u001b[0m\u001b[0;34m\u001b[0m\u001b[0m\n\u001b[1;32m     41\u001b[0m \u001b[0;34m\u001b[0m\u001b[0m\n\u001b[0;32m---> 42\u001b[0;31m         \u001b[0mtorch\u001b[0m\u001b[0;34m.\u001b[0m\u001b[0mnn\u001b[0m\u001b[0;34m.\u001b[0m\u001b[0mutils\u001b[0m\u001b[0;34m.\u001b[0m\u001b[0mclip_grad_norm_\u001b[0m\u001b[0;34m(\u001b[0m\u001b[0mmodel\u001b[0m\u001b[0;34m.\u001b[0m\u001b[0mparameters\u001b[0m\u001b[0;34m(\u001b[0m\u001b[0;34m)\u001b[0m\u001b[0;34m,\u001b[0m \u001b[0mclip\u001b[0m\u001b[0;34m)\u001b[0m\u001b[0;34m\u001b[0m\u001b[0;34m\u001b[0m\u001b[0m\n\u001b[0m\u001b[1;32m     43\u001b[0m \u001b[0;34m\u001b[0m\u001b[0m\n\u001b[1;32m     44\u001b[0m         \u001b[0moptimizer\u001b[0m\u001b[0;34m.\u001b[0m\u001b[0mstep\u001b[0m\u001b[0;34m(\u001b[0m\u001b[0;34m)\u001b[0m\u001b[0;34m\u001b[0m\u001b[0;34m\u001b[0m\u001b[0m\n",
            "\u001b[0;32m/usr/local/lib/python3.6/dist-packages/torch/nn/utils/clip_grad.py\u001b[0m in \u001b[0;36mclip_grad_norm_\u001b[0;34m(parameters, max_norm, norm_type)\u001b[0m\n\u001b[1;32m     31\u001b[0m         \u001b[0mtotal_norm\u001b[0m \u001b[0;34m=\u001b[0m \u001b[0mmax\u001b[0m\u001b[0;34m(\u001b[0m\u001b[0mp\u001b[0m\u001b[0;34m.\u001b[0m\u001b[0mgrad\u001b[0m\u001b[0;34m.\u001b[0m\u001b[0mdetach\u001b[0m\u001b[0;34m(\u001b[0m\u001b[0;34m)\u001b[0m\u001b[0;34m.\u001b[0m\u001b[0mabs\u001b[0m\u001b[0;34m(\u001b[0m\u001b[0;34m)\u001b[0m\u001b[0;34m.\u001b[0m\u001b[0mmax\u001b[0m\u001b[0;34m(\u001b[0m\u001b[0;34m)\u001b[0m\u001b[0;34m.\u001b[0m\u001b[0mto\u001b[0m\u001b[0;34m(\u001b[0m\u001b[0mdevice\u001b[0m\u001b[0;34m)\u001b[0m \u001b[0;32mfor\u001b[0m \u001b[0mp\u001b[0m \u001b[0;32min\u001b[0m \u001b[0mparameters\u001b[0m\u001b[0;34m)\u001b[0m\u001b[0;34m\u001b[0m\u001b[0;34m\u001b[0m\u001b[0m\n\u001b[1;32m     32\u001b[0m     \u001b[0;32melse\u001b[0m\u001b[0;34m:\u001b[0m\u001b[0;34m\u001b[0m\u001b[0;34m\u001b[0m\u001b[0m\n\u001b[0;32m---> 33\u001b[0;31m         \u001b[0mtotal_norm\u001b[0m \u001b[0;34m=\u001b[0m \u001b[0mtorch\u001b[0m\u001b[0;34m.\u001b[0m\u001b[0mnorm\u001b[0m\u001b[0;34m(\u001b[0m\u001b[0mtorch\u001b[0m\u001b[0;34m.\u001b[0m\u001b[0mstack\u001b[0m\u001b[0;34m(\u001b[0m\u001b[0;34m[\u001b[0m\u001b[0mtorch\u001b[0m\u001b[0;34m.\u001b[0m\u001b[0mnorm\u001b[0m\u001b[0;34m(\u001b[0m\u001b[0mp\u001b[0m\u001b[0;34m.\u001b[0m\u001b[0mgrad\u001b[0m\u001b[0;34m.\u001b[0m\u001b[0mdetach\u001b[0m\u001b[0;34m(\u001b[0m\u001b[0;34m)\u001b[0m\u001b[0;34m,\u001b[0m \u001b[0mnorm_type\u001b[0m\u001b[0;34m)\u001b[0m\u001b[0;34m.\u001b[0m\u001b[0mto\u001b[0m\u001b[0;34m(\u001b[0m\u001b[0mdevice\u001b[0m\u001b[0;34m)\u001b[0m \u001b[0;32mfor\u001b[0m \u001b[0mp\u001b[0m \u001b[0;32min\u001b[0m \u001b[0mparameters\u001b[0m\u001b[0;34m]\u001b[0m\u001b[0;34m)\u001b[0m\u001b[0;34m,\u001b[0m \u001b[0mnorm_type\u001b[0m\u001b[0;34m)\u001b[0m\u001b[0;34m\u001b[0m\u001b[0;34m\u001b[0m\u001b[0m\n\u001b[0m\u001b[1;32m     34\u001b[0m     \u001b[0mclip_coef\u001b[0m \u001b[0;34m=\u001b[0m \u001b[0mmax_norm\u001b[0m \u001b[0;34m/\u001b[0m \u001b[0;34m(\u001b[0m\u001b[0mtotal_norm\u001b[0m \u001b[0;34m+\u001b[0m \u001b[0;36m1e-6\u001b[0m\u001b[0;34m)\u001b[0m\u001b[0;34m\u001b[0m\u001b[0;34m\u001b[0m\u001b[0m\n\u001b[1;32m     35\u001b[0m     \u001b[0;32mif\u001b[0m \u001b[0mclip_coef\u001b[0m \u001b[0;34m<\u001b[0m \u001b[0;36m1\u001b[0m\u001b[0;34m:\u001b[0m\u001b[0;34m\u001b[0m\u001b[0;34m\u001b[0m\u001b[0m\n",
            "\u001b[0;32m/usr/local/lib/python3.6/dist-packages/torch/nn/utils/clip_grad.py\u001b[0m in \u001b[0;36m<listcomp>\u001b[0;34m(.0)\u001b[0m\n\u001b[1;32m     31\u001b[0m         \u001b[0mtotal_norm\u001b[0m \u001b[0;34m=\u001b[0m \u001b[0mmax\u001b[0m\u001b[0;34m(\u001b[0m\u001b[0mp\u001b[0m\u001b[0;34m.\u001b[0m\u001b[0mgrad\u001b[0m\u001b[0;34m.\u001b[0m\u001b[0mdetach\u001b[0m\u001b[0;34m(\u001b[0m\u001b[0;34m)\u001b[0m\u001b[0;34m.\u001b[0m\u001b[0mabs\u001b[0m\u001b[0;34m(\u001b[0m\u001b[0;34m)\u001b[0m\u001b[0;34m.\u001b[0m\u001b[0mmax\u001b[0m\u001b[0;34m(\u001b[0m\u001b[0;34m)\u001b[0m\u001b[0;34m.\u001b[0m\u001b[0mto\u001b[0m\u001b[0;34m(\u001b[0m\u001b[0mdevice\u001b[0m\u001b[0;34m)\u001b[0m \u001b[0;32mfor\u001b[0m \u001b[0mp\u001b[0m \u001b[0;32min\u001b[0m \u001b[0mparameters\u001b[0m\u001b[0;34m)\u001b[0m\u001b[0;34m\u001b[0m\u001b[0;34m\u001b[0m\u001b[0m\n\u001b[1;32m     32\u001b[0m     \u001b[0;32melse\u001b[0m\u001b[0;34m:\u001b[0m\u001b[0;34m\u001b[0m\u001b[0;34m\u001b[0m\u001b[0m\n\u001b[0;32m---> 33\u001b[0;31m         \u001b[0mtotal_norm\u001b[0m \u001b[0;34m=\u001b[0m \u001b[0mtorch\u001b[0m\u001b[0;34m.\u001b[0m\u001b[0mnorm\u001b[0m\u001b[0;34m(\u001b[0m\u001b[0mtorch\u001b[0m\u001b[0;34m.\u001b[0m\u001b[0mstack\u001b[0m\u001b[0;34m(\u001b[0m\u001b[0;34m[\u001b[0m\u001b[0mtorch\u001b[0m\u001b[0;34m.\u001b[0m\u001b[0mnorm\u001b[0m\u001b[0;34m(\u001b[0m\u001b[0mp\u001b[0m\u001b[0;34m.\u001b[0m\u001b[0mgrad\u001b[0m\u001b[0;34m.\u001b[0m\u001b[0mdetach\u001b[0m\u001b[0;34m(\u001b[0m\u001b[0;34m)\u001b[0m\u001b[0;34m,\u001b[0m \u001b[0mnorm_type\u001b[0m\u001b[0;34m)\u001b[0m\u001b[0;34m.\u001b[0m\u001b[0mto\u001b[0m\u001b[0;34m(\u001b[0m\u001b[0mdevice\u001b[0m\u001b[0;34m)\u001b[0m \u001b[0;32mfor\u001b[0m \u001b[0mp\u001b[0m \u001b[0;32min\u001b[0m \u001b[0mparameters\u001b[0m\u001b[0;34m]\u001b[0m\u001b[0;34m)\u001b[0m\u001b[0;34m,\u001b[0m \u001b[0mnorm_type\u001b[0m\u001b[0;34m)\u001b[0m\u001b[0;34m\u001b[0m\u001b[0;34m\u001b[0m\u001b[0m\n\u001b[0m\u001b[1;32m     34\u001b[0m     \u001b[0mclip_coef\u001b[0m \u001b[0;34m=\u001b[0m \u001b[0mmax_norm\u001b[0m \u001b[0;34m/\u001b[0m \u001b[0;34m(\u001b[0m\u001b[0mtotal_norm\u001b[0m \u001b[0;34m+\u001b[0m \u001b[0;36m1e-6\u001b[0m\u001b[0;34m)\u001b[0m\u001b[0;34m\u001b[0m\u001b[0;34m\u001b[0m\u001b[0m\n\u001b[1;32m     35\u001b[0m     \u001b[0;32mif\u001b[0m \u001b[0mclip_coef\u001b[0m \u001b[0;34m<\u001b[0m \u001b[0;36m1\u001b[0m\u001b[0;34m:\u001b[0m\u001b[0;34m\u001b[0m\u001b[0;34m\u001b[0m\u001b[0m\n",
            "\u001b[0;32m/usr/local/lib/python3.6/dist-packages/torch/functional.py\u001b[0m in \u001b[0;36mnorm\u001b[0;34m(input, p, dim, keepdim, out, dtype)\u001b[0m\n\u001b[1;32m   1077\u001b[0m                 \u001b[0;32mreturn\u001b[0m \u001b[0m_VF\u001b[0m\u001b[0;34m.\u001b[0m\u001b[0mfrobenius_norm\u001b[0m\u001b[0;34m(\u001b[0m\u001b[0minput\u001b[0m\u001b[0;34m)\u001b[0m\u001b[0;34m\u001b[0m\u001b[0;34m\u001b[0m\u001b[0m\n\u001b[1;32m   1078\u001b[0m         \u001b[0;32mif\u001b[0m \u001b[0;32mnot\u001b[0m \u001b[0misinstance\u001b[0m\u001b[0;34m(\u001b[0m\u001b[0mp\u001b[0m\u001b[0;34m,\u001b[0m \u001b[0mstr\u001b[0m\u001b[0;34m)\u001b[0m\u001b[0;34m:\u001b[0m\u001b[0;34m\u001b[0m\u001b[0;34m\u001b[0m\u001b[0m\n\u001b[0;32m-> 1079\u001b[0;31m             \u001b[0;32mreturn\u001b[0m \u001b[0m_VF\u001b[0m\u001b[0;34m.\u001b[0m\u001b[0mnorm\u001b[0m\u001b[0;34m(\u001b[0m\u001b[0minput\u001b[0m\u001b[0;34m,\u001b[0m \u001b[0mp\u001b[0m\u001b[0;34m)\u001b[0m\u001b[0;34m\u001b[0m\u001b[0;34m\u001b[0m\u001b[0m\n\u001b[0m\u001b[1;32m   1080\u001b[0m \u001b[0;34m\u001b[0m\u001b[0m\n\u001b[1;32m   1081\u001b[0m     \u001b[0;31m# TODO: when https://github.com/pytorch/pytorch/issues/33782 is fixed\u001b[0m\u001b[0;34m\u001b[0m\u001b[0;34m\u001b[0m\u001b[0;34m\u001b[0m\u001b[0m\n",
            "\u001b[0;31mKeyboardInterrupt\u001b[0m: "
          ]
        }
      ]
    },
    {
      "cell_type": "code",
      "metadata": {
        "id": "I8HeFGynpFZ_",
        "colab_type": "code",
        "colab": {
          "base_uri": "https://localhost:8080/",
          "height": 757
        },
        "outputId": "9bdefafb-777c-446c-979b-78748b2fe0cd"
      },
      "source": [
        "\n",
        "LEARNING_RATE = 0.00005\n",
        "\n",
        "optimizer = torch.optim.Adam(num_model.parameters(), lr = LEARNING_RATE)\n",
        "N_EPOCHS = 10\n",
        "CLIP = 1\n",
        "\n",
        "best_valid_loss = float('inf')\n",
        "best_num_valid_loss = 0.618\n",
        "train_loss_list = []\n",
        "valid_loss_list = []\n",
        "train_gnt_loss_list = []\n",
        "train_num_loss_list = []\n",
        "valid_gnt_loss_list = []\n",
        "valid_num_loss_list = []\n",
        "for epoch in range(N_EPOCHS):\n",
        "    \n",
        "    start_time = time.time()\n",
        "    \n",
        "    train_loss,train_gnt_loss,train_num_loss = train_num(num_model, train_iterator, optimizer, criterion, CLIP)\n",
        "    valid_loss,valid_gnt_loss,valid_num_loss = evaluate(num_model, valid_iterator, criterion)\n",
        "    train_loss_list.append(train_loss)\n",
        "    valid_loss_list.append(valid_loss)\n",
        "    train_gnt_loss_list.append(train_gnt_loss)\n",
        "    train_num_loss_list.append(train_num_loss)\n",
        "    valid_gnt_loss_list.append(valid_gnt_loss)\n",
        "    valid_num_loss_list.append(valid_num_loss)\n",
        "    end_time = time.time()\n",
        "    \n",
        "    epoch_mins, epoch_secs = epoch_time(start_time, end_time)\n",
        "    #show_example(num_model)\n",
        "\n",
        "    if valid_num_loss < best_num_valid_loss:\n",
        "        best_num_valid_loss = valid_num_loss\n",
        "        #torch.save(model.state_dict(), '/content/drive/My Drive/mimic/transformer.pt')\n",
        "        torch.save(num_model.state_dict(), f'/content/drive/My Drive/mimic/num_final.pt')\n",
        "    \n",
        "    \n",
        "    print(f'Epoch: {epoch+1:02} | Time: {epoch_mins}m {epoch_secs}s')\n",
        "    print(f'\\tTrain Loss: {train_loss:.3f} | Train gnt Loss: {train_gnt_loss:.3f} |Train num Loss: {train_num_loss:.3f} |')\n",
        "    print(f'\\tValid Loss: {valid_loss:.3f} | Valid gnt Loss: {valid_gnt_loss:.3f} |Valid num Loss: {valid_num_loss:.3f} |')"
      ],
      "execution_count": null,
      "outputs": [
        {
          "output_type": "stream",
          "text": [
            "Epoch: 01 | Time: 22m 52s\n",
            "\tTrain Loss: 9.899 | Train gnt Loss: 9.406 |Train num Loss: 0.493 |\n",
            "\tValid Loss: 10.000 | Valid gnt Loss: 9.409 |Valid num Loss: 0.591 |\n",
            "Epoch: 02 | Time: 23m 2s\n",
            "\tTrain Loss: 9.876 | Train gnt Loss: 9.408 |Train num Loss: 0.468 |\n",
            "\tValid Loss: 9.998 | Valid gnt Loss: 9.406 |Valid num Loss: 0.592 |\n",
            "Epoch: 03 | Time: 23m 10s\n",
            "\tTrain Loss: 9.860 | Train gnt Loss: 9.405 |Train num Loss: 0.455 |\n",
            "\tValid Loss: 9.995 | Valid gnt Loss: 9.401 |Valid num Loss: 0.594 |\n",
            "Epoch: 04 | Time: 23m 10s\n",
            "\tTrain Loss: 9.850 | Train gnt Loss: 9.407 |Train num Loss: 0.443 |\n",
            "\tValid Loss: 10.002 | Valid gnt Loss: 9.405 |Valid num Loss: 0.597 |\n",
            "Epoch: 05 | Time: 23m 17s\n",
            "\tTrain Loss: 9.842 | Train gnt Loss: 9.409 |Train num Loss: 0.433 |\n",
            "\tValid Loss: 10.010 | Valid gnt Loss: 9.405 |Valid num Loss: 0.605 |\n",
            "Epoch: 06 | Time: 23m 3s\n",
            "\tTrain Loss: 9.833 | Train gnt Loss: 9.408 |Train num Loss: 0.425 |\n",
            "\tValid Loss: 10.012 | Valid gnt Loss: 9.406 |Valid num Loss: 0.606 |\n",
            "Epoch: 07 | Time: 22m 30s\n",
            "\tTrain Loss: 9.825 | Train gnt Loss: 9.408 |Train num Loss: 0.417 |\n",
            "\tValid Loss: 10.018 | Valid gnt Loss: 9.406 |Valid num Loss: 0.611 |\n"
          ],
          "name": "stdout"
        },
        {
          "output_type": "error",
          "ename": "KeyboardInterrupt",
          "evalue": "ignored",
          "traceback": [
            "\u001b[0;31m---------------------------------------------------------------------------\u001b[0m",
            "\u001b[0;31mKeyboardInterrupt\u001b[0m                         Traceback (most recent call last)",
            "\u001b[0;32m<ipython-input-44-b1b360cf9d9d>\u001b[0m in \u001b[0;36m<module>\u001b[0;34m()\u001b[0m\n\u001b[1;32m     18\u001b[0m     \u001b[0mstart_time\u001b[0m \u001b[0;34m=\u001b[0m \u001b[0mtime\u001b[0m\u001b[0;34m.\u001b[0m\u001b[0mtime\u001b[0m\u001b[0;34m(\u001b[0m\u001b[0;34m)\u001b[0m\u001b[0;34m\u001b[0m\u001b[0;34m\u001b[0m\u001b[0m\n\u001b[1;32m     19\u001b[0m \u001b[0;34m\u001b[0m\u001b[0m\n\u001b[0;32m---> 20\u001b[0;31m     \u001b[0mtrain_loss\u001b[0m\u001b[0;34m,\u001b[0m\u001b[0mtrain_gnt_loss\u001b[0m\u001b[0;34m,\u001b[0m\u001b[0mtrain_num_loss\u001b[0m \u001b[0;34m=\u001b[0m \u001b[0mtrain_num\u001b[0m\u001b[0;34m(\u001b[0m\u001b[0mnum_model\u001b[0m\u001b[0;34m,\u001b[0m \u001b[0mtrain_iterator\u001b[0m\u001b[0;34m,\u001b[0m \u001b[0moptimizer\u001b[0m\u001b[0;34m,\u001b[0m \u001b[0mcriterion\u001b[0m\u001b[0;34m,\u001b[0m \u001b[0mCLIP\u001b[0m\u001b[0;34m)\u001b[0m\u001b[0;34m\u001b[0m\u001b[0;34m\u001b[0m\u001b[0m\n\u001b[0m\u001b[1;32m     21\u001b[0m     \u001b[0mvalid_loss\u001b[0m\u001b[0;34m,\u001b[0m\u001b[0mvalid_gnt_loss\u001b[0m\u001b[0;34m,\u001b[0m\u001b[0mvalid_num_loss\u001b[0m \u001b[0;34m=\u001b[0m \u001b[0mevaluate\u001b[0m\u001b[0;34m(\u001b[0m\u001b[0mnum_model\u001b[0m\u001b[0;34m,\u001b[0m \u001b[0mvalid_iterator\u001b[0m\u001b[0;34m,\u001b[0m \u001b[0mcriterion\u001b[0m\u001b[0;34m)\u001b[0m\u001b[0;34m\u001b[0m\u001b[0;34m\u001b[0m\u001b[0m\n\u001b[1;32m     22\u001b[0m     \u001b[0mtrain_loss_list\u001b[0m\u001b[0;34m.\u001b[0m\u001b[0mappend\u001b[0m\u001b[0;34m(\u001b[0m\u001b[0mtrain_loss\u001b[0m\u001b[0;34m)\u001b[0m\u001b[0;34m\u001b[0m\u001b[0;34m\u001b[0m\u001b[0m\n",
            "\u001b[0;32m<ipython-input-39-2c48b2624882>\u001b[0m in \u001b[0;36mtrain_num\u001b[0;34m(model, iterator, optimizer, criterion, clip)\u001b[0m\n\u001b[1;32m     12\u001b[0m         \u001b[0mtrg\u001b[0m \u001b[0;34m=\u001b[0m \u001b[0mbatch\u001b[0m\u001b[0;34m.\u001b[0m\u001b[0mLABEL\u001b[0m\u001b[0;34m\u001b[0m\u001b[0;34m\u001b[0m\u001b[0m\n\u001b[1;32m     13\u001b[0m         \u001b[0mtrg_with_num\u001b[0m \u001b[0;34m=\u001b[0m \u001b[0mbatch\u001b[0m\u001b[0;34m.\u001b[0m\u001b[0mLABEL_NUM\u001b[0m\u001b[0;34m\u001b[0m\u001b[0;34m\u001b[0m\u001b[0m\n\u001b[0;32m---> 14\u001b[0;31m         \u001b[0mtrg_num_mask\u001b[0m \u001b[0;34m=\u001b[0m \u001b[0mget_num_mask\u001b[0m\u001b[0;34m(\u001b[0m\u001b[0mtrg_with_num\u001b[0m\u001b[0;34m)\u001b[0m\u001b[0;34m\u001b[0m\u001b[0;34m\u001b[0m\u001b[0m\n\u001b[0m\u001b[1;32m     15\u001b[0m \u001b[0;34m\u001b[0m\u001b[0m\n\u001b[1;32m     16\u001b[0m         \u001b[0moptimizer\u001b[0m\u001b[0;34m.\u001b[0m\u001b[0mzero_grad\u001b[0m\u001b[0;34m(\u001b[0m\u001b[0;34m)\u001b[0m\u001b[0;34m\u001b[0m\u001b[0;34m\u001b[0m\u001b[0m\n",
            "\u001b[0;32m<ipython-input-34-49e14915ca5f>\u001b[0m in \u001b[0;36mget_num_mask\u001b[0;34m(trg)\u001b[0m\n\u001b[1;32m      7\u001b[0m                 \u001b[0mnum_mask\u001b[0m\u001b[0;34m[\u001b[0m\u001b[0mj\u001b[0m\u001b[0;34m]\u001b[0m\u001b[0;34m[\u001b[0m\u001b[0mi\u001b[0m\u001b[0;34m]\u001b[0m\u001b[0;34m=\u001b[0m\u001b[0;36m2\u001b[0m\u001b[0;34m\u001b[0m\u001b[0;34m\u001b[0m\u001b[0m\n\u001b[1;32m      8\u001b[0m                 \u001b[0;32mcontinue\u001b[0m\u001b[0;34m\u001b[0m\u001b[0;34m\u001b[0m\u001b[0m\n\u001b[0;32m----> 9\u001b[0;31m             \u001b[0mtok\u001b[0m \u001b[0;34m=\u001b[0m \u001b[0mLABEL_NUM\u001b[0m\u001b[0;34m.\u001b[0m\u001b[0mvocab\u001b[0m\u001b[0;34m.\u001b[0m\u001b[0mitos\u001b[0m\u001b[0;34m[\u001b[0m\u001b[0mtrg\u001b[0m\u001b[0;34m[\u001b[0m\u001b[0mj\u001b[0m\u001b[0;34m]\u001b[0m\u001b[0;34m[\u001b[0m\u001b[0mi\u001b[0m\u001b[0;34m]\u001b[0m\u001b[0;34m]\u001b[0m\u001b[0;34m\u001b[0m\u001b[0;34m\u001b[0m\u001b[0m\n\u001b[0m\u001b[1;32m     10\u001b[0m \u001b[0;34m\u001b[0m\u001b[0m\n\u001b[1;32m     11\u001b[0m             \u001b[0;32mif\u001b[0m \u001b[0mtok\u001b[0m\u001b[0;34m==\u001b[0m\u001b[0mnum_token\u001b[0m\u001b[0;34m:\u001b[0m\u001b[0;34m\u001b[0m\u001b[0;34m\u001b[0m\u001b[0m\n",
            "\u001b[0;31mKeyboardInterrupt\u001b[0m: "
          ]
        }
      ]
    },
    {
      "cell_type": "code",
      "metadata": {
        "id": "1Pq-hGgIBYmt",
        "colab_type": "code",
        "colab": {}
      },
      "source": [
        ""
      ],
      "execution_count": null,
      "outputs": []
    },
    {
      "cell_type": "code",
      "metadata": {
        "id": "w-m3CKCS_ot_",
        "colab_type": "code",
        "colab": {}
      },
      "source": [
        ""
      ],
      "execution_count": null,
      "outputs": []
    },
    {
      "cell_type": "markdown",
      "metadata": {
        "id": "x1aECf3OnU_n",
        "colab_type": "text"
      },
      "source": [
        "We load our \"best\" parameters and manage to achieve a better test perplexity than all previous models."
      ]
    },
    {
      "cell_type": "code",
      "metadata": {
        "id": "Q7mf9_SnnU_n",
        "colab_type": "code",
        "colab": {
          "base_uri": "https://localhost:8080/",
          "height": 35
        },
        "outputId": "988df9e2-405a-4c8a-e25e-9d861716f64c"
      },
      "source": [
        "\n",
        "# gnt_model = Seq2Seq(enc, dec, SRC_PAD_IDX, TRG_PAD_IDX, device).to(device)\n",
        "# num_model = Seq2Seq(enc, dec, SRC_PAD_IDX, TRG_PAD_IDX, device).to(device)\n",
        "model.load_state_dict(torch.load('/content/drive/My Drive/mimic/num_gnt_2_final.pt'))\n",
        "# valid_loss,valid_gnt_loss,valid_num_loss = evaluate(model, valid_iterator, criterion)\n",
        "\n",
        "# print(f'\\tValid Loss: {valid_loss:.3f} | Valid gnt Loss: {valid_gnt_loss:.3f} |Valid num Loss: {valid_num_loss:.3f} |')\n",
        "# gnt_model.load_state_dict(torch.load('/content/drive/My Drive/mimic/gnt.pt'))\n",
        "# num_model.load_state_dict(torch.load('/content/drive/My Drive/mimic/num.pt'))\n",
        "# test_loss = evaluate(model, test_iterator, criterion)\n",
        "\n",
        "# print(f'| Test Loss: {test_loss:.3f} | Test PPL: {math.exp(test_loss):7.3f} |')\n"
      ],
      "execution_count": 42,
      "outputs": [
        {
          "output_type": "execute_result",
          "data": {
            "text/plain": [
              "<All keys matched successfully>"
            ]
          },
          "metadata": {
            "tags": []
          },
          "execution_count": 42
        }
      ]
    },
    {
      "cell_type": "code",
      "metadata": {
        "id": "dThxQCfM5sui",
        "colab_type": "code",
        "colab": {}
      },
      "source": [
        ""
      ],
      "execution_count": null,
      "outputs": []
    },
    {
      "cell_type": "code",
      "metadata": {
        "id": "-lBP353N1pv1",
        "colab_type": "code",
        "colab": {
          "base_uri": "https://localhost:8080/",
          "height": 71
        },
        "outputId": "d4673c9e-8b23-4089-97b8-d56e84f6c89c"
      },
      "source": [
        "\n",
        "INPUT_DIM = len(TEXT.vocab)\n",
        "OUTPUT_DIM = len(LABEL.vocab)\n",
        "OUTPUT_TRG_DIM = len(LABEL_NUM.vocab)\n",
        "OUTPUT_DIM_NUM = len(num_vocab.stoi)\n",
        "HID_DIM = 256\n",
        "ENC_LAYERS = 3\n",
        "DEC_LAYERS = 3\n",
        "ENC_HEADS = 8\n",
        "DEC_HEADS = 8\n",
        "ENC_PF_DIM = 512\n",
        "DEC_PF_DIM = 512\n",
        "ENC_DROPOUT = 0.1\n",
        "DEC_DROPOUT = 0.1\n",
        "\n",
        "enc = Encoder(INPUT_DIM, \n",
        "              HID_DIM, \n",
        "              ENC_LAYERS, \n",
        "              ENC_HEADS, \n",
        "              ENC_PF_DIM, \n",
        "              ENC_DROPOUT, \n",
        "              device)\n",
        "\n",
        "dec = Decoder(OUTPUT_DIM, \n",
        "              HID_DIM, \n",
        "              DEC_LAYERS, \n",
        "              DEC_HEADS, \n",
        "              DEC_PF_DIM, \n",
        "              DEC_DROPOUT, \n",
        "              device,\n",
        "              output_num_dim = OUTPUT_DIM_NUM,\n",
        "              output_trg_dim = OUTPUT_TRG_DIM\n",
        "              )\n",
        "\n",
        "print(INPUT_DIM)\n",
        "print(OUTPUT_DIM)\n",
        "num_model = Seq2Seq(enc, dec, SRC_PAD_IDX, TRG_PAD_IDX, device).to(device)\n",
        "num_model.load_state_dict(torch.load('/content/drive/My Drive/mimic/num_2_4.pt'))\n",
        "# valid_loss,valid_gnt_loss,valid_num_loss = evaluate(num_model, valid_iterator, criterion)\n",
        "\n",
        "# print(f'\\tValid Loss: {valid_loss:.3f} | Valid gnt Loss: {valid_gnt_loss:.3f} |Valid num Loss: {valid_num_loss:.3f} |')\n",
        "# gnt_model.load_state_dict(torch.load('/content/drive/My Drive/mimic/gnt.pt'))\n",
        "# num_model.load_state_dict(torch.load('/content/drive/My Drive/mimic/num_gnt.pt'))\n",
        "# test_loss = evaluate(model, test_iterator, criterion)\n",
        "\n",
        "# print(f'| Test Loss: {test_loss:.3f} | Test PPL: {math.exp(test_loss):7.3f} |')"
      ],
      "execution_count": 43,
      "outputs": [
        {
          "output_type": "stream",
          "text": [
            "34495\n",
            "12822\n"
          ],
          "name": "stdout"
        },
        {
          "output_type": "execute_result",
          "data": {
            "text/plain": [
              "<All keys matched successfully>"
            ]
          },
          "metadata": {
            "tags": []
          },
          "execution_count": 43
        }
      ]
    },
    {
      "cell_type": "code",
      "metadata": {
        "id": "DyWuSqccgZEq",
        "colab_type": "code",
        "colab": {
          "base_uri": "https://localhost:8080/",
          "height": 107
        },
        "outputId": "e055834b-6b28-449a-e0ba-0f07a73a97c7"
      },
      "source": [
        "pip install rouge"
      ],
      "execution_count": null,
      "outputs": [
        {
          "output_type": "stream",
          "text": [
            "Collecting rouge\n",
            "  Downloading https://files.pythonhosted.org/packages/43/cc/e18e33be20971ff73a056ebdb023476b5a545e744e3fc22acd8c758f1e0d/rouge-1.0.0-py3-none-any.whl\n",
            "Requirement already satisfied: six in /usr/local/lib/python3.6/dist-packages (from rouge) (1.15.0)\n",
            "Installing collected packages: rouge\n",
            "Successfully installed rouge-1.0.0\n"
          ],
          "name": "stdout"
        }
      ]
    },
    {
      "cell_type": "markdown",
      "metadata": {
        "id": "ZqmXSCGYz50F",
        "colab_type": "text"
      },
      "source": [
        "## Compute ROUGE score."
      ]
    },
    {
      "cell_type": "code",
      "metadata": {
        "id": "ZY69S_1T6a0S",
        "colab_type": "code",
        "colab": {
          "base_uri": "https://localhost:8080/",
          "height": 87
        },
        "outputId": "ee679c9e-fbeb-46db-ad68-29f39722e8b8"
      },
      "source": [
        "from rouge import Rouge\n",
        "import numpy as np\n",
        "\n",
        "rouge1_scores = []\n",
        "rouge2_scores = []\n",
        "rougel_scores = []\n",
        "rouge = Rouge()\n",
        "for example_idx in range(len(valid_data.examples)):\n",
        "    src = vars(valid_data.examples[example_idx])['INPUT_TEXT']\n",
        "    trg = vars(valid_data.examples[example_idx])['LABEL']\n",
        "    translation, attention,_ = translate_sentence_1(src, TEXT, LABEL,LABEL_NUM, model,num_model, device)\n",
        "    reference = ' '.join(trg)\n",
        "    prediction = ' '.join(translation)\n",
        "    try:\n",
        "        scores = rouge.get_scores(prediction, reference)\n",
        "        rouge1_scores.append(scores[0]['rouge-1']['f'])\n",
        "        rouge2_scores.append(scores[0]['rouge-2']['f'])\n",
        "        rougel_scores.append(scores[0]['rouge-l']['f'])\n",
        "    except:\n",
        "        continue\n",
        "print('ROUGE-1 score:{},std: {}'.format(np.mean(np.array(rouge1_scores)),np.std(np.array(rouge1_scores))))\n",
        "print('ROUGE-2 score:{},std: {}'.format(np.mean(np.array(rouge2_scores)),np.std(np.array(rouge2_scores))))\n",
        "print('ROUGE-l score:{},std: {}'.format(np.mean(np.array(rougel_scores)),np.std(np.array(rougel_scores))))\n",
        "print(len(rouge1_scores))"
      ],
      "execution_count": null,
      "outputs": [
        {
          "output_type": "stream",
          "text": [
            "ROUGE-1 score:0.47605222937050745,std: 0.19535389939665299\n",
            "ROUGE-2 score:0.3384010588466669,std: 0.18642886855899266\n",
            "ROUGE-l score:0.43685783564678315,std: 0.18643552416477097\n",
            "4024\n"
          ],
          "name": "stdout"
        }
      ]
    },
    {
      "cell_type": "code",
      "metadata": {
        "id": "MXHHyaxkVxx0",
        "colab_type": "code",
        "colab": {
          "base_uri": "https://localhost:8080/",
          "height": 34
        },
        "outputId": "706c4b72-b4db-4285-a7c6-dd5d1f0f610a"
      },
      "source": [
        "print(len(valid_data.examples))"
      ],
      "execution_count": null,
      "outputs": [
        {
          "output_type": "stream",
          "text": [
            "4031\n"
          ],
          "name": "stdout"
        }
      ]
    },
    {
      "cell_type": "markdown",
      "metadata": {
        "id": "6STyLzpHnU_r",
        "colab_type": "text"
      },
      "source": [
        "## Inference\n"
      ]
    },
    {
      "cell_type": "code",
      "metadata": {
        "id": "hhpIXdzonU_r",
        "colab_type": "code",
        "colab": {}
      },
      "source": [
        "def translate_sentence_1(sentence, src_field,trg_field ,trg_num_field, gnt_model,num_model, device, max_len = 2000):\n",
        "    \n",
        "    #model.eval()\n",
        "    gnt_model.eval()\n",
        "    num_model.eval()  \n",
        "    if isinstance(sentence, str):\n",
        "        nlp = spacy.load('de')\n",
        "        tokens = [token.text.lower() for token in nlp(sentence)]\n",
        "    else:\n",
        "        tokens = [token.lower() for token in sentence]\n",
        "\n",
        "    tokens = [src_field.init_token] + tokens + [src_field.eos_token]\n",
        "        \n",
        "    src_indexes = [src_field.vocab.stoi[token] for token in tokens]\n",
        "\n",
        "    src_tensor = torch.LongTensor(src_indexes).unsqueeze(0).to(device)\n",
        "    \n",
        "    src_mask = gnt_model.make_src_mask(src_tensor)\n",
        "    src_mask_num = num_model.make_src_mask(src_tensor)\n",
        "    \n",
        "    with torch.no_grad():\n",
        "        enc_src = gnt_model.encoder(src_tensor, src_mask)\n",
        "        enc_src_num = num_model.encoder(src_tensor, src_mask_num)\n",
        "\n",
        "    trg_indexes = [trg_field.vocab.stoi[trg_field.init_token]]\n",
        "    trg_with_num_idx = [trg_num_field.vocab.stoi[trg_num_field.init_token]]\n",
        "\n",
        "    for i in range(max_len):\n",
        "\n",
        "        trg_tensor = torch.LongTensor(trg_indexes).unsqueeze(0).to(device)\n",
        "\n",
        "        trg_mask = gnt_model.make_trg_mask(trg_tensor)\n",
        "        trg_mask_num = num_model.make_trg_mask(trg_tensor)\n",
        "        \n",
        "        with torch.no_grad():\n",
        "            output, attention, _ = gnt_model.decoder(trg_tensor, enc_src, trg_mask, src_mask)\n",
        "            _, attention,output_num = num_model.decoder(trg_tensor, enc_src_num, trg_mask_num, src_mask_num)\n",
        "        \n",
        "        pred_token_with_num = output.argmax(2)[:,-1].item()\n",
        "        trg_with_num_idx.append(pred_token_with_num)\n",
        "        pred_num = output_num.argmax(2)[:,-1].item()\n",
        "        if pred_token_with_num ==trg_num_field.vocab.stoi[num_token]:\n",
        "            pred_token = trg_field.vocab.stoi[num_vocab.itos[pred_num]]\n",
        "            trg_indexes.append(pred_token)\n",
        "        else:\n",
        "\n",
        "            pred_token = trg_field.vocab.stoi[trg_num_field.vocab.itos[pred_token_with_num]]        \n",
        "            trg_indexes.append(pred_token)\n",
        "\n",
        "        if pred_token == trg_field.vocab.stoi[trg_field.eos_token]:\n",
        "            break\n",
        "    \n",
        "    trg_tokens = [trg_field.vocab.itos[i] for i in trg_indexes]\n",
        "    trg_num_tokens = [trg_num_field.vocab.itos[i] for i in trg_with_num_idx]\n",
        "    return trg_tokens[1:], attention,trg_num_tokens[1:]"
      ],
      "execution_count": null,
      "outputs": []
    },
    {
      "cell_type": "code",
      "metadata": {
        "id": "8xS-_Ga0sCWO",
        "colab_type": "code",
        "colab": {
          "base_uri": "https://localhost:8080/",
          "height": 161
        },
        "outputId": "1d10e54c-1c2f-40c2-ec2e-8da027b75c63"
      },
      "source": [
        "r1 = np.load('/content/drive/My Drive/mimic/test_1.npy')\n",
        "r2 = np.load('/content/drive/My Drive/mimic/test_2.npy')\n",
        "rl = np.load('/content/drive/My Drive/mimic/test_l.npy')\n",
        "print(r1[len(r1)-500:len(r1)-480,1])\n",
        "print('---------')\n",
        "print(r1[len(r1)-500:len(r1)-480,1])\n",
        "print('---------')\n",
        "print(r1[len(r1)-500:len(r1)-480,1])"
      ],
      "execution_count": null,
      "outputs": [
        {
          "output_type": "stream",
          "text": [
            "[3127. 3011. 3122.  767. 1846. 3389. 2445. 3400. 2029. 2895. 3074.  123.\n",
            " 2198. 1513. 1086. 1878. 2950. 2796.  627. 1899.]\n",
            "---------\n",
            "[3127. 3011. 3122.  767. 1846. 3389. 2445. 3400. 2029. 2895. 3074.  123.\n",
            " 2198. 1513. 1086. 1878. 2950. 2796.  627. 1899.]\n",
            "---------\n",
            "[3127. 3011. 3122.  767. 1846. 3389. 2445. 3400. 2029. 2895. 3074.  123.\n",
            " 2198. 1513. 1086. 1878. 2950. 2796.  627. 1899.]\n"
          ],
          "name": "stdout"
        }
      ]
    },
    {
      "cell_type": "markdown",
      "metadata": {
        "id": "UAuYj2ognVAK",
        "colab_type": "text"
      },
      "source": [
        "we'll look at an example from the test data."
      ]
    },
    {
      "cell_type": "code",
      "metadata": {
        "id": "a-CQJwzwnVAM",
        "colab_type": "code",
        "colab": {
          "base_uri": "https://localhost:8080/",
          "height": 91
        },
        "outputId": "b5f3dd9f-5ab7-484b-ead6-99749dc4bb56"
      },
      "source": [
        "example_idx = 75\n",
        "src = vars(test_data.examples[example_idx])['INPUT_TEXT']\n",
        "trg = vars(test_data.examples[example_idx])['LABEL']\n",
        "print(len(test_data.examples))\n",
        "print(f'src = {src}')\n",
        "print(f'trg = {trg}')"
      ],
      "execution_count": null,
      "outputs": [
        {
          "output_type": "stream",
          "text": [
            "3584\n",
            "src = [' ', 'while', 'on', 'floor', ',', 'pt', 'experienced', 'hypercarbic', 'respiratory', 'failure', 'of', 'unknown', 'etiology', ',', 'was', 'intubated', 'and', 'transferred', 'to', 'the', 'hospital', 'icu', 'on', '2152', '6', '24', '.', 'hospital', 'hospital', 'course', ':', 'respiratory', 'failure', ':', 'initially', 'thought', 'num', 'to', 'flash', 'pulmonary', 'edema', 'of', 'etiology', 'no', 'hx', 'of', 'chf', 'and', 'pt', 'was', 'treated', 'initially', 'for', 'chf', 'with', 'diuresis', 'with', 'ethacrynic', 'acid', 'distant', 'hx', 'of', 'sulfa', 'allergy', 'therefore', 'intially', 'lasix', 'was', 'not', 'used', ',', 'also', 'treated', 'for', 'copd', 'with', 'steroids', '.', 'immediate', 'complications', 'included', 'excessive', 'bloody', 'secretions', ',', 'thought', 'likely', 'num', 'traumatic', 'intubation', ',', 'which', 'was', 'managed', 'with', 'holding', 'anticoagulation', 'and', 'frequent', 'suctioning', '.', 'during', 'this', 'time', 'cxr', 'was', 'showing', 'improvement', 'and', 'differential', 'diagnosis', 'included', 'flash', 'pulmonary', 'edema', 'num', 'norpace', 'for', 'afib', 'therefore', 'norpace', 'd', 'ced', 'or', 'mr', 'echo', 'had', 'demonstrated', '1', '+', 'mr', 'attempted', 'treatment', 'of', 'pulmonary', 'edema', 'included', 'diuresis', 'without', 'improvement', 'chemical', 'pneumonitis', '2', '2', 'blood', 'from', 'traumatic', 'intubation', ',', 'although', 'did', 'not', 'clear', 'with', 'time', 'viral', 'pneumonia', 'pulmonary', 'renal', 'process', 'thought', 'of', 'as', 'a', 'possibility', 'num', 'bloody', 'secretions', 'although', 'more', 'likely', 'contributed', 'bloody', 'secretions', 'to', 'traumatic', 'intubation', 'r', 'o', 'w', 'negative', 'anca', ',', 'negative', 'u', 'a', 'for', 'blood', '.', 'pulmonary', 'embolism', 'was', 'ruled', 'out', 'on', 'num', 'with', 'negative', 'cta', '.', 'respiratory', 'status', 'complicated', 'by', 'worseing', 'lung', 'exam', 'cxr', 'oxygenation', 'fever', 'spike', 'on', 'num', 'with', 'sputum', 'cultures', 'sent', 'that', 'grew', 'mrsa', 'therefore', 'patient', 'experience', 'vap', '+', 'mrsa', '.', 'was', 'treated', 'with', '14', 'day', 'course', 'of', 'vancomycin', '.', 'subsequent', 'sputum', 'culture', 'num', 'was', '+', 'for', 'pseudomonas', 'and', 'patient', 'was', 'treated', 'w', 'genatmicin', 'x', '2', 'days', ',', 'switched', 'to', 'merapenem', 'after', 'sensitivities', 'returned', '.', 'further', 'complication', 'of', 'patients', 'respiratory', 'status', 'was', 'fluid', 'overload', ',', 'as', 'patient', 'remained', '10l', 'positive', 'throughout', 'length', 'of', 'stay', '.', 'fluid', 'removal', 'with', 'diuresis', 'ethacrynic', 'acid', 'and', 'later', 'lasix', 'was', 'not', 'effective', 'due', 'to', 'patient', \"'s\", 'developed', 'arf', 'during', 'hospital', 'stay', '.', 'cvvh', 'was', 'started', 'with', 'gentle', 'fluid', 'removal', 'as', 'patient', \"'s\", 'blood', 'pressure', 'tolerated', 'as', 'patient', 'was', 'on', 'levophed', 'pressors', 'for', 'bp', 'support', '.', 'attempts', 'made', 'at', 'vent', 'weaning', 'were', 'met', 'with', 'decrease', 'pao2', 'or', 'respiratory', 'acidosis', 'on', 'abg', 'therefore', ',', 'patient', 'was', 'maintained', 'with', 'as', 'low', 'fio2', 'and', 'peep', 'as', 'abg', 'would', 'tolerate', '.', 'patient', \"'s\", 'breathing', 'became', 'completely', 'ventilator', 'dependent', ',', 'and', 'decision', 'was', 'made', 'by', 'family', 'to', 'not', 'withdraw', 'care', 'but', 'to', 'keep', 'patient', 'comfortable', '.', 'id', ':', 'as', 'mentioned', 'above', ',', 'patient', 'suffered', 'from', 'vap', '+', 'mrsa', 'from', 'sputum', 'cx', 'num', 'and', 'treated', 'with', '14', 'day', 'course', 'of', 'vancomycin', '.', 'also', 'with', 'subsequent', 'sputum', 'cx', 'num', '+', 'pseudomonas', 'and', 'treated', 'with', 'gentamicin', 'merapenem', '.', 'other', 'infections', 'include', 'repeatedly', '+', 'urine', 'cx', 'for', 'yeast', '=', '[', '*', '*', 'female', 'first', 'name', 'un', '*', '*', ']', 'albicans', ',', 'treated', 'with', '7', 'day', 'course', 'fluconizole', '.', 'also', 'c.', 'diff+', 'num', 'and', 'treated', 'with', 'flagyl', '.', 'blood', 'cxs', 'remained', 'negative', 'throughout', 'hospital', 'course', '.', 'maintnance', 'lfts', 'sent', 'in', 'icu', 'to', 'r', 'o', 'obstruction', 'and', 'were', 'negative', '.', 'sacral', 'decub', 'ulcer', 'was', 'checked', 'daily', 'without', 'signs', 'of', 'infection', '.', 'patient', 'defervesced', 'and', 'antibiotics', 'were', 'withdrawn', 'when', 'course', 'was', 'completed', '.', 'once', 'patient', 'became', 'completely', 'ventilator', 'dependent', 'and', 'it', 'was', 'realized', 'that', 'all', 'medical', 'efforts', 'would', 'be', 'futile', ',', 'no', 'further', 'antibiotics', 'were', 'administered', ',', 'and', 'patient', 'was', 'kept', 'comfortable', 'on', 'ventilator', 'per', 'wish', 'of', 'family', '.', 'hypotension', ':', 'pt', 'with', 'hypotension', 'on', 'initial', 'presentation', 'to', 'icu', ',', 'initially', 'responsive', 'to', 'fluid', 'boluses', '.', 'with', 'fever', 'spike', 'septic', 'picture', 'on', 'num', 'hypotension', 'returned', 'requiring', 'pressor', 'support', '.', 'initially', 'started', 'on', 'dopamine', 'as', 'patient', 'was', 'bradycardic', ',', 'but', 'then', 'became', 'tachycardic', 'w', 'afib', 'flutter', 'therefore', 'pressor', 'was', 'changed', 'to', 'levophed', 'with', 'good', 'hr', 'control', '.', 'wean', 'was', 'attempted', ',', 'but', 'was', 'not', 'successful', ',', 'especially', 'after', 'starting', 'cvvh', 'with', 'fluid', 'removal', ',', 'and', 'patient', 'remained', 'on', 'levophed', 'pressor', 'for', 'bp', 'support', '.', 'due', 'to', 'hypotension', ',', 'patient', 'received', 'significant', 'amount', 'of', 'fluids', '.', 'pressors', 'were', 'discontinued', 'along', 'with', 'all', 'non', 'essential', 'medications', 'once', 'family', 'decision', 'was', 'made', 'to', 'keep', 'patient', 'comfortable', 'but', 'not', 'withdraw', 'mechanical', 'ventilation', '.', 'aflutter', ':', 'pt', 'with', 'history', 'of', 'aflutter', 's', 'p', 'ablation', 'returned', 'to', 'aflutter', 'on', 'floor', 'w', 'hr', 'into', '90', \"'s\", '.', 'initially', 'placed', 'on', 'procainimide', 'gtt', 'then', 'to', 'standing', 'dose', 'procainimide', 'however', ',', 'pt', 'experienced', 'hypotension', ',', 'and', 'among', 'other', 'interventions', ',', 'procainimide', 'd', 'ced', 'and', 'amiodarone', 'started', '.', 'during', 'this', 'time', ',', 'pt', 'became', 'bradycardic', 'and', 'was', 'becoming', 'septic', 'therefore', ',', 'all', 'anti', 'arrythmics', 'were', 'held', 'throughout', 'rest', 'of', 'hospital', 'course', ',', 'and', 'pt', 'remained', 'in', 'afib', 'flutter', ',', 'but', 'with', 'good', 'hr', 'control', '80', \"'s\", '100', '.', 'acute', 'renal', 'failure', ':', 'pt', 'developed', 'acute', 'renal', 'failure', ',', 'likely', 'num', 'contrast', 'induced', 'atn', 'after', 'cta', 'abd', 'ct', 'on', 'num', '.', 'creatinine', 'increased', 'max=2.4', 'and', 'she', 'became', 'oliguric', '.', 'cvvh', 'was', 'eventually', 'started', 'num', 'fluid', 'overload', 'and', 'unresponsiveness', 'to', 'lasix', ',', 'and', 'levophed', 'was', 'titrated', 'up', 'to', 'allow', 'more', 'fluid', 'removal', 'from', 'cvvh', '.', 'creatinine']\n",
            "trg = ['patient', 'expired', '.']\n"
          ],
          "name": "stdout"
        }
      ]
    },
    {
      "cell_type": "code",
      "metadata": {
        "id": "b0GqkNL5nVAP",
        "colab_type": "code",
        "colab": {
          "base_uri": "https://localhost:8080/",
          "height": 145
        },
        "outputId": "94fab4b2-d783-4494-9a26-b6168e2494ab"
      },
      "source": [
        "print('Source Input:')\n",
        "for tok in src:\n",
        "    print(tok,end=' ')\n",
        "print()\n",
        "print('Reference:')\n",
        "\n",
        "for tok in trg:\n",
        "    print(tok,end = ' ')\n",
        "translation, attention,_ = translate_sentence_1(src, TEXT, LABEL,LABEL_NUM,model,num_model,device)\n",
        "\n",
        "print()\n",
        "print('prediction:')\n",
        "for idx,tok in enumerate(translation):\n",
        "    print(tok,end = ' ')"
      ],
      "execution_count": null,
      "outputs": [
        {
          "output_type": "stream",
          "text": [
            "Source Input:\n",
            "  while on floor , pt experienced hypercarbic respiratory failure of unknown etiology , was intubated and transferred to the hospital icu on 2152 6 24 . hospital hospital course : respiratory failure : initially thought num to flash pulmonary edema of etiology no hx of chf and pt was treated initially for chf with diuresis with ethacrynic acid distant hx of sulfa allergy therefore intially lasix was not used , also treated for copd with steroids . immediate complications included excessive bloody secretions , thought likely num traumatic intubation , which was managed with holding anticoagulation and frequent suctioning . during this time cxr was showing improvement and differential diagnosis included flash pulmonary edema num norpace for afib therefore norpace d ced or mr echo had demonstrated 1 + mr attempted treatment of pulmonary edema included diuresis without improvement chemical pneumonitis 2 2 blood from traumatic intubation , although did not clear with time viral pneumonia pulmonary renal process thought of as a possibility num bloody secretions although more likely contributed bloody secretions to traumatic intubation r o w negative anca , negative u a for blood . pulmonary embolism was ruled out on num with negative cta . respiratory status complicated by worseing lung exam cxr oxygenation fever spike on num with sputum cultures sent that grew mrsa therefore patient experience vap + mrsa . was treated with 14 day course of vancomycin . subsequent sputum culture num was + for pseudomonas and patient was treated w genatmicin x 2 days , switched to merapenem after sensitivities returned . further complication of patients respiratory status was fluid overload , as patient remained 10l positive throughout length of stay . fluid removal with diuresis ethacrynic acid and later lasix was not effective due to patient 's developed arf during hospital stay . cvvh was started with gentle fluid removal as patient 's blood pressure tolerated as patient was on levophed pressors for bp support . attempts made at vent weaning were met with decrease pao2 or respiratory acidosis on abg therefore , patient was maintained with as low fio2 and peep as abg would tolerate . patient 's breathing became completely ventilator dependent , and decision was made by family to not withdraw care but to keep patient comfortable . id : as mentioned above , patient suffered from vap + mrsa from sputum cx num and treated with 14 day course of vancomycin . also with subsequent sputum cx num + pseudomonas and treated with gentamicin merapenem . other infections include repeatedly + urine cx for yeast = [ * * female first name un * * ] albicans , treated with 7 day course fluconizole . also c. diff+ num and treated with flagyl . blood cxs remained negative throughout hospital course . maintnance lfts sent in icu to r o obstruction and were negative . sacral decub ulcer was checked daily without signs of infection . patient defervesced and antibiotics were withdrawn when course was completed . once patient became completely ventilator dependent and it was realized that all medical efforts would be futile , no further antibiotics were administered , and patient was kept comfortable on ventilator per wish of family . hypotension : pt with hypotension on initial presentation to icu , initially responsive to fluid boluses . with fever spike septic picture on num hypotension returned requiring pressor support . initially started on dopamine as patient was bradycardic , but then became tachycardic w afib flutter therefore pressor was changed to levophed with good hr control . wean was attempted , but was not successful , especially after starting cvvh with fluid removal , and patient remained on levophed pressor for bp support . due to hypotension , patient received significant amount of fluids . pressors were discontinued along with all non essential medications once family decision was made to keep patient comfortable but not withdraw mechanical ventilation . aflutter : pt with history of aflutter s p ablation returned to aflutter on floor w hr into 90 's . initially placed on procainimide gtt then to standing dose procainimide however , pt experienced hypotension , and among other interventions , procainimide d ced and amiodarone started . during this time , pt became bradycardic and was becoming septic therefore , all anti arrythmics were held throughout rest of hospital course , and pt remained in afib flutter , but with good hr control 80 's 100 . acute renal failure : pt developed acute renal failure , likely num contrast induced atn after cta abd ct on num . creatinine increased max=2.4 and she became oliguric . cvvh was eventually started num fluid overload and unresponsiveness to lasix , and levophed was titrated up to allow more fluid removal from cvvh . creatinine \n",
            "Reference:\n",
            "patient expired . \n",
            "prediction:\n",
            "  acetaminophen 325 mg tablet sig : 1 2 tablets po q4 6h every4 to 6 hours as needed . disp : 30 tablet s refills : 0 docusate sodium 100 mg capsule sig : one 1 capsule po bid 2times a day .disp : 60 capsule s refills : 2 senna 8.6 mg tablet sig : one 1 tablet po bid 2 times aday as needed . disp : 30 tablet s refills : 0 bisacodyl 5 mg tablet , delayed release e.c. sig : two 2 tablet , delayed release e.c. po daily daily as needed . disp : 30 tablet , delayed release e.c. s refills : 0 morphine 15 mg tablet sustained release sig : one 1 tabletsustained release po q12h every 12 hours .disp : 60 tablet sustained release s refills : 0 morphine 15 mg tablet sig : one 1 tablet po q4 6h every 4to 6 hours as needed for pain . disp : 30 tablet s refills : 0 morphine 15 mg tablet sig : one 1 tablet po q4 6h every 4to 6 hours as needed for pain . disp : 30 tablet s refills : 0 morphine 10 mg 5 ml solution sig : 2.5 5 mg po q4 6h every 4to 6 hours as needed for pain . disp : 30 ml refills : 0 <eos> "
          ],
          "name": "stdout"
        }
      ]
    },
    {
      "cell_type": "markdown",
      "metadata": {
        "id": "4PNzBR-n0mSH",
        "colab_type": "text"
      },
      "source": [
        "Compute ROUGE score on test set."
      ]
    },
    {
      "cell_type": "code",
      "metadata": {
        "id": "-jOgyIaajBsC",
        "colab_type": "code",
        "colab": {
          "base_uri": "https://localhost:8080/",
          "height": 87
        },
        "outputId": "b01eff71-86de-46b5-927d-8a252f683706"
      },
      "source": [
        "from rouge import Rouge\n",
        "import numpy as np\n",
        "\n",
        "rouge1_scores = []\n",
        "rouge2_scores = []\n",
        "rougel_scores = []\n",
        "rouge = Rouge()\n",
        "for example_idx in range(len(test_data.examples)):\n",
        "    src = vars(test_data.examples[example_idx])['INPUT_TEXT']\n",
        "    trg = vars(test_data.examples[example_idx])['LABEL']\n",
        "    translation, attention,_ = translate_sentence_1(src, TEXT, LABEL,LABEL_NUM, model,num_model, device)\n",
        "    reference = ' '.join(trg)\n",
        "    prediction = ' '.join(translation)\n",
        "    try:\n",
        "        scores = rouge.get_scores(prediction, reference)\n",
        "        rouge1_scores.append([scores[0]['rouge-1']['f'],example_idx])\n",
        "        rouge2_scores.append([scores[0]['rouge-2']['f'],example_idx])\n",
        "        rougel_scores.append([scores[0]['rouge-l']['f'],example_idx])\n",
        "\n",
        "    except:\n",
        "        continue\n",
        "def takeScore(elem):\n",
        "    return elem[0]\n",
        "rouge1_scores.sort(key = takeScore,reverse = True)\n",
        "rouge2_scores.sort(key = takeScore,reverse = True)\n",
        "rougel_scores.sort(key = takeScore,reverse = True)\n",
        "import numpy as np\n",
        "r1=np.array(rouge1_scores)\n",
        "r2=np.array(rouge2_scores)\n",
        "rl=np.array(rougel_scores)\n",
        "np.save('/content/drive/My Drive/mimic/test_1.npy',r1)\n",
        "np.save('/content/drive/My Drive/mimic/test_2.npy',r2)\n",
        "np.save('/content/drive/My Drive/mimic/test_l.npy',rl)\n",
        "print('ROUGE-1 score:{},std: {}'.format(np.mean(np.array(rouge1_scores)[:,0]),np.std(np.array(rouge1_scores)[:,0])))\n",
        "print('ROUGE-2 score:{},std: {}'.format(np.mean(np.array(rouge2_scores)[:,0]),np.std(np.array(rouge2_scores)[:,0])))\n",
        "print('ROUGE-l score:{},std: {}'.format(np.mean(np.array(rougel_scores)[:,0]),np.std(np.array(rougel_scores)[:,0])))\n",
        "print(len(rouge1_scores))"
      ],
      "execution_count": null,
      "outputs": [
        {
          "output_type": "stream",
          "text": [
            "ROUGE-1 score:0.47769395035916595,std: 0.19430641315010885\n",
            "ROUGE-2 score:0.34085091340056123,std: 0.1866000359970715\n",
            "ROUGE-l score:0.4401642471439167,std: 0.18623725996670082\n",
            "3578\n"
          ],
          "name": "stdout"
        }
      ]
    },
    {
      "cell_type": "code",
      "metadata": {
        "id": "bhwitKBZRQAs",
        "colab_type": "code",
        "colab": {
          "base_uri": "https://localhost:8080/",
          "height": 179
        },
        "outputId": "c7def8af-698f-433b-e20f-94b5c614c170"
      },
      "source": [
        "pip install word2number"
      ],
      "execution_count": null,
      "outputs": [
        {
          "output_type": "stream",
          "text": [
            "Collecting word2number\n",
            "  Downloading https://files.pythonhosted.org/packages/4a/29/a31940c848521f0725f0df6b25dca8917f13a2025b0e8fcbe5d0457e45e6/word2number-1.1.zip\n",
            "Building wheels for collected packages: word2number\n",
            "  Building wheel for word2number (setup.py) ... \u001b[?25l\u001b[?25hdone\n",
            "  Created wheel for word2number: filename=word2number-1.1-cp36-none-any.whl size=5587 sha256=23c3a2cfcddcdd77c06d8d5733e6cd49d5e7000bd848b98633a8071c8ce490bf\n",
            "  Stored in directory: /root/.cache/pip/wheels/46/2f/53/5f5c1d275492f2fce1cdab9a9bb12d49286dead829a4078e0e\n",
            "Successfully built word2number\n",
            "Installing collected packages: word2number\n",
            "Successfully installed word2number-1.1\n"
          ],
          "name": "stdout"
        }
      ]
    },
    {
      "cell_type": "code",
      "metadata": {
        "id": "4bB70rUJUqJa",
        "colab_type": "code",
        "colab": {}
      },
      "source": [
        "def tokenize_split(text):\n",
        "    return text.split(' ')\n",
        "def number_recall(pre,ref,n=4,threshold=0.7):\n",
        "    prediction = pre\n",
        "    reference = ref\n",
        "    pre_num = []\n",
        "    ref_num = []\n",
        "    pre_toks = tokenize_split(prediction)\n",
        "    ref_toks = tokenize_split(reference)\n",
        "    pre_nums_count = 0\n",
        "    ref_nums_count = 0\n",
        "    # extract numbers in prediction\n",
        "    for idx,tok in enumerate(pre_toks):\n",
        "        numbers = re.findall(r'\\d+[\\,\\d+]{1,}|\\d+\\.?\\d+|\\d+',tok)\n",
        "        if(len(numbers)!=0):\n",
        "            pre_nums_count += 1\n",
        "            pre_num.append((numbers[0],idx))\n",
        "        \n",
        "    # extract numbers in reference\n",
        "    for idx,tok in enumerate(ref_toks):\n",
        "        numbers = re.findall(r'\\d+[\\,\\d+]{1,}|\\d+\\.?\\d+|\\d+',tok)\n",
        "        if(len(numbers)!=0):\n",
        "            ref_nums_count += 1\n",
        "            ref_num.append((numbers[0],idx))      \n",
        "#     print('numbers in reference:{}'.format(ref_num))\n",
        "#     print('')\n",
        "#     print('numbers in prediction:{}'.format(pre_num))\n",
        "    rec_num_count = 0\n",
        "    rec_nums = []\n",
        "    for r_num,r_idx in (ref_num):\n",
        "        for p_num,p_idx in pre_num:\n",
        "            if r_num == p_num:\n",
        "                ref_info = []\n",
        "                pre_info = []\n",
        "                ref_info.append(ref_toks[r_idx])\n",
        "                pre_info.append(pre_toks[p_idx])\n",
        "                #提取两边的token\n",
        "                n_gram = 1\n",
        "                while n_gram<n+1 and r_idx-n_gram>=0 and p_idx-n_gram>=0:\n",
        "                    ref_info.insert(0,ref_toks[r_idx-n_gram])\n",
        "                    pre_info.insert(0,pre_toks[p_idx-n_gram])\n",
        "                    n_gram += 1\n",
        "                n_gram = 1\n",
        "                while n_gram<n+1 and r_idx+n_gram<len(ref_toks) and p_idx+n_gram<len(pre_toks):\n",
        "                    ref_info.append(ref_toks[r_idx+n_gram])\n",
        "                    pre_info.append(pre_toks[p_idx+n_gram])\n",
        "                    n_gram += 1\n",
        "                if len(ref_info)==0 or len(pre_info)==0:\n",
        "                    continue\n",
        "                # tokens -> sentence\n",
        "                rs = ' '.join(ref_info)\n",
        "                ps = ' '.join(pre_info)\n",
        "                # compute rouge scores and use f1 measure \n",
        "                rouge = Rouge()\n",
        "                scores = rouge.get_scores(ps, rs)\n",
        "                rg_f = 0\n",
        "                for keys in scores[0]:\n",
        "                    rg_f += scores[0][keys]['f']\n",
        "                if rg_f/3>threshold:\n",
        "                    rec_num_count += 1\n",
        "                    rec_nums.append(r_num)\n",
        "                    \n",
        "                    break\n",
        "    if ref_nums_count==0:\n",
        "        rec_rate = False\n",
        "    else:\n",
        "        rec_rate = rec_num_count/ref_nums_count\n",
        "    if pre_nums_count==0:\n",
        "        pre_rate = False\n",
        "    else:\n",
        "        pre_rate = rec_num_count/pre_nums_count\n",
        "    return rec_rate,pre_rate"
      ],
      "execution_count": null,
      "outputs": []
    },
    {
      "cell_type": "markdown",
      "metadata": {
        "id": "e3kpVS6o0Vko",
        "colab_type": "text"
      },
      "source": [
        "Compute Number Recall and Precision. "
      ]
    },
    {
      "cell_type": "code",
      "metadata": {
        "id": "94ATfQndU14e",
        "colab_type": "code",
        "colab": {
          "base_uri": "https://localhost:8080/",
          "height": 87
        },
        "outputId": "efeab1e6-7694-4e73-9b7a-d7b990c8be71"
      },
      "source": [
        "from rouge import Rouge\n",
        "import numpy as np\n",
        "num_rec_scores = []\n",
        "num_pre_scores = []\n",
        "rouge = Rouge()\n",
        "for example_idx in range(len(valid_data.examples)):\n",
        "    src = vars(valid_data.examples[example_idx])['INPUT_TEXT']\n",
        "    trg = vars(valid_data.examples[example_idx])['LABEL']\n",
        "    translation, attention,_ = translate_sentence_1(src, TEXT, LABEL,LABEL_NUM, model,num_model, device)\n",
        "    reference = ' '.join(trg)\n",
        "    prediction = ' '.join(translation)\n",
        "    # try:\n",
        "    #     scores = number_recall(prediction,reference)\n",
        "    #     if scores is False:\n",
        "    #         continue\n",
        "    #     num_rec_scores.append(scores)\n",
        "    # except:\n",
        "    #     continue\n",
        "    scores,pre= number_recall(prediction,reference)\n",
        "    if scores is False:\n",
        "        a=1\n",
        "    else:\n",
        "        num_rec_scores.append(scores)\n",
        "    if pre is False:\n",
        "        a=1\n",
        "    else:\n",
        "        num_pre_scores.append(pre)\n",
        "print('Number recall score:{}'.format(np.mean(np.array(num_rec_scores))))\n",
        "print('Number recall score std:{}'.format(np.std(np.array(num_rec_scores))))\n",
        "print('Number precision score:{}'.format(np.mean(np.array(num_pre_scores))))\n",
        "print('Number precision score std:{}'.format(np.std(np.array(num_pre_scores))))\n"
      ],
      "execution_count": null,
      "outputs": [
        {
          "output_type": "stream",
          "text": [
            "Number recall score:0.2629863864089783\n",
            "Number recall score std:0.17073862720766306\n",
            "Number precision score:0.35868997556304116\n",
            "Number precision score std:0.26276657434831885\n"
          ],
          "name": "stdout"
        }
      ]
    },
    {
      "cell_type": "code",
      "metadata": {
        "id": "pTA9BvAPQ6TR",
        "colab_type": "code",
        "colab": {
          "base_uri": "https://localhost:8080/",
          "height": 89
        },
        "outputId": "19cdefd8-639c-47ef-9178-ef3b639b50c3"
      },
      "source": [
        "from rouge import Rouge\n",
        "import numpy as np\n",
        "num_rec_scores = []\n",
        "num_pre_scores = []\n",
        "rouge = Rouge()\n",
        "for example_idx in range(len(test_data.examples)):\n",
        "    src = vars(test_data.examples[example_idx])['INPUT_TEXT']\n",
        "    trg = vars(test_data.examples[example_idx])['LABEL']\n",
        "    translation, attention,_ = translate_sentence_1(src, TEXT, LABEL,LABEL_NUM, model,num_model, device)\n",
        "    reference = ' '.join(trg)\n",
        "    prediction = ' '.join(translation)\n",
        "    # try:\n",
        "    #     scores = number_recall(prediction,reference)\n",
        "    #     if scores is False:\n",
        "    #         continue\n",
        "    #     num_rec_scores.append(scores)\n",
        "    # except:\n",
        "    #     continue\n",
        "    scores,pre= number_recall(prediction,reference)\n",
        "    if scores is False:\n",
        "        a=1\n",
        "    else:\n",
        "        num_rec_scores.append(scores)\n",
        "    if pre is False:\n",
        "        a=1\n",
        "    else:\n",
        "        num_pre_scores.append(pre)\n",
        "print('Number recall score:{}'.format(np.mean(np.array(num_rec_scores))))\n",
        "print('Number recall score std:{}'.format(np.std(np.array(num_rec_scores))))\n",
        "print('Number precision score:{}'.format(np.mean(np.array(num_pre_scores))))\n",
        "print('Number precision score std:{}'.format(np.std(np.array(num_pre_scores))))\n"
      ],
      "execution_count": null,
      "outputs": [
        {
          "output_type": "stream",
          "text": [
            "Number recall score:0.2643179539319731\n",
            "Number recall score std:0.17209320532410943\n",
            "Number precision score:0.36402970541084895\n",
            "Number precision score std:0.2660141971791328\n"
          ],
          "name": "stdout"
        }
      ]
    },
    {
      "cell_type": "code",
      "metadata": {
        "id": "0mLGx232U-e8",
        "colab_type": "code",
        "colab": {}
      },
      "source": [
        "    translation, attention,_ = translate_sentence_1(src, TEXT, LABEL,LABEL_NUM, model,num_model, device)"
      ],
      "execution_count": null,
      "outputs": []
    },
    {
      "cell_type": "code",
      "metadata": {
        "id": "M-IYmqe04dfC",
        "colab_type": "code",
        "colab": {
          "base_uri": "https://localhost:8080/",
          "height": 230
        },
        "outputId": "8d34d7eb-5f03-4053-f047-82dd2cc40ef8"
      },
      "source": [
        "from rouge import Rouge\n",
        "import numpy as np\n",
        "example_idx = 0\n",
        "src = vars(test_data.examples[example_idx])['INPUT_TEXT']\n",
        "trg = vars(test_data.examples[example_idx])['LABEL']\n",
        "translation, attention,_ = translate_sentence_1(src, TEXT, LABEL,LABEL_NUM, model,num_model, device)\n",
        "reference = ' '.join(trg)\n",
        "prediction = ' '.join(translation)\n",
        "print('reference:')\n",
        "print(reference)\n",
        "print('prediction:')\n",
        "print(prediction)\n",
        "scores = number_recall(prediction,reference)\n",
        "print(scores)\n"
      ],
      "execution_count": null,
      "outputs": [
        {
          "output_type": "stream",
          "text": [
            "reference:\n",
            "  bupropion hcl 150 mg tablet sustained release sig : one 1 tablet sustained release po qam once a day in the morning . acetaminophen 500 mg tablet sig : 1 2 tablets po q4h every 4hours as needed for pain . atorvastatin 40 mg tablet sig : one 1 tablet po daily daily . sertraline 50 mg tablet sig : one 1 tablet po daily daily . omeprazole 20 mg capsule , delayed release e.c. sig : one 1 capsule , delayed release e.c. po bid 2 times a day . aspirin 81 mg tablet sig : one 1 tablet po once a day . clopidogrel 75 mg tablet sig : one 1 tablet po daily daily . pioglitazone 45 mg tablet sig : one 1 tablet po once a day . sotalol 80 mg tablet sig : one 1 tablet po bid 2 times aday . ibuprofen 400 mg tablet sig : one 1 tablet po q8h every 8hours .disp : 60 tablet s refills : 2 colchicine 0.6 mg tablet sig : one 1 tablet po daily daily .disp : 30 tablet s refills : 2 oxycodone acetaminophen 5 325 mg tablet sig : 1 2 tablets poq4h every 4 hours as needed for pain . disp : 60 tablet s refills : 0 warfarin 5 mg tablet sig : one 1 tablet po once a day : dosewill change for goal inr num , dr. name to continue to managecoumadin inr have inr drawn on mon . num with results to dr.name . disp : 30 tablet s refills : 2 outpatient lab workserial pt inrdx : atrial fibrillationgoal inr numresults to dr. name phone : phone fax : phone furosemide 20 mg tablet sig : one 1 tablet po once a dayfor 2 weeks . disp : 14 tablet s refills : 0\n",
            "prediction:\n",
            "  aspirin 81 mg tablet , delayed release e.c. sig : one 1 tablet , delayed release e.c. po daily daily .disp : 30 tablet , delayed release e.c. s refills : 2 docusate sodium 100 mg capsule sig : one 1 capsule po bid 2times a day .disp : 60 capsule s refills : 2 ranitidine hcl 150 mg tablet sig : one 1 tablet po bid 2times a day .disp : 60 tablet s refills : 2 oxycodone acetaminophen 5 325 mg tablet sig : 1 2 tablets poq4h every 4 hours as needed for pain . disp : 40 tablet s refills : 0 atorvastatin 10 mg tablet sig : one 1 tablet po daily daily .disp : 30 tablet s refills : 2 metoprolol tartrate 25 mg tablet sig : one 1 tablet po bid 2 times a day .disp : 60 tablet s refills : 2 furosemide 20 mg tablet sig : one 1 tablet po once a day for7 days . disp : 7 tablet s refills : 0 potassium chloride 20 meq tab sust . rel . particle crystal sig : one 1 tab sust . rel . particle crystal po once a day for 7 days . disp : 7 tab sust . rel . particle crystal s refills : 0 warfarin 1 mg tablet sig : one 1 tablet po once a day : take as directed by dr. name for inr goal 2 2.5.disp : 30 tablet s refills : 2 <eos>\n",
            "Reference number:50\n",
            "Prediction number:47\n",
            "recall number:29\n",
            "\n",
            "Those numbers have been recalled:['1', '2', '1', '1', '1', '1', '1', '1', '1', '1', '60', '2', '1', '30', '2', '5', '325', '1', '2', '4', '4', '60', '0', '1', '30', '2', '20', '1', '0']\n",
            "\n",
            "0.58\n"
          ],
          "name": "stdout"
        }
      ]
    }
  ]
}