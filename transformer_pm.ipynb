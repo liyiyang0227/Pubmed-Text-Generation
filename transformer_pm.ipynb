{
  "nbformat": 4,
  "nbformat_minor": 0,
  "metadata": {
    "kernelspec": {
      "display_name": "Python 3",
      "language": "python",
      "name": "python3"
    },
    "language_info": {
      "codemirror_mode": {
        "name": "ipython",
        "version": 3
      },
      "file_extension": ".py",
      "mimetype": "text/x-python",
      "name": "python",
      "nbconvert_exporter": "python",
      "pygments_lexer": "ipython3",
      "version": "3.6.5"
    },
    "colab": {
      "name": "transformer_pm (1).ipynb",
      "provenance": [],
      "collapsed_sections": [
        "A28M2i0vnU-k",
        "cY0hso6pnU-o",
        "OEF9r7ljnU-s",
        "TIkIMZJ3nU-x",
        "wvqb3wHunU-0",
        "EXaAPEtTnU-4",
        "_l-iKTbxnU--",
        "xSiIYu3nnVAW"
      ],
      "toc_visible": true,
      "machine_shape": "hm"
    },
    "accelerator": "GPU"
  },
  "cells": [
    {
      "cell_type": "markdown",
      "metadata": {
        "id": "GhUfPHV8nU9w",
        "colab_type": "text"
      },
      "source": [
        "# Individual Project\n"
      ]
    },
    {
      "cell_type": "markdown",
      "metadata": {
        "id": "tZr4-s0bnU9x",
        "colab_type": "text"
      },
      "source": [
        "## Preparing the Data\n"
      ]
    },
    {
      "cell_type": "code",
      "metadata": {
        "id": "r6yNQArRnU9y",
        "colab_type": "code",
        "colab": {}
      },
      "source": [
        "import torch\n",
        "import torch.nn as nn\n",
        "import torch.optim as optim\n",
        "\n",
        "import torchtext\n",
        "from torchtext.datasets import TranslationDataset, Multi30k\n",
        "from torchtext.data import Field, BucketIterator\n",
        "\n",
        "import matplotlib.pyplot as plt\n",
        "import matplotlib.ticker as ticker\n",
        "\n",
        "import spacy\n",
        "import numpy as np\n",
        "\n",
        "import random\n",
        "import math\n",
        "import time"
      ],
      "execution_count": 1,
      "outputs": []
    },
    {
      "cell_type": "code",
      "metadata": {
        "id": "MHv4pDGqnU94",
        "colab_type": "code",
        "colab": {}
      },
      "source": [
        "SEED = 1234\n",
        "\n",
        "random.seed(SEED)\n",
        "np.random.seed(SEED)\n",
        "torch.manual_seed(SEED)\n",
        "torch.cuda.manual_seed(SEED)\n",
        "torch.backends.cudnn.deterministic = True"
      ],
      "execution_count": 2,
      "outputs": []
    },
    {
      "cell_type": "code",
      "metadata": {
        "id": "Jcb30GT8nU98",
        "colab_type": "code",
        "colab": {
          "base_uri": "https://localhost:8080/",
          "height": 523
        },
        "outputId": "54c8be50-700f-4270-9d88-61d7da92aec6"
      },
      "source": [
        "!spacy download en_core_web_sm\n",
        "!spacy link en_core_web_sm en\n",
        "\n",
        "spacy_en = spacy.load('en')"
      ],
      "execution_count": 3,
      "outputs": [
        {
          "output_type": "stream",
          "text": [
            "Requirement already satisfied: en_core_web_sm==2.2.5 from https://github.com/explosion/spacy-models/releases/download/en_core_web_sm-2.2.5/en_core_web_sm-2.2.5.tar.gz#egg=en_core_web_sm==2.2.5 in /usr/local/lib/python3.6/dist-packages (2.2.5)\n",
            "Requirement already satisfied: spacy>=2.2.2 in /usr/local/lib/python3.6/dist-packages (from en_core_web_sm==2.2.5) (2.2.4)\n",
            "Requirement already satisfied: blis<0.5.0,>=0.4.0 in /usr/local/lib/python3.6/dist-packages (from spacy>=2.2.2->en_core_web_sm==2.2.5) (0.4.1)\n",
            "Requirement already satisfied: requests<3.0.0,>=2.13.0 in /usr/local/lib/python3.6/dist-packages (from spacy>=2.2.2->en_core_web_sm==2.2.5) (2.23.0)\n",
            "Requirement already satisfied: srsly<1.1.0,>=1.0.2 in /usr/local/lib/python3.6/dist-packages (from spacy>=2.2.2->en_core_web_sm==2.2.5) (1.0.2)\n",
            "Requirement already satisfied: numpy>=1.15.0 in /usr/local/lib/python3.6/dist-packages (from spacy>=2.2.2->en_core_web_sm==2.2.5) (1.18.5)\n",
            "Requirement already satisfied: thinc==7.4.0 in /usr/local/lib/python3.6/dist-packages (from spacy>=2.2.2->en_core_web_sm==2.2.5) (7.4.0)\n",
            "Requirement already satisfied: wasabi<1.1.0,>=0.4.0 in /usr/local/lib/python3.6/dist-packages (from spacy>=2.2.2->en_core_web_sm==2.2.5) (0.7.1)\n",
            "Requirement already satisfied: preshed<3.1.0,>=3.0.2 in /usr/local/lib/python3.6/dist-packages (from spacy>=2.2.2->en_core_web_sm==2.2.5) (3.0.2)\n",
            "Requirement already satisfied: tqdm<5.0.0,>=4.38.0 in /usr/local/lib/python3.6/dist-packages (from spacy>=2.2.2->en_core_web_sm==2.2.5) (4.41.1)\n",
            "Requirement already satisfied: plac<1.2.0,>=0.9.6 in /usr/local/lib/python3.6/dist-packages (from spacy>=2.2.2->en_core_web_sm==2.2.5) (1.1.3)\n",
            "Requirement already satisfied: setuptools in /usr/local/lib/python3.6/dist-packages (from spacy>=2.2.2->en_core_web_sm==2.2.5) (49.6.0)\n",
            "Requirement already satisfied: catalogue<1.1.0,>=0.0.7 in /usr/local/lib/python3.6/dist-packages (from spacy>=2.2.2->en_core_web_sm==2.2.5) (1.0.0)\n",
            "Requirement already satisfied: murmurhash<1.1.0,>=0.28.0 in /usr/local/lib/python3.6/dist-packages (from spacy>=2.2.2->en_core_web_sm==2.2.5) (1.0.2)\n",
            "Requirement already satisfied: cymem<2.1.0,>=2.0.2 in /usr/local/lib/python3.6/dist-packages (from spacy>=2.2.2->en_core_web_sm==2.2.5) (2.0.3)\n",
            "Requirement already satisfied: certifi>=2017.4.17 in /usr/local/lib/python3.6/dist-packages (from requests<3.0.0,>=2.13.0->spacy>=2.2.2->en_core_web_sm==2.2.5) (2020.6.20)\n",
            "Requirement already satisfied: idna<3,>=2.5 in /usr/local/lib/python3.6/dist-packages (from requests<3.0.0,>=2.13.0->spacy>=2.2.2->en_core_web_sm==2.2.5) (2.10)\n",
            "Requirement already satisfied: urllib3!=1.25.0,!=1.25.1,<1.26,>=1.21.1 in /usr/local/lib/python3.6/dist-packages (from requests<3.0.0,>=2.13.0->spacy>=2.2.2->en_core_web_sm==2.2.5) (1.24.3)\n",
            "Requirement already satisfied: chardet<4,>=3.0.2 in /usr/local/lib/python3.6/dist-packages (from requests<3.0.0,>=2.13.0->spacy>=2.2.2->en_core_web_sm==2.2.5) (3.0.4)\n",
            "Requirement already satisfied: importlib-metadata>=0.20; python_version < \"3.8\" in /usr/local/lib/python3.6/dist-packages (from catalogue<1.1.0,>=0.0.7->spacy>=2.2.2->en_core_web_sm==2.2.5) (1.7.0)\n",
            "Requirement already satisfied: zipp>=0.5 in /usr/local/lib/python3.6/dist-packages (from importlib-metadata>=0.20; python_version < \"3.8\"->catalogue<1.1.0,>=0.0.7->spacy>=2.2.2->en_core_web_sm==2.2.5) (3.1.0)\n",
            "\u001b[38;5;2m✔ Download and installation successful\u001b[0m\n",
            "You can now load the model via spacy.load('en_core_web_sm')\n",
            "\n",
            "\u001b[38;5;1m✘ Link 'en' already exists\u001b[0m\n",
            "To overwrite an existing link, use the --force flag\n",
            "\n"
          ],
          "name": "stdout"
        }
      ]
    },
    {
      "cell_type": "code",
      "metadata": {
        "id": "zEBm55fynU9_",
        "colab_type": "code",
        "colab": {}
      },
      "source": [
        "import re\n",
        "\n",
        "def tokenize_en(text):\n",
        "    \"\"\"\n",
        "    Tokenizes English text from a string into a list of strings\n",
        "    \"\"\"\n",
        "    res = []\n",
        "    for tok in spacy_en.tokenizer(text):\n",
        "        res.append(tok.text)\n",
        "        if len(res)>512:\n",
        "            break\n",
        "    return res\n"
      ],
      "execution_count": 4,
      "outputs": []
    },
    {
      "cell_type": "code",
      "metadata": {
        "id": "-LbOJ-0PnU-K",
        "colab_type": "code",
        "colab": {}
      },
      "source": [
        "TEXT = Field(tokenize = tokenize_en, \n",
        "            init_token = '<sos>', \n",
        "            eos_token = '<eos>', \n",
        "            lower = True, \n",
        "            batch_first = True)\n"
      ],
      "execution_count": 5,
      "outputs": []
    },
    {
      "cell_type": "code",
      "metadata": {
        "id": "9lm3sBKTVeTb",
        "colab_type": "code",
        "colab": {
          "base_uri": "https://localhost:8080/",
          "height": 127
        },
        "outputId": "02b9c29c-3837-4185-e11c-e35444482de5"
      },
      "source": [
        "from google.colab import drive\n",
        "drive.mount('/content/drive')"
      ],
      "execution_count": 6,
      "outputs": [
        {
          "output_type": "stream",
          "text": [
            "Go to this URL in a browser: https://accounts.google.com/o/oauth2/auth?client_id=947318989803-6bn6qk8qdgf4n4g3pfee6491hc0brc4i.apps.googleusercontent.com&redirect_uri=urn%3aietf%3awg%3aoauth%3a2.0%3aoob&scope=email%20https%3a%2f%2fwww.googleapis.com%2fauth%2fdocs.test%20https%3a%2f%2fwww.googleapis.com%2fauth%2fdrive%20https%3a%2f%2fwww.googleapis.com%2fauth%2fdrive.photos.readonly%20https%3a%2f%2fwww.googleapis.com%2fauth%2fpeopleapi.readonly&response_type=code\n",
            "\n",
            "Enter your authorization code:\n",
            "··········\n",
            "Mounted at /content/drive\n"
          ],
          "name": "stdout"
        }
      ]
    },
    {
      "cell_type": "markdown",
      "metadata": {
        "id": "vE1elqFfnU-Q",
        "colab_type": "text"
      },
      "source": [
        "We then load the dataset and build the vocabulary."
      ]
    },
    {
      "cell_type": "code",
      "metadata": {
        "id": "4ondA-SanU-R",
        "colab_type": "code",
        "colab": {}
      },
      "source": [
        "from torchtext.data import Field, Example, TabularDataset, BucketIterator\n",
        "import sys\n",
        "import csv\n",
        "\n",
        "fields = [('LABEL', TEXT), ('INPUT_TEXT', TEXT)]\n",
        "train_data, valid_data,test_data = TabularDataset.splits(\n",
        "    path='/content/drive/My Drive/pubmed/', format='csv',\n",
        "    train='pm_train.csv',validation='pm_val.csv', test='pm_test.csv',\n",
        "    skip_header=True, fields=fields)"
      ],
      "execution_count": 7,
      "outputs": []
    },
    {
      "cell_type": "code",
      "metadata": {
        "id": "-4uV72h9STUE",
        "colab_type": "code",
        "colab": {}
      },
      "source": [
        ""
      ],
      "execution_count": 7,
      "outputs": []
    },
    {
      "cell_type": "code",
      "metadata": {
        "id": "8uYY0OaanU-W",
        "colab_type": "code",
        "colab": {}
      },
      "source": [
        "TEXT.build_vocab(train_data, min_freq = 2)"
      ],
      "execution_count": 8,
      "outputs": []
    },
    {
      "cell_type": "markdown",
      "metadata": {
        "id": "5RJrnFHDnU-c",
        "colab_type": "text"
      },
      "source": [
        "Define the device and the data iterator."
      ]
    },
    {
      "cell_type": "code",
      "metadata": {
        "id": "Sg583fjfnU-c",
        "colab_type": "code",
        "colab": {}
      },
      "source": [
        "device = torch.device('cuda' if torch.cuda.is_available() else 'cpu')"
      ],
      "execution_count": 9,
      "outputs": []
    },
    {
      "cell_type": "code",
      "metadata": {
        "id": "E-KZ_g0OnU-g",
        "colab_type": "code",
        "colab": {}
      },
      "source": [
        "BATCH_SIZE = 4\n",
        "\n",
        "train_iterator,valid_iterator,test_iterator = BucketIterator.splits(\n",
        "    (train_data, valid_data,test_data), \n",
        "     batch_size = BATCH_SIZE,\n",
        "     sort=False,\n",
        "     device = device)"
      ],
      "execution_count": 10,
      "outputs": []
    },
    {
      "cell_type": "code",
      "metadata": {
        "id": "1J-9TaSRGHVu",
        "colab_type": "code",
        "colab": {}
      },
      "source": [
        ""
      ],
      "execution_count": 10,
      "outputs": []
    },
    {
      "cell_type": "markdown",
      "metadata": {
        "id": "A28M2i0vnU-k",
        "colab_type": "text"
      },
      "source": [
        "## Building the Model\n",
        "\n"
      ]
    },
    {
      "cell_type": "code",
      "metadata": {
        "id": "0kbsocdPnU-l",
        "colab_type": "code",
        "colab": {}
      },
      "source": [
        "class Encoder(nn.Module):\n",
        "    def __init__(self, \n",
        "                 input_dim, \n",
        "                 hid_dim, \n",
        "                 n_layers, \n",
        "                 n_heads, \n",
        "                 pf_dim,\n",
        "                 dropout, \n",
        "                 device,\n",
        "                 max_length = 10000):\n",
        "        super().__init__()\n",
        "\n",
        "        self.device = device\n",
        "        \n",
        "        self.tok_embedding = nn.Embedding(input_dim, hid_dim)\n",
        "        self.pos_embedding = nn.Embedding(max_length, hid_dim)\n",
        "        \n",
        "        self.layers = nn.ModuleList([EncoderLayer(hid_dim, \n",
        "                                                  n_heads, \n",
        "                                                  pf_dim,\n",
        "                                                  dropout, \n",
        "                                                  device) \n",
        "                                     for _ in range(n_layers)])\n",
        "        \n",
        "        self.dropout = nn.Dropout(dropout)\n",
        "        \n",
        "        self.scale = torch.sqrt(torch.FloatTensor([hid_dim])).to(device)\n",
        "        \n",
        "    def forward(self, src, src_mask):\n",
        "        \n",
        "        #src = [batch size, src len]\n",
        "        #src_mask = [batch size, src len]\n",
        "        \n",
        "        batch_size = src.shape[0]\n",
        "        src_len = src.shape[1]\n",
        "        pos = torch.arange(0, src_len).unsqueeze(0).repeat(batch_size, 1).to(self.device)\n",
        "        \n",
        "        #pos = [batch size, src len]\n",
        "        \n",
        "        src = self.dropout((self.tok_embedding(src) * self.scale) + self.pos_embedding(pos))\n",
        "        \n",
        "        #src = [batch size, src len, hid dim]\n",
        "        \n",
        "        for layer in self.layers:\n",
        "            src = layer(src, src_mask)\n",
        "            \n",
        "        #src = [batch size, src len, hid dim]\n",
        "            \n",
        "        return src"
      ],
      "execution_count": 11,
      "outputs": []
    },
    {
      "cell_type": "code",
      "metadata": {
        "id": "UHNl9UtSnU-o",
        "colab_type": "code",
        "colab": {}
      },
      "source": [
        "class EncoderLayer(nn.Module):\n",
        "    def __init__(self, \n",
        "                 hid_dim, \n",
        "                 n_heads, \n",
        "                 pf_dim,  \n",
        "                 dropout, \n",
        "                 device):\n",
        "        super().__init__()\n",
        "        \n",
        "        self.self_attn_layer_norm = nn.LayerNorm(hid_dim)\n",
        "        self.ff_layer_norm = nn.LayerNorm(hid_dim)\n",
        "        self.self_attention = MultiHeadAttentionLayer(hid_dim, n_heads, dropout, device)\n",
        "        self.positionwise_feedforward = PositionwiseFeedforwardLayer(hid_dim, \n",
        "                                                                     pf_dim, \n",
        "                                                                     dropout)\n",
        "        self.dropout = nn.Dropout(dropout)\n",
        "        \n",
        "    def forward(self, src, src_mask):\n",
        "        \n",
        "        #src = [batch size, src len, hid dim]\n",
        "        #src_mask = [batch size, src len]\n",
        "                \n",
        "        #self attention\n",
        "        _src, _ = self.self_attention(src, src, src, src_mask)\n",
        "        \n",
        "        #dropout, residual connection and layer norm\n",
        "        src = self.self_attn_layer_norm(src + self.dropout(_src))\n",
        "        \n",
        "        #src = [batch size, src len, hid dim]\n",
        "        \n",
        "        #positionwise feedforward\n",
        "        _src = self.positionwise_feedforward(src)\n",
        "        \n",
        "        #dropout, residual and layer norm\n",
        "        src = self.ff_layer_norm(src + self.dropout(_src))\n",
        "        \n",
        "        #src = [batch size, src len, hid dim]\n",
        "        \n",
        "        return src"
      ],
      "execution_count": 12,
      "outputs": []
    },
    {
      "cell_type": "code",
      "metadata": {
        "id": "S7lGOggmnU-s",
        "colab_type": "code",
        "colab": {}
      },
      "source": [
        "class MultiHeadAttentionLayer(nn.Module):\n",
        "    def __init__(self, hid_dim, n_heads, dropout, device):\n",
        "        super().__init__()\n",
        "        \n",
        "        assert hid_dim % n_heads == 0\n",
        "        \n",
        "        self.hid_dim = hid_dim\n",
        "        self.n_heads = n_heads\n",
        "        self.head_dim = hid_dim // n_heads\n",
        "        \n",
        "        self.fc_q = nn.Linear(hid_dim, hid_dim)\n",
        "        self.fc_k = nn.Linear(hid_dim, hid_dim)\n",
        "        self.fc_v = nn.Linear(hid_dim, hid_dim)\n",
        "        \n",
        "        self.fc_o = nn.Linear(hid_dim, hid_dim)\n",
        "        \n",
        "        self.dropout = nn.Dropout(dropout)\n",
        "        \n",
        "        self.scale = torch.sqrt(torch.FloatTensor([self.head_dim])).to(device)\n",
        "        \n",
        "    def forward(self, query, key, value, mask = None):\n",
        "        \n",
        "        batch_size = query.shape[0]\n",
        "        \n",
        "        #query = [batch size, query len, hid dim]\n",
        "        #key = [batch size, key len, hid dim]\n",
        "        #value = [batch size, value len, hid dim]\n",
        "                \n",
        "        Q = self.fc_q(query)\n",
        "        K = self.fc_k(key)\n",
        "        V = self.fc_v(value)\n",
        "        \n",
        "        #Q = [batch size, query len, hid dim]\n",
        "        #K = [batch size, key len, hid dim]\n",
        "        #V = [batch size, value len, hid dim]\n",
        "                \n",
        "        Q = Q.view(batch_size, -1, self.n_heads, self.head_dim).permute(0, 2, 1, 3)\n",
        "        K = K.view(batch_size, -1, self.n_heads, self.head_dim).permute(0, 2, 1, 3)\n",
        "        V = V.view(batch_size, -1, self.n_heads, self.head_dim).permute(0, 2, 1, 3)\n",
        "        \n",
        "        #Q = [batch size, n heads, query len, head dim]\n",
        "        #K = [batch size, n heads, key len, head dim]\n",
        "        #V = [batch size, n heads, value len, head dim]\n",
        "                \n",
        "        energy = torch.matmul(Q, K.permute(0, 1, 3, 2)) / self.scale\n",
        "        \n",
        "        #energy = [batch size, n heads, query len, key len]\n",
        "        \n",
        "        if mask is not None:\n",
        "            energy = energy.masked_fill(mask == 0, -1e10)\n",
        "        \n",
        "        attention = torch.softmax(energy, dim = -1)\n",
        "                \n",
        "        #attention = [batch size, n heads, query len, key len]\n",
        "                \n",
        "        x = torch.matmul(self.dropout(attention), V)\n",
        "        \n",
        "        #x = [batch size, n heads, query len, head dim]\n",
        "        \n",
        "        x = x.permute(0, 2, 1, 3).contiguous()\n",
        "        \n",
        "        #x = [batch size, query len, n heads, head dim]\n",
        "        \n",
        "        x = x.view(batch_size, -1, self.hid_dim)\n",
        "        \n",
        "        #x = [batch size, query len, hid dim]\n",
        "        \n",
        "        x = self.fc_o(x)\n",
        "        \n",
        "        #x = [batch size, query len, hid dim]\n",
        "        \n",
        "        return x, attention"
      ],
      "execution_count": 13,
      "outputs": []
    },
    {
      "cell_type": "code",
      "metadata": {
        "id": "cJ3bl7n8nU-x",
        "colab_type": "code",
        "colab": {}
      },
      "source": [
        "class PositionwiseFeedforwardLayer(nn.Module):\n",
        "    def __init__(self, hid_dim, pf_dim, dropout):\n",
        "        super().__init__()\n",
        "        \n",
        "        self.fc_1 = nn.Linear(hid_dim, pf_dim)\n",
        "        self.fc_2 = nn.Linear(pf_dim, hid_dim)\n",
        "        \n",
        "        self.dropout = nn.Dropout(dropout)\n",
        "        \n",
        "    def forward(self, x):\n",
        "        \n",
        "        #x = [batch size, seq len, hid dim]\n",
        "        \n",
        "        x = self.dropout(torch.relu(self.fc_1(x)))\n",
        "        \n",
        "        #x = [batch size, seq len, pf dim]\n",
        "        \n",
        "        x = self.fc_2(x)\n",
        "        \n",
        "        #x = [batch size, seq len, hid dim]\n",
        "        \n",
        "        return x"
      ],
      "execution_count": 14,
      "outputs": []
    },
    {
      "cell_type": "code",
      "metadata": {
        "id": "Ry6-0oZOnU-1",
        "colab_type": "code",
        "colab": {}
      },
      "source": [
        "class Decoder(nn.Module):\n",
        "    def __init__(self, \n",
        "                 output_dim, \n",
        "                 hid_dim, \n",
        "                 n_layers, \n",
        "                 n_heads, \n",
        "                 pf_dim, \n",
        "                 dropout, \n",
        "                 device,\n",
        "                 max_length = 10000\n",
        "                 ):\n",
        "        super().__init__()\n",
        "        \n",
        "        self.device = device\n",
        "        \n",
        "        self.tok_embedding = nn.Embedding(output_dim, hid_dim)\n",
        "        self.pos_embedding = nn.Embedding(max_length, hid_dim)\n",
        "        \n",
        "        self.layers = nn.ModuleList([DecoderLayer(hid_dim, \n",
        "                                                  n_heads, \n",
        "                                                  pf_dim, \n",
        "                                                  dropout, \n",
        "                                                  device)\n",
        "                                     for _ in range(n_layers)])\n",
        "        \n",
        "        self.fc_out = nn.Linear(hid_dim, output_dim)\n",
        "        \n",
        "        self.dropout = nn.Dropout(dropout)\n",
        "        \n",
        "        self.scale = torch.sqrt(torch.FloatTensor([hid_dim])).to(device)\n",
        "        \n",
        "    def forward(self, trg, enc_src, trg_mask, src_mask):\n",
        "        \n",
        "        #trg = [batch size, trg len]\n",
        "        #enc_src = [batch size, src len, hid dim]\n",
        "        #trg_mask = [batch size, trg len]\n",
        "        #src_mask = [batch size, src len]\n",
        "                \n",
        "        batch_size = trg.shape[0]\n",
        "        trg_len = trg.shape[1]\n",
        "        \n",
        "        pos = torch.arange(0, trg_len).unsqueeze(0).repeat(batch_size, 1).to(self.device)\n",
        "                            \n",
        "        #pos = [batch size, trg len]\n",
        "        #print('tok_embedding',self.tok_embedding(trg))\n",
        "        #print('pos_embedding',self.pos_embedding(pos))   \n",
        "        trg = self.dropout((self.tok_embedding(trg) * self.scale) + self.pos_embedding(pos))\n",
        "                \n",
        "        #trg = [batch size, trg len, hid dim]\n",
        "        \n",
        "        for layer in self.layers:\n",
        "            trg, attention = layer(trg, enc_src, trg_mask, src_mask)\n",
        "        \n",
        "        #trg = [batch size, trg len, hid dim]\n",
        "        #attention = [batch size, n heads, trg len, src len]\n",
        "        \n",
        "        output = self.fc_out(trg)\n",
        "        \n",
        "        #output = [batch size, trg len, output dim]\n",
        "            \n",
        "        return output, attention"
      ],
      "execution_count": 15,
      "outputs": []
    },
    {
      "cell_type": "code",
      "metadata": {
        "id": "r-G--mXjnU-5",
        "colab_type": "code",
        "colab": {}
      },
      "source": [
        "class DecoderLayer(nn.Module):\n",
        "    def __init__(self, \n",
        "                 hid_dim, \n",
        "                 n_heads, \n",
        "                 pf_dim, \n",
        "                 dropout, \n",
        "                 device):\n",
        "        super().__init__()\n",
        "        \n",
        "        self.self_attn_layer_norm = nn.LayerNorm(hid_dim)\n",
        "        self.enc_attn_layer_norm = nn.LayerNorm(hid_dim)\n",
        "        self.ff_layer_norm = nn.LayerNorm(hid_dim)\n",
        "        self.self_attention = MultiHeadAttentionLayer(hid_dim, n_heads, dropout, device)\n",
        "        self.encoder_attention = MultiHeadAttentionLayer(hid_dim, n_heads, dropout, device)\n",
        "        self.positionwise_feedforward = PositionwiseFeedforwardLayer(hid_dim, \n",
        "                                                                     pf_dim, \n",
        "                                                                     dropout)\n",
        "        self.dropout = nn.Dropout(dropout)\n",
        "        \n",
        "    def forward(self, trg, enc_src, trg_mask, src_mask):\n",
        "        \n",
        "        #trg = [batch size, trg len, hid dim]\n",
        "        #enc_src = [batch size, src len, hid dim]\n",
        "        #trg_mask = [batch size, trg len]\n",
        "        #src_mask = [batch size, src len]\n",
        "        \n",
        "        #self attention\n",
        "        _trg, _ = self.self_attention(trg, trg, trg, trg_mask)\n",
        "        \n",
        "        #dropout, residual connection and layer norm\n",
        "        trg = self.self_attn_layer_norm(trg + self.dropout(_trg))\n",
        "            \n",
        "        #trg = [batch size, trg len, hid dim]\n",
        "            \n",
        "        #encoder attention\n",
        "        _trg, attention = self.encoder_attention(trg, enc_src, enc_src, src_mask)\n",
        "        \n",
        "        #dropout, residual connection and layer norm\n",
        "        trg = self.enc_attn_layer_norm(trg + self.dropout(_trg))\n",
        "                    \n",
        "        #trg = [batch size, trg len, hid dim]\n",
        "        \n",
        "        #positionwise feedforward\n",
        "        _trg = self.positionwise_feedforward(trg)\n",
        "        \n",
        "        #dropout, residual and layer norm\n",
        "        trg = self.ff_layer_norm(trg + self.dropout(_trg))\n",
        "        \n",
        "        #trg = [batch size, trg len, hid dim]\n",
        "        #attention = [batch size, n heads, trg len, src len]\n",
        "        \n",
        "        return trg, attention"
      ],
      "execution_count": 16,
      "outputs": []
    },
    {
      "cell_type": "code",
      "metadata": {
        "id": "Vx-0r1TYnU--",
        "colab_type": "code",
        "colab": {}
      },
      "source": [
        "class Seq2Seq(nn.Module):\n",
        "    def __init__(self, \n",
        "                 encoder, \n",
        "                 decoder, \n",
        "                 src_pad_idx, \n",
        "                 trg_pad_idx, \n",
        "                 device):\n",
        "        super().__init__()\n",
        "        \n",
        "        self.encoder = encoder\n",
        "        self.decoder = decoder\n",
        "        self.src_pad_idx = src_pad_idx\n",
        "        self.trg_pad_idx = trg_pad_idx\n",
        "        self.device = device\n",
        "        \n",
        "    def make_src_mask(self, src):\n",
        "        \n",
        "        #src = [batch size, src len]\n",
        "        \n",
        "        src_mask = (src != self.src_pad_idx).unsqueeze(1).unsqueeze(2)\n",
        "\n",
        "        #src_mask = [batch size, 1, 1, src len]\n",
        "\n",
        "        return src_mask\n",
        "    \n",
        "    def make_trg_mask(self, trg):\n",
        "        \n",
        "        #trg = [batch size, trg len]\n",
        "        \n",
        "        trg_pad_mask = (trg != self.trg_pad_idx).unsqueeze(1).unsqueeze(2)\n",
        "        \n",
        "        #trg_pad_mask = [batch size, 1, 1, trg len]\n",
        "        \n",
        "        trg_len = trg.shape[1]\n",
        "        \n",
        "        trg_sub_mask = torch.tril(torch.ones((trg_len, trg_len), device = self.device)).bool()\n",
        "        \n",
        "        #trg_sub_mask = [trg len, trg len]\n",
        "            \n",
        "        trg_mask = trg_pad_mask & trg_sub_mask\n",
        "        \n",
        "        #trg_mask = [batch size, 1, trg len, trg len]\n",
        "        \n",
        "        return trg_mask\n",
        "\n",
        "    def forward(self, src, trg):\n",
        "        \n",
        "        #src = [batch size, src len]\n",
        "        #trg = [batch size, trg len]\n",
        "                \n",
        "        src_mask = self.make_src_mask(src)\n",
        "        trg_mask = self.make_trg_mask(trg)\n",
        "        \n",
        "        #src_mask = [batch size, 1, 1, src len]\n",
        "        #trg_mask = [batch size, 1, trg len, trg len]\n",
        "        \n",
        "        enc_src = self.encoder(src, src_mask)\n",
        "        #print('enc_src size:',enc_src.shape)\n",
        "        #enc_src = [batch size, src len, hid dim]\n",
        "                \n",
        "        output, attention = self.decoder(trg, enc_src, trg_mask, src_mask)\n",
        "        \n",
        "        #output = [batch size, trg len, output dim]\n",
        "        #attention = [batch size, n heads, trg len, src len]\n",
        "        \n",
        "        return output, attention"
      ],
      "execution_count": 17,
      "outputs": []
    },
    {
      "cell_type": "markdown",
      "metadata": {
        "id": "OnmOuDIanU_C",
        "colab_type": "text"
      },
      "source": [
        "## Training the Seq2Seq Model\n"
      ]
    },
    {
      "cell_type": "code",
      "metadata": {
        "id": "5Ro-DaZYnU_C",
        "colab_type": "code",
        "colab": {
          "base_uri": "https://localhost:8080/",
          "height": 53
        },
        "outputId": "78f55468-8e9a-4868-971c-4660e382ebd7"
      },
      "source": [
        "INPUT_DIM = len(TEXT.vocab)\n",
        "OUTPUT_DIM = len(TEXT.vocab)\n",
        "HID_DIM = 256\n",
        "ENC_LAYERS = 4\n",
        "DEC_LAYERS = 4\n",
        "ENC_HEADS = 8\n",
        "DEC_HEADS = 8\n",
        "ENC_PF_DIM = 512\n",
        "DEC_PF_DIM = 512\n",
        "ENC_DROPOUT = 0.1\n",
        "DEC_DROPOUT = 0.1\n",
        "\n",
        "enc = Encoder(INPUT_DIM, \n",
        "              HID_DIM, \n",
        "              ENC_LAYERS, \n",
        "              ENC_HEADS, \n",
        "              ENC_PF_DIM, \n",
        "              ENC_DROPOUT, \n",
        "              device)\n",
        "\n",
        "dec = Decoder(OUTPUT_DIM, \n",
        "              HID_DIM, \n",
        "              DEC_LAYERS, \n",
        "              DEC_HEADS, \n",
        "              DEC_PF_DIM, \n",
        "              DEC_DROPOUT, \n",
        "              device)\n",
        "\n",
        "print(INPUT_DIM)\n",
        "print(OUTPUT_DIM)"
      ],
      "execution_count": 18,
      "outputs": [
        {
          "output_type": "stream",
          "text": [
            "169538\n",
            "169538\n"
          ],
          "name": "stdout"
        }
      ]
    },
    {
      "cell_type": "code",
      "metadata": {
        "id": "itQUdhCLnU_F",
        "colab_type": "code",
        "colab": {}
      },
      "source": [
        "SRC_PAD_IDX = TEXT.vocab.stoi[TEXT.pad_token]\n",
        "TRG_PAD_IDX = TEXT.vocab.stoi[TEXT.pad_token]\n",
        "\n",
        "model = Seq2Seq(enc, dec, SRC_PAD_IDX, TRG_PAD_IDX, device).to(device)"
      ],
      "execution_count": 19,
      "outputs": []
    },
    {
      "cell_type": "code",
      "metadata": {
        "id": "-tP7wI5dnU_J",
        "colab_type": "code",
        "colab": {
          "base_uri": "https://localhost:8080/",
          "height": 35
        },
        "outputId": "da24da32-82cc-4dbb-b8ef-f01ab75a49b5"
      },
      "source": [
        "def count_parameters(model):\n",
        "    return sum(p.numel() for p in model.parameters() if p.requires_grad)\n",
        "\n",
        "print(f'The model has {count_parameters(model):,} trainable parameters')"
      ],
      "execution_count": 20,
      "outputs": [
        {
          "output_type": "stream",
          "text": [
            "The model has 140,766,274 trainable parameters\n"
          ],
          "name": "stdout"
        }
      ]
    },
    {
      "cell_type": "code",
      "metadata": {
        "id": "Zu2LUFMGnU_N",
        "colab_type": "code",
        "colab": {}
      },
      "source": [
        "def initialize_weights(m):\n",
        "    if hasattr(m, 'weight') and m.weight.dim() > 1:\n",
        "        nn.init.xavier_uniform_(m.weight.data)"
      ],
      "execution_count": 21,
      "outputs": []
    },
    {
      "cell_type": "code",
      "metadata": {
        "id": "KxbCEsw1nU_Q",
        "colab_type": "code",
        "colab": {}
      },
      "source": [
        "model.apply(initialize_weights);"
      ],
      "execution_count": 22,
      "outputs": []
    },
    {
      "cell_type": "code",
      "metadata": {
        "id": "kwst5jVUnU_T",
        "colab_type": "code",
        "colab": {}
      },
      "source": [
        "LEARNING_RATE = 0.0005\n",
        "optimizer = torch.optim.Adam(model.parameters(), lr = LEARNING_RATE)"
      ],
      "execution_count": 23,
      "outputs": []
    },
    {
      "cell_type": "code",
      "metadata": {
        "id": "Nhf3m9zJnU_X",
        "colab_type": "code",
        "colab": {}
      },
      "source": [
        "criterion = nn.CrossEntropyLoss(ignore_index = TRG_PAD_IDX)"
      ],
      "execution_count": 24,
      "outputs": []
    },
    {
      "cell_type": "code",
      "metadata": {
        "id": "kOnyrwkTnU_a",
        "colab_type": "code",
        "colab": {}
      },
      "source": [
        "def train(model, iterator, optimizer, criterion, clip):\n",
        "    \n",
        "    model.train()\n",
        "    \n",
        "    epoch_loss = 0\n",
        "    \n",
        "    for i, batch in enumerate(iterator):\n",
        "        \n",
        "        src = batch.INPUT_TEXT\n",
        "        trg = batch.LABEL\n",
        "        \n",
        "        optimizer.zero_grad()\n",
        "        #print(src.shape)\n",
        "        #print(trg.shape)\n",
        "        output, _ = model(src, trg[:,:-1])\n",
        "        #print(output.shape)\n",
        "                \n",
        "        #output = [batch size, trg len - 1, output dim]\n",
        "        #trg = [batch size, trg len]\n",
        "            \n",
        "        output_dim = output.shape[-1]\n",
        "            \n",
        "        output = output.contiguous().view(-1, output_dim)\n",
        "        trg = trg[:,1:].contiguous().view(-1)\n",
        "                \n",
        "        #output = [batch size * trg len - 1, output dim]\n",
        "        #trg = [batch size * trg len - 1]\n",
        "            \n",
        "        loss = criterion(output, trg)\n",
        "        \n",
        "        loss.backward()\n",
        "        \n",
        "        torch.nn.utils.clip_grad_norm_(model.parameters(), clip)\n",
        "        \n",
        "        optimizer.step()\n",
        "        \n",
        "        epoch_loss += loss.item()\n",
        "        \n",
        "    return epoch_loss / len(iterator)"
      ],
      "execution_count": 25,
      "outputs": []
    },
    {
      "cell_type": "code",
      "metadata": {
        "id": "6-B5CjcTnU_d",
        "colab_type": "code",
        "colab": {}
      },
      "source": [
        "def evaluate(model, iterator, criterion):\n",
        "    \n",
        "    model.eval()\n",
        "    \n",
        "    epoch_loss = 0\n",
        "    \n",
        "    with torch.no_grad():\n",
        "    \n",
        "        for i, batch in enumerate(iterator):\n",
        "\n",
        "            src = batch.INPUT_TEXT\n",
        "            trg = batch.LABEL\n",
        "\n",
        "            output, _ = model(src, trg[:,:-1])\n",
        "            \n",
        "            #output = [batch size, trg len - 1, output dim]\n",
        "            #trg = [batch size, trg len]\n",
        "            \n",
        "            output_dim = output.shape[-1]\n",
        "            \n",
        "            output = output.contiguous().view(-1, output_dim)\n",
        "            trg = trg[:,1:].contiguous().view(-1)\n",
        "            \n",
        "            #output = [batch size * trg len - 1, output dim]\n",
        "            #trg = [batch size * trg len - 1]\n",
        "            \n",
        "            loss = criterion(output, trg)\n",
        "\n",
        "            epoch_loss += loss.item()\n",
        "        \n",
        "    return epoch_loss / len(iterator)"
      ],
      "execution_count": 26,
      "outputs": []
    },
    {
      "cell_type": "code",
      "metadata": {
        "id": "h9WUJoXinU_g",
        "colab_type": "code",
        "colab": {}
      },
      "source": [
        "def epoch_time(start_time, end_time):\n",
        "    elapsed_time = end_time - start_time\n",
        "    elapsed_mins = int(elapsed_time / 60)\n",
        "    elapsed_secs = int(elapsed_time - (elapsed_mins * 60))\n",
        "    return elapsed_mins, elapsed_secs"
      ],
      "execution_count": 27,
      "outputs": []
    },
    {
      "cell_type": "code",
      "metadata": {
        "id": "ueU67NIqnU_k",
        "colab_type": "code",
        "colab": {
          "base_uri": "https://localhost:8080/",
          "height": 179
        },
        "outputId": "b58959e1-614d-45e2-cf1d-ac7ce5c9151b"
      },
      "source": [
        "N_EPOCHS = 10\n",
        "CLIP = 1\n",
        "LEARNING_RATE = 0.00001\n",
        "optimizer = torch.optim.Adam(model.parameters(), lr = LEARNING_RATE)\n",
        "best_valid_loss = float('inf')\n",
        "train_loss_list = []\n",
        "valid_loss_list = []\n",
        "for epoch in range(N_EPOCHS):\n",
        "    \n",
        "    start_time = time.time()\n",
        "    \n",
        "    train_loss = train(model, train_iterator, optimizer, criterion, CLIP)\n",
        "    valid_loss = evaluate(model, valid_iterator, criterion)\n",
        "    train_loss_list.append(train_loss)\n",
        "    valid_loss_list.append(valid_loss)\n",
        "    end_time = time.time()\n",
        "    \n",
        "    epoch_mins, epoch_secs = epoch_time(start_time, end_time)\n",
        "    \n",
        "    if valid_loss < best_valid_loss:\n",
        "        best_valid_loss = valid_loss\n",
        "        torch.save(model.state_dict(), '/content/drive/My Drive/pubmed/transformer_pm_1.pt')\n",
        "    \n",
        "    print(f'Epoch: {epoch+1:02} | Time: {epoch_mins}m {epoch_secs}s')\n",
        "    print(f'\\tTrain Loss: {train_loss:.3f} ')\n",
        "    print(f'\\tValid Loss: {valid_loss:.3f} ')\n"
      ],
      "execution_count": null,
      "outputs": [
        {
          "output_type": "stream",
          "text": [
            "Epoch: 01 | Time: 33m 37s\n",
            "\tTrain Loss: 6.660 \n",
            "\tValid Loss: 5.858 \n",
            "Epoch: 02 | Time: 33m 42s\n",
            "\tTrain Loss: 5.699 \n",
            "\tValid Loss: 5.452 \n",
            "Epoch: 03 | Time: 33m 40s\n",
            "\tTrain Loss: 5.336 \n",
            "\tValid Loss: 5.256 \n"
          ],
          "name": "stdout"
        }
      ]
    },
    {
      "cell_type": "code",
      "metadata": {
        "id": "AL98_Rny_oll",
        "colab_type": "code",
        "colab": {
          "base_uri": "https://localhost:8080/",
          "height": 279
        },
        "outputId": "1124230b-b985-49be-e0e2-e6b06a62d573"
      },
      "source": [
        "import matplotlib.pyplot as plt\n",
        "plt.figure()\n",
        "plt.plot(range(len(train_loss_list)),train_loss_list,label = 'train loss')\n",
        "plt.plot(range(len(valid_loss_list)),valid_loss_list,label = 'validation loss')\n",
        "plt.xlabel('epchos')\n",
        "plt.ylabel('Total loss')\n",
        "plt.legend()\n",
        "plt.savefig('/content/drive/My Drive/pubmed/tf_tran_loss.png')"
      ],
      "execution_count": null,
      "outputs": [
        {
          "output_type": "display_data",
          "data": {
            "image/png": "[encoded data removed]",
            "text/plain": [
              "<Figure size 432x288 with 1 Axes>"
            ]
          },
          "metadata": {
            "tags": [],
            "needs_background": "light"
          }
        }
      ]
    },
    {
      "cell_type": "code",
      "metadata": {
        "id": "1Pq-hGgIBYmt",
        "colab_type": "code",
        "colab": {}
      },
      "source": [
        ""
      ],
      "execution_count": null,
      "outputs": []
    },
    {
      "cell_type": "code",
      "metadata": {
        "id": "w-m3CKCS_ot_",
        "colab_type": "code",
        "colab": {}
      },
      "source": [
        ""
      ],
      "execution_count": null,
      "outputs": []
    },
    {
      "cell_type": "code",
      "metadata": {
        "id": "Q7mf9_SnnU_n",
        "colab_type": "code",
        "colab": {
          "base_uri": "https://localhost:8080/",
          "height": 35
        },
        "outputId": "c38d6108-66b8-4208-bf75-44564bbaae2d"
      },
      "source": [
        "\n",
        "\n",
        "model.load_state_dict(torch.load('/content/drive/My Drive/pubmed/transformer_pm.pt'))\n",
        "\n",
        "# test_loss = evaluate(model, valid_iterator, criterion)\n",
        "\n",
        "# print(f'| Test Loss: {test_loss:.3f} | Test PPL: {math.exp(test_loss):7.3f} |')"
      ],
      "execution_count": 28,
      "outputs": [
        {
          "output_type": "execute_result",
          "data": {
            "text/plain": [
              "<All keys matched successfully>"
            ]
          },
          "metadata": {
            "tags": []
          },
          "execution_count": 28
        }
      ]
    },
    {
      "cell_type": "code",
      "metadata": {
        "id": "wwNGysNqwA05",
        "colab_type": "code",
        "colab": {
          "base_uri": "https://localhost:8080/",
          "height": 125
        },
        "outputId": "a6ebedd5-6a8b-41fa-bdc0-a39fcde27a65"
      },
      "source": [
        "pip install rouge"
      ],
      "execution_count": null,
      "outputs": [
        {
          "output_type": "stream",
          "text": [
            "Collecting rouge\n",
            "  Downloading https://files.pythonhosted.org/packages/43/cc/e18e33be20971ff73a056ebdb023476b5a545e744e3fc22acd8c758f1e0d/rouge-1.0.0-py3-none-any.whl\n",
            "Requirement already satisfied: six in /usr/local/lib/python3.6/dist-packages (from rouge) (1.15.0)\n",
            "Installing collected packages: rouge\n",
            "Successfully installed rouge-1.0.0\n"
          ],
          "name": "stdout"
        }
      ]
    },
    {
      "cell_type": "code",
      "metadata": {
        "id": "c7TiwXnpv52J",
        "colab_type": "code",
        "colab": {
          "base_uri": "https://localhost:8080/",
          "height": 87
        },
        "outputId": "a4260895-a432-47ab-dba8-a09eabbdc54b"
      },
      "source": [
        "from rouge import Rouge\n",
        "import numpy as np\n",
        "\n",
        "rouge1_scores = []\n",
        "rouge2_scores = []\n",
        "rougel_scores = []\n",
        "rouge = Rouge()\n",
        "for example_idx in range(len(valid_data.examples)):\n",
        "    src = vars(valid_data.examples[example_idx])['INPUT_TEXT']\n",
        "    trg = vars(valid_data.examples[example_idx])['LABEL']\n",
        "    translation, attention = translate_sentence(src, TEXT, TEXT, model, device)\n",
        "    reference = ' '.join(trg)\n",
        "    prediction = ' '.join(translation)\n",
        "    try:\n",
        "        scores = rouge.get_scores(prediction, reference)\n",
        "        rouge1_scores.append(scores[0]['rouge-1']['f'])\n",
        "        rouge2_scores.append(scores[0]['rouge-2']['f'])\n",
        "        rougel_scores.append(scores[0]['rouge-l']['f'])\n",
        "    except:\n",
        "        continue\n",
        "print('ROUGE-1 score:{},std: {}'.format(np.mean(np.array(rouge1_scores)),np.std(np.array(rouge1_scores))))\n",
        "print('ROUGE-2 score:{},std: {}'.format(np.mean(np.array(rouge2_scores)),np.std(np.array(rouge2_scores))))\n",
        "print('ROUGE-l score:{},std: {}'.format(np.mean(np.array(rougel_scores)),np.std(np.array(rougel_scores))))\n",
        "print(len(rouge1_scores))"
      ],
      "execution_count": null,
      "outputs": [
        {
          "output_type": "stream",
          "text": [
            "ROUGE-1 score:0.21834715358912055,std: 0.07808335391667952\n",
            "ROUGE-2 score:0.040924661736485325,std: 0.027976401733488573\n",
            "ROUGE-l score:0.2241385393040221,std: 0.05917401041021015\n",
            "2500\n"
          ],
          "name": "stdout"
        }
      ]
    },
    {
      "cell_type": "markdown",
      "metadata": {
        "id": "6STyLzpHnU_r",
        "colab_type": "text"
      },
      "source": [
        "## Inference\n"
      ]
    },
    {
      "cell_type": "code",
      "metadata": {
        "id": "hhpIXdzonU_r",
        "colab_type": "code",
        "colab": {}
      },
      "source": [
        "def translate_sentence(sentence, src_field, trg_field, model, device, max_len = 512):\n",
        "    \n",
        "    model.eval()\n",
        "        \n",
        "    if isinstance(sentence, str):\n",
        "        nlp = spacy.load('de')\n",
        "        tokens = [token.text.lower() for token in nlp(sentence)]\n",
        "    else:\n",
        "        tokens = [token.lower() for token in sentence]\n",
        "\n",
        "    tokens = [src_field.init_token] + tokens + [src_field.eos_token]\n",
        "        \n",
        "    src_indexes = [src_field.vocab.stoi[token] for token in tokens]\n",
        "\n",
        "    src_tensor = torch.LongTensor(src_indexes).unsqueeze(0).to(device)\n",
        "    \n",
        "    src_mask = model.make_src_mask(src_tensor)\n",
        "    \n",
        "    with torch.no_grad():\n",
        "        enc_src = model.encoder(src_tensor, src_mask)\n",
        "\n",
        "    trg_indexes = [trg_field.vocab.stoi[trg_field.init_token]]\n",
        "\n",
        "    for i in range(max_len):\n",
        "\n",
        "        trg_tensor = torch.LongTensor(trg_indexes).unsqueeze(0).to(device)\n",
        "\n",
        "        trg_mask = model.make_trg_mask(trg_tensor)\n",
        "        \n",
        "        with torch.no_grad():\n",
        "            output, attention = model.decoder(trg_tensor, enc_src, trg_mask, src_mask)\n",
        "        \n",
        "        pred_token = output.argmax(2)[:,-1].item()\n",
        "        \n",
        "        trg_indexes.append(pred_token)\n",
        "\n",
        "        if pred_token == trg_field.vocab.stoi[trg_field.eos_token]:\n",
        "            break\n",
        "    \n",
        "    trg_tokens = [trg_field.vocab.itos[i] for i in trg_indexes]\n",
        "    \n",
        "    return trg_tokens[1:], attention"
      ],
      "execution_count": null,
      "outputs": []
    },
    {
      "cell_type": "code",
      "metadata": {
        "id": "-WTwmSn2nU_u",
        "colab_type": "code",
        "colab": {}
      },
      "source": [
        "def display_attention(sentence, translation, attention, n_heads = 8, n_rows = 4, n_cols = 2):\n",
        "    \n",
        "    assert n_rows * n_cols == n_heads\n",
        "    \n",
        "    fig = plt.figure(figsize=(15,25))\n",
        "    \n",
        "    for i in range(n_heads):\n",
        "        \n",
        "        ax = fig.add_subplot(n_rows, n_cols, i+1)\n",
        "        \n",
        "        _attention = attention.squeeze(0)[i].cpu().detach().numpy()\n",
        "\n",
        "        cax = ax.matshow(_attention, cmap='bone')\n",
        "\n",
        "        ax.tick_params(labelsize=12)\n",
        "        ax.set_xticklabels(['']+['<sos>']+[t.lower() for t in sentence]+['<eos>'], \n",
        "                           rotation=45)\n",
        "        ax.set_yticklabels(['']+translation)\n",
        "\n",
        "        ax.xaxis.set_major_locator(ticker.MultipleLocator(1))\n",
        "        ax.yaxis.set_major_locator(ticker.MultipleLocator(1))\n",
        "\n",
        "    plt.show()\n",
        "    plt.close()"
      ],
      "execution_count": null,
      "outputs": []
    },
    {
      "cell_type": "markdown",
      "metadata": {
        "id": "cxxfRk5WPwB0",
        "colab_type": "text"
      },
      "source": [
        "An example."
      ]
    },
    {
      "cell_type": "code",
      "metadata": {
        "id": "a-CQJwzwnVAM",
        "colab_type": "code",
        "colab": {
          "base_uri": "https://localhost:8080/",
          "height": 90
        },
        "outputId": "91a548e7-fba1-497d-8078-8e79467f2ceb"
      },
      "source": [
        "example_idx = 50\n",
        "\n",
        "src = vars(test_data.examples[example_idx])['INPUT_TEXT']\n",
        "trg = vars(test_data.examples[example_idx])['LABEL']\n",
        "print(len(test_data.examples))\n",
        "print(f'src = {src}')\n",
        "print(f'trg = {trg}')"
      ],
      "execution_count": null,
      "outputs": [
        {
          "output_type": "stream",
          "text": [
            "2500\n",
            "src = ['the', 'nlrp3', 'inflammasome', ',', 'a', 'member', 'of', 'the', 'nlr', 'family', ',', 'is', 'a', 'key', 'player', 'in', 'the', 'production', 'of', 'uric', 'acid', '-', 'mediated', 'il-1', 'and', 'is', 'an', 'important', 'cytoplasmic', 'protein', 'complex', 'involved', 'in', 'gouty', 'inflammation', '(', '12', ')', '.', 'although', 'the', 'precise', 'pathogenic', 'mechanism', 'of', 'gout', 'has', 'not', 'been', 'clearly', 'determined', ',', 'several', 'crucial', 'proteins', 'such', 'as', 'the', 'purinergic', 'receptor', 'p2x', 'ligand', '-', 'gated', 'ion', 'channel', '7', '(', 'p2x7r', ')', '(', '345', ')', 'and', 'caspase', 'activation', 'and', 'recruitment', 'domain', '8', '(', 'card8', ')', '(', '67', ')', 'proteins', 'are', 'known', 'to', 'be', 'responsible', 'for', 'the', 'pathogenesis', 'of', 'gout', '.', 'recent', 'single', '-', 'nucleotide', 'polymorphism', '(', 'snp', ')', 'studies', 'suggested', 'that', 'genetic', 'alternations', 'of', 'several', 'target', 'molecules', 'such', 'as', 'card8', 'and', 'p2x7r', 'contribute', 'to', 'the', 'process', 'of', 'nlrp3', 'inflammasome', 'activation', '.', 'genetic', 'variants', 'of', 'card8', 'were', 'identified', 'to', 'play', 'a', 'role', 'in', 'the', 'pathogenesis', 'of', 'a', 'variety', 'of', 'inflammatory', 'diseases', ',', 'such', 'as', 'rheumatoid', 'arthritis', '(', 'ra', ')', '(', '8)', 'and', 'inflammatory', 'bowel', 'disease', '(', 'ibd', ')', '(', '9', ')', '.', 'chen', 'et', 'al', '.', '(', '6', ')', 'demonstrated', 'a', 'significantly', 'different', 'genotypic', 'distribution', 'of', 'the', 'card8', 'rs2043211', 'polymorphism', 'between', 'gout', 'and', 'control', 'patients', 'in', 'the', 'chinese', 'population', '.', 'another', 'candidate', 'gene', 'involved', 'in', 'gouty', 'inflammation', 'might', 'be', 'p2x7r', ',', 'whose', 'protein', 'product', 'binds', 'with', 'atp', 'and', 'induces', 'the', 'efflux', 'of', 'k', 'ions', 'through', 'the', 'p2x7r', 'channel', 'from', 'cells', ',', 'finally', 'triggering', 'activation', 'of', 'the', 'nlrp3', 'inflammasome', '(', '34', ')', '.', 'a', 'loss', '-', 'of', '-', 'function', '(', '1513', 'a', '>', 'c', ')', 'snp', 'of', 'the', 'p2x7r', 'gene', 'affects', 'atp', '-', 'induced', 'cellular', 'functions', 'such', 'as', 'apoptotic', 'cell', 'death', '(', '10', ')', 'and', 'il-1', 'release', '(', '11', ')', '.', 'more', 'evidence', 'to', 'support', 'the', 'intimate', 'relationship', 'of', 'p2x7r', 'gene', 'polymorphisms', 'with', 'autoimmune', 'diseases', 'are', 'the', 'demonstrated', 'links', 'between', 'p2x7r', 'polymorphisms', 'and', 'ra', 'and', 'systemic', 'lupus', 'erythematosus', '(', 'sle', ')', '(', '1213', ')', '.', 'however', ',', 'there', 'are', 'no', 'available', 'data', 'linking', 'p2x7r', 'snps', 'with', 'gout', '.', 'here', ',', 'we', 'investigated', 'the', 'association', 'of', 'p2x7r', 'rs3751142', 'and', 'card8', 'rs2043211', 'polymorphisms', 'with', 'the', 'susceptibility', 'and', 'clinical', 'manifestations', 'of', 'gout', 'in', 'the', 'male', 'korean', 'population', '.', 'a', 'total', 'of', '242', 'male', 'gout', 'patients', 'fulfilled', 'the', 'preliminary', 'criteria', 'for', 'classification', 'of', 'primary', 'gout', 'proposed', 'by', 'the', 'american', 'college', 'of', 'rheumatology', '(', '14', ')', 'and', 'a', 'total', 'of', '280', 'healthy', 'male', 'controls', 'were', 'consecutively', 'enrolled', 'in', 'this', 'study', '.', 'clinical', 'and', 'laboratory', 'variables', ',', 'including', 'age', 'at', 'the', 'time', 'of', 'study', ',', 'disease', 'onset', 'age', ',', 'body', 'mass', 'index', '(', 'bmi', ')', ',', 'disease', 'duration', ',', 'and', 'serum', 'uric', 'acid', 'level', 'were', 'identified', 'by', 'individual', 'interviews', 'with', 'each', 'patient', 'and', 'medical', 'record', 'review', '.', 'medications', 'including', 'corticosteroids', ',', 'non', '-', 'steroidal', 'anti', '-', 'inflammatory', 'drugs', '(', 'nsaids', ')', ',', 'colchicine', ',', 'allopurinol', ',', 'and', 'benzbromarone', 'that', 'were', 'used', 'for', 'gout', 'treatment', 'within', 'one', 'month', 'of', 'the', 'study', 'onset', 'were', 'evaluated', 'through', 'medical', 'record', 'reviews', '.', 'the', 'study', 'protocol', 'was', 'reviewed', 'and', 'approved', 'by', 'the', 'institutional', 'review', 'board', '/', 'ethics', 'committee', 'at', 'each', 'medical', 'center', 'that', 'participated', 'in', 'this', 'study', '.', 'assay', 'reagents', 'for', 'rs3751142(c', '>', 'a', ')', 'in', 'the', 'p2x7r']\n",
            "trg = [' ', 'the', 'aim', 'of', 'this', 'study', 'was', 'to', 'determine', 'the', 'association', 'between', 'p2x7r', 'rs3751142', 'and', 'card8', 'rs2043211', 'polymorphisms', 'and', 'gout', 'susceptibility', 'in', 'male', 'korean', 'subjects', '.', 'this', 'study', 'enrolled', 'a', 'total', 'of', '242', 'male', 'patients', 'with', 'gout', 'and', '280', 'healthy', 'controls', '.', 'the', 'polymorphisms', 'of', 'two', 'individual', 'genes', 'including', 'rs3751142(c', '>', 'a', ')', 'in', 'the', 'p2x7r', 'gene', 'and', 'rs2043211(a', '>', 't', ')', 'in', 'the', 'card8', 'gene', 'were', 'assessed', 'using', 'taq', '-', 'man', 'analysis', '.', 'statistical', 'analyses', 'were', 'performed', 'using', 'the', 'chi', '-', 'square', 'test', ',', 'kruskal', '-', 'wallis', 'test', ',', 'and', 'logistic', 'regression', 'analyses', '.', 'a', 'difference', 'in', 'genotypic', 'frequency', 'of', 'the', 'p2x7r', 'rs3751142', 'and', 'card8', 'rs2043211', 'genes', 'was', 'not', 'detected', 'between', 'gout', 'and', 'control', 'patients', '.', 'clinical', 'parameters', 'including', 'age', ',', 'onset', 'age', ',', 'disease', 'duration', ',', 'body', 'mass', 'index', ',', 'and', 'serum', 'uric', 'acid', 'levels', 'were', 'not', 'different', 'among', 'the', 'three', 'genotypes', 'for', 'either', 'p2x7r', 'or', 'card8', '(', 'p', '>', '0.05', 'for', 'all', ')', '.', 'a', 'pair', '-', 'wise', 'comparison', 'of', 'p2x7r', 'rs3751142', 'and', 'card8', 'rs2043211', 'genotype', 'combinations', 'revealed', 'that', 'subjects', 'with', 'the', 'ca', 'p2x7r', 'rs3751142', 'genotype', 'and', 'the', 'tt', 'card8', 'rs2043211', 'genotype', 'had', 'a', 'trend', 'toward', 'a', 'higher', 'risk', 'of', 'gout', 'compared', 'to', 'the', 'cc', '/', 'aa', 'combination', '(', 'p', '=', '0.056', ',', 'or', '=', '2.618', ',', '95', '%', 'ci', '0.975', '-', '7.031', ')', '.', 'in', 'conclusion', ',', 'this', 'study', 'revealed', 'that', 'genetic', 'variability', 'of', 'the', 'p2x7r', 'rs3751142', 'and', 'card8', 'rs2043211', 'genes', 'might', ',', 'in', 'part', ',', 'be', 'associated', 'with', 'susceptibility', 'for', 'gout', '.']\n"
          ],
          "name": "stdout"
        }
      ]
    },
    {
      "cell_type": "code",
      "metadata": {
        "id": "b0GqkNL5nVAP",
        "colab_type": "code",
        "colab": {
          "base_uri": "https://localhost:8080/",
          "height": 54
        },
        "outputId": "92c772e9-7f4c-41e2-c352-67c6082bbd38"
      },
      "source": [
        "translation, attention = translate_sentence(src, TEXT, TEXT, model, device)\n",
        "\n",
        "print(f'predicted trg = {translation}')\n",
        "reference = ' '.join(trg)\n",
        "prediction = ' '.join(translation)"
      ],
      "execution_count": null,
      "outputs": [
        {
          "output_type": "stream",
          "text": [
            "predicted trg = [' ', 'the', 'aim', 'of', 'this', 'study', 'was', 'to', 'investigate', 'the', 'association', 'between', 'the', 'polymorphisms', 'of', 'the', 'polymorphisms', 'of', 'the', 'polymorphisms', 'of', 'the', 'polymorphisms', 'of', 'the', 'polymorphisms', 'of', 'the', 'polymorphisms', 'of', 'the', 'polymorphisms', 'of', 'the', 'polymorphisms', 'of', 'the', 'polymorphisms', 'of', 'the', 'polymorphisms', 'of', 'the', 'polymorphisms', 'in', 'the', 'susceptibility', 'to', 'the', 'inflammatory', '<unk>', 'and', '<unk>', '-', 'a', 'polymorphisms', 'of', 'the', 'polymorphisms', 'of', 'the', 'polymorphisms', 'in', 'the', 'polymorphisms', 'of', 'the', 'polymorphisms', 'of', 'the', 'polymorphisms', 'of', 'the', 'polymorphisms', 'in', 'the', 'polymorphisms', 'of', 'the', 'polymorphisms', 'of', 'the', 'polymorphisms', 'in', 'the', 'polymorphisms', 'of', 'the', 'polymorphisms', 'of', 'the', 'polymorphisms', 'in', 'the', 'polymorphisms', 'of', 'the', 'polymorphisms', 'of', 'the', 'polymorphisms', 'in', 'the', 'polymorphisms', 'of', 'the', 'polymorphisms', '<unk>', 'and', 'the', 'polymorphisms', 'of', 'the', 'polymorphisms', 'of', 'the', 'polymorphisms', 'in', 'the', 'polymorphisms', 'of', 'the', 'polymorphisms', 'in', 'the', 'polymorphisms', 'of', 'the', 'polymorphisms', '<unk>', 'and', 'the', 'polymorphisms', 'of', 'the', 'polymorphisms', 'in', 'the', 'polymorphisms', 'of', 'the', 'polymorphisms', 'of', 'the', 'polymorphisms', 'in', 'the', 'polymorphisms', 'of', 'the', 'polymorphisms', 'in', 'the', 'polymorphisms', 'of', 'the', 'polymorphisms', 'of', 'the', 'polymorphisms', 'in', 'the', 'polymorphisms', 'of', 'the', 'polymorphisms', '<unk>', 'and', 'the', 'polymorphisms', 'of', 'the', 'polymorphisms', 'of', 'the', 'polymorphisms', 'in', 'the', 'polymorphisms', 'of', 'the', 'polymorphisms', 'of', 'the', 'polymorphisms', 'in', 'the', 'polymorphisms', 'of', 'the', 'polymorphisms', 'of', 'the', 'polymorphisms', 'in', 'the', 'polymorphisms', 'of', 'the', 'polymorphisms', 'of', 'the', 'polymorphisms', 'in', 'the', 'polymorphisms', 'of', 'the', 'polymorphisms', 'of', 'the', 'polymorphisms', 'in', 'the', 'polymorphisms', 'of', 'the', 'polymorphisms', 'in', 'the', 'polymorphisms', 'of', 'the', 'polymorphisms', 'of', 'the', 'polymorphisms', 'in', 'the', 'polymorphisms', 'of', 'the', 'polymorphisms', 'in', 'the', 'polymorphisms', 'of', 'the', 'polymorphisms', 'in', 'the', 'polymorphisms', 'of', 'the', 'polymorphisms', 'in', 'the', 'polymorphisms', 'of', 'the', 'polymorphisms', 'in', 'the', 'polymorphisms', 'of', 'the', 'polymorphisms', 'of', 'the', 'polymorphisms', 'in', 'the', 'polymorphisms', 'of', 'the', 'polymorphisms', 'in', 'the', 'polymorphisms', 'of', 'the', 'polymorphisms', 'in', 'the', 'susceptibility', 'in', 'the', 'susceptibility', 'to', 'the', 'susceptibility', 'to', 'the', 'susceptibility', 'to', 'the', 'susceptibility', 'gene', '.', '<eos>']\n"
          ],
          "name": "stdout"
        }
      ]
    },
    {
      "cell_type": "markdown",
      "metadata": {
        "id": "s_s9ZCa3Pz_P",
        "colab_type": "text"
      },
      "source": [
        "Compute ROUGE score."
      ]
    },
    {
      "cell_type": "code",
      "metadata": {
        "id": "DyWuSqccgZEq",
        "colab_type": "code",
        "colab": {
          "base_uri": "https://localhost:8080/",
          "height": 52
        },
        "outputId": "186c0bca-a916-4dd1-f54a-723e4faa7731"
      },
      "source": [
        "pip install rouge"
      ],
      "execution_count": null,
      "outputs": [
        {
          "output_type": "stream",
          "text": [
            "Requirement already satisfied: rouge in /usr/local/lib/python3.6/dist-packages (1.0.0)\n",
            "Requirement already satisfied: six in /usr/local/lib/python3.6/dist-packages (from rouge) (1.15.0)\n"
          ],
          "name": "stdout"
        }
      ]
    },
    {
      "cell_type": "code",
      "metadata": {
        "id": "-jOgyIaajBsC",
        "colab_type": "code",
        "colab": {
          "base_uri": "https://localhost:8080/",
          "height": 70
        },
        "outputId": "0aa7528b-293b-4382-dcf0-97c0eb9332e7"
      },
      "source": [
        "from rouge import Rouge\n",
        "import numpy as np\n",
        "\n",
        "rouge1_scores = []\n",
        "rouge2_scores = []\n",
        "rougel_scores = []\n",
        "rouge = Rouge()\n",
        "for example_idx in range(len(test_data.examples)):\n",
        "    src = vars(test_data.examples[example_idx])['INPUT_TEXT']\n",
        "    trg = vars(test_data.examples[example_idx])['LABEL']\n",
        "    translation, attention = translate_sentence(src, TEXT, LABEL, model, device)\n",
        "    reference = ' '.join(trg)\n",
        "    prediction = ' '.join(translation)\n",
        "    try:\n",
        "        scores = rouge.get_scores(prediction, reference)\n",
        "        rouge1_scores.append(scores[0]['rouge-1']['f'])\n",
        "        rouge2_scores.append(scores[0]['rouge-2']['f'])\n",
        "        rougel_scores.append(scores[0]['rouge-l']['f'])\n",
        "    except:\n",
        "        continue\n",
        "print('ROUGE-1 score:{}'.format(np.mean(np.array(rouge1_scores))))\n",
        "print('ROUGE-2 score:{}'.format(np.mean(np.array(rouge2_scores))))\n",
        "print('ROUGE-l score:{}'.format(np.mean(np.array(rougel_scores))))"
      ],
      "execution_count": null,
      "outputs": [
        {
          "output_type": "stream",
          "text": [
            "ROUGE-1 score:0.4464429571609334\n",
            "ROUGE-2 score:0.3223570913521733\n",
            "ROUGE-l score:0.4142023281695927\n"
          ],
          "name": "stdout"
        }
      ]
    },
    {
      "cell_type": "markdown",
      "metadata": {
        "id": "t-0ygQxlP7_X",
        "colab_type": "text"
      },
      "source": [
        "Compute Number Recall/Precision."
      ]
    },
    {
      "cell_type": "code",
      "metadata": {
        "id": "bsbo6EOIO2dU",
        "colab_type": "code",
        "colab": {}
      },
      "source": [
        "pip install word2number"
      ],
      "execution_count": null,
      "outputs": []
    },
    {
      "cell_type": "code",
      "metadata": {
        "id": "paHzWo-wOzQK",
        "colab_type": "code",
        "colab": {}
      },
      "source": [
        "def tokenize_split(text):\n",
        "    return text.split(' ')\n",
        "def number_recall(pre,ref,n=4,threshold=0.7):\n",
        "    prediction = pre\n",
        "    reference = ref\n",
        "    pre_num = []\n",
        "    ref_num = []\n",
        "    pre_toks = tokenize_split(prediction)\n",
        "    ref_toks = tokenize_split(reference)\n",
        "    pre_nums_count = 0\n",
        "    ref_nums_count = 0\n",
        "    # extract numbers in prediction\n",
        "    for idx,tok in enumerate(pre_toks):\n",
        "        numbers = re.findall(r'\\d+[\\,\\d+]{1,}|\\d+\\.?\\d+|\\d+',tok)\n",
        "        if(len(numbers)!=0):\n",
        "            pre_nums_count += 1\n",
        "            pre_num.append((numbers[0],idx))\n",
        "        \n",
        "    # extract numbers in reference\n",
        "    for idx,tok in enumerate(ref_toks):\n",
        "        numbers = re.findall(r'\\d+[\\,\\d+]{1,}|\\d+\\.?\\d+|\\d+',tok)\n",
        "        if(len(numbers)!=0):\n",
        "            ref_nums_count += 1\n",
        "            ref_num.append((numbers[0],idx))      \n",
        "#     print('numbers in reference:{}'.format(ref_num))\n",
        "#     print('')\n",
        "#     print('numbers in prediction:{}'.format(pre_num))\n",
        "    rec_num_count = 0\n",
        "    rec_nums = []\n",
        "    for r_num,r_idx in (ref_num):\n",
        "        for p_num,p_idx in pre_num:\n",
        "            if r_num == p_num:\n",
        "                ref_info = []\n",
        "                pre_info = []\n",
        "                ref_info.append(ref_toks[r_idx])\n",
        "                pre_info.append(pre_toks[p_idx])\n",
        "                #提取两边的token\n",
        "                n_gram = 1\n",
        "                while n_gram<n+1 and r_idx-n_gram>=0 and p_idx-n_gram>=0:\n",
        "                    ref_info.insert(0,ref_toks[r_idx-n_gram])\n",
        "                    pre_info.insert(0,pre_toks[p_idx-n_gram])\n",
        "                    n_gram += 1\n",
        "                n_gram = 1\n",
        "                while n_gram<n+1 and r_idx+n_gram<len(ref_toks) and p_idx+n_gram<len(pre_toks):\n",
        "                    ref_info.append(ref_toks[r_idx+n_gram])\n",
        "                    pre_info.append(pre_toks[p_idx+n_gram])\n",
        "                    n_gram += 1\n",
        "                if len(ref_info)==0 or len(pre_info)==0:\n",
        "                    continue\n",
        "                # tokens -> sentence\n",
        "                rs = ' '.join(ref_info)\n",
        "                ps = ' '.join(pre_info)\n",
        "                # compute rouge scores and use f1 measure \n",
        "                rouge = Rouge()\n",
        "                scores = rouge.get_scores(ps, rs)\n",
        "                rg_f = 0\n",
        "                for keys in scores[0]:\n",
        "                    rg_f += scores[0][keys]['f']\n",
        "                if rg_f/3>threshold:\n",
        "                    rec_num_count += 1\n",
        "                    rec_nums.append(r_num)\n",
        "                    \n",
        "                    break\n",
        "    if ref_nums_count==0:\n",
        "        rec_rate = False\n",
        "    else:\n",
        "        rec_rate = rec_num_count/ref_nums_count\n",
        "    if pre_nums_count==0:\n",
        "        pre_rate = False\n",
        "    else:\n",
        "        pre_rate = rec_num_count/pre_nums_count\n",
        "    return rec_rate,pre_rate"
      ],
      "execution_count": null,
      "outputs": []
    },
    {
      "cell_type": "code",
      "metadata": {
        "id": "hJ5iJQ7UO6jo",
        "colab_type": "code",
        "colab": {
          "base_uri": "https://localhost:8080/",
          "height": 87
        },
        "outputId": "1a1befc9-101f-4e80-bf3e-db325de2805c"
      },
      "source": [
        "from rouge import Rouge\n",
        "import numpy as np\n",
        "num_rec_scores = []\n",
        "num_pre_scores = []\n",
        "rouge = Rouge()\n",
        "for example_idx in range(len(valid_data.examples)):\n",
        "    src = vars(valid_data.examples[example_idx])['INPUT_TEXT']\n",
        "    trg = vars(valid_data.examples[example_idx])['LABEL']\n",
        "    translation, attention = translate_sentence(src, TEXT, TEXT, model, device)\n",
        "    reference = ' '.join(trg)\n",
        "    prediction = ' '.join(translation)\n",
        "    # try:\n",
        "    #     scores = number_recall(prediction,reference)\n",
        "    #     if scores is False:\n",
        "    #         continue\n",
        "    #     num_rec_scores.append(scores)\n",
        "    # except:\n",
        "    #     continue\n",
        "    scores,pre= number_recall(prediction,reference)\n",
        "    if scores is False:\n",
        "        a=1\n",
        "    else:\n",
        "        num_rec_scores.append(scores)\n",
        "    if pre is False:\n",
        "        a=1\n",
        "    else:\n",
        "        num_pre_scores.append(pre)\n",
        "print('Number recall score:{}'.format(np.mean(np.array(num_rec_scores))))\n",
        "print('Number recall score std:{}'.format(np.std(np.array(num_rec_scores))))\n",
        "print('Number precision score:{}'.format(np.mean(np.array(num_pre_scores))))\n",
        "print('Number precision score std:{}'.format(np.std(np.array(num_pre_scores))))\n"
      ],
      "execution_count": null,
      "outputs": [
        {
          "output_type": "stream",
          "text": [
            "Number recall score:0.0008609399190753431\n",
            "Number recall score std:0.011884427361945926\n",
            "Number precision score:0.0054432896648321395\n",
            "Number precision score std:0.08038143444250825\n"
          ],
          "name": "stdout"
        }
      ]
    }
  ]
}